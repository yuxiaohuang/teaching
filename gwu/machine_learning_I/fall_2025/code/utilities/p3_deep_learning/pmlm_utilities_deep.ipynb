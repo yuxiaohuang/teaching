{
 "cells": [
  {
   "cell_type": "markdown",
   "metadata": {
    "toc": true
   },
   "source": [
    "<h1>Table of Contents<span class=\"tocSkip\"></span></h1>\n",
    "<div class=\"toc\"><ul class=\"toc-item\"><li><span><a href=\"#Overview\" data-toc-modified-id=\"Overview-1\"><span class=\"toc-item-num\">1&nbsp;&nbsp;</span>Overview</a></span></li><li><span><a href=\"#Common-Functions\" data-toc-modified-id=\"Common-Functions-2\"><span class=\"toc-item-num\">2&nbsp;&nbsp;</span>Common Functions</a></span><ul class=\"toc-item\"><li><span><a href=\"#Data-preprocessing\" data-toc-modified-id=\"Data-preprocessing-2.1\"><span class=\"toc-item-num\">2.1&nbsp;&nbsp;</span>Data preprocessing</a></span><ul class=\"toc-item\"><li><span><a href=\"#Normalizing-the-data\" data-toc-modified-id=\"Normalizing-the-data-2.1.1\"><span class=\"toc-item-num\">2.1.1&nbsp;&nbsp;</span>Normalizing the data</a></span></li><li><span><a href=\"#Resizing-the-data\" data-toc-modified-id=\"Resizing-the-data-2.1.2\"><span class=\"toc-item-num\">2.1.2&nbsp;&nbsp;</span>Resizing the data</a></span></li><li><span><a href=\"#Preprocessing-the-data-using-pretrained-model\" data-toc-modified-id=\"Preprocessing-the-data-using-pretrained-model-2.1.3\"><span class=\"toc-item-num\">2.1.3&nbsp;&nbsp;</span>Preprocessing the data using pretrained model</a></span></li></ul></li></ul></li></ul></div>"
   ]
  },
  {
   "cell_type": "markdown",
   "metadata": {},
   "source": [
    "<b>\n",
    "<p>\n",
    "<center>\n",
    "<font size=\"5\">\n",
    "Popular Machine Learning Methods: Idea, Practice and Math\n",
    "</font>\n",
    "</center>\n",
    "</p>\n",
    "    \n",
    "<p>\n",
    "<center>\n",
    "<font size=\"4\">\n",
    "Utilities: Deep Learning\n",
    "</font>\n",
    "</center>\n",
    "</p>\n",
    "\n",
    "<p>\n",
    "<center>\n",
    "<font size=\"3\">\n",
    "Data Science, Columbian College of Arts & Sciences, George Washington University\n",
    "</font>\n",
    "</center>\n",
    "</p>\n",
    "\n",
    "<p>\n",
    "<center>\n",
    "<font size=\"3\">\n",
    "Yuxiao Huang\n",
    "</font>\n",
    "</center>\n",
    "</p>\n",
    "</b>"
   ]
  },
  {
   "cell_type": "markdown",
   "metadata": {},
   "source": [
    "# Overview"
   ]
  },
  {
   "cell_type": "markdown",
   "metadata": {},
   "source": [
    "- This notebook includes some common functions used in PMLM.\n",
    "- Concretely, these functions are used for:\n",
    "    - data preprocessing\n",
    "    - plot\n",
    "- See the accompanied slides in our [github repository](https://github.com/yuxiaohuang/teaching/tree/master/gwu/machine_learning_I/fall_2020/slides)."
   ]
  },
  {
   "cell_type": "markdown",
   "metadata": {
    "colab_type": "text",
    "id": "WJ-IbZqAgILJ"
   },
   "source": [
    "# Common Functions"
   ]
  },
  {
   "cell_type": "markdown",
   "metadata": {},
   "source": [
    "## Data preprocessing"
   ]
  },
  {
   "cell_type": "markdown",
   "metadata": {
    "id": "sZUSCJjyXxYE"
   },
   "source": [
    "### Normalizing the data"
   ]
  },
  {
   "cell_type": "code",
   "execution_count": 1,
   "metadata": {
    "executionInfo": {
     "elapsed": 35300,
     "status": "ok",
     "timestamp": 1603590432625,
     "user": {
      "displayName": "Huang Yuxiao",
      "photoUrl": "",
      "userId": "05167076769245149404"
     },
     "user_tz": 240
    },
    "id": "cuyHo_nQL-OD"
   },
   "outputs": [],
   "source": [
    "def normalize(data, label):\n",
    "    \"\"\"\n",
    "    Normalize the data\n",
    "\n",
    "    Parameters\n",
    "    ----------\n",
    "    data: the data\n",
    "    label: the label\n",
    "    \n",
    "    Returns\n",
    "    ----------\n",
    "    The normalized data and label\n",
    "    \"\"\"\n",
    "\n",
    "    # Normalize the data\n",
    "    data_normalized = tf.cast(data, tf.float64) / 255\n",
    "\n",
    "    return data_normalized, label"
   ]
  },
  {
   "cell_type": "markdown",
   "metadata": {
    "id": "sZUSCJjyXxYE"
   },
   "source": [
    "### Resizing the data"
   ]
  },
  {
   "cell_type": "code",
   "execution_count": 2,
   "metadata": {
    "executionInfo": {
     "elapsed": 35299,
     "status": "ok",
     "timestamp": 1603590432625,
     "user": {
      "displayName": "Huang Yuxiao",
      "photoUrl": "",
      "userId": "05167076769245149404"
     },
     "user_tz": 240
    },
    "id": "kmzPimHQLPtw"
   },
   "outputs": [],
   "source": [
    "def resize(data, label):\n",
    "    \"\"\"\n",
    "    Resize the data into the default input size of the pretrained model\n",
    "\n",
    "    Parameters\n",
    "    ----------\n",
    "    data: the data\n",
    "    label: the label\n",
    "    \n",
    "    Returns\n",
    "    ----------\n",
    "    The resized data and label\n",
    "    \"\"\"\n",
    "\n",
    "    # Resize the data into the default input size of the pretrained model\n",
    "    data_resized = tf.image.resize(data, input_size)\n",
    "\n",
    "    return data_resized, label"
   ]
  },
  {
   "cell_type": "markdown",
   "metadata": {
    "id": "sZUSCJjyXxYE"
   },
   "source": [
    "### Preprocessing the data using pretrained model"
   ]
  },
  {
   "cell_type": "code",
   "execution_count": 3,
   "metadata": {
    "executionInfo": {
     "elapsed": 35299,
     "status": "ok",
     "timestamp": 1603590432625,
     "user": {
      "displayName": "Huang Yuxiao",
      "photoUrl": "",
      "userId": "05167076769245149404"
     },
     "user_tz": 240
    },
    "id": "kmzPimHQLPtw"
   },
   "outputs": [],
   "source": [
    "def preprocess_pretrain(data, label):\n",
    "    \"\"\"\n",
    "    Preprocess the data using pretrained model\n",
    "\n",
    "    Parameters\n",
    "    ----------\n",
    "    data: the data\n",
    "    label: the label\n",
    "    \n",
    "    Returns\n",
    "    ----------\n",
    "    The preprocessed data using pretrained model\n",
    "    \"\"\"\n",
    "\n",
    "    # Preprocess the data\n",
    "    data_preprocessed = preprocess_input(data)\n",
    "\n",
    "    return data_preprocessed, label"
   ]
  }
 ],
 "metadata": {
  "kernelspec": {
   "display_name": "Python 3",
   "language": "python",
   "name": "python3"
  },
  "language_info": {
   "codemirror_mode": {
    "name": "ipython",
    "version": 3
   },
   "file_extension": ".py",
   "mimetype": "text/x-python",
   "name": "python",
   "nbconvert_exporter": "python",
   "pygments_lexer": "ipython3",
   "version": "3.7.6"
  },
  "toc": {
   "base_numbering": 1,
   "nav_menu": {},
   "number_sections": true,
   "sideBar": true,
   "skip_h1_title": false,
   "title_cell": "Table of Contents",
   "title_sidebar": "Contents",
   "toc_cell": true,
   "toc_position": {},
   "toc_section_display": true,
   "toc_window_display": false
  }
 },
 "nbformat": 4,
 "nbformat_minor": 2
}
