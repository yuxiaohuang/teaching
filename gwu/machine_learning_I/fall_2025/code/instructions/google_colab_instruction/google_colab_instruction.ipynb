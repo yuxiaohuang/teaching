{
 "cells": [
  {
   "cell_type": "markdown",
   "metadata": {
    "colab_type": "text",
    "id": "6A8jdrpTe_0W",
    "toc": true
   },
   "source": [
    "<h1>Table of Contents<span class=\"tocSkip\"></span></h1>\n",
    "<div class=\"toc\"><ul class=\"toc-item\"><li><span><a href=\"#Overview\" data-toc-modified-id=\"Overview-1\"><span class=\"toc-item-num\">1&nbsp;&nbsp;</span>Overview</a></span></li><li><span><a href=\"#Five-Steps-for-Setting-Up-Colab\" data-toc-modified-id=\"Five-Steps-for-Setting-Up-Colab-2\"><span class=\"toc-item-num\">2&nbsp;&nbsp;</span>Five Steps for Setting Up Colab</a></span><ul class=\"toc-item\"><li><span><a href=\"#Installing-Colab-on-Google-Drive\" data-toc-modified-id=\"Installing-Colab-on-Google-Drive-2.1\"><span class=\"toc-item-num\">2.1&nbsp;&nbsp;</span>Installing Colab on Google Drive</a></span></li><li><span><a href=\"#Moving-the-code-and-data-to-Google-Drive\" data-toc-modified-id=\"Moving-the-code-and-data-to-Google-Drive-2.2\"><span class=\"toc-item-num\">2.2&nbsp;&nbsp;</span>Moving the code and data to Google Drive</a></span></li><li><span><a href=\"#Opening-the-code-using-Colab\" data-toc-modified-id=\"Opening-the-code-using-Colab-2.3\"><span class=\"toc-item-num\">2.3&nbsp;&nbsp;</span>Opening the code using Colab</a></span></li><li><span><a href=\"#Mounting-Google-Drive\" data-toc-modified-id=\"Mounting-Google-Drive-2.4\"><span class=\"toc-item-num\">2.4&nbsp;&nbsp;</span>Mounting Google Drive</a></span></li><li><span><a href=\"#Changing-runtime-type\" data-toc-modified-id=\"Changing-runtime-type-2.5\"><span class=\"toc-item-num\">2.5&nbsp;&nbsp;</span>Changing runtime type</a></span></li></ul></li><li><span><a href=\"#Toy-Case-Studies\" data-toc-modified-id=\"Toy-Case-Studies-3\"><span class=\"toc-item-num\">3&nbsp;&nbsp;</span>Toy Case Studies</a></span><ul class=\"toc-item\"><li><span><a href=\"#Shallow-learning-with-sklearn\" data-toc-modified-id=\"Shallow-learning-with-sklearn-3.1\"><span class=\"toc-item-num\">3.1&nbsp;&nbsp;</span>Shallow learning with sklearn</a></span><ul class=\"toc-item\"><li><span><a href=\"#Loading-data\" data-toc-modified-id=\"Loading-data-3.1.1\"><span class=\"toc-item-num\">3.1.1&nbsp;&nbsp;</span>Loading data</a></span></li><li><span><a href=\"#Modeling\" data-toc-modified-id=\"Modeling-3.1.2\"><span class=\"toc-item-num\">3.1.2&nbsp;&nbsp;</span>Modeling</a></span></li></ul></li><li><span><a href=\"#Deep-learning-with-tensorflow\" data-toc-modified-id=\"Deep-learning-with-tensorflow-3.2\"><span class=\"toc-item-num\">3.2&nbsp;&nbsp;</span>Deep learning with tensorflow</a></span><ul class=\"toc-item\"><li><span><a href=\"#Loading-data\" data-toc-modified-id=\"Loading-data-3.2.1\"><span class=\"toc-item-num\">3.2.1&nbsp;&nbsp;</span>Loading data</a></span></li><li><span><a href=\"#Dividing-the-training-data-into-training-and-validation\" data-toc-modified-id=\"Dividing-the-training-data-into-training-and-validation-3.2.2\"><span class=\"toc-item-num\">3.2.2&nbsp;&nbsp;</span>Dividing the training data into training and validation</a></span></li><li><span><a href=\"#Normalizing-the-features\" data-toc-modified-id=\"Normalizing-the-features-3.2.3\"><span class=\"toc-item-num\">3.2.3&nbsp;&nbsp;</span>Normalizing the features</a></span></li><li><span><a href=\"#Modeling\" data-toc-modified-id=\"Modeling-3.2.4\"><span class=\"toc-item-num\">3.2.4&nbsp;&nbsp;</span>Modeling</a></span></li></ul></li></ul></li></ul></div>"
   ]
  },
  {
   "cell_type": "markdown",
   "metadata": {
    "colab_type": "text",
    "id": "YTiWqATn4ANO"
   },
   "source": [
    "<b>\n",
    "<p>\n",
    "<center>\n",
    "<font size=\"5\">\n",
    "Popular Machine Learning Methods: Idea, Practice and Math\n",
    "</font>\n",
    "</center>\n",
    "</p>\n",
    "\n",
    "<p>\n",
    "<center>\n",
    "<font size=\"4\">\n",
    "Google Colab Instruction\n",
    "</font>\n",
    "</center>\n",
    "</p>\n",
    "\n",
    "<p>\n",
    "<center>\n",
    "<font size=\"3\">\n",
    "Data Science, Columbian College of Arts & Sciences, George Washington University\n",
    "</font>\n",
    "</center>\n",
    "</p>\n",
    "\n",
    "<p>\n",
    "<center>\n",
    "<font size=\"3\">\n",
    "Yuxiao Huang\n",
    "</font>\n",
    "</center>\n",
    "</p>\n",
    "</b>"
   ]
  },
  {
   "cell_type": "markdown",
   "metadata": {
    "colab_type": "text",
    "id": "T6P2dr4LzvnB"
   },
   "source": [
    "# Overview\n",
    "Google Colaboratory (Colab hereafter) is an executable document that allows you to write, run and share python code on your Google Drive, with (up to 12 hours) free access to GPU and TPU. For more details of Colab, see [Introduction to Colab](https://www.youtube.com/watch?v=inN8seMm7UI).\n",
    "\n",
    "In this instruction we first show the five steps for setting up Colab. We then use two toy case studies to illustrate how to use Colab for shallow learning (with [Sklearn](https://scikit-learn.org/stable/)) and deep learning (with [TensorFlow](https://www.tensorflow.org)). It is worth noting that there are several other ways for setting up Colab. For more details see [Google Colab documentation](https://colab.research.google.com)."
   ]
  },
  {
   "cell_type": "markdown",
   "metadata": {
    "colab_type": "text",
    "id": "arslHkpXe_0b"
   },
   "source": [
    "# Five Steps for Setting Up Colab"
   ]
  },
  {
   "cell_type": "markdown",
   "metadata": {
    "colab_type": "text",
    "id": "LGoSQuE7F1Om"
   },
   "source": [
    "## Installing Colab on Google Drive\n",
    "Go to [https://colab.research.google.com/](https://colab.research.google.com/)."
   ]
  },
  {
   "cell_type": "markdown",
   "metadata": {
    "colab_type": "text",
    "id": "uqBuhLixF1On"
   },
   "source": [
    "<img src=\"https://drive.google.com/uc?id=1Tv-wMjotmhC3nA7JlKQ4gi6nmO2qmgs6\" width=\"900\" height=\"100\">"
   ]
  },
  {
   "cell_type": "markdown",
   "metadata": {
    "colab_type": "text",
    "id": "FI1lHyNxF1Oq"
   },
   "source": [
    "Click *NEW NOTEBOOK* (on the bottom right). This creates a new notebook file named \"Untitled0.ipynb\"."
   ]
  },
  {
   "cell_type": "markdown",
   "metadata": {
    "colab_type": "text",
    "id": "_LQjqfVUF1Or"
   },
   "source": [
    "<img src=\"https://drive.google.com/uc?id=1DCH_FTZEpwVDqWbT6hFhVMvtZoHLO4tB\" width=\"900\" height=\"100\">"
   ]
  },
  {
   "cell_type": "markdown",
   "metadata": {
    "colab_type": "text",
    "id": "rcbywzvEF1Os"
   },
   "source": [
    "Click *File* on the navigation bar. Then click *Save*. This automatically installs Colab on Google Drive and creates a folder named \"Colab Notebooks\" on the drive."
   ]
  },
  {
   "cell_type": "markdown",
   "metadata": {
    "colab_type": "text",
    "id": "YX-_LXaBF1Ot"
   },
   "source": [
    "<img src=\"https://drive.google.com/uc?id=1Pn6tl7s1qLpWWJC5zMM9C2sno93fiO84\" width=\"700\" height=\"100\">"
   ]
  },
  {
   "cell_type": "markdown",
   "metadata": {
    "colab_type": "text",
    "id": "HQe-M6OmIHbf"
   },
   "source": [
    "## Moving the code and data to Google Drive\n",
    "Move the code (e.g., google_colab_instruction.ipynb) and data to folder \"Colab Notebooks\" on Google Drive."
   ]
  },
  {
   "cell_type": "markdown",
   "metadata": {
    "colab_type": "text",
    "id": "mhSq-cJfm7Ic"
   },
   "source": [
    "<img src=\"https://drive.google.com/uc?id=11cRWZbx2b-lFdY9ZDNQzVZxedwUGn9dM\" width=\"800\" height=\"100\">"
   ]
  },
  {
   "cell_type": "markdown",
   "metadata": {
    "colab_type": "text",
    "id": "I6dt4xEze_0e"
   },
   "source": [
    "## Opening the code using Colab\n",
    "Open the code using Colab with the following steps:\n",
    "- right click the file\n",
    "- in the first drop-down menu, choose *Open with*\n",
    "- in the second drop-down menu, choose *Google Colaboratory*"
   ]
  },
  {
   "cell_type": "markdown",
   "metadata": {
    "colab_type": "text",
    "id": "OXG2XT4Ke_0f"
   },
   "source": [
    "<img src=\"https://drive.google.com/uc?id=1v0hnJp-tx1FsxdN5fEEBlymUQIi6yzcE\" width=\"900\" height=\"100\">"
   ]
  },
  {
   "cell_type": "markdown",
   "metadata": {
    "colab_type": "text",
    "id": "nZ1w2FXv1003"
   },
   "source": [
    "## Mounting Google Drive\n",
    "Once in Colab, run the code below to mount Google Drive in the runtime's virtual machine."
   ]
  },
  {
   "cell_type": "code",
   "execution_count": 1,
   "metadata": {
    "colab": {
     "base_uri": "https://localhost:8080/",
     "height": 122
    },
    "colab_type": "code",
    "executionInfo": {
     "elapsed": 19167,
     "status": "ok",
     "timestamp": 1597285747511,
     "user": {
      "displayName": "Huang Yuxiao",
      "photoUrl": "",
      "userId": "05167076769245149404"
     },
     "user_tz": 240
    },
    "id": "h3Kmgf2V1Mt4",
    "outputId": "4fbc6cb8-798e-436b-bdc1-e2265352bc81"
   },
   "outputs": [
    {
     "name": "stdout",
     "output_type": "stream",
     "text": [
      "Go to this URL in a browser: https://accounts.google.com/o/oauth2/auth?client_id=947318989803-6bn6qk8qdgf4n4g3pfee6491hc0brc4i.apps.googleusercontent.com&redirect_uri=urn%3aietf%3awg%3aoauth%3a2.0%3aoob&scope=email%20https%3a%2f%2fwww.googleapis.com%2fauth%2fdocs.test%20https%3a%2f%2fwww.googleapis.com%2fauth%2fdrive%20https%3a%2f%2fwww.googleapis.com%2fauth%2fdrive.photos.readonly%20https%3a%2f%2fwww.googleapis.com%2fauth%2fpeopleapi.readonly&response_type=code\n",
      "\n",
      "Enter your authorization code:\n",
      "··········\n",
      "Mounted at /content/drive\n"
     ]
    }
   ],
   "source": [
    "from google.colab import drive\n",
    "drive.mount('/content/drive')"
   ]
  },
  {
   "cell_type": "markdown",
   "metadata": {
    "colab_type": "text",
    "id": "RHEzk_Xs1Mt7"
   },
   "source": [
    "This will generate a URL and a box."
   ]
  },
  {
   "cell_type": "markdown",
   "metadata": {
    "colab_type": "text",
    "id": "gym88yv41Mt8"
   },
   "source": [
    "<img src=\"https://drive.google.com/uc?id=18-YBmYa1KgvPUyNhm0V12sbUMQm84k8m\">"
   ]
  },
  {
   "cell_type": "markdown",
   "metadata": {
    "colab_type": "text",
    "id": "4JAdf2nV1Mt9"
   },
   "source": [
    "Click the URL. Then Google asks us to sign in."
   ]
  },
  {
   "cell_type": "markdown",
   "metadata": {
    "colab_type": "text",
    "id": "QHHCwi7i1Mt-"
   },
   "source": [
    "<img src=\"https://drive.google.com/uc?id=18fixLx5kNySvGxFMKn4eNWYg_I-lkzHJ\" width=\"400\" height=\"100\">"
   ]
  },
  {
   "cell_type": "markdown",
   "metadata": {
    "colab_type": "text",
    "id": "8cgKP9c91MuC"
   },
   "source": [
    "Choose an account (please use your personal Gmail, rather than GWU email, which may cause FileNotFoundError when loading the data). Then Google asks for permission to access Google account."
   ]
  },
  {
   "cell_type": "markdown",
   "metadata": {
    "colab_type": "text",
    "id": "srsNj8L81MuF"
   },
   "source": [
    "<img src=\"https://drive.google.com/uc?id=1HNk15uWnDnxppuySJrcsJHg1LLAO44zx\" width=\"400\" height=\"100\">"
   ]
  },
  {
   "cell_type": "markdown",
   "metadata": {
    "colab_type": "text",
    "id": "6A9PV9u51MuG"
   },
   "source": [
    "Click *Allow*. This gives Google the permission and us the authorization code."
   ]
  },
  {
   "cell_type": "markdown",
   "metadata": {
    "colab_type": "text",
    "id": "jY0EZfq31MuL"
   },
   "source": [
    "<img src=\"https://drive.google.com/uc?id=1y7zbHi2W7P0NbQnOm-Zke2jVxM7DrMlX\" width=\"500\" height=\"100\">"
   ]
  },
  {
   "cell_type": "markdown",
   "metadata": {
    "colab_type": "text",
    "id": "qR2KwKzv1MuM"
   },
   "source": [
    "Copy the authorization code and paste it in the box. Then press *Enter* to mount Google Drive."
   ]
  },
  {
   "cell_type": "markdown",
   "metadata": {
    "colab_type": "text",
    "id": "AWrRYNSA1MuO"
   },
   "source": [
    "<img src=\"https://drive.google.com/uc?id=14EEm1z2RbFFiQuHDhWUpvVk9aQLQdDwR\">"
   ]
  },
  {
   "cell_type": "markdown",
   "metadata": {
    "colab_type": "text",
    "id": "4GzsWq1t1MuQ"
   },
   "source": [
    "Google Drive is mounted (at /content/drive), hooray!"
   ]
  },
  {
   "cell_type": "markdown",
   "metadata": {
    "colab_type": "text",
    "id": "xKTKzmoX1MuR"
   },
   "source": [
    "<img src=\"https://drive.google.com/uc?id=1lLgPhoojyONNx1LUouFxMUnvKAjlgUHC\">"
   ]
  },
  {
   "cell_type": "markdown",
   "metadata": {
    "colab_type": "text",
    "id": "A9gLn-k7UPGA"
   },
   "source": [
    "## Changing runtime type"
   ]
  },
  {
   "cell_type": "markdown",
   "metadata": {
    "colab_type": "text",
    "id": "oCkHrkDw1MuS"
   },
   "source": [
    "Click *Runtime* on the navigation bar. Then click *Change runtime type* in the drop-down menu."
   ]
  },
  {
   "cell_type": "markdown",
   "metadata": {
    "colab_type": "text",
    "id": "O4MKHcE51MuT"
   },
   "source": [
    "<img src=\"https://drive.google.com/uc?id=1FQSDmTYvm_4Tq0yWbsGD65R4UWeVtJYm\" width=\"900\" height=\"100\">"
   ]
  },
  {
   "cell_type": "markdown",
   "metadata": {
    "colab_type": "text",
    "id": "IsvNft121MuU"
   },
   "source": [
    "Change *Runtime type* to *Python 3* and *Hardware acceleator* to *GPU* (or *TPU*, if necessary)."
   ]
  },
  {
   "cell_type": "markdown",
   "metadata": {
    "colab_type": "text",
    "id": "cOqxLZt-1MuU"
   },
   "source": [
    "<img src=\"https://drive.google.com/uc?id=14vMXQqOcFUFOScF6oqB0XC359MIw-LWD\" width=\"400\" height=\"100\">"
   ]
  },
  {
   "cell_type": "markdown",
   "metadata": {
    "colab_type": "text",
    "id": "gtZg95Xn1MuV"
   },
   "source": [
    "Congrats! Now Colab is ready to use!"
   ]
  },
  {
   "cell_type": "markdown",
   "metadata": {
    "colab_type": "text",
    "id": "Uzr3JXA9e_0k"
   },
   "source": [
    "# Toy Case Studies "
   ]
  },
  {
   "cell_type": "markdown",
   "metadata": {
    "colab_type": "text",
    "id": "5G61Dzl_e_0l"
   },
   "source": [
    "## Shallow learning with sklearn"
   ]
  },
  {
   "cell_type": "markdown",
   "metadata": {
    "colab_type": "text",
    "id": "kznAhPwhfGt8"
   },
   "source": [
    "### Loading data"
   ]
  },
  {
   "cell_type": "code",
   "execution_count": 2,
   "metadata": {
    "colab": {},
    "colab_type": "code",
    "executionInfo": {
     "elapsed": 21790,
     "status": "ok",
     "timestamp": 1597285750143,
     "user": {
      "displayName": "Huang Yuxiao",
      "photoUrl": "",
      "userId": "05167076769245149404"
     },
     "user_tz": 240
    },
    "id": "zW1uSyRrfF7X"
   },
   "outputs": [],
   "source": [
    "import pandas as pd\n",
    "\n",
    "# The absolute path of the current directory\n",
    "abspath = '/content/drive/My Drive/Colab Notebooks/teaching/gwu/machine_learning_I/code/instructions/google_colab_instruction/'\n",
    "\n",
    "# Load the training data\n",
    "df_train = pd.read_csv(abspath + 'data/train.csv', header=0)\n",
    "\n",
    "# Load the test data\n",
    "df_test = pd.read_csv(abspath + 'data/test.csv', header=0)"
   ]
  },
  {
   "cell_type": "code",
   "execution_count": 3,
   "metadata": {
    "colab": {
     "base_uri": "https://localhost:8080/",
     "height": 111
    },
    "colab_type": "code",
    "executionInfo": {
     "elapsed": 21787,
     "status": "ok",
     "timestamp": 1597285750145,
     "user": {
      "displayName": "Huang Yuxiao",
      "photoUrl": "",
      "userId": "05167076769245149404"
     },
     "user_tz": 240
    },
    "id": "dzks9d-boSy4",
    "outputId": "ecd0da3d-d8cb-48f7-833d-f017f5228afd"
   },
   "outputs": [
    {
     "data": {
      "text/html": [
       "<div>\n",
       "<style scoped>\n",
       "    .dataframe tbody tr th:only-of-type {\n",
       "        vertical-align: middle;\n",
       "    }\n",
       "\n",
       "    .dataframe tbody tr th {\n",
       "        vertical-align: top;\n",
       "    }\n",
       "\n",
       "    .dataframe thead th {\n",
       "        text-align: right;\n",
       "    }\n",
       "</style>\n",
       "<table border=\"1\" class=\"dataframe\">\n",
       "  <thead>\n",
       "    <tr style=\"text-align: right;\">\n",
       "      <th></th>\n",
       "      <th>x</th>\n",
       "      <th>y</th>\n",
       "    </tr>\n",
       "  </thead>\n",
       "  <tbody>\n",
       "    <tr>\n",
       "      <th>0</th>\n",
       "      <td>0</td>\n",
       "      <td>0</td>\n",
       "    </tr>\n",
       "    <tr>\n",
       "      <th>1</th>\n",
       "      <td>1</td>\n",
       "      <td>1</td>\n",
       "    </tr>\n",
       "  </tbody>\n",
       "</table>\n",
       "</div>"
      ],
      "text/plain": [
       "   x  y\n",
       "0  0  0\n",
       "1  1  1"
      ]
     },
     "execution_count": 3,
     "metadata": {
      "tags": []
     },
     "output_type": "execute_result"
    }
   ],
   "source": [
    "# Print the first 5 rows of df_train\n",
    "df_train.head()"
   ]
  },
  {
   "cell_type": "code",
   "execution_count": 4,
   "metadata": {
    "colab": {
     "base_uri": "https://localhost:8080/",
     "height": 111
    },
    "colab_type": "code",
    "executionInfo": {
     "elapsed": 21780,
     "status": "ok",
     "timestamp": 1597285750146,
     "user": {
      "displayName": "Huang Yuxiao",
      "photoUrl": "",
      "userId": "05167076769245149404"
     },
     "user_tz": 240
    },
    "id": "T6vTJY--ogOH",
    "outputId": "f45f908f-4ff2-4488-ecf9-b8cd9bda2169"
   },
   "outputs": [
    {
     "data": {
      "text/html": [
       "<div>\n",
       "<style scoped>\n",
       "    .dataframe tbody tr th:only-of-type {\n",
       "        vertical-align: middle;\n",
       "    }\n",
       "\n",
       "    .dataframe tbody tr th {\n",
       "        vertical-align: top;\n",
       "    }\n",
       "\n",
       "    .dataframe thead th {\n",
       "        text-align: right;\n",
       "    }\n",
       "</style>\n",
       "<table border=\"1\" class=\"dataframe\">\n",
       "  <thead>\n",
       "    <tr style=\"text-align: right;\">\n",
       "      <th></th>\n",
       "      <th>x</th>\n",
       "      <th>y</th>\n",
       "    </tr>\n",
       "  </thead>\n",
       "  <tbody>\n",
       "    <tr>\n",
       "      <th>0</th>\n",
       "      <td>2</td>\n",
       "      <td>2</td>\n",
       "    </tr>\n",
       "    <tr>\n",
       "      <th>1</th>\n",
       "      <td>3</td>\n",
       "      <td>3</td>\n",
       "    </tr>\n",
       "  </tbody>\n",
       "</table>\n",
       "</div>"
      ],
      "text/plain": [
       "   x  y\n",
       "0  2  2\n",
       "1  3  3"
      ]
     },
     "execution_count": 4,
     "metadata": {
      "tags": []
     },
     "output_type": "execute_result"
    }
   ],
   "source": [
    "# Print the first 5 rows of df_test\n",
    "df_test.head()"
   ]
  },
  {
   "cell_type": "markdown",
   "metadata": {
    "colab_type": "text",
    "id": "iSdf967cpDRS"
   },
   "source": [
    "### Modeling"
   ]
  },
  {
   "cell_type": "code",
   "execution_count": 5,
   "metadata": {
    "colab": {
     "base_uri": "https://localhost:8080/",
     "height": 34
    },
    "colab_type": "code",
    "executionInfo": {
     "elapsed": 22073,
     "status": "ok",
     "timestamp": 1597285750446,
     "user": {
      "displayName": "Huang Yuxiao",
      "photoUrl": "",
      "userId": "05167076769245149404"
     },
     "user_tz": 240
    },
    "id": "i9NrnjpHqa_U",
    "outputId": "fc48e148-24f4-4103-e9c5-6b363a44578b"
   },
   "outputs": [
    {
     "data": {
      "text/plain": [
       "1.0"
      ]
     },
     "execution_count": 5,
     "metadata": {
      "tags": []
     },
     "output_type": "execute_result"
    }
   ],
   "source": [
    "from sklearn.linear_model import LinearRegression\n",
    "\n",
    "# Build the model\n",
    "lr = LinearRegression()\n",
    "\n",
    "# Train the model\n",
    "lr.fit(df_train[['x']], df_train['y'])\n",
    "\n",
    "# Test the model\n",
    "lr.score(df_test[['x']], df_test['y'])"
   ]
  },
  {
   "cell_type": "markdown",
   "metadata": {
    "colab_type": "text",
    "id": "AZ33HGYpe_0m"
   },
   "source": [
    "## Deep learning with tensorflow"
   ]
  },
  {
   "cell_type": "markdown",
   "metadata": {
    "colab_type": "text",
    "id": "vFsLXHRPQGHH"
   },
   "source": [
    "### Loading data"
   ]
  },
  {
   "cell_type": "code",
   "execution_count": 6,
   "metadata": {
    "colab": {
     "base_uri": "https://localhost:8080/",
     "height": 51
    },
    "colab_type": "code",
    "executionInfo": {
     "elapsed": 24217,
     "status": "ok",
     "timestamp": 1597285752599,
     "user": {
      "displayName": "Huang Yuxiao",
      "photoUrl": "",
      "userId": "05167076769245149404"
     },
     "user_tz": 240
    },
    "id": "xz6yI6VZwKfP",
    "outputId": "6178e135-4fdf-4b04-b13c-425b66a2dc60"
   },
   "outputs": [
    {
     "name": "stdout",
     "output_type": "stream",
     "text": [
      "Downloading data from https://storage.googleapis.com/tensorflow/tf-keras-datasets/mnist.npz\n",
      "11493376/11490434 [==============================] - 0s 0us/step\n"
     ]
    }
   ],
   "source": [
    "# The magic below allows us to use tensorflow version 2.x\n",
    "%tensorflow_version 2.x \n",
    "\n",
    "import tensorflow as tf\n",
    "from tensorflow import keras\n",
    "\n",
    "# Load the MNIST dataset from keras\n",
    "(X_train_full, y_train_full), (X_test, y_test) = keras.datasets.mnist.load_data()"
   ]
  },
  {
   "cell_type": "code",
   "execution_count": 7,
   "metadata": {
    "colab": {
     "base_uri": "https://localhost:8080/",
     "height": 34
    },
    "colab_type": "code",
    "executionInfo": {
     "elapsed": 24215,
     "status": "ok",
     "timestamp": 1597285752600,
     "user": {
      "displayName": "Huang Yuxiao",
      "photoUrl": "",
      "userId": "05167076769245149404"
     },
     "user_tz": 240
    },
    "id": "DuSgCDQULaCo",
    "outputId": "dc706f10-775c-4773-ff21-14ebfe354a6a"
   },
   "outputs": [
    {
     "data": {
      "text/plain": [
       "(60000, 28, 28)"
      ]
     },
     "execution_count": 7,
     "metadata": {
      "tags": []
     },
     "output_type": "execute_result"
    }
   ],
   "source": [
    "# Print the dimension of X_train_full\n",
    "X_train_full.shape"
   ]
  },
  {
   "cell_type": "code",
   "execution_count": 8,
   "metadata": {
    "colab": {
     "base_uri": "https://localhost:8080/",
     "height": 34
    },
    "colab_type": "code",
    "executionInfo": {
     "elapsed": 24208,
     "status": "ok",
     "timestamp": 1597285752601,
     "user": {
      "displayName": "Huang Yuxiao",
      "photoUrl": "",
      "userId": "05167076769245149404"
     },
     "user_tz": 240
    },
    "id": "n55QAv6SLjKO",
    "outputId": "388314e0-8dbf-4dc5-e45d-d97252fac33c"
   },
   "outputs": [
    {
     "data": {
      "text/plain": [
       "(10000, 28, 28)"
      ]
     },
     "execution_count": 8,
     "metadata": {
      "tags": []
     },
     "output_type": "execute_result"
    }
   ],
   "source": [
    "# Print the dimension of X_test\n",
    "X_test.shape"
   ]
  },
  {
   "cell_type": "markdown",
   "metadata": {
    "colab_type": "text",
    "id": "63n9_YIjLCGd"
   },
   "source": [
    "### Dividing the training data into training and validation"
   ]
  },
  {
   "cell_type": "code",
   "execution_count": 9,
   "metadata": {
    "colab": {},
    "colab_type": "code",
    "executionInfo": {
     "elapsed": 24200,
     "status": "ok",
     "timestamp": 1597285752601,
     "user": {
      "displayName": "Huang Yuxiao",
      "photoUrl": "",
      "userId": "05167076769245149404"
     },
     "user_tz": 240
    },
    "id": "SMPc7LiruU1k"
   },
   "outputs": [],
   "source": [
    "# Use the first 50000 samples for training and the last 10000 samples for validation\n",
    "X_train, X_valid = X_train_full[:50000], X_train_full[50000:]\n",
    "y_train, y_valid = y_train_full[:50000], y_train_full[50000:]"
   ]
  },
  {
   "cell_type": "markdown",
   "metadata": {
    "colab_type": "text",
    "id": "UIFcAuzfMl-g"
   },
   "source": [
    "### Normalizing the features"
   ]
  },
  {
   "cell_type": "code",
   "execution_count": 10,
   "metadata": {
    "colab": {},
    "colab_type": "code",
    "executionInfo": {
     "elapsed": 24197,
     "status": "ok",
     "timestamp": 1597285752602,
     "user": {
      "displayName": "Huang Yuxiao",
      "photoUrl": "",
      "userId": "05167076769245149404"
     },
     "user_tz": 240
    },
    "id": "6W1kgayMug8d"
   },
   "outputs": [],
   "source": [
    "X_train, X_valid, X_test = X_train / 255.0, X_valid / 255.0, X_test / 255.0"
   ]
  },
  {
   "cell_type": "markdown",
   "metadata": {
    "colab_type": "text",
    "id": "1TWHpAHAN7UI"
   },
   "source": [
    "### Modeling"
   ]
  },
  {
   "cell_type": "code",
   "execution_count": 11,
   "metadata": {
    "colab": {
     "base_uri": "https://localhost:8080/",
     "height": 255
    },
    "colab_type": "code",
    "executionInfo": {
     "elapsed": 29872,
     "status": "ok",
     "timestamp": 1597285758280,
     "user": {
      "displayName": "Huang Yuxiao",
      "photoUrl": "",
      "userId": "05167076769245149404"
     },
     "user_tz": 240
    },
    "id": "hPTWZGb8yu37",
    "outputId": "e19cb287-dbd2-4035-8247-783fb843ffb5"
   },
   "outputs": [
    {
     "name": "stdout",
     "output_type": "stream",
     "text": [
      "Model: \"sequential\"\n",
      "_________________________________________________________________\n",
      "Layer (type)                 Output Shape              Param #   \n",
      "=================================================================\n",
      "flatten (Flatten)            (None, 784)               0         \n",
      "_________________________________________________________________\n",
      "dense (Dense)                (None, 100)               78500     \n",
      "_________________________________________________________________\n",
      "dense_1 (Dense)              (None, 10)                1010      \n",
      "=================================================================\n",
      "Total params: 79,510\n",
      "Trainable params: 79,510\n",
      "Non-trainable params: 0\n",
      "_________________________________________________________________\n"
     ]
    }
   ],
   "source": [
    "# Build the model\n",
    "model = keras.models.Sequential([\n",
    "    keras.layers.Flatten(input_shape=[28, 28]),\n",
    "    keras.layers.Dense(100, activation=\"relu\"),\n",
    "    keras.layers.Dense(10, activation=\"softmax\")\n",
    "])\n",
    "\n",
    "# Print the model summary\n",
    "model.summary()"
   ]
  },
  {
   "cell_type": "code",
   "execution_count": 12,
   "metadata": {
    "colab": {},
    "colab_type": "code",
    "executionInfo": {
     "elapsed": 29865,
     "status": "ok",
     "timestamp": 1597285758281,
     "user": {
      "displayName": "Huang Yuxiao",
      "photoUrl": "",
      "userId": "05167076769245149404"
     },
     "user_tz": 240
    },
    "id": "yoGYkR0R0BYz"
   },
   "outputs": [],
   "source": [
    "# Compile the model\n",
    "model.compile(loss=\"sparse_categorical_crossentropy\",\n",
    "              optimizer=keras.optimizers.Adam(),\n",
    "              metrics=[\"accuracy\"])"
   ]
  },
  {
   "cell_type": "code",
   "execution_count": 13,
   "metadata": {
    "colab": {},
    "colab_type": "code",
    "executionInfo": {
     "elapsed": 29861,
     "status": "ok",
     "timestamp": 1597285758281,
     "user": {
      "displayName": "Huang Yuxiao",
      "photoUrl": "",
      "userId": "05167076769245149404"
     },
     "user_tz": 240
    },
    "id": "otPTR1Ku4GIR"
   },
   "outputs": [],
   "source": [
    "import os\n",
    "\n",
    "# The absolute path of the current directory\n",
    "abspath = '/content/drive/My Drive/Colab Notebooks/teaching/gwu/machine_learning_I/code/instructions/google_colab_instruction/'\n",
    "\n",
    "# Make directory for model\n",
    "directory = os.path.dirname(abspath + 'model/')\n",
    "if not os.path.exists(directory):\n",
    "    os.makedirs(directory)"
   ]
  },
  {
   "cell_type": "code",
   "execution_count": 14,
   "metadata": {
    "colab": {},
    "colab_type": "code",
    "executionInfo": {
     "elapsed": 29859,
     "status": "ok",
     "timestamp": 1597285758282,
     "user": {
      "displayName": "Huang Yuxiao",
      "photoUrl": "",
      "userId": "05167076769245149404"
     },
     "user_tz": 240
    },
    "id": "HIGf9GJO2umK"
   },
   "outputs": [],
   "source": [
    "# ModelCheckpoint callback\n",
    "model_checkpoint_cb = keras.callbacks.ModelCheckpoint(filepath=abspath + '/model/model.h5',\n",
    "                                                      save_best_only=True)\n",
    "\n",
    "# EarlyStopping callback\n",
    "early_stopping_cb = keras.callbacks.EarlyStopping(patience=5,\n",
    "                                                  restore_best_weights=True)"
   ]
  },
  {
   "cell_type": "code",
   "execution_count": 15,
   "metadata": {
    "colab": {
     "base_uri": "https://localhost:8080/",
     "height": 377
    },
    "colab_type": "code",
    "executionInfo": {
     "elapsed": 65745,
     "status": "ok",
     "timestamp": 1597285794171,
     "user": {
      "displayName": "Huang Yuxiao",
      "photoUrl": "",
      "userId": "05167076769245149404"
     },
     "user_tz": 240
    },
    "id": "psRIX19CSKRE",
    "outputId": "f0d8e8f7-199e-4639-aade-3772aeddf647"
   },
   "outputs": [
    {
     "name": "stdout",
     "output_type": "stream",
     "text": [
      "Epoch 1/10\n",
      "1563/1563 [==============================] - 3s 2ms/step - loss: 0.2921 - accuracy: 0.9165 - val_loss: 0.1511 - val_accuracy: 0.9578\n",
      "Epoch 2/10\n",
      "1563/1563 [==============================] - 3s 2ms/step - loss: 0.1326 - accuracy: 0.9607 - val_loss: 0.1147 - val_accuracy: 0.9664\n",
      "Epoch 3/10\n",
      "1563/1563 [==============================] - 3s 2ms/step - loss: 0.0914 - accuracy: 0.9725 - val_loss: 0.1070 - val_accuracy: 0.9687\n",
      "Epoch 4/10\n",
      "1563/1563 [==============================] - 3s 2ms/step - loss: 0.0699 - accuracy: 0.9783 - val_loss: 0.0903 - val_accuracy: 0.9727\n",
      "Epoch 5/10\n",
      "1563/1563 [==============================] - 3s 2ms/step - loss: 0.0543 - accuracy: 0.9834 - val_loss: 0.0887 - val_accuracy: 0.9751\n",
      "Epoch 6/10\n",
      "1563/1563 [==============================] - 3s 2ms/step - loss: 0.0439 - accuracy: 0.9865 - val_loss: 0.0882 - val_accuracy: 0.9744\n",
      "Epoch 7/10\n",
      "1563/1563 [==============================] - 3s 2ms/step - loss: 0.0348 - accuracy: 0.9895 - val_loss: 0.0894 - val_accuracy: 0.9754\n",
      "Epoch 8/10\n",
      "1563/1563 [==============================] - 3s 2ms/step - loss: 0.0277 - accuracy: 0.9918 - val_loss: 0.0882 - val_accuracy: 0.9767\n",
      "Epoch 9/10\n",
      "1563/1563 [==============================] - 3s 2ms/step - loss: 0.0227 - accuracy: 0.9934 - val_loss: 0.0963 - val_accuracy: 0.9749\n",
      "Epoch 10/10\n",
      "1563/1563 [==============================] - 3s 2ms/step - loss: 0.0179 - accuracy: 0.9949 - val_loss: 0.0898 - val_accuracy: 0.9761\n"
     ]
    }
   ],
   "source": [
    "# Train the model\n",
    "history = model.fit(X_train, y_train, \n",
    "                    epochs=10,\n",
    "                    validation_data=(X_valid, y_valid),\n",
    "                    callbacks=[model_checkpoint_cb, early_stopping_cb])"
   ]
  },
  {
   "cell_type": "code",
   "execution_count": 16,
   "metadata": {
    "colab": {
     "base_uri": "https://localhost:8080/",
     "height": 51
    },
    "colab_type": "code",
    "executionInfo": {
     "elapsed": 66365,
     "status": "ok",
     "timestamp": 1597285794799,
     "user": {
      "displayName": "Huang Yuxiao",
      "photoUrl": "",
      "userId": "05167076769245149404"
     },
     "user_tz": 240
    },
    "id": "RIPNFk-V32ca",
    "outputId": "473cb5e6-57a7-4a92-801c-1ce68ca79d82"
   },
   "outputs": [
    {
     "name": "stdout",
     "output_type": "stream",
     "text": [
      "313/313 [==============================] - 1s 2ms/step - loss: 0.0815 - accuracy: 0.9774\n"
     ]
    },
    {
     "data": {
      "text/plain": [
       "[0.08149755001068115, 0.977400004863739]"
      ]
     },
     "execution_count": 16,
     "metadata": {
      "tags": []
     },
     "output_type": "execute_result"
    }
   ],
   "source": [
    "# Test the model\n",
    "model.evaluate(X_test, y_test)"
   ]
  },
  {
   "cell_type": "code",
   "execution_count": 16,
   "metadata": {
    "colab": {},
    "colab_type": "code",
    "executionInfo": {
     "elapsed": 66357,
     "status": "ok",
     "timestamp": 1597285794800,
     "user": {
      "displayName": "Huang Yuxiao",
      "photoUrl": "",
      "userId": "05167076769245149404"
     },
     "user_tz": 240
    },
    "id": "D-F0z_PrerMW"
   },
   "outputs": [],
   "source": []
  }
 ],
 "metadata": {
  "accelerator": "GPU",
  "colab": {
   "collapsed_sections": [],
   "name": "google_colab_instruction.ipynb",
   "provenance": [],
   "toc_visible": true
  },
  "kernelspec": {
   "display_name": "Python 3",
   "language": "python",
   "name": "python3"
  },
  "language_info": {
   "codemirror_mode": {
    "name": "ipython",
    "version": 3
   },
   "file_extension": ".py",
   "mimetype": "text/x-python",
   "name": "python",
   "nbconvert_exporter": "python",
   "pygments_lexer": "ipython3",
   "version": "3.7.6"
  },
  "toc": {
   "base_numbering": 1,
   "nav_menu": {},
   "number_sections": true,
   "sideBar": true,
   "skip_h1_title": false,
   "title_cell": "Table of Contents",
   "title_sidebar": "Contents",
   "toc_cell": true,
   "toc_position": {},
   "toc_section_display": true,
   "toc_window_display": false
  }
 },
 "nbformat": 4,
 "nbformat_minor": 1
}
