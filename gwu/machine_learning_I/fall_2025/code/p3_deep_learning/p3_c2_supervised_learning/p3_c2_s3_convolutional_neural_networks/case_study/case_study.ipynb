{
 "cells": [
  {
   "cell_type": "markdown",
   "metadata": {
    "id": "0EvXt9p4ufUd",
    "toc": true
   },
   "source": [
    "<h1>Table of Contents<span class=\"tocSkip\"></span></h1>\n",
    "<div class=\"toc\"><ul class=\"toc-item\"><li><span><a href=\"#Overview\" data-toc-modified-id=\"Overview-1\"><span class=\"toc-item-num\">1&nbsp;&nbsp;</span>Overview</a></span></li><li><span><a href=\"#Notebook-Configuration\" data-toc-modified-id=\"Notebook-Configuration-2\"><span class=\"toc-item-num\">2&nbsp;&nbsp;</span>Notebook Configuration</a></span><ul class=\"toc-item\"><li><span><a href=\"#Google-drive\" data-toc-modified-id=\"Google-drive-2.1\"><span class=\"toc-item-num\">2.1&nbsp;&nbsp;</span>Google drive</a></span></li><li><span><a href=\"#Warning\" data-toc-modified-id=\"Warning-2.2\"><span class=\"toc-item-num\">2.2&nbsp;&nbsp;</span>Warning</a></span></li><li><span><a href=\"#Matplotlib\" data-toc-modified-id=\"Matplotlib-2.3\"><span class=\"toc-item-num\">2.3&nbsp;&nbsp;</span>Matplotlib</a></span></li><li><span><a href=\"#TensorFlow\" data-toc-modified-id=\"TensorFlow-2.4\"><span class=\"toc-item-num\">2.4&nbsp;&nbsp;</span>TensorFlow</a></span></li><li><span><a href=\"#Random-seed\" data-toc-modified-id=\"Random-seed-2.5\"><span class=\"toc-item-num\">2.5&nbsp;&nbsp;</span>Random seed</a></span></li></ul></li><li><span><a href=\"#Data-Preprocessing\" data-toc-modified-id=\"Data-Preprocessing-3\"><span class=\"toc-item-num\">3&nbsp;&nbsp;</span>Data Preprocessing</a></span><ul class=\"toc-item\"><li><span><a href=\"#Loading-the-data\" data-toc-modified-id=\"Loading-the-data-3.1\"><span class=\"toc-item-num\">3.1&nbsp;&nbsp;</span>Loading the data</a></span><ul class=\"toc-item\"><li><span><a href=\"#Creating-the-directory-for-the-data\" data-toc-modified-id=\"Creating-the-directory-for-the-data-3.1.1\"><span class=\"toc-item-num\">3.1.1&nbsp;&nbsp;</span>Creating the directory for the data</a></span></li><li><span><a href=\"#Downloading-the-data-to-the-directory\" data-toc-modified-id=\"Downloading-the-data-to-the-directory-3.1.2\"><span class=\"toc-item-num\">3.1.2&nbsp;&nbsp;</span>Downloading the data to the directory</a></span></li></ul></li><li><span><a href=\"#Getting-the-name-of-the-target\" data-toc-modified-id=\"Getting-the-name-of-the-target-3.2\"><span class=\"toc-item-num\">3.2&nbsp;&nbsp;</span>Getting the name of the target</a></span></li><li><span><a href=\"#Getting-the-info\" data-toc-modified-id=\"Getting-the-info-3.3\"><span class=\"toc-item-num\">3.3&nbsp;&nbsp;</span>Getting the info</a></span></li><li><span><a href=\"#Getting-the-training,-validation-and-test-data\" data-toc-modified-id=\"Getting-the-training,-validation-and-test-data-3.4\"><span class=\"toc-item-num\">3.4&nbsp;&nbsp;</span>Getting the training, validation and test data</a></span></li><li><span><a href=\"#Resizing-the-data-for-pretrained-model\" data-toc-modified-id=\"Resizing-the-data-for-pretrained-model-3.5\"><span class=\"toc-item-num\">3.5&nbsp;&nbsp;</span>Resizing the data for pretrained model</a></span></li><li><span><a href=\"#Preprocessing-the-data-using-pretrained-model\" data-toc-modified-id=\"Preprocessing-the-data-using-pretrained-model-3.6\"><span class=\"toc-item-num\">3.6&nbsp;&nbsp;</span>Preprocessing the data using pretrained model</a></span></li><li><span><a href=\"#Shuffling,-batching-and-prefetching-the-data\" data-toc-modified-id=\"Shuffling,-batching-and-prefetching-the-data-3.7\"><span class=\"toc-item-num\">3.7&nbsp;&nbsp;</span>Shuffling, batching and prefetching the data</a></span></li></ul></li><li><span><a href=\"#Training\" data-toc-modified-id=\"Training-4\"><span class=\"toc-item-num\">4&nbsp;&nbsp;</span>Training</a></span><ul class=\"toc-item\"><li><span><a href=\"#Creating-the-directory-for-the-model\" data-toc-modified-id=\"Creating-the-directory-for-the-model-4.1\"><span class=\"toc-item-num\">4.1&nbsp;&nbsp;</span>Creating the directory for the model</a></span></li><li><span><a href=\"#Building-the-architecture-of-the-model\" data-toc-modified-id=\"Building-the-architecture-of-the-model-4.2\"><span class=\"toc-item-num\">4.2&nbsp;&nbsp;</span>Building the architecture of the model</a></span></li><li><span><a href=\"#Freezing-the-pretrained-layers\" data-toc-modified-id=\"Freezing-the-pretrained-layers-4.3\"><span class=\"toc-item-num\">4.3&nbsp;&nbsp;</span>Freezing the pretrained layers</a></span></li><li><span><a href=\"#Setting-Callbacks\" data-toc-modified-id=\"Setting-Callbacks-4.4\"><span class=\"toc-item-num\">4.4&nbsp;&nbsp;</span>Setting Callbacks</a></span></li><li><span><a href=\"#Compiling-the-model\" data-toc-modified-id=\"Compiling-the-model-4.5\"><span class=\"toc-item-num\">4.5&nbsp;&nbsp;</span>Compiling the model</a></span></li><li><span><a href=\"#Training-the-model\" data-toc-modified-id=\"Training-the-model-4.6\"><span class=\"toc-item-num\">4.6&nbsp;&nbsp;</span>Training the model</a></span></li><li><span><a href=\"#Plotting-the-learning-curve\" data-toc-modified-id=\"Plotting-the-learning-curve-4.7\"><span class=\"toc-item-num\">4.7&nbsp;&nbsp;</span>Plotting the learning curve</a></span><ul class=\"toc-item\"><li><span><a href=\"#Creating-the-directory-for-the-figure\" data-toc-modified-id=\"Creating-the-directory-for-the-figure-4.7.1\"><span class=\"toc-item-num\">4.7.1&nbsp;&nbsp;</span>Creating the directory for the figure</a></span></li></ul></li><li><span><a href=\"#Unfreezing-the-pretrained-layers\" data-toc-modified-id=\"Unfreezing-the-pretrained-layers-4.8\"><span class=\"toc-item-num\">4.8&nbsp;&nbsp;</span>Unfreezing the pretrained layers</a></span></li><li><span><a href=\"#Compiling-the-model\" data-toc-modified-id=\"Compiling-the-model-4.9\"><span class=\"toc-item-num\">4.9&nbsp;&nbsp;</span>Compiling the model</a></span></li><li><span><a href=\"#Training-the-model\" data-toc-modified-id=\"Training-the-model-4.10\"><span class=\"toc-item-num\">4.10&nbsp;&nbsp;</span>Training the model</a></span></li><li><span><a href=\"#Plotting-the-learning-curve\" data-toc-modified-id=\"Plotting-the-learning-curve-4.11\"><span class=\"toc-item-num\">4.11&nbsp;&nbsp;</span>Plotting the learning curve</a></span></li></ul></li><li><span><a href=\"#Testing\" data-toc-modified-id=\"Testing-5\"><span class=\"toc-item-num\">5&nbsp;&nbsp;</span>Testing</a></span><ul class=\"toc-item\"><li><span><a href=\"#Loading-the-saved-model\" data-toc-modified-id=\"Loading-the-saved-model-5.1\"><span class=\"toc-item-num\">5.1&nbsp;&nbsp;</span>Loading the saved model</a></span></li><li><span><a href=\"#Evaluating-the-model\" data-toc-modified-id=\"Evaluating-the-model-5.2\"><span class=\"toc-item-num\">5.2&nbsp;&nbsp;</span>Evaluating the model</a></span></li></ul></li><li><span><a href=\"#Reference\" data-toc-modified-id=\"Reference-6\"><span class=\"toc-item-num\">6&nbsp;&nbsp;</span>Reference</a></span></li></ul></div>"
   ]
  },
  {
   "cell_type": "markdown",
   "metadata": {
    "id": "42yc1zUrzlEh"
   },
   "source": [
    "<b>\n",
    "<p>\n",
    "<center>\n",
    "<font size='5'>\n",
    "Popular Machine Learning Methods: Idea, Practice and Math\n",
    "</font>\n",
    "</center>\n",
    "</p>\n",
    "\n",
    "<p>\n",
    "<center>\n",
    "<font size='4'>\n",
    "Part 3, Chapter 2, Section 3: Convolutional Neural Networks\n",
    "</font>\n",
    "</center>\n",
    "</p>\n",
    "    \n",
    "<p>\n",
    "<center>\n",
    "<font size='4'>\n",
    "Case Study: CIFAR-10 Dataset\n",
    "</font>\n",
    "</center>\n",
    "</p>\n",
    "\n",
    "<p>\n",
    "<center>\n",
    "<font size='3'>\n",
    "Data Science, Columbian College of Arts & Sciences, George Washington University\n",
    "</font>\n",
    "</center>\n",
    "</p>\n",
    "\n",
    "<p>\n",
    "<center>\n",
    "<font size='3'>\n",
    "Yuxiao Huang\n",
    "</font>\n",
    "</center>\n",
    "</p>\n",
    "</b>"
   ]
  },
  {
   "cell_type": "markdown",
   "metadata": {
    "id": "rT2SKHw2zlEi"
   },
   "source": [
    "# Overview"
   ]
  },
  {
   "cell_type": "markdown",
   "metadata": {
    "id": "asZWLrJKzlEj"
   },
   "source": [
    "- This notebook includes the code example for Convolutional Neural Networks (Part 3, Chapter 2, Section 3).\n",
    "- See the accompanied slides in our [github repository](https://github.com/yuxiaohuang/teaching/tree/master/gwu/machine_learning_I/fall_2020/slides/p3_deep_learning/p3_c2_supervised_learning/p3_c2_s3_convolutional_neural_networks)."
   ]
  },
  {
   "cell_type": "markdown",
   "metadata": {
    "id": "WJ-IbZqAgILJ"
   },
   "source": [
    "# Notebook Configuration"
   ]
  },
  {
   "cell_type": "markdown",
   "metadata": {
    "id": "H3yB94KtgMHu"
   },
   "source": [
    "## Google drive"
   ]
  },
  {
   "cell_type": "code",
   "execution_count": 1,
   "metadata": {
    "colab": {
     "base_uri": "https://localhost:8080/"
    },
    "executionInfo": {
     "elapsed": 18603,
     "status": "ok",
     "timestamp": 1604890881082,
     "user": {
      "displayName": "Huang Yuxiao",
      "photoUrl": "",
      "userId": "05167076769245149404"
     },
     "user_tz": 300
    },
    "id": "jWmYBTOwgNs-",
    "outputId": "737ad264-3a1d-40ae-d5c1-aadfb3142508",
    "scrolled": true
   },
   "outputs": [
    {
     "name": "stdout",
     "output_type": "stream",
     "text": [
      "Mounted at /content/drive\n"
     ]
    }
   ],
   "source": [
    "from google.colab import drive\n",
    "import sys\n",
    "\n",
    "# Mount Google Drive\n",
    "drive.mount('/content/drive')\n",
    "\n",
    "# Get the absolute path of the current folder\n",
    "abspath_curr = '/content/drive/My Drive/Colab Notebooks/teaching/gwu/machine_learning_I/code/p3_deep_learning/p3_c2_supervised_learning/p3_c2_s3_convolutional_neural_networks/case_study/'\n",
    "\n",
    "# Get the absolute path of the deep utilities folder\n",
    "abspath_util_deep = '/content/drive/My Drive/Colab Notebooks/teaching/gwu/machine_learning_I/code/utilities/p3_deep_learning/'"
   ]
  },
  {
   "cell_type": "markdown",
   "metadata": {
    "id": "bYZhU1Wqgmqx"
   },
   "source": [
    "## Warning"
   ]
  },
  {
   "cell_type": "code",
   "execution_count": 2,
   "metadata": {
    "executionInfo": {
     "elapsed": 18601,
     "status": "ok",
     "timestamp": 1604890881083,
     "user": {
      "displayName": "Huang Yuxiao",
      "photoUrl": "",
      "userId": "05167076769245149404"
     },
     "user_tz": 300
    },
    "id": "MUl4k83e4ANR"
   },
   "outputs": [],
   "source": [
    "import warnings\n",
    "\n",
    "# Ignore warnings\n",
    "warnings.filterwarnings('ignore')"
   ]
  },
  {
   "cell_type": "markdown",
   "metadata": {
    "id": "6WMODpPfgn2U"
   },
   "source": [
    "## Matplotlib"
   ]
  },
  {
   "cell_type": "code",
   "execution_count": 3,
   "metadata": {
    "executionInfo": {
     "elapsed": 18600,
     "status": "ok",
     "timestamp": 1604890881084,
     "user": {
      "displayName": "Huang Yuxiao",
      "photoUrl": "",
      "userId": "05167076769245149404"
     },
     "user_tz": 300
    },
    "id": "DBRVH9SB4ANb"
   },
   "outputs": [],
   "source": [
    "import matplotlib.pyplot as plt\n",
    "%matplotlib inline \n",
    "\n",
    "# Set matplotlib sizes\n",
    "plt.rc('font', size=20)\n",
    "plt.rc('axes', titlesize=20)\n",
    "plt.rc('axes', labelsize=20)\n",
    "plt.rc('xtick', labelsize=20)\n",
    "plt.rc('ytick', labelsize=20)\n",
    "plt.rc('legend', fontsize=20)\n",
    "plt.rc('figure', titlesize=20)"
   ]
  },
  {
   "cell_type": "markdown",
   "metadata": {
    "id": "n-wNDk5nZhhO"
   },
   "source": [
    "## TensorFlow"
   ]
  },
  {
   "cell_type": "code",
   "execution_count": 4,
   "metadata": {
    "executionInfo": {
     "elapsed": 19992,
     "status": "ok",
     "timestamp": 1604890882478,
     "user": {
      "displayName": "Huang Yuxiao",
      "photoUrl": "",
      "userId": "05167076769245149404"
     },
     "user_tz": 300
    },
    "id": "LjG43tEnZkfE"
   },
   "outputs": [],
   "source": [
    "# The magic below allows us to use tensorflow version 2.x\n",
    "%tensorflow_version 2.x \n",
    "import tensorflow as tf\n",
    "from tensorflow import keras"
   ]
  },
  {
   "cell_type": "markdown",
   "metadata": {
    "id": "40FN3UNfO2Z7"
   },
   "source": [
    "## Random seed"
   ]
  },
  {
   "cell_type": "code",
   "execution_count": 5,
   "metadata": {
    "executionInfo": {
     "elapsed": 19991,
     "status": "ok",
     "timestamp": 1604890882479,
     "user": {
      "displayName": "Huang Yuxiao",
      "photoUrl": "",
      "userId": "05167076769245149404"
     },
     "user_tz": 300
    },
    "id": "uSADk0hJP71d"
   },
   "outputs": [],
   "source": [
    "# The random seed\n",
    "random_seed = 42\n",
    "\n",
    "# Set random seed in tensorflow\n",
    "tf.random.set_seed(random_seed)\n",
    "\n",
    "# Set random seed in numpy\n",
    "import numpy as np\n",
    "np.random.seed(random_seed)"
   ]
  },
  {
   "cell_type": "markdown",
   "metadata": {
    "id": "1eOpQpPu4ANk"
   },
   "source": [
    "# Data Preprocessing"
   ]
  },
  {
   "cell_type": "code",
   "execution_count": 6,
   "metadata": {
    "colab": {
     "base_uri": "https://localhost:8080/"
    },
    "executionInfo": {
     "elapsed": 21273,
     "status": "ok",
     "timestamp": 1604890883775,
     "user": {
      "displayName": "Huang Yuxiao",
      "photoUrl": "",
      "userId": "05167076769245149404"
     },
     "user_tz": 300
    },
    "id": "D-Mwc6MczlFD",
    "outputId": "8077089b-209f-453b-ad0d-2b998d0f769e"
   },
   "outputs": [
    {
     "name": "stdout",
     "output_type": "stream",
     "text": [
      "/content/drive/My Drive/Colab Notebooks/teaching/gwu/machine_learning_I/code/utilities/p3_deep_learning\n"
     ]
    }
   ],
   "source": [
    "# Change working directory to the absolute path of the deep utilities folder\n",
    "%cd $abspath_util_deep\n",
    "\n",
    "# Import the deep utitilities\n",
    "%run pmlm_utilities_deep.ipynb"
   ]
  },
  {
   "cell_type": "markdown",
   "metadata": {
    "id": "xnJAfR784ANl"
   },
   "source": [
    "## Loading the data"
   ]
  },
  {
   "cell_type": "markdown",
   "metadata": {
    "id": "LM_WKAmO4ANm"
   },
   "source": [
    "In this case study, we will work on the [cifar10 dataset](https://www.tensorflow.org/datasets/catalog/cifar10)."
   ]
  },
  {
   "cell_type": "markdown",
   "metadata": {
    "id": "IEjvHlLB8X0z"
   },
   "source": [
    "### Creating the directory for the data"
   ]
  },
  {
   "cell_type": "code",
   "execution_count": 7,
   "metadata": {
    "executionInfo": {
     "elapsed": 21581,
     "status": "ok",
     "timestamp": 1604890884084,
     "user": {
      "displayName": "Huang Yuxiao",
      "photoUrl": "",
      "userId": "05167076769245149404"
     },
     "user_tz": 300
    },
    "id": "reijpcaf8UgO"
   },
   "outputs": [],
   "source": [
    "import os\n",
    "\n",
    "# Make directory\n",
    "directory = os.path.dirname(abspath_curr + '/data/')\n",
    "if not os.path.exists(directory):\n",
    "    os.makedirs(directory)"
   ]
  },
  {
   "cell_type": "markdown",
   "metadata": {
    "id": "-sDdbhok2i7C"
   },
   "source": [
    "### Downloading the data to the directory"
   ]
  },
  {
   "cell_type": "code",
   "execution_count": 8,
   "metadata": {
    "colab": {
     "base_uri": "https://localhost:8080/",
     "height": 367,
     "referenced_widgets": [
      "2304f52d4c194a1ebcabd3f251009aa9",
      "81ea75b6fa4d42b486852bf38928458e",
      "62f4570bffb64022af77cecfce157ea7",
      "b815ba61f09e441dbd81fdec88513276",
      "6c21c25b8533476186848e80975c9eea",
      "4f3a1430e3674751989b765743119e55",
      "af2e5bda72f7452995ad2849c604f2c1",
      "d26c9e14722e4a598da11c8d429b3b84",
      "219eda7ecf734698b1064165e425ad5f",
      "24a38baafdab45e7bd397672059c4c35",
      "35531e98d1e54a10a571b0ba775e6632",
      "1976762e81bd4924a385395ee2f24741",
      "8ae72ec021954d8384ff2e9ff5e2d924",
      "475fc1674e6844d5a74df7770a24053b",
      "8de676b080e04f60862c4c7305683e19",
      "fae4f47ace864fa88f9e35698e7ca6f9",
      "b7ce84b755964e5f803b3df00c8a275d",
      "e3ec20b3c13346a1a832ee1d53a8d3a4",
      "3410359bc7a748f1834f38b92a0debd7",
      "288ed7dac3c24d5c860eb9bf2bdac5d8",
      "f09981c7391f465199ec7649531900bb",
      "ed08e896af174cd29f4a47dd0614a0ba",
      "0776d37070f04db3b3b0d23b37d00a68",
      "8e1faf1a9cb242ae829ffed145594f50",
      "f5587ea740514ad080fc911c24ca2223",
      "524d5e0e8447486c8b28bd76229be579",
      "f8772c28bd0b420581930f14cb56ed92",
      "4835d1b4f3af423a8297b95849c137dc",
      "e0214b478297432daea85e7111ef4349",
      "c60eb0415d494a90b2ea6adeec04bc0e",
      "6ba7db338f7946c6b5db6d0f14b3f22d",
      "62954afa3d1a4eb7b40a0df0bba4f21a",
      "0fa055b4a2034916ab7474f18be62a46",
      "c7fc1e8fd93a4baf8e1857dbfcf38942",
      "5e88015eadac45acb73c98106a91d802",
      "f4dd52cfaf8e493bbd22857f9d0efe2f",
      "3e947fe2ddb341e688465cb60c76502c",
      "ee6f61efbcac4fa7b26335e9d74772f9",
      "138e1fe2a47f44d1a79605d39f27cdb3",
      "5343f9bcfb0f42e5a9c3bac677d4ef38",
      "f2cd55606b254cefa9908aed32105fc5",
      "b1a5b5b61a9d4470941d97d73a5118fc",
      "8fda2596cd964937b36598feb83ea7ec",
      "0e585a71ec8a4a47b1427fe0d5202ed3",
      "f8787f57d648443abb7811f7732e5ece",
      "60a37e1c887a4fc19870d1a5c025bd20",
      "fdb5bb8ac41d44778b976be84185c5e0",
      "a613c336ba354a40a1644899e659efb0",
      "f7fdbf550ed74d3bb8da42bf67f9f8d1",
      "eae644b05cbe41f2b64dc4f8aca5cb87",
      "fa8409cee1674026b1cf0b1764fd8c0c",
      "d35de32e5db4406bbf8d4549b41679c7",
      "4446e7f70ba44f6195a24810dd6ebe29",
      "f9e42f04d57e43c9aba3f765459e1888",
      "e2e4663de17a4c2c8898689fea45a219",
      "435c4c2cc4eb4eb588f9b665b2714234"
     ]
    },
    "executionInfo": {
     "elapsed": 77022,
     "status": "ok",
     "timestamp": 1604890939526,
     "user": {
      "displayName": "Huang Yuxiao",
      "photoUrl": "",
      "userId": "05167076769245149404"
     },
     "user_tz": 300
    },
    "id": "6onKpDeL4ANn",
    "outputId": "39d5be52-56f9-40cc-9111-dbe2395e1618",
    "scrolled": true
   },
   "outputs": [
    {
     "name": "stdout",
     "output_type": "stream",
     "text": [
      "\u001b[1mDownloading and preparing dataset cifar10/3.0.2 (download: 162.17 MiB, generated: 132.40 MiB, total: 294.58 MiB) to /content/drive/My Drive/Colab Notebooks/teaching/gwu/machine_learning_I/code/p3_deep_learning/p3_c2_supervised_learning/p3_c2_s3_convolutional_neural_networks/code_example//data/cifar10/3.0.2...\u001b[0m\n"
     ]
    },
    {
     "data": {
      "application/vnd.jupyter.widget-view+json": {
       "model_id": "2304f52d4c194a1ebcabd3f251009aa9",
       "version_major": 2,
       "version_minor": 0
      },
      "text/plain": [
       "HBox(children=(FloatProgress(value=1.0, bar_style='info', description='Dl Completed...', max=1.0, style=Progre…"
      ]
     },
     "metadata": {
      "tags": []
     },
     "output_type": "display_data"
    },
    {
     "data": {
      "application/vnd.jupyter.widget-view+json": {
       "model_id": "219eda7ecf734698b1064165e425ad5f",
       "version_major": 2,
       "version_minor": 0
      },
      "text/plain": [
       "HBox(children=(FloatProgress(value=1.0, bar_style='info', description='Dl Size...', max=1.0, style=ProgressSty…"
      ]
     },
     "metadata": {
      "tags": []
     },
     "output_type": "display_data"
    },
    {
     "data": {
      "application/vnd.jupyter.widget-view+json": {
       "model_id": "b7ce84b755964e5f803b3df00c8a275d",
       "version_major": 2,
       "version_minor": 0
      },
      "text/plain": [
       "HBox(children=(FloatProgress(value=1.0, bar_style='info', description='Extraction completed...', max=1.0, styl…"
      ]
     },
     "metadata": {
      "tags": []
     },
     "output_type": "display_data"
    },
    {
     "name": "stdout",
     "output_type": "stream",
     "text": [
      "\n",
      "\n",
      "\n",
      "\n",
      "\n",
      "\n"
     ]
    },
    {
     "data": {
      "application/vnd.jupyter.widget-view+json": {
       "model_id": "f5587ea740514ad080fc911c24ca2223",
       "version_major": 2,
       "version_minor": 0
      },
      "text/plain": [
       "HBox(children=(FloatProgress(value=1.0, bar_style='info', max=1.0), HTML(value='')))"
      ]
     },
     "metadata": {
      "tags": []
     },
     "output_type": "display_data"
    },
    {
     "name": "stdout",
     "output_type": "stream",
     "text": [
      "\r",
      "Shuffling and writing examples to /content/drive/My Drive/Colab Notebooks/teaching/gwu/machine_learning_I/code/p3_deep_learning/p3_c2_supervised_learning/p3_c2_s3_convolutional_neural_networks/code_example//data/cifar10/3.0.2.incompleteJLIMZO/cifar10-train.tfrecord\n"
     ]
    },
    {
     "data": {
      "application/vnd.jupyter.widget-view+json": {
       "model_id": "0fa055b4a2034916ab7474f18be62a46",
       "version_major": 2,
       "version_minor": 0
      },
      "text/plain": [
       "HBox(children=(FloatProgress(value=0.0, max=50000.0), HTML(value='')))"
      ]
     },
     "metadata": {
      "tags": []
     },
     "output_type": "display_data"
    },
    {
     "name": "stdout",
     "output_type": "stream",
     "text": [
      "\r"
     ]
    },
    {
     "data": {
      "application/vnd.jupyter.widget-view+json": {
       "model_id": "f2cd55606b254cefa9908aed32105fc5",
       "version_major": 2,
       "version_minor": 0
      },
      "text/plain": [
       "HBox(children=(FloatProgress(value=1.0, bar_style='info', max=1.0), HTML(value='')))"
      ]
     },
     "metadata": {
      "tags": []
     },
     "output_type": "display_data"
    },
    {
     "name": "stdout",
     "output_type": "stream",
     "text": [
      "\r",
      "Shuffling and writing examples to /content/drive/My Drive/Colab Notebooks/teaching/gwu/machine_learning_I/code/p3_deep_learning/p3_c2_supervised_learning/p3_c2_s3_convolutional_neural_networks/code_example//data/cifar10/3.0.2.incompleteJLIMZO/cifar10-test.tfrecord\n"
     ]
    },
    {
     "data": {
      "application/vnd.jupyter.widget-view+json": {
       "model_id": "f7fdbf550ed74d3bb8da42bf67f9f8d1",
       "version_major": 2,
       "version_minor": 0
      },
      "text/plain": [
       "HBox(children=(FloatProgress(value=0.0, max=10000.0), HTML(value='')))"
      ]
     },
     "metadata": {
      "tags": []
     },
     "output_type": "display_data"
    },
    {
     "name": "stdout",
     "output_type": "stream",
     "text": [
      "\u001b[1mDataset cifar10 downloaded and prepared to /content/drive/My Drive/Colab Notebooks/teaching/gwu/machine_learning_I/code/p3_deep_learning/p3_c2_supervised_learning/p3_c2_s3_convolutional_neural_networks/code_example//data/cifar10/3.0.2. Subsequent calls will reuse this data.\u001b[0m\n",
      "\r"
     ]
    }
   ],
   "source": [
    "import tensorflow_datasets as tfds\n",
    "\n",
    "# Get the name of the data\n",
    "data_name = 'cifar10'\n",
    "\n",
    "# Load data\n",
    "data, info = tfds.load(name=data_name,\n",
    "                       data_dir=abspath_curr + '/data/',\n",
    "                       as_supervised=True,\n",
    "                       with_info=True)"
   ]
  },
  {
   "cell_type": "markdown",
   "metadata": {
    "id": "yvIqSuZUVBb8"
   },
   "source": [
    "## Getting the name of the target"
   ]
  },
  {
   "cell_type": "code",
   "execution_count": 9,
   "metadata": {
    "executionInfo": {
     "elapsed": 77021,
     "status": "ok",
     "timestamp": 1604890939528,
     "user": {
      "displayName": "Huang Yuxiao",
      "photoUrl": "",
      "userId": "05167076769245149404"
     },
     "user_tz": 300
    },
    "id": "AF5gbpOWVElL"
   },
   "outputs": [],
   "source": [
    "target = 'label'"
   ]
  },
  {
   "cell_type": "markdown",
   "metadata": {
    "id": "ugddFhUgVGWq"
   },
   "source": [
    "## Getting the info"
   ]
  },
  {
   "cell_type": "code",
   "execution_count": 10,
   "metadata": {
    "colab": {
     "base_uri": "https://localhost:8080/"
    },
    "executionInfo": {
     "elapsed": 77009,
     "status": "ok",
     "timestamp": 1604890939528,
     "user": {
      "displayName": "Huang Yuxiao",
      "photoUrl": "",
      "userId": "05167076769245149404"
     },
     "user_tz": 300
    },
    "id": "A85zWEqMjP5E",
    "outputId": "c592059c-f0a1-4e87-f67c-f970ee0a5a92"
   },
   "outputs": [
    {
     "data": {
      "text/plain": [
       "{'test': <tfds.core.SplitInfo num_examples=10000>,\n",
       " 'train': <tfds.core.SplitInfo num_examples=50000>}"
      ]
     },
     "execution_count": 10,
     "metadata": {
      "tags": []
     },
     "output_type": "execute_result"
    }
   ],
   "source": [
    "# Print the splits\n",
    "info.splits"
   ]
  },
  {
   "cell_type": "code",
   "execution_count": 11,
   "metadata": {
    "colab": {
     "base_uri": "https://localhost:8080/"
    },
    "executionInfo": {
     "elapsed": 76997,
     "status": "ok",
     "timestamp": 1604890939529,
     "user": {
      "displayName": "Huang Yuxiao",
      "photoUrl": "",
      "userId": "05167076769245149404"
     },
     "user_tz": 300
    },
    "id": "vsSHR38vjL1G",
    "outputId": "340c36e3-eefa-4872-c322-33576755fbb0"
   },
   "outputs": [
    {
     "data": {
      "text/plain": [
       "['airplane',\n",
       " 'automobile',\n",
       " 'bird',\n",
       " 'cat',\n",
       " 'deer',\n",
       " 'dog',\n",
       " 'frog',\n",
       " 'horse',\n",
       " 'ship',\n",
       " 'truck']"
      ]
     },
     "execution_count": 11,
     "metadata": {
      "tags": []
     },
     "output_type": "execute_result"
    }
   ],
   "source": [
    "# Get the classes\n",
    "classes = info.features['label'].names\n",
    "\n",
    "# Print the classes\n",
    "classes"
   ]
  },
  {
   "cell_type": "code",
   "execution_count": 12,
   "metadata": {
    "colab": {
     "base_uri": "https://localhost:8080/"
    },
    "executionInfo": {
     "elapsed": 76984,
     "status": "ok",
     "timestamp": 1604890939529,
     "user": {
      "displayName": "Huang Yuxiao",
      "photoUrl": "",
      "userId": "05167076769245149404"
     },
     "user_tz": 300
    },
    "id": "hD0wa74kS_53",
    "outputId": "a4eff453-70a8-4c0f-a8b1-25b20ff4fb11"
   },
   "outputs": [
    {
     "data": {
      "text/plain": [
       "10"
      ]
     },
     "execution_count": 12,
     "metadata": {
      "tags": []
     },
     "output_type": "execute_result"
    }
   ],
   "source": [
    "# Get the number of classes\n",
    "n_classes = info.features['label'].num_classes\n",
    "\n",
    "# Print the number of classes\n",
    "info.features['label'].num_classes"
   ]
  },
  {
   "cell_type": "markdown",
   "metadata": {
    "id": "jGLoCbmO4AN9"
   },
   "source": [
    "## Getting the training, validation and test data"
   ]
  },
  {
   "cell_type": "code",
   "execution_count": 13,
   "metadata": {
    "executionInfo": {
     "elapsed": 77196,
     "status": "ok",
     "timestamp": 1604890939743,
     "user": {
      "displayName": "Huang Yuxiao",
      "photoUrl": "",
      "userId": "05167076769245149404"
     },
     "user_tz": 300
    },
    "id": "a2P4L1vS4AN_"
   },
   "outputs": [],
   "source": [
    "# Set the training, validation and test split\n",
    "split_train, split_valid, split_test = 'train[:70%]', 'train[70%:]', 'test'\n",
    "\n",
    "# Get the training data\n",
    "data_train = tfds.load(name=data_name,\n",
    "                       split=split_train,\n",
    "                       data_dir=abspath_curr + '/data/',\n",
    "                       as_supervised=True)\n",
    "\n",
    "# Get the validation data\n",
    "data_valid = tfds.load(name=data_name,\n",
    "                       split=split_valid,\n",
    "                       data_dir=abspath_curr + '/data/',\n",
    "                       as_supervised=True)\n",
    "\n",
    "# Get the test data\n",
    "data_test = tfds.load(name=data_name,\n",
    "                      split=split_test,\n",
    "                      data_dir=abspath_curr + '/data/',\n",
    "                      as_supervised=True)"
   ]
  },
  {
   "cell_type": "markdown",
   "metadata": {
    "id": "b3zPpOR4fZjA"
   },
   "source": [
    "## Resizing the data for pretrained model"
   ]
  },
  {
   "cell_type": "code",
   "execution_count": 14,
   "metadata": {
    "executionInfo": {
     "elapsed": 77195,
     "status": "ok",
     "timestamp": 1604890939743,
     "user": {
      "displayName": "Huang Yuxiao",
      "photoUrl": "",
      "userId": "05167076769245149404"
     },
     "user_tz": 300
    },
    "id": "16kuv2xPhvVU"
   },
   "outputs": [],
   "source": [
    "# Set the default input size for the pretrained model\n",
    "global input_size\n",
    "input_size = [224, 224]"
   ]
  },
  {
   "cell_type": "code",
   "execution_count": 15,
   "metadata": {
    "executionInfo": {
     "elapsed": 77194,
     "status": "ok",
     "timestamp": 1604890939744,
     "user": {
      "displayName": "Huang Yuxiao",
      "photoUrl": "",
      "userId": "05167076769245149404"
     },
     "user_tz": 300
    },
    "id": "oSEHIJaBC3FC"
   },
   "outputs": [],
   "source": [
    "# Resize the training data\n",
    "data_train = data_train.map(resize)\n",
    "\n",
    "# Resize the validation data\n",
    "data_valid = data_valid.map(resize)\n",
    "\n",
    "# Resize the test data\n",
    "data_test = data_test.map(resize)"
   ]
  },
  {
   "cell_type": "markdown",
   "metadata": {
    "id": "RU-V2HPPcz3P"
   },
   "source": [
    "## Preprocessing the data using pretrained model"
   ]
  },
  {
   "cell_type": "code",
   "execution_count": 16,
   "metadata": {
    "executionInfo": {
     "elapsed": 77383,
     "status": "ok",
     "timestamp": 1604890939934,
     "user": {
      "displayName": "Huang Yuxiao",
      "photoUrl": "",
      "userId": "05167076769245149404"
     },
     "user_tz": 300
    },
    "id": "L0_iVsLqdbV3"
   },
   "outputs": [],
   "source": [
    "# Set the preprocess_input of the pretrained model\n",
    "global preprocess_input\n",
    "preprocess_input = tf.keras.applications.resnet.preprocess_input"
   ]
  },
  {
   "cell_type": "code",
   "execution_count": 17,
   "metadata": {
    "executionInfo": {
     "elapsed": 77381,
     "status": "ok",
     "timestamp": 1604890939935,
     "user": {
      "displayName": "Huang Yuxiao",
      "photoUrl": "",
      "userId": "05167076769245149404"
     },
     "user_tz": 300
    },
    "id": "Y0bbTGosufVb"
   },
   "outputs": [],
   "source": [
    "# Preprocess the training data using pretrained model\n",
    "data_train = data_train.map(preprocess_pretrain)\n",
    "\n",
    "# Preprocess the validation data using pretrained model\n",
    "data_valid = data_valid.map(preprocess_pretrain)\n",
    "\n",
    "# Preprocess the test data using pretrained model\n",
    "data_test = data_test.map(preprocess_pretrain)"
   ]
  },
  {
   "cell_type": "markdown",
   "metadata": {
    "id": "HBWxnpc8z6Uf"
   },
   "source": [
    "## Shuffling, batching and prefetching the data"
   ]
  },
  {
   "cell_type": "code",
   "execution_count": 18,
   "metadata": {
    "executionInfo": {
     "elapsed": 77380,
     "status": "ok",
     "timestamp": 1604890939935,
     "user": {
      "displayName": "Huang Yuxiao",
      "photoUrl": "",
      "userId": "05167076769245149404"
     },
     "user_tz": 300
    },
    "id": "SddkzxMfz8Az"
   },
   "outputs": [],
   "source": [
    "# Shuffling the training data\n",
    "data_train = data_train.shuffle(buffer_size=1000, seed=random_seed)\n",
    "\n",
    "# Set the batch size\n",
    "batch_size = 16\n",
    "\n",
    "# Batch and prefetch the training data\n",
    "data_train = data_train.batch(batch_size).prefetch(1)\n",
    "\n",
    "# Batch and prefetch the validation data\n",
    "data_valid = data_valid.batch(batch_size).prefetch(1)\n",
    "\n",
    "# Batch and prefetch the test data\n",
    "data_test = data_test.batch(batch_size).prefetch(1)"
   ]
  },
  {
   "cell_type": "markdown",
   "metadata": {
    "id": "rMLlv9xK4AO9"
   },
   "source": [
    "# Training"
   ]
  },
  {
   "cell_type": "markdown",
   "metadata": {
    "id": "5l3DrD9e8g5_"
   },
   "source": [
    "## Creating the directory for the model"
   ]
  },
  {
   "cell_type": "code",
   "execution_count": 19,
   "metadata": {
    "executionInfo": {
     "elapsed": 77379,
     "status": "ok",
     "timestamp": 1604890939936,
     "user": {
      "displayName": "Huang Yuxiao",
      "photoUrl": "",
      "userId": "05167076769245149404"
     },
     "user_tz": 300
    },
    "id": "qIxF9lEh8p7y"
   },
   "outputs": [],
   "source": [
    "# Make directory\n",
    "directory = os.path.dirname(abspath_curr + '/result/model/')\n",
    "if not os.path.exists(directory):\n",
    "    os.makedirs(directory)"
   ]
  },
  {
   "cell_type": "markdown",
   "metadata": {
    "id": "qIWW5z5WUQa8"
   },
   "source": [
    "## Building the architecture of the model"
   ]
  },
  {
   "cell_type": "code",
   "execution_count": 20,
   "metadata": {
    "colab": {
     "base_uri": "https://localhost:8080/"
    },
    "executionInfo": {
     "elapsed": 80345,
     "status": "ok",
     "timestamp": 1604890942915,
     "user": {
      "displayName": "Huang Yuxiao",
      "photoUrl": "",
      "userId": "05167076769245149404"
     },
     "user_tz": 300
    },
    "id": "jl1jL5exfwz9",
    "outputId": "9f5b4404-2cef-45fa-bcd6-f2d8eb13b529"
   },
   "outputs": [
    {
     "name": "stdout",
     "output_type": "stream",
     "text": [
      "Downloading data from https://storage.googleapis.com/tensorflow/keras-applications/resnet/resnet50_weights_tf_dim_ordering_tf_kernels_notop.h5\n",
      "94773248/94765736 [==============================] - 1s 0us/step\n",
      "Model: \"functional_1\"\n",
      "__________________________________________________________________________________________________\n",
      "Layer (type)                    Output Shape         Param #     Connected to                     \n",
      "==================================================================================================\n",
      "input_1 (InputLayer)            [(None, None, None,  0                                            \n",
      "__________________________________________________________________________________________________\n",
      "conv1_pad (ZeroPadding2D)       (None, None, None, 3 0           input_1[0][0]                    \n",
      "__________________________________________________________________________________________________\n",
      "conv1_conv (Conv2D)             (None, None, None, 6 9472        conv1_pad[0][0]                  \n",
      "__________________________________________________________________________________________________\n",
      "conv1_bn (BatchNormalization)   (None, None, None, 6 256         conv1_conv[0][0]                 \n",
      "__________________________________________________________________________________________________\n",
      "conv1_relu (Activation)         (None, None, None, 6 0           conv1_bn[0][0]                   \n",
      "__________________________________________________________________________________________________\n",
      "pool1_pad (ZeroPadding2D)       (None, None, None, 6 0           conv1_relu[0][0]                 \n",
      "__________________________________________________________________________________________________\n",
      "pool1_pool (MaxPooling2D)       (None, None, None, 6 0           pool1_pad[0][0]                  \n",
      "__________________________________________________________________________________________________\n",
      "conv2_block1_1_conv (Conv2D)    (None, None, None, 6 4160        pool1_pool[0][0]                 \n",
      "__________________________________________________________________________________________________\n",
      "conv2_block1_1_bn (BatchNormali (None, None, None, 6 256         conv2_block1_1_conv[0][0]        \n",
      "__________________________________________________________________________________________________\n",
      "conv2_block1_1_relu (Activation (None, None, None, 6 0           conv2_block1_1_bn[0][0]          \n",
      "__________________________________________________________________________________________________\n",
      "conv2_block1_2_conv (Conv2D)    (None, None, None, 6 36928       conv2_block1_1_relu[0][0]        \n",
      "__________________________________________________________________________________________________\n",
      "conv2_block1_2_bn (BatchNormali (None, None, None, 6 256         conv2_block1_2_conv[0][0]        \n",
      "__________________________________________________________________________________________________\n",
      "conv2_block1_2_relu (Activation (None, None, None, 6 0           conv2_block1_2_bn[0][0]          \n",
      "__________________________________________________________________________________________________\n",
      "conv2_block1_0_conv (Conv2D)    (None, None, None, 2 16640       pool1_pool[0][0]                 \n",
      "__________________________________________________________________________________________________\n",
      "conv2_block1_3_conv (Conv2D)    (None, None, None, 2 16640       conv2_block1_2_relu[0][0]        \n",
      "__________________________________________________________________________________________________\n",
      "conv2_block1_0_bn (BatchNormali (None, None, None, 2 1024        conv2_block1_0_conv[0][0]        \n",
      "__________________________________________________________________________________________________\n",
      "conv2_block1_3_bn (BatchNormali (None, None, None, 2 1024        conv2_block1_3_conv[0][0]        \n",
      "__________________________________________________________________________________________________\n",
      "conv2_block1_add (Add)          (None, None, None, 2 0           conv2_block1_0_bn[0][0]          \n",
      "                                                                 conv2_block1_3_bn[0][0]          \n",
      "__________________________________________________________________________________________________\n",
      "conv2_block1_out (Activation)   (None, None, None, 2 0           conv2_block1_add[0][0]           \n",
      "__________________________________________________________________________________________________\n",
      "conv2_block2_1_conv (Conv2D)    (None, None, None, 6 16448       conv2_block1_out[0][0]           \n",
      "__________________________________________________________________________________________________\n",
      "conv2_block2_1_bn (BatchNormali (None, None, None, 6 256         conv2_block2_1_conv[0][0]        \n",
      "__________________________________________________________________________________________________\n",
      "conv2_block2_1_relu (Activation (None, None, None, 6 0           conv2_block2_1_bn[0][0]          \n",
      "__________________________________________________________________________________________________\n",
      "conv2_block2_2_conv (Conv2D)    (None, None, None, 6 36928       conv2_block2_1_relu[0][0]        \n",
      "__________________________________________________________________________________________________\n",
      "conv2_block2_2_bn (BatchNormali (None, None, None, 6 256         conv2_block2_2_conv[0][0]        \n",
      "__________________________________________________________________________________________________\n",
      "conv2_block2_2_relu (Activation (None, None, None, 6 0           conv2_block2_2_bn[0][0]          \n",
      "__________________________________________________________________________________________________\n",
      "conv2_block2_3_conv (Conv2D)    (None, None, None, 2 16640       conv2_block2_2_relu[0][0]        \n",
      "__________________________________________________________________________________________________\n",
      "conv2_block2_3_bn (BatchNormali (None, None, None, 2 1024        conv2_block2_3_conv[0][0]        \n",
      "__________________________________________________________________________________________________\n",
      "conv2_block2_add (Add)          (None, None, None, 2 0           conv2_block1_out[0][0]           \n",
      "                                                                 conv2_block2_3_bn[0][0]          \n",
      "__________________________________________________________________________________________________\n",
      "conv2_block2_out (Activation)   (None, None, None, 2 0           conv2_block2_add[0][0]           \n",
      "__________________________________________________________________________________________________\n",
      "conv2_block3_1_conv (Conv2D)    (None, None, None, 6 16448       conv2_block2_out[0][0]           \n",
      "__________________________________________________________________________________________________\n",
      "conv2_block3_1_bn (BatchNormali (None, None, None, 6 256         conv2_block3_1_conv[0][0]        \n",
      "__________________________________________________________________________________________________\n",
      "conv2_block3_1_relu (Activation (None, None, None, 6 0           conv2_block3_1_bn[0][0]          \n",
      "__________________________________________________________________________________________________\n",
      "conv2_block3_2_conv (Conv2D)    (None, None, None, 6 36928       conv2_block3_1_relu[0][0]        \n",
      "__________________________________________________________________________________________________\n",
      "conv2_block3_2_bn (BatchNormali (None, None, None, 6 256         conv2_block3_2_conv[0][0]        \n",
      "__________________________________________________________________________________________________\n",
      "conv2_block3_2_relu (Activation (None, None, None, 6 0           conv2_block3_2_bn[0][0]          \n",
      "__________________________________________________________________________________________________\n",
      "conv2_block3_3_conv (Conv2D)    (None, None, None, 2 16640       conv2_block3_2_relu[0][0]        \n",
      "__________________________________________________________________________________________________\n",
      "conv2_block3_3_bn (BatchNormali (None, None, None, 2 1024        conv2_block3_3_conv[0][0]        \n",
      "__________________________________________________________________________________________________\n",
      "conv2_block3_add (Add)          (None, None, None, 2 0           conv2_block2_out[0][0]           \n",
      "                                                                 conv2_block3_3_bn[0][0]          \n",
      "__________________________________________________________________________________________________\n",
      "conv2_block3_out (Activation)   (None, None, None, 2 0           conv2_block3_add[0][0]           \n",
      "__________________________________________________________________________________________________\n",
      "conv3_block1_1_conv (Conv2D)    (None, None, None, 1 32896       conv2_block3_out[0][0]           \n",
      "__________________________________________________________________________________________________\n",
      "conv3_block1_1_bn (BatchNormali (None, None, None, 1 512         conv3_block1_1_conv[0][0]        \n",
      "__________________________________________________________________________________________________\n",
      "conv3_block1_1_relu (Activation (None, None, None, 1 0           conv3_block1_1_bn[0][0]          \n",
      "__________________________________________________________________________________________________\n",
      "conv3_block1_2_conv (Conv2D)    (None, None, None, 1 147584      conv3_block1_1_relu[0][0]        \n",
      "__________________________________________________________________________________________________\n",
      "conv3_block1_2_bn (BatchNormali (None, None, None, 1 512         conv3_block1_2_conv[0][0]        \n",
      "__________________________________________________________________________________________________\n",
      "conv3_block1_2_relu (Activation (None, None, None, 1 0           conv3_block1_2_bn[0][0]          \n",
      "__________________________________________________________________________________________________\n",
      "conv3_block1_0_conv (Conv2D)    (None, None, None, 5 131584      conv2_block3_out[0][0]           \n",
      "__________________________________________________________________________________________________\n",
      "conv3_block1_3_conv (Conv2D)    (None, None, None, 5 66048       conv3_block1_2_relu[0][0]        \n",
      "__________________________________________________________________________________________________\n",
      "conv3_block1_0_bn (BatchNormali (None, None, None, 5 2048        conv3_block1_0_conv[0][0]        \n",
      "__________________________________________________________________________________________________\n",
      "conv3_block1_3_bn (BatchNormali (None, None, None, 5 2048        conv3_block1_3_conv[0][0]        \n",
      "__________________________________________________________________________________________________\n",
      "conv3_block1_add (Add)          (None, None, None, 5 0           conv3_block1_0_bn[0][0]          \n",
      "                                                                 conv3_block1_3_bn[0][0]          \n",
      "__________________________________________________________________________________________________\n",
      "conv3_block1_out (Activation)   (None, None, None, 5 0           conv3_block1_add[0][0]           \n",
      "__________________________________________________________________________________________________\n",
      "conv3_block2_1_conv (Conv2D)    (None, None, None, 1 65664       conv3_block1_out[0][0]           \n",
      "__________________________________________________________________________________________________\n",
      "conv3_block2_1_bn (BatchNormali (None, None, None, 1 512         conv3_block2_1_conv[0][0]        \n",
      "__________________________________________________________________________________________________\n",
      "conv3_block2_1_relu (Activation (None, None, None, 1 0           conv3_block2_1_bn[0][0]          \n",
      "__________________________________________________________________________________________________\n",
      "conv3_block2_2_conv (Conv2D)    (None, None, None, 1 147584      conv3_block2_1_relu[0][0]        \n",
      "__________________________________________________________________________________________________\n",
      "conv3_block2_2_bn (BatchNormali (None, None, None, 1 512         conv3_block2_2_conv[0][0]        \n",
      "__________________________________________________________________________________________________\n",
      "conv3_block2_2_relu (Activation (None, None, None, 1 0           conv3_block2_2_bn[0][0]          \n",
      "__________________________________________________________________________________________________\n",
      "conv3_block2_3_conv (Conv2D)    (None, None, None, 5 66048       conv3_block2_2_relu[0][0]        \n",
      "__________________________________________________________________________________________________\n",
      "conv3_block2_3_bn (BatchNormali (None, None, None, 5 2048        conv3_block2_3_conv[0][0]        \n",
      "__________________________________________________________________________________________________\n",
      "conv3_block2_add (Add)          (None, None, None, 5 0           conv3_block1_out[0][0]           \n",
      "                                                                 conv3_block2_3_bn[0][0]          \n",
      "__________________________________________________________________________________________________\n",
      "conv3_block2_out (Activation)   (None, None, None, 5 0           conv3_block2_add[0][0]           \n",
      "__________________________________________________________________________________________________\n",
      "conv3_block3_1_conv (Conv2D)    (None, None, None, 1 65664       conv3_block2_out[0][0]           \n",
      "__________________________________________________________________________________________________\n",
      "conv3_block3_1_bn (BatchNormali (None, None, None, 1 512         conv3_block3_1_conv[0][0]        \n",
      "__________________________________________________________________________________________________\n",
      "conv3_block3_1_relu (Activation (None, None, None, 1 0           conv3_block3_1_bn[0][0]          \n",
      "__________________________________________________________________________________________________\n",
      "conv3_block3_2_conv (Conv2D)    (None, None, None, 1 147584      conv3_block3_1_relu[0][0]        \n",
      "__________________________________________________________________________________________________\n",
      "conv3_block3_2_bn (BatchNormali (None, None, None, 1 512         conv3_block3_2_conv[0][0]        \n",
      "__________________________________________________________________________________________________\n",
      "conv3_block3_2_relu (Activation (None, None, None, 1 0           conv3_block3_2_bn[0][0]          \n",
      "__________________________________________________________________________________________________\n",
      "conv3_block3_3_conv (Conv2D)    (None, None, None, 5 66048       conv3_block3_2_relu[0][0]        \n",
      "__________________________________________________________________________________________________\n",
      "conv3_block3_3_bn (BatchNormali (None, None, None, 5 2048        conv3_block3_3_conv[0][0]        \n",
      "__________________________________________________________________________________________________\n",
      "conv3_block3_add (Add)          (None, None, None, 5 0           conv3_block2_out[0][0]           \n",
      "                                                                 conv3_block3_3_bn[0][0]          \n",
      "__________________________________________________________________________________________________\n",
      "conv3_block3_out (Activation)   (None, None, None, 5 0           conv3_block3_add[0][0]           \n",
      "__________________________________________________________________________________________________\n",
      "conv3_block4_1_conv (Conv2D)    (None, None, None, 1 65664       conv3_block3_out[0][0]           \n",
      "__________________________________________________________________________________________________\n",
      "conv3_block4_1_bn (BatchNormali (None, None, None, 1 512         conv3_block4_1_conv[0][0]        \n",
      "__________________________________________________________________________________________________\n",
      "conv3_block4_1_relu (Activation (None, None, None, 1 0           conv3_block4_1_bn[0][0]          \n",
      "__________________________________________________________________________________________________\n",
      "conv3_block4_2_conv (Conv2D)    (None, None, None, 1 147584      conv3_block4_1_relu[0][0]        \n",
      "__________________________________________________________________________________________________\n",
      "conv3_block4_2_bn (BatchNormali (None, None, None, 1 512         conv3_block4_2_conv[0][0]        \n",
      "__________________________________________________________________________________________________\n",
      "conv3_block4_2_relu (Activation (None, None, None, 1 0           conv3_block4_2_bn[0][0]          \n",
      "__________________________________________________________________________________________________\n",
      "conv3_block4_3_conv (Conv2D)    (None, None, None, 5 66048       conv3_block4_2_relu[0][0]        \n",
      "__________________________________________________________________________________________________\n",
      "conv3_block4_3_bn (BatchNormali (None, None, None, 5 2048        conv3_block4_3_conv[0][0]        \n",
      "__________________________________________________________________________________________________\n",
      "conv3_block4_add (Add)          (None, None, None, 5 0           conv3_block3_out[0][0]           \n",
      "                                                                 conv3_block4_3_bn[0][0]          \n",
      "__________________________________________________________________________________________________\n",
      "conv3_block4_out (Activation)   (None, None, None, 5 0           conv3_block4_add[0][0]           \n",
      "__________________________________________________________________________________________________\n",
      "conv4_block1_1_conv (Conv2D)    (None, None, None, 2 131328      conv3_block4_out[0][0]           \n",
      "__________________________________________________________________________________________________\n",
      "conv4_block1_1_bn (BatchNormali (None, None, None, 2 1024        conv4_block1_1_conv[0][0]        \n",
      "__________________________________________________________________________________________________\n",
      "conv4_block1_1_relu (Activation (None, None, None, 2 0           conv4_block1_1_bn[0][0]          \n",
      "__________________________________________________________________________________________________\n",
      "conv4_block1_2_conv (Conv2D)    (None, None, None, 2 590080      conv4_block1_1_relu[0][0]        \n",
      "__________________________________________________________________________________________________\n",
      "conv4_block1_2_bn (BatchNormali (None, None, None, 2 1024        conv4_block1_2_conv[0][0]        \n",
      "__________________________________________________________________________________________________\n",
      "conv4_block1_2_relu (Activation (None, None, None, 2 0           conv4_block1_2_bn[0][0]          \n",
      "__________________________________________________________________________________________________\n",
      "conv4_block1_0_conv (Conv2D)    (None, None, None, 1 525312      conv3_block4_out[0][0]           \n",
      "__________________________________________________________________________________________________\n",
      "conv4_block1_3_conv (Conv2D)    (None, None, None, 1 263168      conv4_block1_2_relu[0][0]        \n",
      "__________________________________________________________________________________________________\n",
      "conv4_block1_0_bn (BatchNormali (None, None, None, 1 4096        conv4_block1_0_conv[0][0]        \n",
      "__________________________________________________________________________________________________\n",
      "conv4_block1_3_bn (BatchNormali (None, None, None, 1 4096        conv4_block1_3_conv[0][0]        \n",
      "__________________________________________________________________________________________________\n",
      "conv4_block1_add (Add)          (None, None, None, 1 0           conv4_block1_0_bn[0][0]          \n",
      "                                                                 conv4_block1_3_bn[0][0]          \n",
      "__________________________________________________________________________________________________\n",
      "conv4_block1_out (Activation)   (None, None, None, 1 0           conv4_block1_add[0][0]           \n",
      "__________________________________________________________________________________________________\n",
      "conv4_block2_1_conv (Conv2D)    (None, None, None, 2 262400      conv4_block1_out[0][0]           \n",
      "__________________________________________________________________________________________________\n",
      "conv4_block2_1_bn (BatchNormali (None, None, None, 2 1024        conv4_block2_1_conv[0][0]        \n",
      "__________________________________________________________________________________________________\n",
      "conv4_block2_1_relu (Activation (None, None, None, 2 0           conv4_block2_1_bn[0][0]          \n",
      "__________________________________________________________________________________________________\n",
      "conv4_block2_2_conv (Conv2D)    (None, None, None, 2 590080      conv4_block2_1_relu[0][0]        \n",
      "__________________________________________________________________________________________________\n",
      "conv4_block2_2_bn (BatchNormali (None, None, None, 2 1024        conv4_block2_2_conv[0][0]        \n",
      "__________________________________________________________________________________________________\n",
      "conv4_block2_2_relu (Activation (None, None, None, 2 0           conv4_block2_2_bn[0][0]          \n",
      "__________________________________________________________________________________________________\n",
      "conv4_block2_3_conv (Conv2D)    (None, None, None, 1 263168      conv4_block2_2_relu[0][0]        \n",
      "__________________________________________________________________________________________________\n",
      "conv4_block2_3_bn (BatchNormali (None, None, None, 1 4096        conv4_block2_3_conv[0][0]        \n",
      "__________________________________________________________________________________________________\n",
      "conv4_block2_add (Add)          (None, None, None, 1 0           conv4_block1_out[0][0]           \n",
      "                                                                 conv4_block2_3_bn[0][0]          \n",
      "__________________________________________________________________________________________________\n",
      "conv4_block2_out (Activation)   (None, None, None, 1 0           conv4_block2_add[0][0]           \n",
      "__________________________________________________________________________________________________\n",
      "conv4_block3_1_conv (Conv2D)    (None, None, None, 2 262400      conv4_block2_out[0][0]           \n",
      "__________________________________________________________________________________________________\n",
      "conv4_block3_1_bn (BatchNormali (None, None, None, 2 1024        conv4_block3_1_conv[0][0]        \n",
      "__________________________________________________________________________________________________\n",
      "conv4_block3_1_relu (Activation (None, None, None, 2 0           conv4_block3_1_bn[0][0]          \n",
      "__________________________________________________________________________________________________\n",
      "conv4_block3_2_conv (Conv2D)    (None, None, None, 2 590080      conv4_block3_1_relu[0][0]        \n",
      "__________________________________________________________________________________________________\n",
      "conv4_block3_2_bn (BatchNormali (None, None, None, 2 1024        conv4_block3_2_conv[0][0]        \n",
      "__________________________________________________________________________________________________\n",
      "conv4_block3_2_relu (Activation (None, None, None, 2 0           conv4_block3_2_bn[0][0]          \n",
      "__________________________________________________________________________________________________\n",
      "conv4_block3_3_conv (Conv2D)    (None, None, None, 1 263168      conv4_block3_2_relu[0][0]        \n",
      "__________________________________________________________________________________________________\n",
      "conv4_block3_3_bn (BatchNormali (None, None, None, 1 4096        conv4_block3_3_conv[0][0]        \n",
      "__________________________________________________________________________________________________\n",
      "conv4_block3_add (Add)          (None, None, None, 1 0           conv4_block2_out[0][0]           \n",
      "                                                                 conv4_block3_3_bn[0][0]          \n",
      "__________________________________________________________________________________________________\n",
      "conv4_block3_out (Activation)   (None, None, None, 1 0           conv4_block3_add[0][0]           \n",
      "__________________________________________________________________________________________________\n",
      "conv4_block4_1_conv (Conv2D)    (None, None, None, 2 262400      conv4_block3_out[0][0]           \n",
      "__________________________________________________________________________________________________\n",
      "conv4_block4_1_bn (BatchNormali (None, None, None, 2 1024        conv4_block4_1_conv[0][0]        \n",
      "__________________________________________________________________________________________________\n",
      "conv4_block4_1_relu (Activation (None, None, None, 2 0           conv4_block4_1_bn[0][0]          \n",
      "__________________________________________________________________________________________________\n",
      "conv4_block4_2_conv (Conv2D)    (None, None, None, 2 590080      conv4_block4_1_relu[0][0]        \n",
      "__________________________________________________________________________________________________\n",
      "conv4_block4_2_bn (BatchNormali (None, None, None, 2 1024        conv4_block4_2_conv[0][0]        \n",
      "__________________________________________________________________________________________________\n",
      "conv4_block4_2_relu (Activation (None, None, None, 2 0           conv4_block4_2_bn[0][0]          \n",
      "__________________________________________________________________________________________________\n",
      "conv4_block4_3_conv (Conv2D)    (None, None, None, 1 263168      conv4_block4_2_relu[0][0]        \n",
      "__________________________________________________________________________________________________\n",
      "conv4_block4_3_bn (BatchNormali (None, None, None, 1 4096        conv4_block4_3_conv[0][0]        \n",
      "__________________________________________________________________________________________________\n",
      "conv4_block4_add (Add)          (None, None, None, 1 0           conv4_block3_out[0][0]           \n",
      "                                                                 conv4_block4_3_bn[0][0]          \n",
      "__________________________________________________________________________________________________\n",
      "conv4_block4_out (Activation)   (None, None, None, 1 0           conv4_block4_add[0][0]           \n",
      "__________________________________________________________________________________________________\n",
      "conv4_block5_1_conv (Conv2D)    (None, None, None, 2 262400      conv4_block4_out[0][0]           \n",
      "__________________________________________________________________________________________________\n",
      "conv4_block5_1_bn (BatchNormali (None, None, None, 2 1024        conv4_block5_1_conv[0][0]        \n",
      "__________________________________________________________________________________________________\n",
      "conv4_block5_1_relu (Activation (None, None, None, 2 0           conv4_block5_1_bn[0][0]          \n",
      "__________________________________________________________________________________________________\n",
      "conv4_block5_2_conv (Conv2D)    (None, None, None, 2 590080      conv4_block5_1_relu[0][0]        \n",
      "__________________________________________________________________________________________________\n",
      "conv4_block5_2_bn (BatchNormali (None, None, None, 2 1024        conv4_block5_2_conv[0][0]        \n",
      "__________________________________________________________________________________________________\n",
      "conv4_block5_2_relu (Activation (None, None, None, 2 0           conv4_block5_2_bn[0][0]          \n",
      "__________________________________________________________________________________________________\n",
      "conv4_block5_3_conv (Conv2D)    (None, None, None, 1 263168      conv4_block5_2_relu[0][0]        \n",
      "__________________________________________________________________________________________________\n",
      "conv4_block5_3_bn (BatchNormali (None, None, None, 1 4096        conv4_block5_3_conv[0][0]        \n",
      "__________________________________________________________________________________________________\n",
      "conv4_block5_add (Add)          (None, None, None, 1 0           conv4_block4_out[0][0]           \n",
      "                                                                 conv4_block5_3_bn[0][0]          \n",
      "__________________________________________________________________________________________________\n",
      "conv4_block5_out (Activation)   (None, None, None, 1 0           conv4_block5_add[0][0]           \n",
      "__________________________________________________________________________________________________\n",
      "conv4_block6_1_conv (Conv2D)    (None, None, None, 2 262400      conv4_block5_out[0][0]           \n",
      "__________________________________________________________________________________________________\n",
      "conv4_block6_1_bn (BatchNormali (None, None, None, 2 1024        conv4_block6_1_conv[0][0]        \n",
      "__________________________________________________________________________________________________\n",
      "conv4_block6_1_relu (Activation (None, None, None, 2 0           conv4_block6_1_bn[0][0]          \n",
      "__________________________________________________________________________________________________\n",
      "conv4_block6_2_conv (Conv2D)    (None, None, None, 2 590080      conv4_block6_1_relu[0][0]        \n",
      "__________________________________________________________________________________________________\n",
      "conv4_block6_2_bn (BatchNormali (None, None, None, 2 1024        conv4_block6_2_conv[0][0]        \n",
      "__________________________________________________________________________________________________\n",
      "conv4_block6_2_relu (Activation (None, None, None, 2 0           conv4_block6_2_bn[0][0]          \n",
      "__________________________________________________________________________________________________\n",
      "conv4_block6_3_conv (Conv2D)    (None, None, None, 1 263168      conv4_block6_2_relu[0][0]        \n",
      "__________________________________________________________________________________________________\n",
      "conv4_block6_3_bn (BatchNormali (None, None, None, 1 4096        conv4_block6_3_conv[0][0]        \n",
      "__________________________________________________________________________________________________\n",
      "conv4_block6_add (Add)          (None, None, None, 1 0           conv4_block5_out[0][0]           \n",
      "                                                                 conv4_block6_3_bn[0][0]          \n",
      "__________________________________________________________________________________________________\n",
      "conv4_block6_out (Activation)   (None, None, None, 1 0           conv4_block6_add[0][0]           \n",
      "__________________________________________________________________________________________________\n",
      "conv5_block1_1_conv (Conv2D)    (None, None, None, 5 524800      conv4_block6_out[0][0]           \n",
      "__________________________________________________________________________________________________\n",
      "conv5_block1_1_bn (BatchNormali (None, None, None, 5 2048        conv5_block1_1_conv[0][0]        \n",
      "__________________________________________________________________________________________________\n",
      "conv5_block1_1_relu (Activation (None, None, None, 5 0           conv5_block1_1_bn[0][0]          \n",
      "__________________________________________________________________________________________________\n",
      "conv5_block1_2_conv (Conv2D)    (None, None, None, 5 2359808     conv5_block1_1_relu[0][0]        \n",
      "__________________________________________________________________________________________________\n",
      "conv5_block1_2_bn (BatchNormali (None, None, None, 5 2048        conv5_block1_2_conv[0][0]        \n",
      "__________________________________________________________________________________________________\n",
      "conv5_block1_2_relu (Activation (None, None, None, 5 0           conv5_block1_2_bn[0][0]          \n",
      "__________________________________________________________________________________________________\n",
      "conv5_block1_0_conv (Conv2D)    (None, None, None, 2 2099200     conv4_block6_out[0][0]           \n",
      "__________________________________________________________________________________________________\n",
      "conv5_block1_3_conv (Conv2D)    (None, None, None, 2 1050624     conv5_block1_2_relu[0][0]        \n",
      "__________________________________________________________________________________________________\n",
      "conv5_block1_0_bn (BatchNormali (None, None, None, 2 8192        conv5_block1_0_conv[0][0]        \n",
      "__________________________________________________________________________________________________\n",
      "conv5_block1_3_bn (BatchNormali (None, None, None, 2 8192        conv5_block1_3_conv[0][0]        \n",
      "__________________________________________________________________________________________________\n",
      "conv5_block1_add (Add)          (None, None, None, 2 0           conv5_block1_0_bn[0][0]          \n",
      "                                                                 conv5_block1_3_bn[0][0]          \n",
      "__________________________________________________________________________________________________\n",
      "conv5_block1_out (Activation)   (None, None, None, 2 0           conv5_block1_add[0][0]           \n",
      "__________________________________________________________________________________________________\n",
      "conv5_block2_1_conv (Conv2D)    (None, None, None, 5 1049088     conv5_block1_out[0][0]           \n",
      "__________________________________________________________________________________________________\n",
      "conv5_block2_1_bn (BatchNormali (None, None, None, 5 2048        conv5_block2_1_conv[0][0]        \n",
      "__________________________________________________________________________________________________\n",
      "conv5_block2_1_relu (Activation (None, None, None, 5 0           conv5_block2_1_bn[0][0]          \n",
      "__________________________________________________________________________________________________\n",
      "conv5_block2_2_conv (Conv2D)    (None, None, None, 5 2359808     conv5_block2_1_relu[0][0]        \n",
      "__________________________________________________________________________________________________\n",
      "conv5_block2_2_bn (BatchNormali (None, None, None, 5 2048        conv5_block2_2_conv[0][0]        \n",
      "__________________________________________________________________________________________________\n",
      "conv5_block2_2_relu (Activation (None, None, None, 5 0           conv5_block2_2_bn[0][0]          \n",
      "__________________________________________________________________________________________________\n",
      "conv5_block2_3_conv (Conv2D)    (None, None, None, 2 1050624     conv5_block2_2_relu[0][0]        \n",
      "__________________________________________________________________________________________________\n",
      "conv5_block2_3_bn (BatchNormali (None, None, None, 2 8192        conv5_block2_3_conv[0][0]        \n",
      "__________________________________________________________________________________________________\n",
      "conv5_block2_add (Add)          (None, None, None, 2 0           conv5_block1_out[0][0]           \n",
      "                                                                 conv5_block2_3_bn[0][0]          \n",
      "__________________________________________________________________________________________________\n",
      "conv5_block2_out (Activation)   (None, None, None, 2 0           conv5_block2_add[0][0]           \n",
      "__________________________________________________________________________________________________\n",
      "conv5_block3_1_conv (Conv2D)    (None, None, None, 5 1049088     conv5_block2_out[0][0]           \n",
      "__________________________________________________________________________________________________\n",
      "conv5_block3_1_bn (BatchNormali (None, None, None, 5 2048        conv5_block3_1_conv[0][0]        \n",
      "__________________________________________________________________________________________________\n",
      "conv5_block3_1_relu (Activation (None, None, None, 5 0           conv5_block3_1_bn[0][0]          \n",
      "__________________________________________________________________________________________________\n",
      "conv5_block3_2_conv (Conv2D)    (None, None, None, 5 2359808     conv5_block3_1_relu[0][0]        \n",
      "__________________________________________________________________________________________________\n",
      "conv5_block3_2_bn (BatchNormali (None, None, None, 5 2048        conv5_block3_2_conv[0][0]        \n",
      "__________________________________________________________________________________________________\n",
      "conv5_block3_2_relu (Activation (None, None, None, 5 0           conv5_block3_2_bn[0][0]          \n",
      "__________________________________________________________________________________________________\n",
      "conv5_block3_3_conv (Conv2D)    (None, None, None, 2 1050624     conv5_block3_2_relu[0][0]        \n",
      "__________________________________________________________________________________________________\n",
      "conv5_block3_3_bn (BatchNormali (None, None, None, 2 8192        conv5_block3_3_conv[0][0]        \n",
      "__________________________________________________________________________________________________\n",
      "conv5_block3_add (Add)          (None, None, None, 2 0           conv5_block2_out[0][0]           \n",
      "                                                                 conv5_block3_3_bn[0][0]          \n",
      "__________________________________________________________________________________________________\n",
      "conv5_block3_out (Activation)   (None, None, None, 2 0           conv5_block3_add[0][0]           \n",
      "__________________________________________________________________________________________________\n",
      "global_average_pooling2d (Globa (None, 2048)         0           conv5_block3_out[0][0]           \n",
      "__________________________________________________________________________________________________\n",
      "dense (Dense)                   (None, 10)           20490       global_average_pooling2d[0][0]   \n",
      "==================================================================================================\n",
      "Total params: 23,608,202\n",
      "Trainable params: 23,555,082\n",
      "Non-trainable params: 53,120\n",
      "__________________________________________________________________________________________________\n"
     ]
    }
   ],
   "source": [
    "# Add the pretrained layers\n",
    "pretrained_model = keras.applications.ResNet50(include_top=False, weights='imagenet')\n",
    "\n",
    "# Add GlobalAveragePooling2D layer\n",
    "average_pooling = keras.layers.GlobalAveragePooling2D()(pretrained_model.output)\n",
    "\n",
    "# Add the output layer\n",
    "output = keras.layers.Dense(n_classes, activation='softmax')(average_pooling)\n",
    "\n",
    "# Get the model\n",
    "model = keras.Model(inputs=pretrained_model.input, outputs=output)\n",
    "\n",
    "model.summary()"
   ]
  },
  {
   "cell_type": "markdown",
   "metadata": {
    "id": "uz_VacxGUTD3"
   },
   "source": [
    "## Freezing the pretrained layers"
   ]
  },
  {
   "cell_type": "code",
   "execution_count": 21,
   "metadata": {
    "executionInfo": {
     "elapsed": 80344,
     "status": "ok",
     "timestamp": 1604890942915,
     "user": {
      "displayName": "Huang Yuxiao",
      "photoUrl": "",
      "userId": "05167076769245149404"
     },
     "user_tz": 300
    },
    "id": "NEMUBOTmUXfu"
   },
   "outputs": [],
   "source": [
    "# For each layer in the pretrained model\n",
    "for layer in pretrained_model.layers:\n",
    "    # Freeze the layer\n",
    "    layer.trainable = False"
   ]
  },
  {
   "cell_type": "markdown",
   "metadata": {
    "id": "u9KTlbBT8EXs"
   },
   "source": [
    "## Setting Callbacks"
   ]
  },
  {
   "cell_type": "code",
   "execution_count": 22,
   "metadata": {
    "executionInfo": {
     "elapsed": 80343,
     "status": "ok",
     "timestamp": 1604890942916,
     "user": {
      "displayName": "Huang Yuxiao",
      "photoUrl": "",
      "userId": "05167076769245149404"
     },
     "user_tz": 300
    },
    "id": "5_iUDJLP8K44"
   },
   "outputs": [],
   "source": [
    "# ModelCheckpoint callback\n",
    "model_checkpoint_cb = keras.callbacks.ModelCheckpoint(filepath=abspath_curr + '/result/model/model.h5',\n",
    "                                                      save_best_only=True,\n",
    "                                                      save_weights_only=True)\n",
    "\n",
    "# EarlyStopping callback\n",
    "early_stopping_cb = keras.callbacks.EarlyStopping(patience=2,\n",
    "                                                  restore_best_weights=True)\n",
    "\n",
    "# ReduceLROnPlateau callback\n",
    "reduce_lr_on_plateau_cb = keras.callbacks.ReduceLROnPlateau(factor=0.1,\n",
    "                                                            patience=1)"
   ]
  },
  {
   "cell_type": "markdown",
   "metadata": {
    "id": "DyXyvsiQVXph"
   },
   "source": [
    "## Compiling the model\n",
    "Here we use the default learning rate of Adam optimizer."
   ]
  },
  {
   "cell_type": "code",
   "execution_count": 23,
   "metadata": {
    "executionInfo": {
     "elapsed": 80342,
     "status": "ok",
     "timestamp": 1604890942916,
     "user": {
      "displayName": "Huang Yuxiao",
      "photoUrl": "",
      "userId": "05167076769245149404"
     },
     "user_tz": 300
    },
    "id": "u0zAElDAVK3H"
   },
   "outputs": [],
   "source": [
    "# Compile the model\n",
    "model.compile(optimizer=keras.optimizers.Adam(learning_rate=0.01),\n",
    "              loss='sparse_categorical_crossentropy',    \n",
    "              metrics=['accuracy'])"
   ]
  },
  {
   "cell_type": "markdown",
   "metadata": {
    "id": "gLdyw9n_VzUb"
   },
   "source": [
    "## Training the model"
   ]
  },
  {
   "cell_type": "code",
   "execution_count": 24,
   "metadata": {
    "colab": {
     "base_uri": "https://localhost:8080/"
    },
    "executionInfo": {
     "elapsed": 959817,
     "status": "ok",
     "timestamp": 1604891822404,
     "user": {
      "displayName": "Huang Yuxiao",
      "photoUrl": "",
      "userId": "05167076769245149404"
     },
     "user_tz": 300
    },
    "id": "0lES5CBZV176",
    "outputId": "b1826a6e-625e-4e22-8047-dfb8c13d461e"
   },
   "outputs": [
    {
     "name": "stdout",
     "output_type": "stream",
     "text": [
      "Epoch 1/5\n",
      "2188/2188 [==============================] - 183s 83ms/step - loss: 1.7833 - accuracy: 0.8294 - val_loss: 1.5231 - val_accuracy: 0.8762\n",
      "Epoch 2/5\n",
      "2188/2188 [==============================] - 169s 77ms/step - loss: 1.6933 - accuracy: 0.8762 - val_loss: 2.4714 - val_accuracy: 0.8511\n",
      "Epoch 3/5\n",
      "2188/2188 [==============================] - 169s 77ms/step - loss: 0.7168 - accuracy: 0.9278 - val_loss: 1.2085 - val_accuracy: 0.9024\n",
      "Epoch 4/5\n",
      "2188/2188 [==============================] - 169s 77ms/step - loss: 0.4918 - accuracy: 0.9397 - val_loss: 1.0867 - val_accuracy: 0.9018\n",
      "Epoch 5/5\n",
      "2188/2188 [==============================] - 168s 77ms/step - loss: 0.3780 - accuracy: 0.9446 - val_loss: 0.9918 - val_accuracy: 0.9033\n"
     ]
    }
   ],
   "source": [
    "# Train, evaluate and save the best model\n",
    "history = model.fit(data_train,\n",
    "                    epochs=5,\n",
    "                    validation_data=data_valid,\n",
    "                    callbacks=[model_checkpoint_cb,\n",
    "                               early_stopping_cb,\n",
    "                               reduce_lr_on_plateau_cb])"
   ]
  },
  {
   "cell_type": "markdown",
   "metadata": {
    "id": "naOELFqc6pSB"
   },
   "source": [
    "## Plotting the learning curve"
   ]
  },
  {
   "cell_type": "markdown",
   "metadata": {
    "id": "-b-1nRnIgL0d"
   },
   "source": [
    "### Creating the directory for the figure"
   ]
  },
  {
   "cell_type": "code",
   "execution_count": 25,
   "metadata": {
    "executionInfo": {
     "elapsed": 959819,
     "status": "ok",
     "timestamp": 1604891822408,
     "user": {
      "displayName": "Huang Yuxiao",
      "photoUrl": "",
      "userId": "05167076769245149404"
     },
     "user_tz": 300
    },
    "id": "crm5bRITgT8Y"
   },
   "outputs": [],
   "source": [
    "# Make directory\n",
    "directory = os.path.dirname(abspath_curr + '/result/figure/')\n",
    "if not os.path.exists(directory):\n",
    "    os.makedirs(directory)"
   ]
  },
  {
   "cell_type": "code",
   "execution_count": 26,
   "metadata": {
    "colab": {
     "base_uri": "https://localhost:8080/",
     "height": 348
    },
    "executionInfo": {
     "elapsed": 960218,
     "status": "ok",
     "timestamp": 1604891822820,
     "user": {
      "displayName": "Huang Yuxiao",
      "photoUrl": "",
      "userId": "05167076769245149404"
     },
     "user_tz": 300
    },
    "id": "ZucB_4TQ4APW",
    "outputId": "a437b45c-549f-406c-eda7-3c4b8b17b1d9"
   },
   "outputs": [
    {
     "data": {
      "image/png": "[encoded data removed]",
      "text/plain": [
       "<Figure size 576x360 with 1 Axes>"
      ]
     },
     "metadata": {
      "needs_background": "light",
      "tags": []
     },
     "output_type": "display_data"
    }
   ],
   "source": [
    "import pandas as pd\n",
    "\n",
    "# Create a figure\n",
    "pd.DataFrame(history.history).plot(figsize=(8, 5))\n",
    "\n",
    "# Set grid\n",
    "plt.grid(True)\n",
    "\n",
    "# Save and show the figure\n",
    "plt.tight_layout()\n",
    "plt.savefig(abspath_curr + '/result/figure/learning_curve_before_unfreezing.pdf')\n",
    "plt.show()"
   ]
  },
  {
   "cell_type": "markdown",
   "metadata": {
    "id": "Ey_jrLDl0bn4"
   },
   "source": [
    "## Unfreezing the pretrained layers"
   ]
  },
  {
   "cell_type": "code",
   "execution_count": 27,
   "metadata": {
    "executionInfo": {
     "elapsed": 960218,
     "status": "ok",
     "timestamp": 1604891822822,
     "user": {
      "displayName": "Huang Yuxiao",
      "photoUrl": "",
      "userId": "05167076769245149404"
     },
     "user_tz": 300
    },
    "id": "ZFgtwWQ50aky"
   },
   "outputs": [],
   "source": [
    "# For each layer in the pretrained model\n",
    "for layer in pretrained_model.layers:\n",
    "    # Unfreeze the layer\n",
    "    layer.trainable = True"
   ]
  },
  {
   "cell_type": "markdown",
   "metadata": {
    "id": "kaNpWBGD2em3"
   },
   "source": [
    "## Compiling the model\n",
    "Here we use a lower learning rate (by a factor of 10) of Adam optimizer, so that it is less likely to compromise the pretrained weights."
   ]
  },
  {
   "cell_type": "code",
   "execution_count": 28,
   "metadata": {
    "executionInfo": {
     "elapsed": 960218,
     "status": "ok",
     "timestamp": 1604891822823,
     "user": {
      "displayName": "Huang Yuxiao",
      "photoUrl": "",
      "userId": "05167076769245149404"
     },
     "user_tz": 300
    },
    "id": "dPiXJrdW21o5"
   },
   "outputs": [],
   "source": [
    "# Compile the model\n",
    "model.compile(optimizer=keras.optimizers.Adam(learning_rate=0.001),\n",
    "              loss='sparse_categorical_crossentropy',\n",
    "              metrics=['accuracy'])"
   ]
  },
  {
   "cell_type": "markdown",
   "metadata": {
    "id": "4jF7fb1_3ypR"
   },
   "source": [
    "## Training the model"
   ]
  },
  {
   "cell_type": "code",
   "execution_count": 29,
   "metadata": {
    "colab": {
     "base_uri": "https://localhost:8080/"
    },
    "executionInfo": {
     "elapsed": 3135547,
     "status": "ok",
     "timestamp": 1604893998165,
     "user": {
      "displayName": "Huang Yuxiao",
      "photoUrl": "",
      "userId": "05167076769245149404"
     },
     "user_tz": 300
    },
    "id": "RV6dVNO532HU",
    "outputId": "f2615d0e-8708-47b4-aa37-628d16db455c"
   },
   "outputs": [
    {
     "name": "stdout",
     "output_type": "stream",
     "text": [
      "Epoch 1/5\n",
      "2188/2188 [==============================] - 432s 197ms/step - loss: 2.1585 - accuracy: 0.4383 - val_loss: 31.0862 - val_accuracy: 0.3986\n",
      "Epoch 2/5\n",
      "2188/2188 [==============================] - 431s 197ms/step - loss: 1.1653 - accuracy: 0.6034 - val_loss: 0.9360 - val_accuracy: 0.6892\n",
      "Epoch 3/5\n",
      "2188/2188 [==============================] - 430s 197ms/step - loss: 0.7599 - accuracy: 0.7416 - val_loss: 0.9951 - val_accuracy: 0.6759\n",
      "Epoch 4/5\n",
      "2188/2188 [==============================] - 432s 197ms/step - loss: 0.4205 - accuracy: 0.8593 - val_loss: 0.4229 - val_accuracy: 0.8560\n",
      "Epoch 5/5\n",
      "2188/2188 [==============================] - 432s 198ms/step - loss: 0.3060 - accuracy: 0.8988 - val_loss: 0.3918 - val_accuracy: 0.8702\n"
     ]
    }
   ],
   "source": [
    "# Train, evaluate and save the best model\n",
    "history = model.fit(data_train,\n",
    "                    epochs=5,\n",
    "                    validation_data=data_valid,\n",
    "                    callbacks=[model_checkpoint_cb,\n",
    "                               early_stopping_cb,\n",
    "                               reduce_lr_on_plateau_cb])"
   ]
  },
  {
   "cell_type": "markdown",
   "metadata": {
    "id": "jooIV3Tr38rw"
   },
   "source": [
    "## Plotting the learning curve"
   ]
  },
  {
   "cell_type": "code",
   "execution_count": 30,
   "metadata": {
    "colab": {
     "base_uri": "https://localhost:8080/",
     "height": 348
    },
    "executionInfo": {
     "elapsed": 3138691,
     "status": "ok",
     "timestamp": 1604894001321,
     "user": {
      "displayName": "Huang Yuxiao",
      "photoUrl": "",
      "userId": "05167076769245149404"
     },
     "user_tz": 300
    },
    "id": "ZdftIsbI3_nV",
    "outputId": "2228f839-abdc-44e4-89bf-80d4e5a43d81"
   },
   "outputs": [
    {
     "data": {
      "image/png": "[encoded data removed]",
      "text/plain": [
       "<Figure size 576x360 with 1 Axes>"
      ]
     },
     "metadata": {
      "needs_background": "light",
      "tags": []
     },
     "output_type": "display_data"
    }
   ],
   "source": [
    "# Create a figure\n",
    "pd.DataFrame(history.history).plot(figsize=(8, 5))\n",
    "\n",
    "# Set grid\n",
    "plt.grid(True)\n",
    "\n",
    "# Save and show the figure\n",
    "plt.tight_layout()\n",
    "plt.savefig(abspath_curr + '/result/figure/learning_curve_after_unfreezing.pdf')\n",
    "plt.show()"
   ]
  },
  {
   "cell_type": "markdown",
   "metadata": {
    "id": "IWVJ3KwUub-j"
   },
   "source": []
  },
  {
   "cell_type": "markdown",
   "metadata": {
    "id": "RkGivY_MA6m1"
   },
   "source": [
    "# Testing"
   ]
  },
  {
   "cell_type": "markdown",
   "metadata": {
    "id": "pjg97rxBvTsD"
   },
   "source": [
    "## Loading the saved model"
   ]
  },
  {
   "cell_type": "code",
   "execution_count": 31,
   "metadata": {
    "executionInfo": {
     "elapsed": 3138690,
     "status": "ok",
     "timestamp": 1604894001322,
     "user": {
      "displayName": "Huang Yuxiao",
      "photoUrl": "",
      "userId": "05167076769245149404"
     },
     "user_tz": 300
    },
    "id": "vWOYFg8BvYI9"
   },
   "outputs": [],
   "source": [
    "# Load the saved model\n",
    "model.load_weights(filepath=abspath_curr + '/result/model/model.h5')"
   ]
  },
  {
   "cell_type": "markdown",
   "metadata": {
    "id": "YAfOtSI7wajL"
   },
   "source": [
    "## Evaluating the model"
   ]
  },
  {
   "cell_type": "code",
   "execution_count": 32,
   "metadata": {
    "colab": {
     "base_uri": "https://localhost:8080/"
    },
    "executionInfo": {
     "elapsed": 3171167,
     "status": "ok",
     "timestamp": 1604894033812,
     "user": {
      "displayName": "Huang Yuxiao",
      "photoUrl": "",
      "userId": "05167076769245149404"
     },
     "user_tz": 300
    },
    "id": "aoJnAfYfYDjH",
    "outputId": "ec13f64c-69f0-48ee-e49b-986a9ea99e0d",
    "scrolled": true
   },
   "outputs": [
    {
     "name": "stdout",
     "output_type": "stream",
     "text": [
      "625/625 [==============================] - 32s 51ms/step - loss: 0.4117 - accuracy: 0.8622\n"
     ]
    }
   ],
   "source": [
    "loss, accuracy = model.evaluate(data_test)"
   ]
  },
  {
   "cell_type": "markdown",
   "metadata": {
    "id": "KeR3L0fsmq1G"
   },
   "source": [
    "# Reference\n",
    "- The code for building, compiling and training CNNs were largely inspired by the following work:\n",
    "    - Géron, A., 2019. *Hands-On Machine Learning with Scikit-Learn, Keras, and TensorFlow: Concepts, Tools, and Techniques to Build Intelligent Systems*. O'Reilly Media."
   ]
  }
 ],
 "metadata": {
  "accelerator": "GPU",
  "colab": {
   "collapsed_sections": [],
   "name": "case_study.ipynb",
   "provenance": []
  },
  "kernelspec": {
   "display_name": "Python 3",
   "language": "python",
   "name": "python3"
  },
  "language_info": {
   "codemirror_mode": {
    "name": "ipython",
    "version": 3
   },
   "file_extension": ".py",
   "mimetype": "text/x-python",
   "name": "python",
   "nbconvert_exporter": "python",
   "pygments_lexer": "ipython3",
   "version": "3.7.6"
  },
  "toc": {
   "base_numbering": 1,
   "nav_menu": {},
   "number_sections": true,
   "sideBar": true,
   "skip_h1_title": false,
   "title_cell": "Table of Contents",
   "title_sidebar": "Contents",
   "toc_cell": true,
   "toc_position": {},
   "toc_section_display": true,
   "toc_window_display": false
  },
  "widgets": {
   "application/vnd.jupyter.widget-state+json": {
    "0776d37070f04db3b3b0d23b37d00a68": {
     "model_module": "@jupyter-widgets/controls",
     "model_name": "DescriptionStyleModel",
     "state": {
      "_model_module": "@jupyter-widgets/controls",
      "_model_module_version": "1.5.0",
      "_model_name": "DescriptionStyleModel",
      "_view_count": null,
      "_view_module": "@jupyter-widgets/base",
      "_view_module_version": "1.2.0",
      "_view_name": "StyleView",
      "description_width": ""
     }
    },
    "0e585a71ec8a4a47b1427fe0d5202ed3": {
     "model_module": "@jupyter-widgets/controls",
     "model_name": "HTMLModel",
     "state": {
      "_dom_classes": [],
      "_model_module": "@jupyter-widgets/controls",
      "_model_module_version": "1.5.0",
      "_model_name": "HTMLModel",
      "_view_count": null,
      "_view_module": "@jupyter-widgets/controls",
      "_view_module_version": "1.5.0",
      "_view_name": "HTMLView",
      "description": "",
      "description_tooltip": null,
      "layout": "IPY_MODEL_a613c336ba354a40a1644899e659efb0",
      "placeholder": "​",
      "style": "IPY_MODEL_fdb5bb8ac41d44778b976be84185c5e0",
      "value": " 10000/0 [00:06&lt;00:00, 1618.97 examples/s]"
     }
    },
    "0fa055b4a2034916ab7474f18be62a46": {
     "model_module": "@jupyter-widgets/controls",
     "model_name": "HBoxModel",
     "state": {
      "_dom_classes": [],
      "_model_module": "@jupyter-widgets/controls",
      "_model_module_version": "1.5.0",
      "_model_name": "HBoxModel",
      "_view_count": null,
      "_view_module": "@jupyter-widgets/controls",
      "_view_module_version": "1.5.0",
      "_view_name": "HBoxView",
      "box_style": "",
      "children": [
       "IPY_MODEL_5e88015eadac45acb73c98106a91d802",
       "IPY_MODEL_f4dd52cfaf8e493bbd22857f9d0efe2f"
      ],
      "layout": "IPY_MODEL_c7fc1e8fd93a4baf8e1857dbfcf38942"
     }
    },
    "138e1fe2a47f44d1a79605d39f27cdb3": {
     "model_module": "@jupyter-widgets/controls",
     "model_name": "DescriptionStyleModel",
     "state": {
      "_model_module": "@jupyter-widgets/controls",
      "_model_module_version": "1.5.0",
      "_model_name": "DescriptionStyleModel",
      "_view_count": null,
      "_view_module": "@jupyter-widgets/base",
      "_view_module_version": "1.2.0",
      "_view_name": "StyleView",
      "description_width": ""
     }
    },
    "1976762e81bd4924a385395ee2f24741": {
     "model_module": "@jupyter-widgets/controls",
     "model_name": "HTMLModel",
     "state": {
      "_dom_classes": [],
      "_model_module": "@jupyter-widgets/controls",
      "_model_module_version": "1.5.0",
      "_model_name": "HTMLModel",
      "_view_count": null,
      "_view_module": "@jupyter-widgets/controls",
      "_view_module_version": "1.5.0",
      "_view_name": "HTMLView",
      "description": "",
      "description_tooltip": null,
      "layout": "IPY_MODEL_fae4f47ace864fa88f9e35698e7ca6f9",
      "placeholder": "​",
      "style": "IPY_MODEL_8de676b080e04f60862c4c7305683e19",
      "value": " 162/162 [00:09&lt;00:00, 16.73 MiB/s]"
     }
    },
    "219eda7ecf734698b1064165e425ad5f": {
     "model_module": "@jupyter-widgets/controls",
     "model_name": "HBoxModel",
     "state": {
      "_dom_classes": [],
      "_model_module": "@jupyter-widgets/controls",
      "_model_module_version": "1.5.0",
      "_model_name": "HBoxModel",
      "_view_count": null,
      "_view_module": "@jupyter-widgets/controls",
      "_view_module_version": "1.5.0",
      "_view_name": "HBoxView",
      "box_style": "",
      "children": [
       "IPY_MODEL_35531e98d1e54a10a571b0ba775e6632",
       "IPY_MODEL_1976762e81bd4924a385395ee2f24741"
      ],
      "layout": "IPY_MODEL_24a38baafdab45e7bd397672059c4c35"
     }
    },
    "2304f52d4c194a1ebcabd3f251009aa9": {
     "model_module": "@jupyter-widgets/controls",
     "model_name": "HBoxModel",
     "state": {
      "_dom_classes": [],
      "_model_module": "@jupyter-widgets/controls",
      "_model_module_version": "1.5.0",
      "_model_name": "HBoxModel",
      "_view_count": null,
      "_view_module": "@jupyter-widgets/controls",
      "_view_module_version": "1.5.0",
      "_view_name": "HBoxView",
      "box_style": "",
      "children": [
       "IPY_MODEL_62f4570bffb64022af77cecfce157ea7",
       "IPY_MODEL_b815ba61f09e441dbd81fdec88513276"
      ],
      "layout": "IPY_MODEL_81ea75b6fa4d42b486852bf38928458e"
     }
    },
    "24a38baafdab45e7bd397672059c4c35": {
     "model_module": "@jupyter-widgets/base",
     "model_name": "LayoutModel",
     "state": {
      "_model_module": "@jupyter-widgets/base",
      "_model_module_version": "1.2.0",
      "_model_name": "LayoutModel",
      "_view_count": null,
      "_view_module": "@jupyter-widgets/base",
      "_view_module_version": "1.2.0",
      "_view_name": "LayoutView",
      "align_content": null,
      "align_items": null,
      "align_self": null,
      "border": null,
      "bottom": null,
      "display": null,
      "flex": null,
      "flex_flow": null,
      "grid_area": null,
      "grid_auto_columns": null,
      "grid_auto_flow": null,
      "grid_auto_rows": null,
      "grid_column": null,
      "grid_gap": null,
      "grid_row": null,
      "grid_template_areas": null,
      "grid_template_columns": null,
      "grid_template_rows": null,
      "height": null,
      "justify_content": null,
      "justify_items": null,
      "left": null,
      "margin": null,
      "max_height": null,
      "max_width": null,
      "min_height": null,
      "min_width": null,
      "object_fit": null,
      "object_position": null,
      "order": null,
      "overflow": null,
      "overflow_x": null,
      "overflow_y": null,
      "padding": null,
      "right": null,
      "top": null,
      "visibility": null,
      "width": null
     }
    },
    "288ed7dac3c24d5c860eb9bf2bdac5d8": {
     "model_module": "@jupyter-widgets/controls",
     "model_name": "HTMLModel",
     "state": {
      "_dom_classes": [],
      "_model_module": "@jupyter-widgets/controls",
      "_model_module_version": "1.5.0",
      "_model_name": "HTMLModel",
      "_view_count": null,
      "_view_module": "@jupyter-widgets/controls",
      "_view_module_version": "1.5.0",
      "_view_name": "HTMLView",
      "description": "",
      "description_tooltip": null,
      "layout": "IPY_MODEL_8e1faf1a9cb242ae829ffed145594f50",
      "placeholder": "​",
      "style": "IPY_MODEL_0776d37070f04db3b3b0d23b37d00a68",
      "value": " 1/1 [00:09&lt;00:00,  9.64s/ file]"
     }
    },
    "3410359bc7a748f1834f38b92a0debd7": {
     "model_module": "@jupyter-widgets/controls",
     "model_name": "FloatProgressModel",
     "state": {
      "_dom_classes": [],
      "_model_module": "@jupyter-widgets/controls",
      "_model_module_version": "1.5.0",
      "_model_name": "FloatProgressModel",
      "_view_count": null,
      "_view_module": "@jupyter-widgets/controls",
      "_view_module_version": "1.5.0",
      "_view_name": "ProgressView",
      "bar_style": "success",
      "description": "Extraction completed...: 100%",
      "description_tooltip": null,
      "layout": "IPY_MODEL_ed08e896af174cd29f4a47dd0614a0ba",
      "max": 1,
      "min": 0,
      "orientation": "horizontal",
      "style": "IPY_MODEL_f09981c7391f465199ec7649531900bb",
      "value": 1
     }
    },
    "35531e98d1e54a10a571b0ba775e6632": {
     "model_module": "@jupyter-widgets/controls",
     "model_name": "FloatProgressModel",
     "state": {
      "_dom_classes": [],
      "_model_module": "@jupyter-widgets/controls",
      "_model_module_version": "1.5.0",
      "_model_name": "FloatProgressModel",
      "_view_count": null,
      "_view_module": "@jupyter-widgets/controls",
      "_view_module_version": "1.5.0",
      "_view_name": "ProgressView",
      "bar_style": "success",
      "description": "Dl Size...: 100%",
      "description_tooltip": null,
      "layout": "IPY_MODEL_475fc1674e6844d5a74df7770a24053b",
      "max": 1,
      "min": 0,
      "orientation": "horizontal",
      "style": "IPY_MODEL_8ae72ec021954d8384ff2e9ff5e2d924",
      "value": 1
     }
    },
    "3e947fe2ddb341e688465cb60c76502c": {
     "model_module": "@jupyter-widgets/controls",
     "model_name": "ProgressStyleModel",
     "state": {
      "_model_module": "@jupyter-widgets/controls",
      "_model_module_version": "1.5.0",
      "_model_name": "ProgressStyleModel",
      "_view_count": null,
      "_view_module": "@jupyter-widgets/base",
      "_view_module_version": "1.2.0",
      "_view_name": "StyleView",
      "bar_color": null,
      "description_width": "initial"
     }
    },
    "435c4c2cc4eb4eb588f9b665b2714234": {
     "model_module": "@jupyter-widgets/base",
     "model_name": "LayoutModel",
     "state": {
      "_model_module": "@jupyter-widgets/base",
      "_model_module_version": "1.2.0",
      "_model_name": "LayoutModel",
      "_view_count": null,
      "_view_module": "@jupyter-widgets/base",
      "_view_module_version": "1.2.0",
      "_view_name": "LayoutView",
      "align_content": null,
      "align_items": null,
      "align_self": null,
      "border": null,
      "bottom": null,
      "display": null,
      "flex": null,
      "flex_flow": null,
      "grid_area": null,
      "grid_auto_columns": null,
      "grid_auto_flow": null,
      "grid_auto_rows": null,
      "grid_column": null,
      "grid_gap": null,
      "grid_row": null,
      "grid_template_areas": null,
      "grid_template_columns": null,
      "grid_template_rows": null,
      "height": null,
      "justify_content": null,
      "justify_items": null,
      "left": null,
      "margin": null,
      "max_height": null,
      "max_width": null,
      "min_height": null,
      "min_width": null,
      "object_fit": null,
      "object_position": null,
      "order": null,
      "overflow": null,
      "overflow_x": null,
      "overflow_y": null,
      "padding": null,
      "right": null,
      "top": null,
      "visibility": null,
      "width": null
     }
    },
    "4446e7f70ba44f6195a24810dd6ebe29": {
     "model_module": "@jupyter-widgets/controls",
     "model_name": "ProgressStyleModel",
     "state": {
      "_model_module": "@jupyter-widgets/controls",
      "_model_module_version": "1.5.0",
      "_model_name": "ProgressStyleModel",
      "_view_count": null,
      "_view_module": "@jupyter-widgets/base",
      "_view_module_version": "1.2.0",
      "_view_name": "StyleView",
      "bar_color": null,
      "description_width": "initial"
     }
    },
    "475fc1674e6844d5a74df7770a24053b": {
     "model_module": "@jupyter-widgets/base",
     "model_name": "LayoutModel",
     "state": {
      "_model_module": "@jupyter-widgets/base",
      "_model_module_version": "1.2.0",
      "_model_name": "LayoutModel",
      "_view_count": null,
      "_view_module": "@jupyter-widgets/base",
      "_view_module_version": "1.2.0",
      "_view_name": "LayoutView",
      "align_content": null,
      "align_items": null,
      "align_self": null,
      "border": null,
      "bottom": null,
      "display": null,
      "flex": null,
      "flex_flow": null,
      "grid_area": null,
      "grid_auto_columns": null,
      "grid_auto_flow": null,
      "grid_auto_rows": null,
      "grid_column": null,
      "grid_gap": null,
      "grid_row": null,
      "grid_template_areas": null,
      "grid_template_columns": null,
      "grid_template_rows": null,
      "height": null,
      "justify_content": null,
      "justify_items": null,
      "left": null,
      "margin": null,
      "max_height": null,
      "max_width": null,
      "min_height": null,
      "min_width": null,
      "object_fit": null,
      "object_position": null,
      "order": null,
      "overflow": null,
      "overflow_x": null,
      "overflow_y": null,
      "padding": null,
      "right": null,
      "top": null,
      "visibility": null,
      "width": null
     }
    },
    "4835d1b4f3af423a8297b95849c137dc": {
     "model_module": "@jupyter-widgets/controls",
     "model_name": "HTMLModel",
     "state": {
      "_dom_classes": [],
      "_model_module": "@jupyter-widgets/controls",
      "_model_module_version": "1.5.0",
      "_model_name": "HTMLModel",
      "_view_count": null,
      "_view_module": "@jupyter-widgets/controls",
      "_view_module_version": "1.5.0",
      "_view_name": "HTMLView",
      "description": "",
      "description_tooltip": null,
      "layout": "IPY_MODEL_62954afa3d1a4eb7b40a0df0bba4f21a",
      "placeholder": "​",
      "style": "IPY_MODEL_6ba7db338f7946c6b5db6d0f14b3f22d",
      "value": " 50000/0 [00:36&lt;00:00, 1639.71 examples/s]"
     }
    },
    "4f3a1430e3674751989b765743119e55": {
     "model_module": "@jupyter-widgets/base",
     "model_name": "LayoutModel",
     "state": {
      "_model_module": "@jupyter-widgets/base",
      "_model_module_version": "1.2.0",
      "_model_name": "LayoutModel",
      "_view_count": null,
      "_view_module": "@jupyter-widgets/base",
      "_view_module_version": "1.2.0",
      "_view_name": "LayoutView",
      "align_content": null,
      "align_items": null,
      "align_self": null,
      "border": null,
      "bottom": null,
      "display": null,
      "flex": null,
      "flex_flow": null,
      "grid_area": null,
      "grid_auto_columns": null,
      "grid_auto_flow": null,
      "grid_auto_rows": null,
      "grid_column": null,
      "grid_gap": null,
      "grid_row": null,
      "grid_template_areas": null,
      "grid_template_columns": null,
      "grid_template_rows": null,
      "height": null,
      "justify_content": null,
      "justify_items": null,
      "left": null,
      "margin": null,
      "max_height": null,
      "max_width": null,
      "min_height": null,
      "min_width": null,
      "object_fit": null,
      "object_position": null,
      "order": null,
      "overflow": null,
      "overflow_x": null,
      "overflow_y": null,
      "padding": null,
      "right": null,
      "top": null,
      "visibility": null,
      "width": null
     }
    },
    "524d5e0e8447486c8b28bd76229be579": {
     "model_module": "@jupyter-widgets/base",
     "model_name": "LayoutModel",
     "state": {
      "_model_module": "@jupyter-widgets/base",
      "_model_module_version": "1.2.0",
      "_model_name": "LayoutModel",
      "_view_count": null,
      "_view_module": "@jupyter-widgets/base",
      "_view_module_version": "1.2.0",
      "_view_name": "LayoutView",
      "align_content": null,
      "align_items": null,
      "align_self": null,
      "border": null,
      "bottom": null,
      "display": null,
      "flex": null,
      "flex_flow": null,
      "grid_area": null,
      "grid_auto_columns": null,
      "grid_auto_flow": null,
      "grid_auto_rows": null,
      "grid_column": null,
      "grid_gap": null,
      "grid_row": null,
      "grid_template_areas": null,
      "grid_template_columns": null,
      "grid_template_rows": null,
      "height": null,
      "justify_content": null,
      "justify_items": null,
      "left": null,
      "margin": null,
      "max_height": null,
      "max_width": null,
      "min_height": null,
      "min_width": null,
      "object_fit": null,
      "object_position": null,
      "order": null,
      "overflow": null,
      "overflow_x": null,
      "overflow_y": null,
      "padding": null,
      "right": null,
      "top": null,
      "visibility": null,
      "width": null
     }
    },
    "5343f9bcfb0f42e5a9c3bac677d4ef38": {
     "model_module": "@jupyter-widgets/base",
     "model_name": "LayoutModel",
     "state": {
      "_model_module": "@jupyter-widgets/base",
      "_model_module_version": "1.2.0",
      "_model_name": "LayoutModel",
      "_view_count": null,
      "_view_module": "@jupyter-widgets/base",
      "_view_module_version": "1.2.0",
      "_view_name": "LayoutView",
      "align_content": null,
      "align_items": null,
      "align_self": null,
      "border": null,
      "bottom": null,
      "display": null,
      "flex": null,
      "flex_flow": null,
      "grid_area": null,
      "grid_auto_columns": null,
      "grid_auto_flow": null,
      "grid_auto_rows": null,
      "grid_column": null,
      "grid_gap": null,
      "grid_row": null,
      "grid_template_areas": null,
      "grid_template_columns": null,
      "grid_template_rows": null,
      "height": null,
      "justify_content": null,
      "justify_items": null,
      "left": null,
      "margin": null,
      "max_height": null,
      "max_width": null,
      "min_height": null,
      "min_width": null,
      "object_fit": null,
      "object_position": null,
      "order": null,
      "overflow": null,
      "overflow_x": null,
      "overflow_y": null,
      "padding": null,
      "right": null,
      "top": null,
      "visibility": null,
      "width": null
     }
    },
    "5e88015eadac45acb73c98106a91d802": {
     "model_module": "@jupyter-widgets/controls",
     "model_name": "FloatProgressModel",
     "state": {
      "_dom_classes": [],
      "_model_module": "@jupyter-widgets/controls",
      "_model_module_version": "1.5.0",
      "_model_name": "FloatProgressModel",
      "_view_count": null,
      "_view_module": "@jupyter-widgets/controls",
      "_view_module_version": "1.5.0",
      "_view_name": "ProgressView",
      "bar_style": "danger",
      "description": " 93%",
      "description_tooltip": null,
      "layout": "IPY_MODEL_ee6f61efbcac4fa7b26335e9d74772f9",
      "max": 50000,
      "min": 0,
      "orientation": "horizontal",
      "style": "IPY_MODEL_3e947fe2ddb341e688465cb60c76502c",
      "value": 46654
     }
    },
    "60a37e1c887a4fc19870d1a5c025bd20": {
     "model_module": "@jupyter-widgets/base",
     "model_name": "LayoutModel",
     "state": {
      "_model_module": "@jupyter-widgets/base",
      "_model_module_version": "1.2.0",
      "_model_name": "LayoutModel",
      "_view_count": null,
      "_view_module": "@jupyter-widgets/base",
      "_view_module_version": "1.2.0",
      "_view_name": "LayoutView",
      "align_content": null,
      "align_items": null,
      "align_self": null,
      "border": null,
      "bottom": null,
      "display": null,
      "flex": null,
      "flex_flow": null,
      "grid_area": null,
      "grid_auto_columns": null,
      "grid_auto_flow": null,
      "grid_auto_rows": null,
      "grid_column": null,
      "grid_gap": null,
      "grid_row": null,
      "grid_template_areas": null,
      "grid_template_columns": null,
      "grid_template_rows": null,
      "height": null,
      "justify_content": null,
      "justify_items": null,
      "left": null,
      "margin": null,
      "max_height": null,
      "max_width": null,
      "min_height": null,
      "min_width": null,
      "object_fit": null,
      "object_position": null,
      "order": null,
      "overflow": null,
      "overflow_x": null,
      "overflow_y": null,
      "padding": null,
      "right": null,
      "top": null,
      "visibility": null,
      "width": null
     }
    },
    "62954afa3d1a4eb7b40a0df0bba4f21a": {
     "model_module": "@jupyter-widgets/base",
     "model_name": "LayoutModel",
     "state": {
      "_model_module": "@jupyter-widgets/base",
      "_model_module_version": "1.2.0",
      "_model_name": "LayoutModel",
      "_view_count": null,
      "_view_module": "@jupyter-widgets/base",
      "_view_module_version": "1.2.0",
      "_view_name": "LayoutView",
      "align_content": null,
      "align_items": null,
      "align_self": null,
      "border": null,
      "bottom": null,
      "display": null,
      "flex": null,
      "flex_flow": null,
      "grid_area": null,
      "grid_auto_columns": null,
      "grid_auto_flow": null,
      "grid_auto_rows": null,
      "grid_column": null,
      "grid_gap": null,
      "grid_row": null,
      "grid_template_areas": null,
      "grid_template_columns": null,
      "grid_template_rows": null,
      "height": null,
      "justify_content": null,
      "justify_items": null,
      "left": null,
      "margin": null,
      "max_height": null,
      "max_width": null,
      "min_height": null,
      "min_width": null,
      "object_fit": null,
      "object_position": null,
      "order": null,
      "overflow": null,
      "overflow_x": null,
      "overflow_y": null,
      "padding": null,
      "right": null,
      "top": null,
      "visibility": null,
      "width": null
     }
    },
    "62f4570bffb64022af77cecfce157ea7": {
     "model_module": "@jupyter-widgets/controls",
     "model_name": "FloatProgressModel",
     "state": {
      "_dom_classes": [],
      "_model_module": "@jupyter-widgets/controls",
      "_model_module_version": "1.5.0",
      "_model_name": "FloatProgressModel",
      "_view_count": null,
      "_view_module": "@jupyter-widgets/controls",
      "_view_module_version": "1.5.0",
      "_view_name": "ProgressView",
      "bar_style": "success",
      "description": "Dl Completed...: 100%",
      "description_tooltip": null,
      "layout": "IPY_MODEL_4f3a1430e3674751989b765743119e55",
      "max": 1,
      "min": 0,
      "orientation": "horizontal",
      "style": "IPY_MODEL_6c21c25b8533476186848e80975c9eea",
      "value": 1
     }
    },
    "6ba7db338f7946c6b5db6d0f14b3f22d": {
     "model_module": "@jupyter-widgets/controls",
     "model_name": "DescriptionStyleModel",
     "state": {
      "_model_module": "@jupyter-widgets/controls",
      "_model_module_version": "1.5.0",
      "_model_name": "DescriptionStyleModel",
      "_view_count": null,
      "_view_module": "@jupyter-widgets/base",
      "_view_module_version": "1.2.0",
      "_view_name": "StyleView",
      "description_width": ""
     }
    },
    "6c21c25b8533476186848e80975c9eea": {
     "model_module": "@jupyter-widgets/controls",
     "model_name": "ProgressStyleModel",
     "state": {
      "_model_module": "@jupyter-widgets/controls",
      "_model_module_version": "1.5.0",
      "_model_name": "ProgressStyleModel",
      "_view_count": null,
      "_view_module": "@jupyter-widgets/base",
      "_view_module_version": "1.2.0",
      "_view_name": "StyleView",
      "bar_color": null,
      "description_width": "initial"
     }
    },
    "81ea75b6fa4d42b486852bf38928458e": {
     "model_module": "@jupyter-widgets/base",
     "model_name": "LayoutModel",
     "state": {
      "_model_module": "@jupyter-widgets/base",
      "_model_module_version": "1.2.0",
      "_model_name": "LayoutModel",
      "_view_count": null,
      "_view_module": "@jupyter-widgets/base",
      "_view_module_version": "1.2.0",
      "_view_name": "LayoutView",
      "align_content": null,
      "align_items": null,
      "align_self": null,
      "border": null,
      "bottom": null,
      "display": null,
      "flex": null,
      "flex_flow": null,
      "grid_area": null,
      "grid_auto_columns": null,
      "grid_auto_flow": null,
      "grid_auto_rows": null,
      "grid_column": null,
      "grid_gap": null,
      "grid_row": null,
      "grid_template_areas": null,
      "grid_template_columns": null,
      "grid_template_rows": null,
      "height": null,
      "justify_content": null,
      "justify_items": null,
      "left": null,
      "margin": null,
      "max_height": null,
      "max_width": null,
      "min_height": null,
      "min_width": null,
      "object_fit": null,
      "object_position": null,
      "order": null,
      "overflow": null,
      "overflow_x": null,
      "overflow_y": null,
      "padding": null,
      "right": null,
      "top": null,
      "visibility": null,
      "width": null
     }
    },
    "8ae72ec021954d8384ff2e9ff5e2d924": {
     "model_module": "@jupyter-widgets/controls",
     "model_name": "ProgressStyleModel",
     "state": {
      "_model_module": "@jupyter-widgets/controls",
      "_model_module_version": "1.5.0",
      "_model_name": "ProgressStyleModel",
      "_view_count": null,
      "_view_module": "@jupyter-widgets/base",
      "_view_module_version": "1.2.0",
      "_view_name": "StyleView",
      "bar_color": null,
      "description_width": "initial"
     }
    },
    "8de676b080e04f60862c4c7305683e19": {
     "model_module": "@jupyter-widgets/controls",
     "model_name": "DescriptionStyleModel",
     "state": {
      "_model_module": "@jupyter-widgets/controls",
      "_model_module_version": "1.5.0",
      "_model_name": "DescriptionStyleModel",
      "_view_count": null,
      "_view_module": "@jupyter-widgets/base",
      "_view_module_version": "1.2.0",
      "_view_name": "StyleView",
      "description_width": ""
     }
    },
    "8e1faf1a9cb242ae829ffed145594f50": {
     "model_module": "@jupyter-widgets/base",
     "model_name": "LayoutModel",
     "state": {
      "_model_module": "@jupyter-widgets/base",
      "_model_module_version": "1.2.0",
      "_model_name": "LayoutModel",
      "_view_count": null,
      "_view_module": "@jupyter-widgets/base",
      "_view_module_version": "1.2.0",
      "_view_name": "LayoutView",
      "align_content": null,
      "align_items": null,
      "align_self": null,
      "border": null,
      "bottom": null,
      "display": null,
      "flex": null,
      "flex_flow": null,
      "grid_area": null,
      "grid_auto_columns": null,
      "grid_auto_flow": null,
      "grid_auto_rows": null,
      "grid_column": null,
      "grid_gap": null,
      "grid_row": null,
      "grid_template_areas": null,
      "grid_template_columns": null,
      "grid_template_rows": null,
      "height": null,
      "justify_content": null,
      "justify_items": null,
      "left": null,
      "margin": null,
      "max_height": null,
      "max_width": null,
      "min_height": null,
      "min_width": null,
      "object_fit": null,
      "object_position": null,
      "order": null,
      "overflow": null,
      "overflow_x": null,
      "overflow_y": null,
      "padding": null,
      "right": null,
      "top": null,
      "visibility": null,
      "width": null
     }
    },
    "8fda2596cd964937b36598feb83ea7ec": {
     "model_module": "@jupyter-widgets/controls",
     "model_name": "FloatProgressModel",
     "state": {
      "_dom_classes": [],
      "_model_module": "@jupyter-widgets/controls",
      "_model_module_version": "1.5.0",
      "_model_name": "FloatProgressModel",
      "_view_count": null,
      "_view_module": "@jupyter-widgets/controls",
      "_view_module_version": "1.5.0",
      "_view_name": "ProgressView",
      "bar_style": "info",
      "description": "",
      "description_tooltip": null,
      "layout": "IPY_MODEL_60a37e1c887a4fc19870d1a5c025bd20",
      "max": 1,
      "min": 0,
      "orientation": "horizontal",
      "style": "IPY_MODEL_f8787f57d648443abb7811f7732e5ece",
      "value": 1
     }
    },
    "a613c336ba354a40a1644899e659efb0": {
     "model_module": "@jupyter-widgets/base",
     "model_name": "LayoutModel",
     "state": {
      "_model_module": "@jupyter-widgets/base",
      "_model_module_version": "1.2.0",
      "_model_name": "LayoutModel",
      "_view_count": null,
      "_view_module": "@jupyter-widgets/base",
      "_view_module_version": "1.2.0",
      "_view_name": "LayoutView",
      "align_content": null,
      "align_items": null,
      "align_self": null,
      "border": null,
      "bottom": null,
      "display": null,
      "flex": null,
      "flex_flow": null,
      "grid_area": null,
      "grid_auto_columns": null,
      "grid_auto_flow": null,
      "grid_auto_rows": null,
      "grid_column": null,
      "grid_gap": null,
      "grid_row": null,
      "grid_template_areas": null,
      "grid_template_columns": null,
      "grid_template_rows": null,
      "height": null,
      "justify_content": null,
      "justify_items": null,
      "left": null,
      "margin": null,
      "max_height": null,
      "max_width": null,
      "min_height": null,
      "min_width": null,
      "object_fit": null,
      "object_position": null,
      "order": null,
      "overflow": null,
      "overflow_x": null,
      "overflow_y": null,
      "padding": null,
      "right": null,
      "top": null,
      "visibility": null,
      "width": null
     }
    },
    "af2e5bda72f7452995ad2849c604f2c1": {
     "model_module": "@jupyter-widgets/controls",
     "model_name": "DescriptionStyleModel",
     "state": {
      "_model_module": "@jupyter-widgets/controls",
      "_model_module_version": "1.5.0",
      "_model_name": "DescriptionStyleModel",
      "_view_count": null,
      "_view_module": "@jupyter-widgets/base",
      "_view_module_version": "1.2.0",
      "_view_name": "StyleView",
      "description_width": ""
     }
    },
    "b1a5b5b61a9d4470941d97d73a5118fc": {
     "model_module": "@jupyter-widgets/base",
     "model_name": "LayoutModel",
     "state": {
      "_model_module": "@jupyter-widgets/base",
      "_model_module_version": "1.2.0",
      "_model_name": "LayoutModel",
      "_view_count": null,
      "_view_module": "@jupyter-widgets/base",
      "_view_module_version": "1.2.0",
      "_view_name": "LayoutView",
      "align_content": null,
      "align_items": null,
      "align_self": null,
      "border": null,
      "bottom": null,
      "display": null,
      "flex": null,
      "flex_flow": null,
      "grid_area": null,
      "grid_auto_columns": null,
      "grid_auto_flow": null,
      "grid_auto_rows": null,
      "grid_column": null,
      "grid_gap": null,
      "grid_row": null,
      "grid_template_areas": null,
      "grid_template_columns": null,
      "grid_template_rows": null,
      "height": null,
      "justify_content": null,
      "justify_items": null,
      "left": null,
      "margin": null,
      "max_height": null,
      "max_width": null,
      "min_height": null,
      "min_width": null,
      "object_fit": null,
      "object_position": null,
      "order": null,
      "overflow": null,
      "overflow_x": null,
      "overflow_y": null,
      "padding": null,
      "right": null,
      "top": null,
      "visibility": null,
      "width": null
     }
    },
    "b7ce84b755964e5f803b3df00c8a275d": {
     "model_module": "@jupyter-widgets/controls",
     "model_name": "HBoxModel",
     "state": {
      "_dom_classes": [],
      "_model_module": "@jupyter-widgets/controls",
      "_model_module_version": "1.5.0",
      "_model_name": "HBoxModel",
      "_view_count": null,
      "_view_module": "@jupyter-widgets/controls",
      "_view_module_version": "1.5.0",
      "_view_name": "HBoxView",
      "box_style": "",
      "children": [
       "IPY_MODEL_3410359bc7a748f1834f38b92a0debd7",
       "IPY_MODEL_288ed7dac3c24d5c860eb9bf2bdac5d8"
      ],
      "layout": "IPY_MODEL_e3ec20b3c13346a1a832ee1d53a8d3a4"
     }
    },
    "b815ba61f09e441dbd81fdec88513276": {
     "model_module": "@jupyter-widgets/controls",
     "model_name": "HTMLModel",
     "state": {
      "_dom_classes": [],
      "_model_module": "@jupyter-widgets/controls",
      "_model_module_version": "1.5.0",
      "_model_name": "HTMLModel",
      "_view_count": null,
      "_view_module": "@jupyter-widgets/controls",
      "_view_module_version": "1.5.0",
      "_view_name": "HTMLView",
      "description": "",
      "description_tooltip": null,
      "layout": "IPY_MODEL_d26c9e14722e4a598da11c8d429b3b84",
      "placeholder": "​",
      "style": "IPY_MODEL_af2e5bda72f7452995ad2849c604f2c1",
      "value": " 1/1 [00:09&lt;00:00,  9.72s/ url]"
     }
    },
    "c60eb0415d494a90b2ea6adeec04bc0e": {
     "model_module": "@jupyter-widgets/base",
     "model_name": "LayoutModel",
     "state": {
      "_model_module": "@jupyter-widgets/base",
      "_model_module_version": "1.2.0",
      "_model_name": "LayoutModel",
      "_view_count": null,
      "_view_module": "@jupyter-widgets/base",
      "_view_module_version": "1.2.0",
      "_view_name": "LayoutView",
      "align_content": null,
      "align_items": null,
      "align_self": null,
      "border": null,
      "bottom": null,
      "display": null,
      "flex": null,
      "flex_flow": null,
      "grid_area": null,
      "grid_auto_columns": null,
      "grid_auto_flow": null,
      "grid_auto_rows": null,
      "grid_column": null,
      "grid_gap": null,
      "grid_row": null,
      "grid_template_areas": null,
      "grid_template_columns": null,
      "grid_template_rows": null,
      "height": null,
      "justify_content": null,
      "justify_items": null,
      "left": null,
      "margin": null,
      "max_height": null,
      "max_width": null,
      "min_height": null,
      "min_width": null,
      "object_fit": null,
      "object_position": null,
      "order": null,
      "overflow": null,
      "overflow_x": null,
      "overflow_y": null,
      "padding": null,
      "right": null,
      "top": null,
      "visibility": null,
      "width": null
     }
    },
    "c7fc1e8fd93a4baf8e1857dbfcf38942": {
     "model_module": "@jupyter-widgets/base",
     "model_name": "LayoutModel",
     "state": {
      "_model_module": "@jupyter-widgets/base",
      "_model_module_version": "1.2.0",
      "_model_name": "LayoutModel",
      "_view_count": null,
      "_view_module": "@jupyter-widgets/base",
      "_view_module_version": "1.2.0",
      "_view_name": "LayoutView",
      "align_content": null,
      "align_items": null,
      "align_self": null,
      "border": null,
      "bottom": null,
      "display": null,
      "flex": null,
      "flex_flow": null,
      "grid_area": null,
      "grid_auto_columns": null,
      "grid_auto_flow": null,
      "grid_auto_rows": null,
      "grid_column": null,
      "grid_gap": null,
      "grid_row": null,
      "grid_template_areas": null,
      "grid_template_columns": null,
      "grid_template_rows": null,
      "height": null,
      "justify_content": null,
      "justify_items": null,
      "left": null,
      "margin": null,
      "max_height": null,
      "max_width": null,
      "min_height": null,
      "min_width": null,
      "object_fit": null,
      "object_position": null,
      "order": null,
      "overflow": null,
      "overflow_x": null,
      "overflow_y": null,
      "padding": null,
      "right": null,
      "top": null,
      "visibility": null,
      "width": null
     }
    },
    "d26c9e14722e4a598da11c8d429b3b84": {
     "model_module": "@jupyter-widgets/base",
     "model_name": "LayoutModel",
     "state": {
      "_model_module": "@jupyter-widgets/base",
      "_model_module_version": "1.2.0",
      "_model_name": "LayoutModel",
      "_view_count": null,
      "_view_module": "@jupyter-widgets/base",
      "_view_module_version": "1.2.0",
      "_view_name": "LayoutView",
      "align_content": null,
      "align_items": null,
      "align_self": null,
      "border": null,
      "bottom": null,
      "display": null,
      "flex": null,
      "flex_flow": null,
      "grid_area": null,
      "grid_auto_columns": null,
      "grid_auto_flow": null,
      "grid_auto_rows": null,
      "grid_column": null,
      "grid_gap": null,
      "grid_row": null,
      "grid_template_areas": null,
      "grid_template_columns": null,
      "grid_template_rows": null,
      "height": null,
      "justify_content": null,
      "justify_items": null,
      "left": null,
      "margin": null,
      "max_height": null,
      "max_width": null,
      "min_height": null,
      "min_width": null,
      "object_fit": null,
      "object_position": null,
      "order": null,
      "overflow": null,
      "overflow_x": null,
      "overflow_y": null,
      "padding": null,
      "right": null,
      "top": null,
      "visibility": null,
      "width": null
     }
    },
    "d35de32e5db4406bbf8d4549b41679c7": {
     "model_module": "@jupyter-widgets/controls",
     "model_name": "HTMLModel",
     "state": {
      "_dom_classes": [],
      "_model_module": "@jupyter-widgets/controls",
      "_model_module_version": "1.5.0",
      "_model_name": "HTMLModel",
      "_view_count": null,
      "_view_module": "@jupyter-widgets/controls",
      "_view_module_version": "1.5.0",
      "_view_name": "HTMLView",
      "description": "",
      "description_tooltip": null,
      "layout": "IPY_MODEL_435c4c2cc4eb4eb588f9b665b2714234",
      "placeholder": "​",
      "style": "IPY_MODEL_e2e4663de17a4c2c8898689fea45a219",
      "value": " 9913/10000 [00:00&lt;00:00, 28211.16 examples/s]"
     }
    },
    "e0214b478297432daea85e7111ef4349": {
     "model_module": "@jupyter-widgets/controls",
     "model_name": "ProgressStyleModel",
     "state": {
      "_model_module": "@jupyter-widgets/controls",
      "_model_module_version": "1.5.0",
      "_model_name": "ProgressStyleModel",
      "_view_count": null,
      "_view_module": "@jupyter-widgets/base",
      "_view_module_version": "1.2.0",
      "_view_name": "StyleView",
      "bar_color": null,
      "description_width": "initial"
     }
    },
    "e2e4663de17a4c2c8898689fea45a219": {
     "model_module": "@jupyter-widgets/controls",
     "model_name": "DescriptionStyleModel",
     "state": {
      "_model_module": "@jupyter-widgets/controls",
      "_model_module_version": "1.5.0",
      "_model_name": "DescriptionStyleModel",
      "_view_count": null,
      "_view_module": "@jupyter-widgets/base",
      "_view_module_version": "1.2.0",
      "_view_name": "StyleView",
      "description_width": ""
     }
    },
    "e3ec20b3c13346a1a832ee1d53a8d3a4": {
     "model_module": "@jupyter-widgets/base",
     "model_name": "LayoutModel",
     "state": {
      "_model_module": "@jupyter-widgets/base",
      "_model_module_version": "1.2.0",
      "_model_name": "LayoutModel",
      "_view_count": null,
      "_view_module": "@jupyter-widgets/base",
      "_view_module_version": "1.2.0",
      "_view_name": "LayoutView",
      "align_content": null,
      "align_items": null,
      "align_self": null,
      "border": null,
      "bottom": null,
      "display": null,
      "flex": null,
      "flex_flow": null,
      "grid_area": null,
      "grid_auto_columns": null,
      "grid_auto_flow": null,
      "grid_auto_rows": null,
      "grid_column": null,
      "grid_gap": null,
      "grid_row": null,
      "grid_template_areas": null,
      "grid_template_columns": null,
      "grid_template_rows": null,
      "height": null,
      "justify_content": null,
      "justify_items": null,
      "left": null,
      "margin": null,
      "max_height": null,
      "max_width": null,
      "min_height": null,
      "min_width": null,
      "object_fit": null,
      "object_position": null,
      "order": null,
      "overflow": null,
      "overflow_x": null,
      "overflow_y": null,
      "padding": null,
      "right": null,
      "top": null,
      "visibility": null,
      "width": null
     }
    },
    "eae644b05cbe41f2b64dc4f8aca5cb87": {
     "model_module": "@jupyter-widgets/base",
     "model_name": "LayoutModel",
     "state": {
      "_model_module": "@jupyter-widgets/base",
      "_model_module_version": "1.2.0",
      "_model_name": "LayoutModel",
      "_view_count": null,
      "_view_module": "@jupyter-widgets/base",
      "_view_module_version": "1.2.0",
      "_view_name": "LayoutView",
      "align_content": null,
      "align_items": null,
      "align_self": null,
      "border": null,
      "bottom": null,
      "display": null,
      "flex": null,
      "flex_flow": null,
      "grid_area": null,
      "grid_auto_columns": null,
      "grid_auto_flow": null,
      "grid_auto_rows": null,
      "grid_column": null,
      "grid_gap": null,
      "grid_row": null,
      "grid_template_areas": null,
      "grid_template_columns": null,
      "grid_template_rows": null,
      "height": null,
      "justify_content": null,
      "justify_items": null,
      "left": null,
      "margin": null,
      "max_height": null,
      "max_width": null,
      "min_height": null,
      "min_width": null,
      "object_fit": null,
      "object_position": null,
      "order": null,
      "overflow": null,
      "overflow_x": null,
      "overflow_y": null,
      "padding": null,
      "right": null,
      "top": null,
      "visibility": null,
      "width": null
     }
    },
    "ed08e896af174cd29f4a47dd0614a0ba": {
     "model_module": "@jupyter-widgets/base",
     "model_name": "LayoutModel",
     "state": {
      "_model_module": "@jupyter-widgets/base",
      "_model_module_version": "1.2.0",
      "_model_name": "LayoutModel",
      "_view_count": null,
      "_view_module": "@jupyter-widgets/base",
      "_view_module_version": "1.2.0",
      "_view_name": "LayoutView",
      "align_content": null,
      "align_items": null,
      "align_self": null,
      "border": null,
      "bottom": null,
      "display": null,
      "flex": null,
      "flex_flow": null,
      "grid_area": null,
      "grid_auto_columns": null,
      "grid_auto_flow": null,
      "grid_auto_rows": null,
      "grid_column": null,
      "grid_gap": null,
      "grid_row": null,
      "grid_template_areas": null,
      "grid_template_columns": null,
      "grid_template_rows": null,
      "height": null,
      "justify_content": null,
      "justify_items": null,
      "left": null,
      "margin": null,
      "max_height": null,
      "max_width": null,
      "min_height": null,
      "min_width": null,
      "object_fit": null,
      "object_position": null,
      "order": null,
      "overflow": null,
      "overflow_x": null,
      "overflow_y": null,
      "padding": null,
      "right": null,
      "top": null,
      "visibility": null,
      "width": null
     }
    },
    "ee6f61efbcac4fa7b26335e9d74772f9": {
     "model_module": "@jupyter-widgets/base",
     "model_name": "LayoutModel",
     "state": {
      "_model_module": "@jupyter-widgets/base",
      "_model_module_version": "1.2.0",
      "_model_name": "LayoutModel",
      "_view_count": null,
      "_view_module": "@jupyter-widgets/base",
      "_view_module_version": "1.2.0",
      "_view_name": "LayoutView",
      "align_content": null,
      "align_items": null,
      "align_self": null,
      "border": null,
      "bottom": null,
      "display": null,
      "flex": null,
      "flex_flow": null,
      "grid_area": null,
      "grid_auto_columns": null,
      "grid_auto_flow": null,
      "grid_auto_rows": null,
      "grid_column": null,
      "grid_gap": null,
      "grid_row": null,
      "grid_template_areas": null,
      "grid_template_columns": null,
      "grid_template_rows": null,
      "height": null,
      "justify_content": null,
      "justify_items": null,
      "left": null,
      "margin": null,
      "max_height": null,
      "max_width": null,
      "min_height": null,
      "min_width": null,
      "object_fit": null,
      "object_position": null,
      "order": null,
      "overflow": null,
      "overflow_x": null,
      "overflow_y": null,
      "padding": null,
      "right": null,
      "top": null,
      "visibility": null,
      "width": null
     }
    },
    "f09981c7391f465199ec7649531900bb": {
     "model_module": "@jupyter-widgets/controls",
     "model_name": "ProgressStyleModel",
     "state": {
      "_model_module": "@jupyter-widgets/controls",
      "_model_module_version": "1.5.0",
      "_model_name": "ProgressStyleModel",
      "_view_count": null,
      "_view_module": "@jupyter-widgets/base",
      "_view_module_version": "1.2.0",
      "_view_name": "StyleView",
      "bar_color": null,
      "description_width": "initial"
     }
    },
    "f2cd55606b254cefa9908aed32105fc5": {
     "model_module": "@jupyter-widgets/controls",
     "model_name": "HBoxModel",
     "state": {
      "_dom_classes": [],
      "_model_module": "@jupyter-widgets/controls",
      "_model_module_version": "1.5.0",
      "_model_name": "HBoxModel",
      "_view_count": null,
      "_view_module": "@jupyter-widgets/controls",
      "_view_module_version": "1.5.0",
      "_view_name": "HBoxView",
      "box_style": "",
      "children": [
       "IPY_MODEL_8fda2596cd964937b36598feb83ea7ec",
       "IPY_MODEL_0e585a71ec8a4a47b1427fe0d5202ed3"
      ],
      "layout": "IPY_MODEL_b1a5b5b61a9d4470941d97d73a5118fc"
     }
    },
    "f4dd52cfaf8e493bbd22857f9d0efe2f": {
     "model_module": "@jupyter-widgets/controls",
     "model_name": "HTMLModel",
     "state": {
      "_dom_classes": [],
      "_model_module": "@jupyter-widgets/controls",
      "_model_module_version": "1.5.0",
      "_model_name": "HTMLModel",
      "_view_count": null,
      "_view_module": "@jupyter-widgets/controls",
      "_view_module_version": "1.5.0",
      "_view_name": "HTMLView",
      "description": "",
      "description_tooltip": null,
      "layout": "IPY_MODEL_5343f9bcfb0f42e5a9c3bac677d4ef38",
      "placeholder": "​",
      "style": "IPY_MODEL_138e1fe2a47f44d1a79605d39f27cdb3",
      "value": " 46654/50000 [00:01&lt;00:00, 33730.79 examples/s]"
     }
    },
    "f5587ea740514ad080fc911c24ca2223": {
     "model_module": "@jupyter-widgets/controls",
     "model_name": "HBoxModel",
     "state": {
      "_dom_classes": [],
      "_model_module": "@jupyter-widgets/controls",
      "_model_module_version": "1.5.0",
      "_model_name": "HBoxModel",
      "_view_count": null,
      "_view_module": "@jupyter-widgets/controls",
      "_view_module_version": "1.5.0",
      "_view_name": "HBoxView",
      "box_style": "",
      "children": [
       "IPY_MODEL_f8772c28bd0b420581930f14cb56ed92",
       "IPY_MODEL_4835d1b4f3af423a8297b95849c137dc"
      ],
      "layout": "IPY_MODEL_524d5e0e8447486c8b28bd76229be579"
     }
    },
    "f7fdbf550ed74d3bb8da42bf67f9f8d1": {
     "model_module": "@jupyter-widgets/controls",
     "model_name": "HBoxModel",
     "state": {
      "_dom_classes": [],
      "_model_module": "@jupyter-widgets/controls",
      "_model_module_version": "1.5.0",
      "_model_name": "HBoxModel",
      "_view_count": null,
      "_view_module": "@jupyter-widgets/controls",
      "_view_module_version": "1.5.0",
      "_view_name": "HBoxView",
      "box_style": "",
      "children": [
       "IPY_MODEL_fa8409cee1674026b1cf0b1764fd8c0c",
       "IPY_MODEL_d35de32e5db4406bbf8d4549b41679c7"
      ],
      "layout": "IPY_MODEL_eae644b05cbe41f2b64dc4f8aca5cb87"
     }
    },
    "f8772c28bd0b420581930f14cb56ed92": {
     "model_module": "@jupyter-widgets/controls",
     "model_name": "FloatProgressModel",
     "state": {
      "_dom_classes": [],
      "_model_module": "@jupyter-widgets/controls",
      "_model_module_version": "1.5.0",
      "_model_name": "FloatProgressModel",
      "_view_count": null,
      "_view_module": "@jupyter-widgets/controls",
      "_view_module_version": "1.5.0",
      "_view_name": "ProgressView",
      "bar_style": "info",
      "description": "",
      "description_tooltip": null,
      "layout": "IPY_MODEL_c60eb0415d494a90b2ea6adeec04bc0e",
      "max": 1,
      "min": 0,
      "orientation": "horizontal",
      "style": "IPY_MODEL_e0214b478297432daea85e7111ef4349",
      "value": 1
     }
    },
    "f8787f57d648443abb7811f7732e5ece": {
     "model_module": "@jupyter-widgets/controls",
     "model_name": "ProgressStyleModel",
     "state": {
      "_model_module": "@jupyter-widgets/controls",
      "_model_module_version": "1.5.0",
      "_model_name": "ProgressStyleModel",
      "_view_count": null,
      "_view_module": "@jupyter-widgets/base",
      "_view_module_version": "1.2.0",
      "_view_name": "StyleView",
      "bar_color": null,
      "description_width": "initial"
     }
    },
    "f9e42f04d57e43c9aba3f765459e1888": {
     "model_module": "@jupyter-widgets/base",
     "model_name": "LayoutModel",
     "state": {
      "_model_module": "@jupyter-widgets/base",
      "_model_module_version": "1.2.0",
      "_model_name": "LayoutModel",
      "_view_count": null,
      "_view_module": "@jupyter-widgets/base",
      "_view_module_version": "1.2.0",
      "_view_name": "LayoutView",
      "align_content": null,
      "align_items": null,
      "align_self": null,
      "border": null,
      "bottom": null,
      "display": null,
      "flex": null,
      "flex_flow": null,
      "grid_area": null,
      "grid_auto_columns": null,
      "grid_auto_flow": null,
      "grid_auto_rows": null,
      "grid_column": null,
      "grid_gap": null,
      "grid_row": null,
      "grid_template_areas": null,
      "grid_template_columns": null,
      "grid_template_rows": null,
      "height": null,
      "justify_content": null,
      "justify_items": null,
      "left": null,
      "margin": null,
      "max_height": null,
      "max_width": null,
      "min_height": null,
      "min_width": null,
      "object_fit": null,
      "object_position": null,
      "order": null,
      "overflow": null,
      "overflow_x": null,
      "overflow_y": null,
      "padding": null,
      "right": null,
      "top": null,
      "visibility": null,
      "width": null
     }
    },
    "fa8409cee1674026b1cf0b1764fd8c0c": {
     "model_module": "@jupyter-widgets/controls",
     "model_name": "FloatProgressModel",
     "state": {
      "_dom_classes": [],
      "_model_module": "@jupyter-widgets/controls",
      "_model_module_version": "1.5.0",
      "_model_name": "FloatProgressModel",
      "_view_count": null,
      "_view_module": "@jupyter-widgets/controls",
      "_view_module_version": "1.5.0",
      "_view_name": "ProgressView",
      "bar_style": "danger",
      "description": " 99%",
      "description_tooltip": null,
      "layout": "IPY_MODEL_f9e42f04d57e43c9aba3f765459e1888",
      "max": 10000,
      "min": 0,
      "orientation": "horizontal",
      "style": "IPY_MODEL_4446e7f70ba44f6195a24810dd6ebe29",
      "value": 9913
     }
    },
    "fae4f47ace864fa88f9e35698e7ca6f9": {
     "model_module": "@jupyter-widgets/base",
     "model_name": "LayoutModel",
     "state": {
      "_model_module": "@jupyter-widgets/base",
      "_model_module_version": "1.2.0",
      "_model_name": "LayoutModel",
      "_view_count": null,
      "_view_module": "@jupyter-widgets/base",
      "_view_module_version": "1.2.0",
      "_view_name": "LayoutView",
      "align_content": null,
      "align_items": null,
      "align_self": null,
      "border": null,
      "bottom": null,
      "display": null,
      "flex": null,
      "flex_flow": null,
      "grid_area": null,
      "grid_auto_columns": null,
      "grid_auto_flow": null,
      "grid_auto_rows": null,
      "grid_column": null,
      "grid_gap": null,
      "grid_row": null,
      "grid_template_areas": null,
      "grid_template_columns": null,
      "grid_template_rows": null,
      "height": null,
      "justify_content": null,
      "justify_items": null,
      "left": null,
      "margin": null,
      "max_height": null,
      "max_width": null,
      "min_height": null,
      "min_width": null,
      "object_fit": null,
      "object_position": null,
      "order": null,
      "overflow": null,
      "overflow_x": null,
      "overflow_y": null,
      "padding": null,
      "right": null,
      "top": null,
      "visibility": null,
      "width": null
     }
    },
    "fdb5bb8ac41d44778b976be84185c5e0": {
     "model_module": "@jupyter-widgets/controls",
     "model_name": "DescriptionStyleModel",
     "state": {
      "_model_module": "@jupyter-widgets/controls",
      "_model_module_version": "1.5.0",
      "_model_name": "DescriptionStyleModel",
      "_view_count": null,
      "_view_module": "@jupyter-widgets/base",
      "_view_module_version": "1.2.0",
      "_view_name": "StyleView",
      "description_width": ""
     }
    }
   }
  }
 },
 "nbformat": 4,
 "nbformat_minor": 1
}
