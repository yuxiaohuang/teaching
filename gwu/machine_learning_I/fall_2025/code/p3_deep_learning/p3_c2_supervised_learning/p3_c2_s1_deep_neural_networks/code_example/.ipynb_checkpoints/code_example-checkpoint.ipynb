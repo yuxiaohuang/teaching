{
 "cells": [
  {
   "cell_type": "markdown",
   "metadata": {
    "id": "cMSn67px4ANI",
    "toc": true
   },
   "source": [
    "<h1>Table of Contents<span class=\"tocSkip\"></span></h1>\n",
    "<div class=\"toc\"><ul class=\"toc-item\"><li><span><a href=\"#Overview\" data-toc-modified-id=\"Overview-1\"><span class=\"toc-item-num\">1&nbsp;&nbsp;</span>Overview</a></span></li><li><span><a href=\"#Notebook-Configuration\" data-toc-modified-id=\"Notebook-Configuration-2\"><span class=\"toc-item-num\">2&nbsp;&nbsp;</span>Notebook Configuration</a></span><ul class=\"toc-item\"><li><span><a href=\"#Google-drive\" data-toc-modified-id=\"Google-drive-2.1\"><span class=\"toc-item-num\">2.1&nbsp;&nbsp;</span>Google drive</a></span></li><li><span><a href=\"#Warning\" data-toc-modified-id=\"Warning-2.2\"><span class=\"toc-item-num\">2.2&nbsp;&nbsp;</span>Warning</a></span></li><li><span><a href=\"#Matplotlib\" data-toc-modified-id=\"Matplotlib-2.3\"><span class=\"toc-item-num\">2.3&nbsp;&nbsp;</span>Matplotlib</a></span></li><li><span><a href=\"#TensorFlow\" data-toc-modified-id=\"TensorFlow-2.4\"><span class=\"toc-item-num\">2.4&nbsp;&nbsp;</span>TensorFlow</a></span></li><li><span><a href=\"#Random-seed\" data-toc-modified-id=\"Random-seed-2.5\"><span class=\"toc-item-num\">2.5&nbsp;&nbsp;</span>Random seed</a></span></li></ul></li><li><span><a href=\"#Data-Preprocessing\" data-toc-modified-id=\"Data-Preprocessing-3\"><span class=\"toc-item-num\">3&nbsp;&nbsp;</span>Data Preprocessing</a></span><ul class=\"toc-item\"><li><span><a href=\"#Loading-the-data\" data-toc-modified-id=\"Loading-the-data-3.1\"><span class=\"toc-item-num\">3.1&nbsp;&nbsp;</span>Loading the data</a></span><ul class=\"toc-item\"><li><span><a href=\"#Creating-the-directory-for-the-data\" data-toc-modified-id=\"Creating-the-directory-for-the-data-3.1.1\"><span class=\"toc-item-num\">3.1.1&nbsp;&nbsp;</span>Creating the directory for the data</a></span></li><li><span><a href=\"#Downloading-the-data-to-the-directory\" data-toc-modified-id=\"Downloading-the-data-to-the-directory-3.1.2\"><span class=\"toc-item-num\">3.1.2&nbsp;&nbsp;</span>Downloading the data to the directory</a></span></li></ul></li><li><span><a href=\"#Getting-the-name-of-the-target\" data-toc-modified-id=\"Getting-the-name-of-the-target-3.2\"><span class=\"toc-item-num\">3.2&nbsp;&nbsp;</span>Getting the name of the target</a></span></li><li><span><a href=\"#Getting-the-info\" data-toc-modified-id=\"Getting-the-info-3.3\"><span class=\"toc-item-num\">3.3&nbsp;&nbsp;</span>Getting the info</a></span></li><li><span><a href=\"#Getting-the-training,-validation-and-test-data\" data-toc-modified-id=\"Getting-the-training,-validation-and-test-data-3.4\"><span class=\"toc-item-num\">3.4&nbsp;&nbsp;</span>Getting the training, validation and test data</a></span></li><li><span><a href=\"#Normalizing-the-data\" data-toc-modified-id=\"Normalizing-the-data-3.5\"><span class=\"toc-item-num\">3.5&nbsp;&nbsp;</span>Normalizing the data</a></span></li><li><span><a href=\"#Shuffling,-batching-and-prefetching-the-data\" data-toc-modified-id=\"Shuffling,-batching-and-prefetching-the-data-3.6\"><span class=\"toc-item-num\">3.6&nbsp;&nbsp;</span>Shuffling, batching and prefetching the data</a></span></li></ul></li><li><span><a href=\"#Training-(Without-Callback)\" data-toc-modified-id=\"Training-(Without-Callback)-4\"><span class=\"toc-item-num\">4&nbsp;&nbsp;</span>Training (Without Callback)</a></span><ul class=\"toc-item\"><li><span><a href=\"#Building-the-model\" data-toc-modified-id=\"Building-the-model-4.1\"><span class=\"toc-item-num\">4.1&nbsp;&nbsp;</span>Building the model</a></span><ul class=\"toc-item\"><li><span><a href=\"#A-step-by-step-approach\" data-toc-modified-id=\"A-step-by-step-approach-4.1.1\"><span class=\"toc-item-num\">4.1.1&nbsp;&nbsp;</span>A step by step approach</a></span></li><li><span><a href=\"#A-one-step-approach\" data-toc-modified-id=\"A-one-step-approach-4.1.2\"><span class=\"toc-item-num\">4.1.2&nbsp;&nbsp;</span>A one step approach</a></span></li><li><span><a href=\"#The-model-summary\" data-toc-modified-id=\"The-model-summary-4.1.3\"><span class=\"toc-item-num\">4.1.3&nbsp;&nbsp;</span>The model summary</a></span></li></ul></li><li><span><a href=\"#Compiling-the-model\" data-toc-modified-id=\"Compiling-the-model-4.2\"><span class=\"toc-item-num\">4.2&nbsp;&nbsp;</span>Compiling the model</a></span></li><li><span><a href=\"#Training-the-model\" data-toc-modified-id=\"Training-the-model-4.3\"><span class=\"toc-item-num\">4.3&nbsp;&nbsp;</span>Training the model</a></span></li><li><span><a href=\"#Plotting-the-learning-curve\" data-toc-modified-id=\"Plotting-the-learning-curve-4.4\"><span class=\"toc-item-num\">4.4&nbsp;&nbsp;</span>Plotting the learning curve</a></span><ul class=\"toc-item\"><li><span><a href=\"#Creating-the-directory-for-the-figure\" data-toc-modified-id=\"Creating-the-directory-for-the-figure-4.4.1\"><span class=\"toc-item-num\">4.4.1&nbsp;&nbsp;</span>Creating the directory for the figure</a></span></li><li><span><a href=\"#Plotting-the-figure\" data-toc-modified-id=\"Plotting-the-figure-4.4.2\"><span class=\"toc-item-num\">4.4.2&nbsp;&nbsp;</span>Plotting the figure</a></span></li></ul></li><li><span><a href=\"#Continuing-training-the-model\" data-toc-modified-id=\"Continuing-training-the-model-4.5\"><span class=\"toc-item-num\">4.5&nbsp;&nbsp;</span>Continuing training the model</a></span></li><li><span><a href=\"#Plotting-the-learning-curve\" data-toc-modified-id=\"Plotting-the-learning-curve-4.6\"><span class=\"toc-item-num\">4.6&nbsp;&nbsp;</span>Plotting the learning curve</a></span></li></ul></li><li><span><a href=\"#Training-(With-ModelCheckpoint-callback-to-Save-the-Model)\" data-toc-modified-id=\"Training-(With-ModelCheckpoint-callback-to-Save-the-Model)-5\"><span class=\"toc-item-num\">5&nbsp;&nbsp;</span>Training (With ModelCheckpoint callback to Save the Model)</a></span><ul class=\"toc-item\"><li><span><a href=\"#Creating-the-directory-for-the-saved-model\" data-toc-modified-id=\"Creating-the-directory-for-the-saved-model-5.1\"><span class=\"toc-item-num\">5.1&nbsp;&nbsp;</span>Creating the directory for the saved model</a></span></li><li><span><a href=\"#Building-the-model\" data-toc-modified-id=\"Building-the-model-5.2\"><span class=\"toc-item-num\">5.2&nbsp;&nbsp;</span>Building the model</a></span></li><li><span><a href=\"#Compiling-the-model\" data-toc-modified-id=\"Compiling-the-model-5.3\"><span class=\"toc-item-num\">5.3&nbsp;&nbsp;</span>Compiling the model</a></span></li><li><span><a href=\"#Training-the-model\" data-toc-modified-id=\"Training-the-model-5.4\"><span class=\"toc-item-num\">5.4&nbsp;&nbsp;</span>Training the model</a></span><ul class=\"toc-item\"><li><span><a href=\"#Setting-callbacks\" data-toc-modified-id=\"Setting-callbacks-5.4.1\"><span class=\"toc-item-num\">5.4.1&nbsp;&nbsp;</span>Setting callbacks</a></span></li><li><span><a href=\"#Training,-evaluating-and-saving-the-model\" data-toc-modified-id=\"Training,-evaluating-and-saving-the-model-5.4.2\"><span class=\"toc-item-num\">5.4.2&nbsp;&nbsp;</span>Training, evaluating and saving the model</a></span></li></ul></li><li><span><a href=\"#Plotting-the-learning-curve\" data-toc-modified-id=\"Plotting-the-learning-curve-5.5\"><span class=\"toc-item-num\">5.5&nbsp;&nbsp;</span>Plotting the learning curve</a></span></li><li><span><a href=\"#Loading-the-saved-model\" data-toc-modified-id=\"Loading-the-saved-model-5.6\"><span class=\"toc-item-num\">5.6&nbsp;&nbsp;</span>Loading the saved model</a></span></li><li><span><a href=\"#Continuing-training-the-model\" data-toc-modified-id=\"Continuing-training-the-model-5.7\"><span class=\"toc-item-num\">5.7&nbsp;&nbsp;</span>Continuing training the model</a></span></li><li><span><a href=\"#Plotting-the-learning-curve\" data-toc-modified-id=\"Plotting-the-learning-curve-5.8\"><span class=\"toc-item-num\">5.8&nbsp;&nbsp;</span>Plotting the learning curve</a></span></li></ul></li><li><span><a href=\"#Training-(With-ModelCheckpoint-callback-to-Save-the-Best-Model)\" data-toc-modified-id=\"Training-(With-ModelCheckpoint-callback-to-Save-the-Best-Model)-6\"><span class=\"toc-item-num\">6&nbsp;&nbsp;</span>Training (With ModelCheckpoint callback to Save the Best Model)</a></span><ul class=\"toc-item\"><li><span><a href=\"#Building-the-model\" data-toc-modified-id=\"Building-the-model-6.1\"><span class=\"toc-item-num\">6.1&nbsp;&nbsp;</span>Building the model</a></span></li><li><span><a href=\"#Compiling-the-model\" data-toc-modified-id=\"Compiling-the-model-6.2\"><span class=\"toc-item-num\">6.2&nbsp;&nbsp;</span>Compiling the model</a></span></li><li><span><a href=\"#Training-the-model\" data-toc-modified-id=\"Training-the-model-6.3\"><span class=\"toc-item-num\">6.3&nbsp;&nbsp;</span>Training the model</a></span><ul class=\"toc-item\"><li><span><a href=\"#Setting-callbacks\" data-toc-modified-id=\"Setting-callbacks-6.3.1\"><span class=\"toc-item-num\">6.3.1&nbsp;&nbsp;</span>Setting callbacks</a></span></li><li><span><a href=\"#Training,-evaluating-and-saving-the-best-model\" data-toc-modified-id=\"Training,-evaluating-and-saving-the-best-model-6.3.2\"><span class=\"toc-item-num\">6.3.2&nbsp;&nbsp;</span>Training, evaluating and saving the best model</a></span></li></ul></li><li><span><a href=\"#Plotting-the-learning-curve\" data-toc-modified-id=\"Plotting-the-learning-curve-6.4\"><span class=\"toc-item-num\">6.4&nbsp;&nbsp;</span>Plotting the learning curve</a></span></li></ul></li><li><span><a href=\"#Training-(With-ModelCheckpoint-and-EarlyStopping)\" data-toc-modified-id=\"Training-(With-ModelCheckpoint-and-EarlyStopping)-7\"><span class=\"toc-item-num\">7&nbsp;&nbsp;</span>Training (With ModelCheckpoint and EarlyStopping)</a></span><ul class=\"toc-item\"><li><span><a href=\"#Building-the-model\" data-toc-modified-id=\"Building-the-model-7.1\"><span class=\"toc-item-num\">7.1&nbsp;&nbsp;</span>Building the model</a></span></li><li><span><a href=\"#Compiling-the-model\" data-toc-modified-id=\"Compiling-the-model-7.2\"><span class=\"toc-item-num\">7.2&nbsp;&nbsp;</span>Compiling the model</a></span></li><li><span><a href=\"#Training-the-model\" data-toc-modified-id=\"Training-the-model-7.3\"><span class=\"toc-item-num\">7.3&nbsp;&nbsp;</span>Training the model</a></span><ul class=\"toc-item\"><li><span><a href=\"#Setting-callbacks\" data-toc-modified-id=\"Setting-callbacks-7.3.1\"><span class=\"toc-item-num\">7.3.1&nbsp;&nbsp;</span>Setting callbacks</a></span></li><li><span><a href=\"#Training,-evaluating-and-saving-the-best-model\" data-toc-modified-id=\"Training,-evaluating-and-saving-the-best-model-7.3.2\"><span class=\"toc-item-num\">7.3.2&nbsp;&nbsp;</span>Training, evaluating and saving the best model</a></span></li></ul></li><li><span><a href=\"#Plotting-the-learning-curve\" data-toc-modified-id=\"Plotting-the-learning-curve-7.4\"><span class=\"toc-item-num\">7.4&nbsp;&nbsp;</span>Plotting the learning curve</a></span></li></ul></li><li><span><a href=\"#Testing-the-Best-Model\" data-toc-modified-id=\"Testing-the-Best-Model-8\"><span class=\"toc-item-num\">8&nbsp;&nbsp;</span>Testing the Best Model</a></span><ul class=\"toc-item\"><li><span><a href=\"#Loading-the-saved-model\" data-toc-modified-id=\"Loading-the-saved-model-8.1\"><span class=\"toc-item-num\">8.1&nbsp;&nbsp;</span>Loading the saved model</a></span></li><li><span><a href=\"#Evaluating-the-model\" data-toc-modified-id=\"Evaluating-the-model-8.2\"><span class=\"toc-item-num\">8.2&nbsp;&nbsp;</span>Evaluating the model</a></span></li></ul></li><li><span><a href=\"#Reference\" data-toc-modified-id=\"Reference-9\"><span class=\"toc-item-num\">9&nbsp;&nbsp;</span>Reference</a></span></li></ul></div>"
   ]
  },
  {
   "cell_type": "markdown",
   "metadata": {
    "id": "42yc1zUrzlEh"
   },
   "source": [
    "<b>\n",
    "<p>\n",
    "<center>\n",
    "<font size=\"5\">\n",
    "Popular Machine Learning Methods: Idea, Practice and Math\n",
    "</font>\n",
    "</center>\n",
    "</p>\n",
    "\n",
    "<p>\n",
    "<center>\n",
    "<font size=\"4\">\n",
    "Part 3, Chapter 2, Section 1: Deep Neural Networks\n",
    "</font>\n",
    "</center>\n",
    "</p>\n",
    "    \n",
    "<p>\n",
    "<center>\n",
    "<font size=\"4\">\n",
    "Code Example: Fashion-MNIST Dataset\n",
    "</font>\n",
    "</center>\n",
    "</p>\n",
    "\n",
    "<p>\n",
    "<center>\n",
    "<font size=\"3\">\n",
    "Data Science, Columbian College of Arts & Sciences, George Washington University\n",
    "</font>\n",
    "</center>\n",
    "</p>\n",
    "\n",
    "<p>\n",
    "<center>\n",
    "<font size=\"3\">\n",
    "Yuxiao Huang\n",
    "</font>\n",
    "</center>\n",
    "</p>\n",
    "</b>"
   ]
  },
  {
   "cell_type": "markdown",
   "metadata": {
    "id": "rT2SKHw2zlEi"
   },
   "source": [
    "# Overview"
   ]
  },
  {
   "cell_type": "markdown",
   "metadata": {
    "id": "asZWLrJKzlEj"
   },
   "source": [
    "- This notebook includes the code example for Deep Neural Networks (Part 3, Chapter 2, Section 1).\n",
    "- See the accompanied slides in our [github repository](https://github.com/yuxiaohuang/teaching/tree/master/gwu/machine_learning_I/fall_2020/slides/p3_deep_learning/p3_c2_supervised_learning/p3_c2_s1_deep_neural_networks)."
   ]
  },
  {
   "cell_type": "markdown",
   "metadata": {
    "id": "WJ-IbZqAgILJ"
   },
   "source": [
    "# Notebook Configuration"
   ]
  },
  {
   "cell_type": "markdown",
   "metadata": {
    "id": "H3yB94KtgMHu"
   },
   "source": [
    "## Google drive"
   ]
  },
  {
   "cell_type": "code",
   "execution_count": 1,
   "metadata": {
    "colab": {
     "base_uri": "https://localhost:8080/"
    },
    "executionInfo": {
     "elapsed": 20323,
     "status": "ok",
     "timestamp": 1604934937556,
     "user": {
      "displayName": "Huang Yuxiao",
      "photoUrl": "",
      "userId": "05167076769245149404"
     },
     "user_tz": 300
    },
    "id": "jWmYBTOwgNs-",
    "outputId": "b184abf4-0159-4893-acbd-fa35d9d4d905",
    "scrolled": true
   },
   "outputs": [
    {
     "name": "stdout",
     "output_type": "stream",
     "text": [
      "Mounted at /content/drive\n"
     ]
    }
   ],
   "source": [
    "from google.colab import drive\n",
    "import sys\n",
    "\n",
    "# Mount Google Drive\n",
    "drive.mount('/content/drive')\n",
    "\n",
    "# Get the absolute path of the current folder\n",
    "abspath_curr = '/content/drive/My Drive/Colab Notebooks/teaching/gwu/machine_learning_I/code/p3_deep_learning/p3_c2_supervised_learning/p3_c2_s1_deep_neural_networks/code_example/'\n",
    "\n",
    "# Get the absolute path of the deep utilities folder\n",
    "abspath_util_deep = '/content/drive/My Drive/Colab Notebooks/teaching/gwu/machine_learning_I/code/utilities/p3_deep_learning/'"
   ]
  },
  {
   "cell_type": "markdown",
   "metadata": {
    "id": "bYZhU1Wqgmqx"
   },
   "source": [
    "## Warning"
   ]
  },
  {
   "cell_type": "code",
   "execution_count": 2,
   "metadata": {
    "executionInfo": {
     "elapsed": 20322,
     "status": "ok",
     "timestamp": 1604934937557,
     "user": {
      "displayName": "Huang Yuxiao",
      "photoUrl": "",
      "userId": "05167076769245149404"
     },
     "user_tz": 300
    },
    "id": "MUl4k83e4ANR"
   },
   "outputs": [],
   "source": [
    "import warnings\n",
    "\n",
    "# Ignore warnings\n",
    "warnings.filterwarnings('ignore')"
   ]
  },
  {
   "cell_type": "markdown",
   "metadata": {
    "id": "6WMODpPfgn2U"
   },
   "source": [
    "## Matplotlib"
   ]
  },
  {
   "cell_type": "code",
   "execution_count": 3,
   "metadata": {
    "executionInfo": {
     "elapsed": 20320,
     "status": "ok",
     "timestamp": 1604934937557,
     "user": {
      "displayName": "Huang Yuxiao",
      "photoUrl": "",
      "userId": "05167076769245149404"
     },
     "user_tz": 300
    },
    "id": "DBRVH9SB4ANb"
   },
   "outputs": [],
   "source": [
    "import matplotlib.pyplot as plt\n",
    "%matplotlib inline \n",
    "\n",
    "# Set matplotlib sizes\n",
    "plt.rc('font', size=20)\n",
    "plt.rc('axes', titlesize=20)\n",
    "plt.rc('axes', labelsize=20)\n",
    "plt.rc('xtick', labelsize=20)\n",
    "plt.rc('ytick', labelsize=20)\n",
    "plt.rc('legend', fontsize=20)\n",
    "plt.rc('figure', titlesize=20)"
   ]
  },
  {
   "cell_type": "markdown",
   "metadata": {
    "id": "n-wNDk5nZhhO"
   },
   "source": [
    "## TensorFlow"
   ]
  },
  {
   "cell_type": "code",
   "execution_count": 4,
   "metadata": {
    "executionInfo": {
     "elapsed": 21617,
     "status": "ok",
     "timestamp": 1604934938856,
     "user": {
      "displayName": "Huang Yuxiao",
      "photoUrl": "",
      "userId": "05167076769245149404"
     },
     "user_tz": 300
    },
    "id": "LjG43tEnZkfE"
   },
   "outputs": [],
   "source": [
    "# The magic below allows us to use tensorflow version 2.x\n",
    "%tensorflow_version 2.x \n",
    "import tensorflow as tf\n",
    "from tensorflow import keras"
   ]
  },
  {
   "cell_type": "markdown",
   "metadata": {
    "id": "40FN3UNfO2Z7"
   },
   "source": [
    "## Random seed"
   ]
  },
  {
   "cell_type": "code",
   "execution_count": 5,
   "metadata": {
    "executionInfo": {
     "elapsed": 21617,
     "status": "ok",
     "timestamp": 1604934938857,
     "user": {
      "displayName": "Huang Yuxiao",
      "photoUrl": "",
      "userId": "05167076769245149404"
     },
     "user_tz": 300
    },
    "id": "uSADk0hJP71d"
   },
   "outputs": [],
   "source": [
    "# The random seed\n",
    "random_seed = 42\n",
    "\n",
    "# Set random seed in tensorflow\n",
    "tf.random.set_seed(random_seed)\n",
    "\n",
    "# Set random seed in numpy\n",
    "import numpy as np\n",
    "np.random.seed(random_seed)"
   ]
  },
  {
   "cell_type": "markdown",
   "metadata": {
    "id": "1eOpQpPu4ANk"
   },
   "source": [
    "# Data Preprocessing"
   ]
  },
  {
   "cell_type": "code",
   "execution_count": 6,
   "metadata": {
    "colab": {
     "base_uri": "https://localhost:8080/"
    },
    "executionInfo": {
     "elapsed": 23981,
     "status": "ok",
     "timestamp": 1604934941235,
     "user": {
      "displayName": "Huang Yuxiao",
      "photoUrl": "",
      "userId": "05167076769245149404"
     },
     "user_tz": 300
    },
    "id": "D-Mwc6MczlFD",
    "outputId": "96082a06-4461-4479-9c5c-1dedd36df3e2"
   },
   "outputs": [
    {
     "name": "stdout",
     "output_type": "stream",
     "text": [
      "/content/drive/My Drive/Colab Notebooks/teaching/gwu/machine_learning_I/code/utilities/p3_deep_learning\n"
     ]
    }
   ],
   "source": [
    "# Change working directory to the absolute path of the deep utilities folder\n",
    "%cd $abspath_util_deep\n",
    "\n",
    "# Import the deep utitilities\n",
    "%run pmlm_utilities_deep.ipynb"
   ]
  },
  {
   "cell_type": "markdown",
   "metadata": {
    "id": "xnJAfR784ANl"
   },
   "source": [
    "## Loading the data"
   ]
  },
  {
   "cell_type": "markdown",
   "metadata": {
    "id": "LM_WKAmO4ANm"
   },
   "source": [
    "In this code example, we will work on the [Fashion-MNIST dataset](https://www.tensorflow.org/datasets/catalog/fashion_mnist)."
   ]
  },
  {
   "cell_type": "markdown",
   "metadata": {
    "id": "IEjvHlLB8X0z"
   },
   "source": [
    "### Creating the directory for the data"
   ]
  },
  {
   "cell_type": "code",
   "execution_count": 7,
   "metadata": {
    "executionInfo": {
     "elapsed": 24514,
     "status": "ok",
     "timestamp": 1604934941769,
     "user": {
      "displayName": "Huang Yuxiao",
      "photoUrl": "",
      "userId": "05167076769245149404"
     },
     "user_tz": 300
    },
    "id": "reijpcaf8UgO"
   },
   "outputs": [],
   "source": [
    "import os\n",
    "\n",
    "# Make directory\n",
    "directory = os.path.dirname(abspath_curr + '/data/')\n",
    "if not os.path.exists(directory):\n",
    "    os.makedirs(directory)"
   ]
  },
  {
   "cell_type": "markdown",
   "metadata": {
    "id": "-sDdbhok2i7C"
   },
   "source": [
    "### Downloading the data to the directory"
   ]
  },
  {
   "cell_type": "code",
   "execution_count": 8,
   "metadata": {
    "executionInfo": {
     "elapsed": 32550,
     "status": "ok",
     "timestamp": 1604934949806,
     "user": {
      "displayName": "Huang Yuxiao",
      "photoUrl": "",
      "userId": "05167076769245149404"
     },
     "user_tz": 300
    },
    "id": "6onKpDeL4ANn",
    "scrolled": true
   },
   "outputs": [],
   "source": [
    "import tensorflow_datasets as tfds\n",
    "\n",
    "# Get the name of the data\n",
    "data_name = 'fashion_mnist'\n",
    "\n",
    "# Load data\n",
    "data, info = tfds.load(name=data_name,\n",
    "                       data_dir=abspath_curr + '/data/',\n",
    "                       as_supervised=True,\n",
    "                       with_info=True)"
   ]
  },
  {
   "cell_type": "markdown",
   "metadata": {
    "id": "yvIqSuZUVBb8"
   },
   "source": [
    "## Getting the name of the target"
   ]
  },
  {
   "cell_type": "code",
   "execution_count": 9,
   "metadata": {
    "executionInfo": {
     "elapsed": 32552,
     "status": "ok",
     "timestamp": 1604934949809,
     "user": {
      "displayName": "Huang Yuxiao",
      "photoUrl": "",
      "userId": "05167076769245149404"
     },
     "user_tz": 300
    },
    "id": "AF5gbpOWVElL"
   },
   "outputs": [],
   "source": [
    "target = 'label'"
   ]
  },
  {
   "cell_type": "markdown",
   "metadata": {
    "id": "ugddFhUgVGWq"
   },
   "source": [
    "## Getting the info"
   ]
  },
  {
   "cell_type": "code",
   "execution_count": 10,
   "metadata": {
    "colab": {
     "base_uri": "https://localhost:8080/"
    },
    "executionInfo": {
     "elapsed": 32538,
     "status": "ok",
     "timestamp": 1604934949809,
     "user": {
      "displayName": "Huang Yuxiao",
      "photoUrl": "",
      "userId": "05167076769245149404"
     },
     "user_tz": 300
    },
    "id": "A85zWEqMjP5E",
    "outputId": "46d88e5d-d2d2-4e28-bafb-f4cd7283fd84"
   },
   "outputs": [
    {
     "data": {
      "text/plain": [
       "{'test': <tfds.core.SplitInfo num_examples=10000>,\n",
       " 'train': <tfds.core.SplitInfo num_examples=60000>}"
      ]
     },
     "execution_count": 10,
     "metadata": {
      "tags": []
     },
     "output_type": "execute_result"
    }
   ],
   "source": [
    "# Print the splits\n",
    "info.splits"
   ]
  },
  {
   "cell_type": "code",
   "execution_count": 11,
   "metadata": {
    "colab": {
     "base_uri": "https://localhost:8080/"
    },
    "executionInfo": {
     "elapsed": 32524,
     "status": "ok",
     "timestamp": 1604934949809,
     "user": {
      "displayName": "Huang Yuxiao",
      "photoUrl": "",
      "userId": "05167076769245149404"
     },
     "user_tz": 300
    },
    "id": "vsSHR38vjL1G",
    "outputId": "93c724a2-ba38-4d71-adea-9481624af83a"
   },
   "outputs": [
    {
     "data": {
      "text/plain": [
       "['T-shirt/top',\n",
       " 'Trouser',\n",
       " 'Pullover',\n",
       " 'Dress',\n",
       " 'Coat',\n",
       " 'Sandal',\n",
       " 'Shirt',\n",
       " 'Sneaker',\n",
       " 'Bag',\n",
       " 'Ankle boot']"
      ]
     },
     "execution_count": 11,
     "metadata": {
      "tags": []
     },
     "output_type": "execute_result"
    }
   ],
   "source": [
    "# Get the classes\n",
    "classes = info.features['label'].names\n",
    "\n",
    "# Print the classes\n",
    "classes"
   ]
  },
  {
   "cell_type": "code",
   "execution_count": 12,
   "metadata": {
    "colab": {
     "base_uri": "https://localhost:8080/"
    },
    "executionInfo": {
     "elapsed": 32510,
     "status": "ok",
     "timestamp": 1604934949809,
     "user": {
      "displayName": "Huang Yuxiao",
      "photoUrl": "",
      "userId": "05167076769245149404"
     },
     "user_tz": 300
    },
    "id": "hD0wa74kS_53",
    "outputId": "57db9651-1e4c-450e-86ff-747056dc106c"
   },
   "outputs": [
    {
     "data": {
      "text/plain": [
       "10"
      ]
     },
     "execution_count": 12,
     "metadata": {
      "tags": []
     },
     "output_type": "execute_result"
    }
   ],
   "source": [
    "# Get the number of classes\n",
    "n_classes = info.features['label'].num_classes\n",
    "\n",
    "# Print the number of classes\n",
    "info.features['label'].num_classes"
   ]
  },
  {
   "cell_type": "markdown",
   "metadata": {
    "id": "jGLoCbmO4AN9"
   },
   "source": [
    "## Getting the training, validation and test data"
   ]
  },
  {
   "cell_type": "code",
   "execution_count": 13,
   "metadata": {
    "executionInfo": {
     "elapsed": 32510,
     "status": "ok",
     "timestamp": 1604934949810,
     "user": {
      "displayName": "Huang Yuxiao",
      "photoUrl": "",
      "userId": "05167076769245149404"
     },
     "user_tz": 300
    },
    "id": "a2P4L1vS4AN_"
   },
   "outputs": [],
   "source": [
    "# Set the training, validation and test split\n",
    "split_train, split_valid, split_test = 'train[:70%]', 'train[70%:]', 'test'\n",
    "\n",
    "# Get the training data\n",
    "data_train = tfds.load(name=data_name,\n",
    "                       split=split_train,\n",
    "                       data_dir=abspath_curr + '/data/',\n",
    "                       as_supervised=True)\n",
    "\n",
    "# Get the validation data\n",
    "data_valid = tfds.load(name=data_name,\n",
    "                       split=split_valid,\n",
    "                       data_dir=abspath_curr + '/data/',\n",
    "                       as_supervised=True)\n",
    "\n",
    "# Get the test data\n",
    "data_test = tfds.load(name=data_name,\n",
    "                      split=split_test,\n",
    "                      data_dir=abspath_curr + '/data/',\n",
    "                      as_supervised=True)"
   ]
  },
  {
   "cell_type": "markdown",
   "metadata": {
    "id": "sZUSCJjyXxYE"
   },
   "source": [
    "## Normalizing the data"
   ]
  },
  {
   "cell_type": "code",
   "execution_count": 14,
   "metadata": {
    "executionInfo": {
     "elapsed": 32509,
     "status": "ok",
     "timestamp": 1604934949810,
     "user": {
      "displayName": "Huang Yuxiao",
      "photoUrl": "",
      "userId": "05167076769245149404"
     },
     "user_tz": 300
    },
    "id": "CfV6k87Ihz_u"
   },
   "outputs": [],
   "source": [
    "# Call preprocess\n",
    "# See the implementation in pmlm_utilities_deep.ipynb\n",
    "\n",
    "# Normalize the training data\n",
    "data_train = data_train.map(normalize)\n",
    "\n",
    "# Normalize the validation data\n",
    "data_valid = data_valid.map(normalize)\n",
    "\n",
    "# Normalize the test data\n",
    "data_test = data_test.map(normalize)"
   ]
  },
  {
   "cell_type": "markdown",
   "metadata": {
    "id": "e9oPQZ7limeD"
   },
   "source": [
    "## Shuffling, batching and prefetching the data"
   ]
  },
  {
   "cell_type": "code",
   "execution_count": 15,
   "metadata": {
    "executionInfo": {
     "elapsed": 32508,
     "status": "ok",
     "timestamp": 1604934949810,
     "user": {
      "displayName": "Huang Yuxiao",
      "photoUrl": "",
      "userId": "05167076769245149404"
     },
     "user_tz": 300
    },
    "id": "p95Fq3PFbaAL"
   },
   "outputs": [],
   "source": [
    "# Shuffling the training data\n",
    "data_train = data_train.shuffle(buffer_size=1000, seed=42)\n",
    "\n",
    "# Set the batch size\n",
    "batch_size = 16\n",
    "\n",
    "# Batch and prefetch the training data\n",
    "data_train = data_train.batch(batch_size).prefetch(1)\n",
    "\n",
    "# Batch and prefetch the validation data\n",
    "data_valid = data_valid.batch(batch_size).prefetch(1)\n",
    "\n",
    "# Batch and prefetch the test data\n",
    "data_test = data_test.batch(batch_size).prefetch(1)"
   ]
  },
  {
   "cell_type": "markdown",
   "metadata": {
    "id": "rMLlv9xK4AO9"
   },
   "source": [
    "# Training (Without Callback)"
   ]
  },
  {
   "cell_type": "markdown",
   "metadata": {
    "id": "tadOFNHsaCCj"
   },
   "source": [
    "## Building the model"
   ]
  },
  {
   "cell_type": "markdown",
   "metadata": {
    "id": "MrmKev8JaBXc"
   },
   "source": [
    " ### A step by step approach"
   ]
  },
  {
   "cell_type": "code",
   "execution_count": 16,
   "metadata": {
    "executionInfo": {
     "elapsed": 32507,
     "status": "ok",
     "timestamp": 1604934949810,
     "user": {
      "displayName": "Huang Yuxiao",
      "photoUrl": "",
      "userId": "05167076769245149404"
     },
     "user_tz": 300
    },
    "id": "lYq-8ZYia_dL"
   },
   "outputs": [],
   "source": [
    "# A sequential dnn\n",
    "model = keras.models.Sequential()\n",
    "\n",
    "# Add the input layer\n",
    "model.add(keras.layers.Flatten(input_shape=[28, 28]))\n",
    "\n",
    "# Add two hidden layers\n",
    "model.add(keras.layers.Dense(50, activation='relu'))\n",
    "model.add(keras.layers.Dense(50, activation='relu'))\n",
    "\n",
    "# Add the output layer\n",
    "model.add(keras.layers.Dense(10, activation='softmax'))"
   ]
  },
  {
   "cell_type": "markdown",
   "metadata": {
    "id": "wZ88p-q4bC_5"
   },
   "source": [
    "### A one step approach"
   ]
  },
  {
   "cell_type": "code",
   "execution_count": 17,
   "metadata": {
    "executionInfo": {
     "elapsed": 32507,
     "status": "ok",
     "timestamp": 1604934949811,
     "user": {
      "displayName": "Huang Yuxiao",
      "photoUrl": "",
      "userId": "05167076769245149404"
     },
     "user_tz": 300
    },
    "id": "aA-szs5vbE1o"
   },
   "outputs": [],
   "source": [
    "# A sequential dnn with two hidden layers\n",
    "model = keras.models.Sequential([keras.layers.Flatten(input_shape=[28, 28]),\n",
    "                                 keras.layers.Dense(50, activation='relu'),\n",
    "                                 keras.layers.Dense(50, activation='relu'),\n",
    "                                 keras.layers.Dense(10, activation='softmax')])"
   ]
  },
  {
   "cell_type": "markdown",
   "metadata": {
    "id": "WH5LCcCvbNsM"
   },
   "source": [
    "### The model summary"
   ]
  },
  {
   "cell_type": "code",
   "execution_count": 18,
   "metadata": {
    "colab": {
     "base_uri": "https://localhost:8080/"
    },
    "executionInfo": {
     "elapsed": 32493,
     "status": "ok",
     "timestamp": 1604934949811,
     "user": {
      "displayName": "Huang Yuxiao",
      "photoUrl": "",
      "userId": "05167076769245149404"
     },
     "user_tz": 300
    },
    "id": "Nd37DOGLaAa6",
    "outputId": "f6af6db5-d86e-4f26-fa91-02687d46e458"
   },
   "outputs": [
    {
     "name": "stdout",
     "output_type": "stream",
     "text": [
      "Model: \"sequential_1\"\n",
      "_________________________________________________________________\n",
      "Layer (type)                 Output Shape              Param #   \n",
      "=================================================================\n",
      "flatten_1 (Flatten)          (None, 784)               0         \n",
      "_________________________________________________________________\n",
      "dense_3 (Dense)              (None, 50)                39250     \n",
      "_________________________________________________________________\n",
      "dense_4 (Dense)              (None, 50)                2550      \n",
      "_________________________________________________________________\n",
      "dense_5 (Dense)              (None, 10)                510       \n",
      "=================================================================\n",
      "Total params: 42,310\n",
      "Trainable params: 42,310\n",
      "Non-trainable params: 0\n",
      "_________________________________________________________________\n"
     ]
    }
   ],
   "source": [
    "model.summary()"
   ]
  },
  {
   "cell_type": "markdown",
   "metadata": {
    "id": "iGISytqvZ_C0"
   },
   "source": [
    "## Compiling the model"
   ]
  },
  {
   "cell_type": "code",
   "execution_count": 19,
   "metadata": {
    "executionInfo": {
     "elapsed": 32492,
     "status": "ok",
     "timestamp": 1604934949811,
     "user": {
      "displayName": "Huang Yuxiao",
      "photoUrl": "",
      "userId": "05167076769245149404"
     },
     "user_tz": 300
    },
    "id": "aaMjBK2kZ-WX"
   },
   "outputs": [],
   "source": [
    "# Compile the model\n",
    "model.compile(optimizer=keras.optimizers.SGD(),\n",
    "              loss='sparse_categorical_crossentropy',\n",
    "              metrics=['accuracy'])"
   ]
  },
  {
   "cell_type": "markdown",
   "metadata": {
    "id": "ba6nZQcO7Wjv"
   },
   "source": [
    "## Training the model"
   ]
  },
  {
   "cell_type": "code",
   "execution_count": 20,
   "metadata": {
    "colab": {
     "base_uri": "https://localhost:8080/"
    },
    "executionInfo": {
     "elapsed": 119800,
     "status": "ok",
     "timestamp": 1604935037133,
     "user": {
      "displayName": "Huang Yuxiao",
      "photoUrl": "",
      "userId": "05167076769245149404"
     },
     "user_tz": 300
    },
    "id": "WPC7Obrq7ZDy",
    "outputId": "4cc678f0-b08c-4718-bc43-e3b2f5fb4757"
   },
   "outputs": [
    {
     "name": "stdout",
     "output_type": "stream",
     "text": [
      "Epoch 1/10\n",
      "2625/2625 [==============================] - 12s 5ms/step - loss: 0.7334 - accuracy: 0.7470 - val_loss: 0.5248 - val_accuracy: 0.8157\n",
      "Epoch 2/10\n",
      "2625/2625 [==============================] - 8s 3ms/step - loss: 0.5012 - accuracy: 0.8229 - val_loss: 0.4738 - val_accuracy: 0.8349\n",
      "Epoch 3/10\n",
      "2625/2625 [==============================] - 8s 3ms/step - loss: 0.4515 - accuracy: 0.8410 - val_loss: 0.4361 - val_accuracy: 0.8471\n",
      "Epoch 4/10\n",
      "2625/2625 [==============================] - 8s 3ms/step - loss: 0.4227 - accuracy: 0.8510 - val_loss: 0.4155 - val_accuracy: 0.8528\n",
      "Epoch 5/10\n",
      "2625/2625 [==============================] - 8s 3ms/step - loss: 0.3998 - accuracy: 0.8587 - val_loss: 0.3935 - val_accuracy: 0.8579\n",
      "Epoch 6/10\n",
      "2625/2625 [==============================] - 8s 3ms/step - loss: 0.3844 - accuracy: 0.8648 - val_loss: 0.3810 - val_accuracy: 0.8637\n",
      "Epoch 7/10\n",
      "2625/2625 [==============================] - 8s 3ms/step - loss: 0.3709 - accuracy: 0.8678 - val_loss: 0.3799 - val_accuracy: 0.8613\n",
      "Epoch 8/10\n",
      "2625/2625 [==============================] - 8s 3ms/step - loss: 0.3608 - accuracy: 0.8710 - val_loss: 0.3730 - val_accuracy: 0.8663\n",
      "Epoch 9/10\n",
      "2625/2625 [==============================] - 8s 3ms/step - loss: 0.3489 - accuracy: 0.8750 - val_loss: 0.3654 - val_accuracy: 0.8673\n",
      "Epoch 10/10\n",
      "2625/2625 [==============================] - 8s 3ms/step - loss: 0.3413 - accuracy: 0.8778 - val_loss: 0.3554 - val_accuracy: 0.8728\n"
     ]
    }
   ],
   "source": [
    "# Train and evaluate the model\n",
    "history = model.fit(data_train,\n",
    "                    epochs=10,\n",
    "                    validation_data=data_valid)"
   ]
  },
  {
   "cell_type": "markdown",
   "metadata": {
    "id": "kNN6M5wH7vis"
   },
   "source": [
    "## Plotting the learning curve"
   ]
  },
  {
   "cell_type": "markdown",
   "metadata": {
    "id": "YXGVkBFl78Cr"
   },
   "source": [
    "### Creating the directory for the figure"
   ]
  },
  {
   "cell_type": "code",
   "execution_count": 21,
   "metadata": {
    "executionInfo": {
     "elapsed": 119798,
     "status": "ok",
     "timestamp": 1604935037133,
     "user": {
      "displayName": "Huang Yuxiao",
      "photoUrl": "",
      "userId": "05167076769245149404"
     },
     "user_tz": 300
    },
    "id": "96NjNOfw7xK3"
   },
   "outputs": [],
   "source": [
    "# Make directory\n",
    "directory = os.path.dirname(abspath_curr + '/result/figure/')\n",
    "if not os.path.exists(directory):\n",
    "    os.makedirs(directory)"
   ]
  },
  {
   "cell_type": "markdown",
   "metadata": {
    "id": "MAg4LlUjb1Uz"
   },
   "source": [
    "### Plotting the figure"
   ]
  },
  {
   "cell_type": "code",
   "execution_count": 22,
   "metadata": {
    "colab": {
     "base_uri": "https://localhost:8080/",
     "height": 348
    },
    "executionInfo": {
     "elapsed": 122060,
     "status": "ok",
     "timestamp": 1604935039409,
     "user": {
      "displayName": "Huang Yuxiao",
      "photoUrl": "",
      "userId": "05167076769245149404"
     },
     "user_tz": 300
    },
    "id": "-1AWpDxk8fqM",
    "outputId": "5c09a2bc-20ce-4218-9c25-ebbc21a93042"
   },
   "outputs": [
    {
     "data": {
      "image/png": "[encoded data removed]",
      "text/plain": [
       "<Figure size 576x360 with 1 Axes>"
      ]
     },
     "metadata": {
      "needs_background": "light",
      "tags": []
     },
     "output_type": "display_data"
    }
   ],
   "source": [
    "import pandas as pd\n",
    "\n",
    "# Create a figure\n",
    "pd.DataFrame(history.history).plot(figsize=(8, 5))\n",
    "\n",
    "# Save and show the figure\n",
    "plt.tight_layout()\n",
    "plt.savefig(abspath_curr + '/result/figure/learning_curve_without_callback_10.pdf')\n",
    "plt.show()"
   ]
  },
  {
   "cell_type": "markdown",
   "metadata": {
    "id": "M-1Zj2vO9DyX"
   },
   "source": [
    "## Continuing training the model"
   ]
  },
  {
   "cell_type": "code",
   "execution_count": 23,
   "metadata": {
    "colab": {
     "base_uri": "https://localhost:8080/"
    },
    "executionInfo": {
     "elapsed": 162615,
     "status": "ok",
     "timestamp": 1604935079978,
     "user": {
      "displayName": "Huang Yuxiao",
      "photoUrl": "",
      "userId": "05167076769245149404"
     },
     "user_tz": 300
    },
    "id": "snUBjSrq9RhL",
    "outputId": "bd18ea31-6ba6-43e1-c935-e769da2c1cbd"
   },
   "outputs": [
    {
     "name": "stdout",
     "output_type": "stream",
     "text": [
      "Epoch 1/5\n",
      "2625/2625 [==============================] - 8s 3ms/step - loss: 0.3322 - accuracy: 0.8815 - val_loss: 0.3559 - val_accuracy: 0.8703\n",
      "Epoch 2/5\n",
      "2625/2625 [==============================] - 8s 3ms/step - loss: 0.3248 - accuracy: 0.8843 - val_loss: 0.3598 - val_accuracy: 0.8700\n",
      "Epoch 3/5\n",
      "2625/2625 [==============================] - 8s 3ms/step - loss: 0.3174 - accuracy: 0.8854 - val_loss: 0.3427 - val_accuracy: 0.8773\n",
      "Epoch 4/5\n",
      "2625/2625 [==============================] - 8s 3ms/step - loss: 0.3114 - accuracy: 0.8875 - val_loss: 0.3488 - val_accuracy: 0.8723\n",
      "Epoch 5/5\n",
      "2625/2625 [==============================] - 9s 3ms/step - loss: 0.3057 - accuracy: 0.8914 - val_loss: 0.3444 - val_accuracy: 0.8745\n"
     ]
    }
   ],
   "source": [
    "# Train and evaluate the model\n",
    "history = model.fit(data_train,\n",
    "                    epochs=5,\n",
    "                    validation_data=data_valid)"
   ]
  },
  {
   "cell_type": "markdown",
   "metadata": {
    "id": "FVHoHUQX9X6C"
   },
   "source": [
    "## Plotting the learning curve"
   ]
  },
  {
   "cell_type": "code",
   "execution_count": 24,
   "metadata": {
    "colab": {
     "base_uri": "https://localhost:8080/",
     "height": 348
    },
    "executionInfo": {
     "elapsed": 162887,
     "status": "ok",
     "timestamp": 1604935080265,
     "user": {
      "displayName": "Huang Yuxiao",
      "photoUrl": "",
      "userId": "05167076769245149404"
     },
     "user_tz": 300
    },
    "id": "RpO4aqUU9gZ2",
    "outputId": "eaad0f6c-a913-4022-fb2b-0e72d7420ddd"
   },
   "outputs": [
    {
     "data": {
      "image/png": "[encoded data removed]",
      "text/plain": [
       "<Figure size 576x360 with 1 Axes>"
      ]
     },
     "metadata": {
      "needs_background": "light",
      "tags": []
     },
     "output_type": "display_data"
    }
   ],
   "source": [
    "# Create a figure\n",
    "pd.DataFrame(history.history).plot(figsize=(8, 5))\n",
    "\n",
    "# Save and show the figure\n",
    "plt.tight_layout()\n",
    "plt.savefig(abspath_curr + '/result/figure/learning_curve_without_callback_10_20.pdf')\n",
    "plt.show()"
   ]
  },
  {
   "cell_type": "markdown",
   "metadata": {
    "id": "YddKUU4Y9j7w"
   },
   "source": [
    "# Training (With ModelCheckpoint callback to Save the Model)"
   ]
  },
  {
   "cell_type": "markdown",
   "metadata": {
    "id": "Bgnj4lj3cUCt"
   },
   "source": [
    "## Creating the directory for the saved model"
   ]
  },
  {
   "cell_type": "code",
   "execution_count": 25,
   "metadata": {
    "executionInfo": {
     "elapsed": 162886,
     "status": "ok",
     "timestamp": 1604935080265,
     "user": {
      "displayName": "Huang Yuxiao",
      "photoUrl": "",
      "userId": "05167076769245149404"
     },
     "user_tz": 300
    },
    "id": "mL8IheVrcVWh"
   },
   "outputs": [],
   "source": [
    "# Make directory\n",
    "directory = os.path.dirname(abspath_curr + '/result/model/')\n",
    "if not os.path.exists(directory):\n",
    "    os.makedirs(directory)"
   ]
  },
  {
   "cell_type": "markdown",
   "metadata": {
    "id": "MZXkv8srb1IS"
   },
   "source": [
    "## Building the model"
   ]
  },
  {
   "cell_type": "code",
   "execution_count": 26,
   "metadata": {
    "colab": {
     "base_uri": "https://localhost:8080/"
    },
    "executionInfo": {
     "elapsed": 162873,
     "status": "ok",
     "timestamp": 1604935080266,
     "user": {
      "displayName": "Huang Yuxiao",
      "photoUrl": "",
      "userId": "05167076769245149404"
     },
     "user_tz": 300
    },
    "id": "aIR5sQVsb5Yh",
    "outputId": "f7194196-b96b-44ec-c1ea-1e14fc7a2a40"
   },
   "outputs": [
    {
     "name": "stdout",
     "output_type": "stream",
     "text": [
      "Model: \"sequential_2\"\n",
      "_________________________________________________________________\n",
      "Layer (type)                 Output Shape              Param #   \n",
      "=================================================================\n",
      "flatten_2 (Flatten)          (None, 784)               0         \n",
      "_________________________________________________________________\n",
      "dense_6 (Dense)              (None, 50)                39250     \n",
      "_________________________________________________________________\n",
      "dense_7 (Dense)              (None, 50)                2550      \n",
      "_________________________________________________________________\n",
      "dense_8 (Dense)              (None, 10)                510       \n",
      "=================================================================\n",
      "Total params: 42,310\n",
      "Trainable params: 42,310\n",
      "Non-trainable params: 0\n",
      "_________________________________________________________________\n"
     ]
    }
   ],
   "source": [
    "# A sequential dnn\n",
    "model = keras.models.Sequential()\n",
    "\n",
    "# Add the input layer\n",
    "model.add(keras.layers.Flatten(input_shape=[28, 28]))\n",
    "\n",
    "# Add two hidden layers\n",
    "model.add(keras.layers.Dense(50, activation='relu'))\n",
    "model.add(keras.layers.Dense(50, activation='relu'))\n",
    "\n",
    "# Add the output layer\n",
    "model.add(keras.layers.Dense(10, activation='softmax'))\n",
    "\n",
    "# The model summary\n",
    "model.summary()"
   ]
  },
  {
   "cell_type": "markdown",
   "metadata": {
    "id": "9u4FMgAsMcgN"
   },
   "source": [
    "## Compiling the model"
   ]
  },
  {
   "cell_type": "code",
   "execution_count": 27,
   "metadata": {
    "executionInfo": {
     "elapsed": 162872,
     "status": "ok",
     "timestamp": 1604935080266,
     "user": {
      "displayName": "Huang Yuxiao",
      "photoUrl": "",
      "userId": "05167076769245149404"
     },
     "user_tz": 300
    },
    "id": "R4oQfnVpMdo-"
   },
   "outputs": [],
   "source": [
    "# Compile the model\n",
    "model.compile(optimizer=keras.optimizers.SGD(),\n",
    "              loss='sparse_categorical_crossentropy',\n",
    "              metrics=['accuracy'])"
   ]
  },
  {
   "cell_type": "markdown",
   "metadata": {
    "id": "gLdyw9n_VzUb"
   },
   "source": [
    "## Training the model"
   ]
  },
  {
   "cell_type": "markdown",
   "metadata": {
    "id": "u9KTlbBT8EXs"
   },
   "source": [
    "### Setting callbacks"
   ]
  },
  {
   "cell_type": "code",
   "execution_count": 28,
   "metadata": {
    "executionInfo": {
     "elapsed": 162871,
     "status": "ok",
     "timestamp": 1604935080266,
     "user": {
      "displayName": "Huang Yuxiao",
      "photoUrl": "",
      "userId": "05167076769245149404"
     },
     "user_tz": 300
    },
    "id": "5_iUDJLP8K44"
   },
   "outputs": [],
   "source": [
    "# ModelCheckpoint callback\n",
    "model_checkpoint_cb = keras.callbacks.ModelCheckpoint(filepath=abspath_curr + '/result/model/model.h5',\n",
    "                                                      save_weights_only=True)"
   ]
  },
  {
   "cell_type": "markdown",
   "metadata": {
    "id": "3ylOeFwqb1U8"
   },
   "source": [
    "### Training, evaluating and saving the model"
   ]
  },
  {
   "cell_type": "code",
   "execution_count": 29,
   "metadata": {
    "colab": {
     "base_uri": "https://localhost:8080/"
    },
    "executionInfo": {
     "elapsed": 249798,
     "status": "ok",
     "timestamp": 1604935167207,
     "user": {
      "displayName": "Huang Yuxiao",
      "photoUrl": "",
      "userId": "05167076769245149404"
     },
     "user_tz": 300
    },
    "id": "0lES5CBZV176",
    "outputId": "6ebef0dd-d9a8-4173-d62e-48dd68201b72"
   },
   "outputs": [
    {
     "name": "stdout",
     "output_type": "stream",
     "text": [
      "Epoch 1/10\n",
      "2625/2625 [==============================] - 10s 4ms/step - loss: 0.7345 - accuracy: 0.7448 - val_loss: 0.5493 - val_accuracy: 0.8036\n",
      "Epoch 2/10\n",
      "2625/2625 [==============================] - 8s 3ms/step - loss: 0.4959 - accuracy: 0.8258 - val_loss: 0.4610 - val_accuracy: 0.8386\n",
      "Epoch 3/10\n",
      "2625/2625 [==============================] - 9s 3ms/step - loss: 0.4488 - accuracy: 0.8417 - val_loss: 0.4547 - val_accuracy: 0.8348\n",
      "Epoch 4/10\n",
      "2625/2625 [==============================] - 8s 3ms/step - loss: 0.4212 - accuracy: 0.8507 - val_loss: 0.4229 - val_accuracy: 0.8495\n",
      "Epoch 5/10\n",
      "2625/2625 [==============================] - 8s 3ms/step - loss: 0.4027 - accuracy: 0.8581 - val_loss: 0.3968 - val_accuracy: 0.8582\n",
      "Epoch 6/10\n",
      "2625/2625 [==============================] - 9s 3ms/step - loss: 0.3860 - accuracy: 0.8630 - val_loss: 0.3895 - val_accuracy: 0.8594\n",
      "Epoch 7/10\n",
      "2625/2625 [==============================] - 8s 3ms/step - loss: 0.3732 - accuracy: 0.8677 - val_loss: 0.3819 - val_accuracy: 0.8629\n",
      "Epoch 8/10\n",
      "2625/2625 [==============================] - 8s 3ms/step - loss: 0.3614 - accuracy: 0.8715 - val_loss: 0.3898 - val_accuracy: 0.8602\n",
      "Epoch 9/10\n",
      "2625/2625 [==============================] - 8s 3ms/step - loss: 0.3514 - accuracy: 0.8745 - val_loss: 0.3900 - val_accuracy: 0.8643\n",
      "Epoch 10/10\n",
      "2625/2625 [==============================] - 8s 3ms/step - loss: 0.3438 - accuracy: 0.8772 - val_loss: 0.3735 - val_accuracy: 0.8654\n"
     ]
    }
   ],
   "source": [
    "history = model.fit(data_train,\n",
    "                    epochs=10,\n",
    "                    validation_data=data_valid,\n",
    "                    callbacks=[model_checkpoint_cb])"
   ]
  },
  {
   "cell_type": "markdown",
   "metadata": {
    "id": "naOELFqc6pSB"
   },
   "source": [
    "## Plotting the learning curve"
   ]
  },
  {
   "cell_type": "code",
   "execution_count": 30,
   "metadata": {
    "colab": {
     "base_uri": "https://localhost:8080/",
     "height": 348
    },
    "executionInfo": {
     "elapsed": 250507,
     "status": "ok",
     "timestamp": 1604935167930,
     "user": {
      "displayName": "Huang Yuxiao",
      "photoUrl": "",
      "userId": "05167076769245149404"
     },
     "user_tz": 300
    },
    "id": "ZucB_4TQ4APW",
    "outputId": "94ce3cf8-1d88-4a95-dfb8-55b007580006"
   },
   "outputs": [
    {
     "data": {
      "image/png": "[encoded data removed]",
      "text/plain": [
       "<Figure size 576x360 with 1 Axes>"
      ]
     },
     "metadata": {
      "needs_background": "light",
      "tags": []
     },
     "output_type": "display_data"
    }
   ],
   "source": [
    "# Create a figure\n",
    "pd.DataFrame(history.history).plot(figsize=(8, 5))\n",
    "\n",
    "# Save and show the figure\n",
    "plt.tight_layout()\n",
    "plt.savefig(abspath_curr + '/result/figure/learning_curve_with_modelcheckpoint_save_10.pdf')\n",
    "plt.show()"
   ]
  },
  {
   "cell_type": "markdown",
   "metadata": {
    "id": "IzuVOyb4MDsO"
   },
   "source": [
    "## Loading the saved model"
   ]
  },
  {
   "cell_type": "code",
   "execution_count": 31,
   "metadata": {
    "executionInfo": {
     "elapsed": 250506,
     "status": "ok",
     "timestamp": 1604935167930,
     "user": {
      "displayName": "Huang Yuxiao",
      "photoUrl": "",
      "userId": "05167076769245149404"
     },
     "user_tz": 300
    },
    "id": "gG-RcICvMHSC"
   },
   "outputs": [],
   "source": [
    "# Load the saved model\n",
    "model.load_weights(filepath=abspath_curr + '/result/model/model.h5')"
   ]
  },
  {
   "cell_type": "markdown",
   "metadata": {
    "id": "9hZ_aQOvHoOd"
   },
   "source": [
    "## Continuing training the model"
   ]
  },
  {
   "cell_type": "code",
   "execution_count": 32,
   "metadata": {
    "colab": {
     "base_uri": "https://localhost:8080/"
    },
    "executionInfo": {
     "elapsed": 291944,
     "status": "ok",
     "timestamp": 1604935209382,
     "user": {
      "displayName": "Huang Yuxiao",
      "photoUrl": "",
      "userId": "05167076769245149404"
     },
     "user_tz": 300
    },
    "id": "cfwdufi_Hq9K",
    "outputId": "67831b51-6d06-4e6b-e3f8-53ab8e24e9d6"
   },
   "outputs": [
    {
     "name": "stdout",
     "output_type": "stream",
     "text": [
      "Epoch 1/5\n",
      "2625/2625 [==============================] - 8s 3ms/step - loss: 0.3352 - accuracy: 0.8805 - val_loss: 0.3750 - val_accuracy: 0.8638\n",
      "Epoch 2/5\n",
      "2625/2625 [==============================] - 8s 3ms/step - loss: 0.3278 - accuracy: 0.8827 - val_loss: 0.3476 - val_accuracy: 0.8740\n",
      "Epoch 3/5\n",
      "2625/2625 [==============================] - 8s 3ms/step - loss: 0.3212 - accuracy: 0.8848 - val_loss: 0.3577 - val_accuracy: 0.8707\n",
      "Epoch 4/5\n",
      "2625/2625 [==============================] - 8s 3ms/step - loss: 0.3144 - accuracy: 0.8870 - val_loss: 0.3550 - val_accuracy: 0.8738\n",
      "Epoch 5/5\n",
      "2625/2625 [==============================] - 8s 3ms/step - loss: 0.3085 - accuracy: 0.8882 - val_loss: 0.3718 - val_accuracy: 0.8695\n"
     ]
    }
   ],
   "source": [
    "# Train, evaluate and save the model\n",
    "history = model.fit(data_train,\n",
    "                    epochs=5,\n",
    "                    validation_data=data_valid,\n",
    "                    callbacks=[model_checkpoint_cb])"
   ]
  },
  {
   "cell_type": "markdown",
   "metadata": {
    "id": "jooIV3Tr38rw"
   },
   "source": [
    "## Plotting the learning curve\n",
    "\n"
   ]
  },
  {
   "cell_type": "code",
   "execution_count": 33,
   "metadata": {
    "colab": {
     "base_uri": "https://localhost:8080/",
     "height": 348
    },
    "executionInfo": {
     "elapsed": 293518,
     "status": "ok",
     "timestamp": 1604935210970,
     "user": {
      "displayName": "Huang Yuxiao",
      "photoUrl": "",
      "userId": "05167076769245149404"
     },
     "user_tz": 300
    },
    "id": "ZdftIsbI3_nV",
    "outputId": "308e6eaf-2048-4f0d-a723-6fca969f946b"
   },
   "outputs": [
    {
     "data": {
      "image/png": "[encoded data removed]",
      "text/plain": [
       "<Figure size 576x360 with 1 Axes>"
      ]
     },
     "metadata": {
      "needs_background": "light",
      "tags": []
     },
     "output_type": "display_data"
    }
   ],
   "source": [
    "# Create a figure\n",
    "pd.DataFrame(history.history).plot(figsize=(8, 5))\n",
    "\n",
    "# Save and show the figure\n",
    "plt.tight_layout()\n",
    "plt.savefig(abspath_curr + '/result/figure/learning_curve_with_modelcheckpoint_save_10_20.pdf')\n",
    "plt.show()"
   ]
  },
  {
   "cell_type": "markdown",
   "metadata": {
    "id": "IWVJ3KwUub-j"
   },
   "source": [
    "# Training (With ModelCheckpoint callback to Save the Best Model)\n",
    "\n",
    "\n"
   ]
  },
  {
   "cell_type": "markdown",
   "metadata": {
    "id": "Cmzcn8FqcgmU"
   },
   "source": [
    "## Building the model"
   ]
  },
  {
   "cell_type": "code",
   "execution_count": 34,
   "metadata": {
    "colab": {
     "base_uri": "https://localhost:8080/"
    },
    "executionInfo": {
     "elapsed": 293506,
     "status": "ok",
     "timestamp": 1604935210971,
     "user": {
      "displayName": "Huang Yuxiao",
      "photoUrl": "",
      "userId": "05167076769245149404"
     },
     "user_tz": 300
    },
    "id": "Ff-n6bJBcfwq",
    "outputId": "aa7c97fe-1a21-4299-d15e-44b553053de0"
   },
   "outputs": [
    {
     "name": "stdout",
     "output_type": "stream",
     "text": [
      "Model: \"sequential_3\"\n",
      "_________________________________________________________________\n",
      "Layer (type)                 Output Shape              Param #   \n",
      "=================================================================\n",
      "flatten_3 (Flatten)          (None, 784)               0         \n",
      "_________________________________________________________________\n",
      "dense_9 (Dense)              (None, 50)                39250     \n",
      "_________________________________________________________________\n",
      "dense_10 (Dense)             (None, 50)                2550      \n",
      "_________________________________________________________________\n",
      "dense_11 (Dense)             (None, 10)                510       \n",
      "=================================================================\n",
      "Total params: 42,310\n",
      "Trainable params: 42,310\n",
      "Non-trainable params: 0\n",
      "_________________________________________________________________\n"
     ]
    }
   ],
   "source": [
    "# A sequential dnn\n",
    "model = keras.models.Sequential()\n",
    "\n",
    "# Add the input layer\n",
    "model.add(keras.layers.Flatten(input_shape=[28, 28]))\n",
    "\n",
    "# Add two hidden layers\n",
    "model.add(keras.layers.Dense(50, activation='relu'))\n",
    "model.add(keras.layers.Dense(50, activation='relu'))\n",
    "\n",
    "# Add the output layer\n",
    "model.add(keras.layers.Dense(10, activation='softmax'))\n",
    "\n",
    "# The model summary\n",
    "model.summary()"
   ]
  },
  {
   "cell_type": "markdown",
   "metadata": {
    "id": "6sbntreiMnnE"
   },
   "source": [
    "## Compiling the model"
   ]
  },
  {
   "cell_type": "code",
   "execution_count": 35,
   "metadata": {
    "executionInfo": {
     "elapsed": 293505,
     "status": "ok",
     "timestamp": 1604935210971,
     "user": {
      "displayName": "Huang Yuxiao",
      "photoUrl": "",
      "userId": "05167076769245149404"
     },
     "user_tz": 300
    },
    "id": "pIQ7PZl9Mr-Y"
   },
   "outputs": [],
   "source": [
    "# Compile the model\n",
    "model.compile(optimizer=keras.optimizers.SGD(),\n",
    "              loss='sparse_categorical_crossentropy',\n",
    "              metrics=['accuracy'])"
   ]
  },
  {
   "cell_type": "markdown",
   "metadata": {
    "id": "Z8dQknUOIWID"
   },
   "source": [
    "## Training the model"
   ]
  },
  {
   "cell_type": "markdown",
   "metadata": {
    "id": "KcPj1Q3xb1VZ"
   },
   "source": [
    "### Setting callbacks"
   ]
  },
  {
   "cell_type": "code",
   "execution_count": 36,
   "metadata": {
    "executionInfo": {
     "elapsed": 293504,
     "status": "ok",
     "timestamp": 1604935210971,
     "user": {
      "displayName": "Huang Yuxiao",
      "photoUrl": "",
      "userId": "05167076769245149404"
     },
     "user_tz": 300
    },
    "id": "vMkIIsexb1VZ"
   },
   "outputs": [],
   "source": [
    "# ModelCheckpoint callback\n",
    "model_checkpoint_cb = keras.callbacks.ModelCheckpoint(filepath=abspath_curr + '/result/model/model.h5',\n",
    "                                                      save_best_only=True,\n",
    "                                                      save_weights_only=True)"
   ]
  },
  {
   "cell_type": "markdown",
   "metadata": {
    "id": "hFpjkd99b1Va"
   },
   "source": [
    "### Training, evaluating and saving the best model"
   ]
  },
  {
   "cell_type": "code",
   "execution_count": 37,
   "metadata": {
    "colab": {
     "base_uri": "https://localhost:8080/"
    },
    "executionInfo": {
     "elapsed": 460521,
     "status": "ok",
     "timestamp": 1604935378001,
     "user": {
      "displayName": "Huang Yuxiao",
      "photoUrl": "",
      "userId": "05167076769245149404"
     },
     "user_tz": 300
    },
    "id": "a5vhwhdAIZyH",
    "outputId": "acc4df10-679d-412d-b0cd-366b87ec7916"
   },
   "outputs": [
    {
     "name": "stdout",
     "output_type": "stream",
     "text": [
      "Epoch 1/20\n",
      "2625/2625 [==============================] - 8s 3ms/step - loss: 0.7301 - accuracy: 0.7523 - val_loss: 0.5334 - val_accuracy: 0.8126\n",
      "Epoch 2/20\n",
      "2625/2625 [==============================] - 8s 3ms/step - loss: 0.4875 - accuracy: 0.8278 - val_loss: 0.4512 - val_accuracy: 0.8439\n",
      "Epoch 3/20\n",
      "2625/2625 [==============================] - 8s 3ms/step - loss: 0.4428 - accuracy: 0.8431 - val_loss: 0.4282 - val_accuracy: 0.8473\n",
      "Epoch 4/20\n",
      "2625/2625 [==============================] - 8s 3ms/step - loss: 0.4169 - accuracy: 0.8525 - val_loss: 0.4221 - val_accuracy: 0.8492\n",
      "Epoch 5/20\n",
      "2625/2625 [==============================] - 8s 3ms/step - loss: 0.3938 - accuracy: 0.8616 - val_loss: 0.3922 - val_accuracy: 0.8605\n",
      "Epoch 6/20\n",
      "2625/2625 [==============================] - 9s 3ms/step - loss: 0.3804 - accuracy: 0.8662 - val_loss: 0.3857 - val_accuracy: 0.8612\n",
      "Epoch 7/20\n",
      "2625/2625 [==============================] - 9s 3ms/step - loss: 0.3667 - accuracy: 0.8695 - val_loss: 0.3754 - val_accuracy: 0.8668\n",
      "Epoch 8/20\n",
      "2625/2625 [==============================] - 8s 3ms/step - loss: 0.3548 - accuracy: 0.8731 - val_loss: 0.3711 - val_accuracy: 0.8643\n",
      "Epoch 9/20\n",
      "2625/2625 [==============================] - 9s 3ms/step - loss: 0.3456 - accuracy: 0.8765 - val_loss: 0.3647 - val_accuracy: 0.8699\n",
      "Epoch 10/20\n",
      "2625/2625 [==============================] - 9s 3ms/step - loss: 0.3360 - accuracy: 0.8798 - val_loss: 0.3553 - val_accuracy: 0.8743\n",
      "Epoch 11/20\n",
      "2625/2625 [==============================] - 8s 3ms/step - loss: 0.3302 - accuracy: 0.8819 - val_loss: 0.3659 - val_accuracy: 0.8679\n",
      "Epoch 12/20\n",
      "2625/2625 [==============================] - 8s 3ms/step - loss: 0.3223 - accuracy: 0.8830 - val_loss: 0.3753 - val_accuracy: 0.8644\n",
      "Epoch 13/20\n",
      "2625/2625 [==============================] - 9s 3ms/step - loss: 0.3167 - accuracy: 0.8880 - val_loss: 0.3481 - val_accuracy: 0.8739\n",
      "Epoch 14/20\n",
      "2625/2625 [==============================] - 8s 3ms/step - loss: 0.3103 - accuracy: 0.8879 - val_loss: 0.3494 - val_accuracy: 0.8746\n",
      "Epoch 15/20\n",
      "2625/2625 [==============================] - 8s 3ms/step - loss: 0.3041 - accuracy: 0.8914 - val_loss: 0.3676 - val_accuracy: 0.8692\n",
      "Epoch 16/20\n",
      "2625/2625 [==============================] - 8s 3ms/step - loss: 0.2992 - accuracy: 0.8932 - val_loss: 0.3877 - val_accuracy: 0.8638\n",
      "Epoch 17/20\n",
      "2625/2625 [==============================] - 8s 3ms/step - loss: 0.2946 - accuracy: 0.8945 - val_loss: 0.3417 - val_accuracy: 0.8767\n",
      "Epoch 18/20\n",
      "2625/2625 [==============================] - 9s 3ms/step - loss: 0.2908 - accuracy: 0.8962 - val_loss: 0.3383 - val_accuracy: 0.8794\n",
      "Epoch 19/20\n",
      "2625/2625 [==============================] - 8s 3ms/step - loss: 0.2859 - accuracy: 0.8969 - val_loss: 0.3614 - val_accuracy: 0.8712\n",
      "Epoch 20/20\n",
      "2625/2625 [==============================] - 8s 3ms/step - loss: 0.2803 - accuracy: 0.8972 - val_loss: 0.3634 - val_accuracy: 0.8666\n"
     ]
    }
   ],
   "source": [
    "# Train, evaluate and save the best model\n",
    "history = model.fit(data_train,\n",
    "                    epochs=20,\n",
    "                    validation_data=data_valid,\n",
    "                    callbacks=[model_checkpoint_cb])"
   ]
  },
  {
   "cell_type": "markdown",
   "metadata": {
    "id": "F_NuGQw-Idt6"
   },
   "source": [
    "## Plotting the learning curve"
   ]
  },
  {
   "cell_type": "code",
   "execution_count": 38,
   "metadata": {
    "colab": {
     "base_uri": "https://localhost:8080/",
     "height": 348
    },
    "executionInfo": {
     "elapsed": 460945,
     "status": "ok",
     "timestamp": 1604935378439,
     "user": {
      "displayName": "Huang Yuxiao",
      "photoUrl": "",
      "userId": "05167076769245149404"
     },
     "user_tz": 300
    },
    "id": "Z2fsZ8jOIgqD",
    "outputId": "286fa205-6390-4053-e1c3-d73ff152abb7"
   },
   "outputs": [
    {
     "data": {
      "image/png": "[encoded data removed]",
      "text/plain": [
       "<Figure size 576x360 with 1 Axes>"
      ]
     },
     "metadata": {
      "needs_background": "light",
      "tags": []
     },
     "output_type": "display_data"
    }
   ],
   "source": [
    "# Create a figure\n",
    "pd.DataFrame(history.history).plot(figsize=(8, 5))\n",
    "\n",
    "# Save and show the figure\n",
    "plt.tight_layout()\n",
    "plt.savefig(abspath_curr + '/result/figure/learning_curve_with_modelcheckpoint_save_best.pdf')\n",
    "plt.show()"
   ]
  },
  {
   "cell_type": "markdown",
   "metadata": {
    "id": "wUW8TGCUNAn0"
   },
   "source": [
    "# Training (With ModelCheckpoint and EarlyStopping)"
   ]
  },
  {
   "cell_type": "markdown",
   "metadata": {
    "id": "X4gb9xducnlO"
   },
   "source": [
    "## Building the model"
   ]
  },
  {
   "cell_type": "code",
   "execution_count": 39,
   "metadata": {
    "colab": {
     "base_uri": "https://localhost:8080/"
    },
    "executionInfo": {
     "elapsed": 460932,
     "status": "ok",
     "timestamp": 1604935378439,
     "user": {
      "displayName": "Huang Yuxiao",
      "photoUrl": "",
      "userId": "05167076769245149404"
     },
     "user_tz": 300
    },
    "id": "X1DlY50Wcm0B",
    "outputId": "2ffd2f81-477e-4434-8646-17889556e2b9"
   },
   "outputs": [
    {
     "name": "stdout",
     "output_type": "stream",
     "text": [
      "Model: \"sequential_4\"\n",
      "_________________________________________________________________\n",
      "Layer (type)                 Output Shape              Param #   \n",
      "=================================================================\n",
      "flatten_4 (Flatten)          (None, 784)               0         \n",
      "_________________________________________________________________\n",
      "dense_12 (Dense)             (None, 50)                39250     \n",
      "_________________________________________________________________\n",
      "dense_13 (Dense)             (None, 50)                2550      \n",
      "_________________________________________________________________\n",
      "dense_14 (Dense)             (None, 10)                510       \n",
      "=================================================================\n",
      "Total params: 42,310\n",
      "Trainable params: 42,310\n",
      "Non-trainable params: 0\n",
      "_________________________________________________________________\n"
     ]
    }
   ],
   "source": [
    "# A sequential dnn\n",
    "model = keras.models.Sequential()\n",
    "\n",
    "# Add the input layer\n",
    "model.add(keras.layers.Flatten(input_shape=[28, 28]))\n",
    "\n",
    "# Add two hidden layers\n",
    "model.add(keras.layers.Dense(50, activation='relu'))\n",
    "model.add(keras.layers.Dense(50, activation='relu'))\n",
    "\n",
    "# Add the output layer\n",
    "model.add(keras.layers.Dense(10, activation='softmax'))\n",
    "\n",
    "# The model summary\n",
    "model.summary()"
   ]
  },
  {
   "cell_type": "markdown",
   "metadata": {
    "id": "5l9DbmVzNQR7"
   },
   "source": [
    "## Compiling the model"
   ]
  },
  {
   "cell_type": "code",
   "execution_count": 40,
   "metadata": {
    "executionInfo": {
     "elapsed": 460931,
     "status": "ok",
     "timestamp": 1604935378440,
     "user": {
      "displayName": "Huang Yuxiao",
      "photoUrl": "",
      "userId": "05167076769245149404"
     },
     "user_tz": 300
    },
    "id": "_e7LoJ-KNRo4"
   },
   "outputs": [],
   "source": [
    "# Compile the model\n",
    "model.compile(optimizer=keras.optimizers.SGD(),\n",
    "              loss='sparse_categorical_crossentropy',\n",
    "              metrics=['accuracy'])"
   ]
  },
  {
   "cell_type": "markdown",
   "metadata": {
    "id": "p5GGitWVNj0m"
   },
   "source": [
    "## Training the model"
   ]
  },
  {
   "cell_type": "markdown",
   "metadata": {
    "id": "8b69RD7fNVDx"
   },
   "source": [
    "### Setting callbacks"
   ]
  },
  {
   "cell_type": "code",
   "execution_count": 41,
   "metadata": {
    "executionInfo": {
     "elapsed": 460930,
     "status": "ok",
     "timestamp": 1604935378440,
     "user": {
      "displayName": "Huang Yuxiao",
      "photoUrl": "",
      "userId": "05167076769245149404"
     },
     "user_tz": 300
    },
    "id": "hZEE71ajNWGb"
   },
   "outputs": [],
   "source": [
    "# ModelCheckpoint callback\n",
    "model_checkpoint_cb = keras.callbacks.ModelCheckpoint(filepath=abspath_curr + '/result/model/model.h5',\n",
    "                                                      save_best_only=True,\n",
    "                                                      save_weights_only=True)\n",
    "\n",
    "# EarlyStopping callback\n",
    "early_stopping_cb = keras.callbacks.EarlyStopping(patience=5,\n",
    "                                                  restore_best_weights=True)"
   ]
  },
  {
   "cell_type": "markdown",
   "metadata": {
    "id": "5LFhN5y-b1Vh"
   },
   "source": [
    "### Training, evaluating and saving the best model"
   ]
  },
  {
   "cell_type": "code",
   "execution_count": 42,
   "metadata": {
    "colab": {
     "base_uri": "https://localhost:8080/"
    },
    "executionInfo": {
     "elapsed": 630042,
     "status": "ok",
     "timestamp": 1604935547565,
     "user": {
      "displayName": "Huang Yuxiao",
      "photoUrl": "",
      "userId": "05167076769245149404"
     },
     "user_tz": 300
    },
    "id": "4ZS7h4WENqLt",
    "outputId": "4cacacee-eb08-4ad4-9e39-9608facc3cfe"
   },
   "outputs": [
    {
     "name": "stdout",
     "output_type": "stream",
     "text": [
      "Epoch 1/20\n",
      "2625/2625 [==============================] - 9s 3ms/step - loss: 0.7442 - accuracy: 0.7450 - val_loss: 0.5648 - val_accuracy: 0.7976\n",
      "Epoch 2/20\n",
      "2625/2625 [==============================] - 9s 3ms/step - loss: 0.5041 - accuracy: 0.8239 - val_loss: 0.4612 - val_accuracy: 0.8397\n",
      "Epoch 3/20\n",
      "2625/2625 [==============================] - 9s 3ms/step - loss: 0.4541 - accuracy: 0.8401 - val_loss: 0.4325 - val_accuracy: 0.8475\n",
      "Epoch 4/20\n",
      "2625/2625 [==============================] - 8s 3ms/step - loss: 0.4235 - accuracy: 0.8498 - val_loss: 0.4330 - val_accuracy: 0.8473\n",
      "Epoch 5/20\n",
      "2625/2625 [==============================] - 9s 3ms/step - loss: 0.4014 - accuracy: 0.8570 - val_loss: 0.4036 - val_accuracy: 0.8571\n",
      "Epoch 6/20\n",
      "2625/2625 [==============================] - 8s 3ms/step - loss: 0.3867 - accuracy: 0.8624 - val_loss: 0.3910 - val_accuracy: 0.8591\n",
      "Epoch 7/20\n",
      "2625/2625 [==============================] - 9s 3ms/step - loss: 0.3716 - accuracy: 0.8672 - val_loss: 0.3752 - val_accuracy: 0.8646\n",
      "Epoch 8/20\n",
      "2625/2625 [==============================] - 8s 3ms/step - loss: 0.3612 - accuracy: 0.8695 - val_loss: 0.3776 - val_accuracy: 0.8633\n",
      "Epoch 9/20\n",
      "2625/2625 [==============================] - 8s 3ms/step - loss: 0.3501 - accuracy: 0.8742 - val_loss: 0.3557 - val_accuracy: 0.8723\n",
      "Epoch 10/20\n",
      "2625/2625 [==============================] - 8s 3ms/step - loss: 0.3417 - accuracy: 0.8774 - val_loss: 0.3649 - val_accuracy: 0.8672\n",
      "Epoch 11/20\n",
      "2625/2625 [==============================] - 8s 3ms/step - loss: 0.3339 - accuracy: 0.8798 - val_loss: 0.3577 - val_accuracy: 0.8676\n",
      "Epoch 12/20\n",
      "2625/2625 [==============================] - 8s 3ms/step - loss: 0.3255 - accuracy: 0.8827 - val_loss: 0.3645 - val_accuracy: 0.8678\n",
      "Epoch 13/20\n",
      "2625/2625 [==============================] - 8s 3ms/step - loss: 0.3199 - accuracy: 0.8836 - val_loss: 0.3429 - val_accuracy: 0.8759\n",
      "Epoch 14/20\n",
      "2625/2625 [==============================] - 8s 3ms/step - loss: 0.3128 - accuracy: 0.8865 - val_loss: 0.3462 - val_accuracy: 0.8747\n",
      "Epoch 15/20\n",
      "2625/2625 [==============================] - 8s 3ms/step - loss: 0.3083 - accuracy: 0.8870 - val_loss: 0.3479 - val_accuracy: 0.8738\n",
      "Epoch 16/20\n",
      "2625/2625 [==============================] - 8s 3ms/step - loss: 0.3007 - accuracy: 0.8919 - val_loss: 0.3340 - val_accuracy: 0.8796\n",
      "Epoch 17/20\n",
      "2625/2625 [==============================] - 8s 3ms/step - loss: 0.2971 - accuracy: 0.8918 - val_loss: 0.3432 - val_accuracy: 0.8768\n",
      "Epoch 18/20\n",
      "2625/2625 [==============================] - 8s 3ms/step - loss: 0.2928 - accuracy: 0.8927 - val_loss: 0.3447 - val_accuracy: 0.8763\n",
      "Epoch 19/20\n",
      "2625/2625 [==============================] - 8s 3ms/step - loss: 0.2862 - accuracy: 0.8963 - val_loss: 0.3398 - val_accuracy: 0.8779\n",
      "Epoch 20/20\n",
      "2625/2625 [==============================] - 8s 3ms/step - loss: 0.2830 - accuracy: 0.8972 - val_loss: 0.3294 - val_accuracy: 0.8818\n"
     ]
    }
   ],
   "source": [
    "# Train, evaluate and save the best model\n",
    "history = model.fit(data_train,\n",
    "                    epochs=20,\n",
    "                    validation_data=data_valid,\n",
    "                    callbacks=[model_checkpoint_cb, early_stopping_cb])"
   ]
  },
  {
   "cell_type": "markdown",
   "metadata": {
    "id": "NJoCcgsIR-TE"
   },
   "source": [
    "## Plotting the learning curve"
   ]
  },
  {
   "cell_type": "code",
   "execution_count": 43,
   "metadata": {
    "colab": {
     "base_uri": "https://localhost:8080/",
     "height": 348
    },
    "executionInfo": {
     "elapsed": 630029,
     "status": "ok",
     "timestamp": 1604935547565,
     "user": {
      "displayName": "Huang Yuxiao",
      "photoUrl": "",
      "userId": "05167076769245149404"
     },
     "user_tz": 300
    },
    "id": "Z9f7MA8xSA4f",
    "outputId": "9164b068-071e-47d5-8cf0-725536aec56f"
   },
   "outputs": [
    {
     "data": {
      "image/png": "[encoded data removed]",
      "text/plain": [
       "<Figure size 576x360 with 1 Axes>"
      ]
     },
     "metadata": {
      "needs_background": "light",
      "tags": []
     },
     "output_type": "display_data"
    }
   ],
   "source": [
    "# Create a figure\n",
    "pd.DataFrame(history.history).plot(figsize=(8, 5))\n",
    "\n",
    "# Save and show the figure\n",
    "plt.tight_layout()\n",
    "plt.savefig(abspath_curr + '/result/figure/learning_curve_with_modelcheckpoint_earlystopping.pdf')\n",
    "plt.show()"
   ]
  },
  {
   "cell_type": "markdown",
   "metadata": {
    "id": "RkGivY_MA6m1"
   },
   "source": [
    "# Testing the Best Model"
   ]
  },
  {
   "cell_type": "markdown",
   "metadata": {
    "id": "pjg97rxBvTsD"
   },
   "source": [
    "## Loading the saved model"
   ]
  },
  {
   "cell_type": "code",
   "execution_count": 44,
   "metadata": {
    "executionInfo": {
     "elapsed": 630028,
     "status": "ok",
     "timestamp": 1604935547566,
     "user": {
      "displayName": "Huang Yuxiao",
      "photoUrl": "",
      "userId": "05167076769245149404"
     },
     "user_tz": 300
    },
    "id": "vWOYFg8BvYI9"
   },
   "outputs": [],
   "source": [
    "# Load the saved model\n",
    "model.load_weights(filepath=abspath_curr + '/result/model/model.h5')"
   ]
  },
  {
   "cell_type": "markdown",
   "metadata": {
    "id": "YAfOtSI7wajL"
   },
   "source": [
    "## Evaluating the model"
   ]
  },
  {
   "cell_type": "code",
   "execution_count": 45,
   "metadata": {
    "colab": {
     "base_uri": "https://localhost:8080/"
    },
    "executionInfo": {
     "elapsed": 633173,
     "status": "ok",
     "timestamp": 1604935550724,
     "user": {
      "displayName": "Huang Yuxiao",
      "photoUrl": "",
      "userId": "05167076769245149404"
     },
     "user_tz": 300
    },
    "id": "aoJnAfYfYDjH",
    "outputId": "9c898dc1-5b2a-4f93-df52-d70ab09b74d9"
   },
   "outputs": [
    {
     "name": "stdout",
     "output_type": "stream",
     "text": [
      "625/625 [==============================] - 2s 3ms/step - loss: 0.3664 - accuracy: 0.8735\n"
     ]
    }
   ],
   "source": [
    "loss, accuracy = model.evaluate(data_test)"
   ]
  },
  {
   "cell_type": "markdown",
   "metadata": {
    "id": "KeR3L0fsmq1G"
   },
   "source": [
    "# Reference\n",
    "- The code for building, compiling and training DNNs were largely inspired by the following work:\n",
    "    - Géron, A., 2019. *Hands-On Machine Learning with Scikit-Learn, Keras, and TensorFlow: Concepts, Tools, and Techniques to Build Intelligent Systems*. O'Reilly Media."
   ]
  }
 ],
 "metadata": {
  "accelerator": "GPU",
  "colab": {
   "collapsed_sections": [],
   "name": "code_example.ipynb",
   "provenance": []
  },
  "kernelspec": {
   "display_name": "Python 3",
   "language": "python",
   "name": "python3"
  },
  "language_info": {
   "codemirror_mode": {
    "name": "ipython",
    "version": 3
   },
   "file_extension": ".py",
   "mimetype": "text/x-python",
   "name": "python",
   "nbconvert_exporter": "python",
   "pygments_lexer": "ipython3",
   "version": "3.7.6"
  },
  "toc": {
   "base_numbering": 1,
   "nav_menu": {},
   "number_sections": true,
   "sideBar": true,
   "skip_h1_title": false,
   "title_cell": "Table of Contents",
   "title_sidebar": "Contents",
   "toc_cell": true,
   "toc_position": {},
   "toc_section_display": true,
   "toc_window_display": false
  }
 },
 "nbformat": 4,
 "nbformat_minor": 1
}
