{
 "cells": [
  {
   "cell_type": "markdown",
   "metadata": {
    "id": "W90IVQWp11KS",
    "toc": true
   },
   "source": [
    "<h1>Table of Contents<span class=\"tocSkip\"></span></h1>\n",
    "<div class=\"toc\"><ul class=\"toc-item\"><li><span><a href=\"#Overview\" data-toc-modified-id=\"Overview-1\"><span class=\"toc-item-num\">1&nbsp;&nbsp;</span>Overview</a></span></li><li><span><a href=\"#Notebook-Configuration\" data-toc-modified-id=\"Notebook-Configuration-2\"><span class=\"toc-item-num\">2&nbsp;&nbsp;</span>Notebook Configuration</a></span><ul class=\"toc-item\"><li><span><a href=\"#Google-drive\" data-toc-modified-id=\"Google-drive-2.1\"><span class=\"toc-item-num\">2.1&nbsp;&nbsp;</span>Google drive</a></span></li><li><span><a href=\"#Warning\" data-toc-modified-id=\"Warning-2.2\"><span class=\"toc-item-num\">2.2&nbsp;&nbsp;</span>Warning</a></span></li><li><span><a href=\"#Matplotlib\" data-toc-modified-id=\"Matplotlib-2.3\"><span class=\"toc-item-num\">2.3&nbsp;&nbsp;</span>Matplotlib</a></span></li><li><span><a href=\"#TensorFlow\" data-toc-modified-id=\"TensorFlow-2.4\"><span class=\"toc-item-num\">2.4&nbsp;&nbsp;</span>TensorFlow</a></span></li><li><span><a href=\"#Random-seed\" data-toc-modified-id=\"Random-seed-2.5\"><span class=\"toc-item-num\">2.5&nbsp;&nbsp;</span>Random seed</a></span></li></ul></li><li><span><a href=\"#Data-Preprocessing\" data-toc-modified-id=\"Data-Preprocessing-3\"><span class=\"toc-item-num\">3&nbsp;&nbsp;</span>Data Preprocessing</a></span><ul class=\"toc-item\"><li><span><a href=\"#Generating-the-features\" data-toc-modified-id=\"Generating-the-features-3.1\"><span class=\"toc-item-num\">3.1&nbsp;&nbsp;</span>Generating the features</a></span></li><li><span><a href=\"#Logic-AND-data\" data-toc-modified-id=\"Logic-AND-data-3.2\"><span class=\"toc-item-num\">3.2&nbsp;&nbsp;</span>Logic AND data</a></span><ul class=\"toc-item\"><li><span><a href=\"#Generating-logic-AND-data\" data-toc-modified-id=\"Generating-logic-AND-data-3.2.1\"><span class=\"toc-item-num\">3.2.1&nbsp;&nbsp;</span>Generating logic AND data</a></span></li><li><span><a href=\"#Plotting-the-logic-AND-data\" data-toc-modified-id=\"Plotting-the-logic-AND-data-3.2.2\"><span class=\"toc-item-num\">3.2.2&nbsp;&nbsp;</span>Plotting the logic AND data</a></span></li></ul></li><li><span><a href=\"#Logic-OR-data\" data-toc-modified-id=\"Logic-OR-data-3.3\"><span class=\"toc-item-num\">3.3&nbsp;&nbsp;</span>Logic OR data</a></span><ul class=\"toc-item\"><li><span><a href=\"#Generating-logic-OR-data\" data-toc-modified-id=\"Generating-logic-OR-data-3.3.1\"><span class=\"toc-item-num\">3.3.1&nbsp;&nbsp;</span>Generating logic OR data</a></span></li><li><span><a href=\"#Plotting-the-logic-OR-data\" data-toc-modified-id=\"Plotting-the-logic-OR-data-3.3.2\"><span class=\"toc-item-num\">3.3.2&nbsp;&nbsp;</span>Plotting the logic OR data</a></span></li></ul></li><li><span><a href=\"#Logic-XOR-data\" data-toc-modified-id=\"Logic-XOR-data-3.4\"><span class=\"toc-item-num\">3.4&nbsp;&nbsp;</span>Logic XOR data</a></span><ul class=\"toc-item\"><li><span><a href=\"#Generating-logic-XOR-data\" data-toc-modified-id=\"Generating-logic-XOR-data-3.4.1\"><span class=\"toc-item-num\">3.4.1&nbsp;&nbsp;</span>Generating logic XOR data</a></span></li><li><span><a href=\"#Plotting-the-logic-XOR-data\" data-toc-modified-id=\"Plotting-the-logic-XOR-data-3.4.2\"><span class=\"toc-item-num\">3.4.2&nbsp;&nbsp;</span>Plotting the logic XOR data</a></span></li></ul></li></ul></li><li><span><a href=\"#Shallow-Neural-Networks\" data-toc-modified-id=\"Shallow-Neural-Networks-4\"><span class=\"toc-item-num\">4&nbsp;&nbsp;</span>Shallow Neural Networks</a></span><ul class=\"toc-item\"><li><span><a href=\"#Single-Layer-Perceptron\" data-toc-modified-id=\"Single-Layer-Perceptron-4.1\"><span class=\"toc-item-num\">4.1&nbsp;&nbsp;</span>Single-Layer Perceptron</a></span><ul class=\"toc-item\"><li><span><a href=\"#The-Sklearn-model\" data-toc-modified-id=\"The-Sklearn-model-4.1.1\"><span class=\"toc-item-num\">4.1.1&nbsp;&nbsp;</span>The Sklearn model</a></span><ul class=\"toc-item\"><li><span><a href=\"#Train-and-test-the-SLP-on-the-logic-AND-data\" data-toc-modified-id=\"Train-and-test-the-SLP-on-the-logic-AND-data-4.1.1.1\"><span class=\"toc-item-num\">4.1.1.1&nbsp;&nbsp;</span>Train and test the SLP on the logic AND data</a></span></li><li><span><a href=\"#Train-and-test-the-SLP-on-the-logic-OR-data\" data-toc-modified-id=\"Train-and-test-the-SLP-on-the-logic-OR-data-4.1.1.2\"><span class=\"toc-item-num\">4.1.1.2&nbsp;&nbsp;</span>Train and test the SLP on the logic OR data</a></span></li><li><span><a href=\"#Train-and-test-the-SLP-on-the-logic-XOR-data\" data-toc-modified-id=\"Train-and-test-the-SLP-on-the-logic-XOR-data-4.1.1.3\"><span class=\"toc-item-num\">4.1.1.3&nbsp;&nbsp;</span>Train and test the SLP on the logic XOR data</a></span></li></ul></li><li><span><a href=\"#The-implemented-model\" data-toc-modified-id=\"The-implemented-model-4.1.2\"><span class=\"toc-item-num\">4.1.2&nbsp;&nbsp;</span>The implemented model</a></span><ul class=\"toc-item\"><li><span><a href=\"#Train-and-test-the-SLP-on-the-logic-AND-data\" data-toc-modified-id=\"Train-and-test-the-SLP-on-the-logic-AND-data-4.1.2.1\"><span class=\"toc-item-num\">4.1.2.1&nbsp;&nbsp;</span>Train and test the SLP on the logic AND data</a></span></li><li><span><a href=\"#Train-and-test-the-SLP-on-the-logic-OR-data\" data-toc-modified-id=\"Train-and-test-the-SLP-on-the-logic-OR-data-4.1.2.2\"><span class=\"toc-item-num\">4.1.2.2&nbsp;&nbsp;</span>Train and test the SLP on the logic OR data</a></span></li><li><span><a href=\"#Train-and-test-the-SLP-on-the-logic-XOR-data\" data-toc-modified-id=\"Train-and-test-the-SLP-on-the-logic-XOR-data-4.1.2.3\"><span class=\"toc-item-num\">4.1.2.3&nbsp;&nbsp;</span>Train and test the SLP on the logic XOR data</a></span></li></ul></li><li><span><a href=\"#Discussion\" data-toc-modified-id=\"Discussion-4.1.3\"><span class=\"toc-item-num\">4.1.3&nbsp;&nbsp;</span>Discussion</a></span></li></ul></li><li><span><a href=\"#Multi-layer-Perceptron\" data-toc-modified-id=\"Multi-layer-Perceptron-4.2\"><span class=\"toc-item-num\">4.2&nbsp;&nbsp;</span>Multi-layer Perceptron</a></span><ul class=\"toc-item\"><li><span><a href=\"#The-Sklearn-model\" data-toc-modified-id=\"The-Sklearn-model-4.2.1\"><span class=\"toc-item-num\">4.2.1&nbsp;&nbsp;</span>The Sklearn model</a></span><ul class=\"toc-item\"><li><span><a href=\"#Train-and-test-the-MLPClassifier-on-the-logic-AND-data\" data-toc-modified-id=\"Train-and-test-the-MLPClassifier-on-the-logic-AND-data-4.2.1.1\"><span class=\"toc-item-num\">4.2.1.1&nbsp;&nbsp;</span>Train and test the MLPClassifier on the logic AND data</a></span></li><li><span><a href=\"#Train-and-test-the-MLPClassifier-on-the-logic-OR-data\" data-toc-modified-id=\"Train-and-test-the-MLPClassifier-on-the-logic-OR-data-4.2.1.2\"><span class=\"toc-item-num\">4.2.1.2&nbsp;&nbsp;</span>Train and test the MLPClassifier on the logic OR data</a></span></li><li><span><a href=\"#Train-and-test-the-MLPClassifier-on-the-logic-XOR-data\" data-toc-modified-id=\"Train-and-test-the-MLPClassifier-on-the-logic-XOR-data-4.2.1.3\"><span class=\"toc-item-num\">4.2.1.3&nbsp;&nbsp;</span>Train and test the MLPClassifier on the logic XOR data</a></span></li></ul></li><li><span><a href=\"#The-implemented-model\" data-toc-modified-id=\"The-implemented-model-4.2.2\"><span class=\"toc-item-num\">4.2.2&nbsp;&nbsp;</span>The implemented model</a></span><ul class=\"toc-item\"><li><span><a href=\"#Train-and-test-the-MultiLayerPerceptron_MBGD-on-the-logic-AND-data\" data-toc-modified-id=\"Train-and-test-the-MultiLayerPerceptron_MBGD-on-the-logic-AND-data-4.2.2.1\"><span class=\"toc-item-num\">4.2.2.1&nbsp;&nbsp;</span>Train and test the MultiLayerPerceptron_MBGD on the logic AND data</a></span></li><li><span><a href=\"#Train-and-test-the-MultiLayerPerceptron_MBGD-on-the-logic-OR-data\" data-toc-modified-id=\"Train-and-test-the-MultiLayerPerceptron_MBGD-on-the-logic-OR-data-4.2.2.2\"><span class=\"toc-item-num\">4.2.2.2&nbsp;&nbsp;</span>Train and test the MultiLayerPerceptron_MBGD on the logic OR data</a></span></li><li><span><a href=\"#Train-and-test-the-MultiLayerPerceptron_MBGD-on-the-logic-XOR-data\" data-toc-modified-id=\"Train-and-test-the-MultiLayerPerceptron_MBGD-on-the-logic-XOR-data-4.2.2.3\"><span class=\"toc-item-num\">4.2.2.3&nbsp;&nbsp;</span>Train and test the MultiLayerPerceptron_MBGD on the logic XOR data</a></span></li></ul></li><li><span><a href=\"#Discussion\" data-toc-modified-id=\"Discussion-4.2.3\"><span class=\"toc-item-num\">4.2.3&nbsp;&nbsp;</span>Discussion</a></span></li></ul></li></ul></li></ul></div>"
   ]
  },
  {
   "cell_type": "markdown",
   "metadata": {
    "id": "42yc1zUrzlEh"
   },
   "source": [
    "<b>\n",
    "<p>\n",
    "<center>\n",
    "<font size=\"5\">\n",
    "Popular Machine Learning Methods: Idea, Practice and Math\n",
    "</font>\n",
    "</center>\n",
    "</p>\n",
    "\n",
    "<p>\n",
    "<center>\n",
    "<font size=\"4\">\n",
    "Part 2, Chapter 2, Section 4: Shallow Neural Networks\n",
    "</font>\n",
    "</center>\n",
    "</p>\n",
    "    \n",
    "<p>\n",
    "<center>\n",
    "<font size=\"4\">\n",
    "Code Example: Logic AND, OR and XOR\n",
    "</font>\n",
    "</center>\n",
    "</p>\n",
    "\n",
    "<p>\n",
    "<center>\n",
    "<font size=\"3\">\n",
    "Data Science, Columbian College of Arts & Sciences, George Washington University\n",
    "</font>\n",
    "</center>\n",
    "</p>\n",
    "\n",
    "<p>\n",
    "<center>\n",
    "<font size=\"3\">\n",
    "Yuxiao Huang\n",
    "</font>\n",
    "</center>\n",
    "</p>\n",
    "</b>"
   ]
  },
  {
   "cell_type": "markdown",
   "metadata": {
    "id": "rT2SKHw2zlEi"
   },
   "source": [
    "# Overview"
   ]
  },
  {
   "cell_type": "markdown",
   "metadata": {
    "id": "asZWLrJKzlEj"
   },
   "source": [
    "- This notebook includes the code example for Shallow Neural Networks (Part 2, Chapter 2, Section 4).\n",
    "- See the accompanied slides in our [github repository](https://github.com/yuxiaohuang/teaching/tree/master/gwu/machine_learning_I/fall_2020/slides/p2_shallow_learning/p2_c2_supervised_learning/p2_c2_s4_shallow_neural_networks)."
   ]
  },
  {
   "cell_type": "markdown",
   "metadata": {
    "id": "WJ-IbZqAgILJ"
   },
   "source": [
    "# Notebook Configuration"
   ]
  },
  {
   "cell_type": "markdown",
   "metadata": {
    "id": "H3yB94KtgMHu"
   },
   "source": [
    "## Google drive"
   ]
  },
  {
   "cell_type": "code",
   "execution_count": 1,
   "metadata": {
    "colab": {
     "base_uri": "https://localhost:8080/",
     "height": 34
    },
    "executionInfo": {
     "elapsed": 20695,
     "status": "ok",
     "timestamp": 1602471056108,
     "user": {
      "displayName": "Huang Yuxiao",
      "photoUrl": "",
      "userId": "05167076769245149404"
     },
     "user_tz": 240
    },
    "id": "jWmYBTOwgNs-",
    "outputId": "0721835f-6750-4674-b8b2-7b039b211488"
   },
   "outputs": [
    {
     "name": "stdout",
     "output_type": "stream",
     "text": [
      "Mounted at /content/drive\n"
     ]
    }
   ],
   "source": [
    "from google.colab import drive\n",
    "import sys\n",
    "\n",
    "# Mount Google Drive\n",
    "drive.mount('/content/drive')\n",
    "\n",
    "# Get the absolute path of the current folder\n",
    "abspath_curr = '/content/drive/My Drive/Colab Notebooks/teaching/gwu/machine_learning_I/code/p2_shallow_learning/p2_c2_supervised_learning/p2_c2_s4_shallow_neural_networks/code_example/'\n",
    "\n",
    "# Get the absolute path of the shallow utilities folder\n",
    "abspath_util_shallow = '/content/drive/My Drive/Colab Notebooks/teaching/gwu/machine_learning_I/code/utilities/p2_shallow_learning/'\n",
    "\n",
    "# Get the absolute path of the shallow models folder\n",
    "abspath_model_shallow = '/content/drive/My Drive/Colab Notebooks/teaching/gwu/machine_learning_I/code/models/p2_shallow_learning/'"
   ]
  },
  {
   "cell_type": "markdown",
   "metadata": {
    "id": "bYZhU1Wqgmqx"
   },
   "source": [
    "## Warning"
   ]
  },
  {
   "cell_type": "code",
   "execution_count": 2,
   "metadata": {
    "executionInfo": {
     "elapsed": 20693,
     "status": "ok",
     "timestamp": 1602471056109,
     "user": {
      "displayName": "Huang Yuxiao",
      "photoUrl": "",
      "userId": "05167076769245149404"
     },
     "user_tz": 240
    },
    "id": "MUl4k83e4ANR"
   },
   "outputs": [],
   "source": [
    "import warnings\n",
    "\n",
    "# Ignore warnings\n",
    "warnings.filterwarnings('ignore')"
   ]
  },
  {
   "cell_type": "markdown",
   "metadata": {
    "id": "6WMODpPfgn2U"
   },
   "source": [
    "## Matplotlib"
   ]
  },
  {
   "cell_type": "code",
   "execution_count": 3,
   "metadata": {
    "executionInfo": {
     "elapsed": 20692,
     "status": "ok",
     "timestamp": 1602471056110,
     "user": {
      "displayName": "Huang Yuxiao",
      "photoUrl": "",
      "userId": "05167076769245149404"
     },
     "user_tz": 240
    },
    "id": "DBRVH9SB4ANb"
   },
   "outputs": [],
   "source": [
    "import matplotlib.pyplot as plt\n",
    "%matplotlib inline \n",
    "\n",
    "# Set matplotlib sizes\n",
    "plt.rc('font', size=20)\n",
    "plt.rc('axes', titlesize=20)\n",
    "plt.rc('axes', labelsize=20)\n",
    "plt.rc('xtick', labelsize=20)\n",
    "plt.rc('ytick', labelsize=20)\n",
    "plt.rc('legend', fontsize=20)\n",
    "plt.rc('figure', titlesize=20)"
   ]
  },
  {
   "cell_type": "markdown",
   "metadata": {
    "id": "n-wNDk5nZhhO"
   },
   "source": [
    "## TensorFlow"
   ]
  },
  {
   "cell_type": "code",
   "execution_count": 4,
   "metadata": {
    "executionInfo": {
     "elapsed": 22583,
     "status": "ok",
     "timestamp": 1602471058003,
     "user": {
      "displayName": "Huang Yuxiao",
      "photoUrl": "",
      "userId": "05167076769245149404"
     },
     "user_tz": 240
    },
    "id": "LjG43tEnZkfE"
   },
   "outputs": [],
   "source": [
    "# The magic below allows us to use tensorflow version 2.x\n",
    "%tensorflow_version 2.x \n",
    "import tensorflow as tf\n",
    "from tensorflow import keras"
   ]
  },
  {
   "cell_type": "markdown",
   "metadata": {
    "id": "40FN3UNfO2Z7"
   },
   "source": [
    "## Random seed"
   ]
  },
  {
   "cell_type": "code",
   "execution_count": 5,
   "metadata": {
    "executionInfo": {
     "elapsed": 22583,
     "status": "ok",
     "timestamp": 1602471058005,
     "user": {
      "displayName": "Huang Yuxiao",
      "photoUrl": "",
      "userId": "05167076769245149404"
     },
     "user_tz": 240
    },
    "id": "uSADk0hJP71d"
   },
   "outputs": [],
   "source": [
    "# The random seed\n",
    "random_seed = 42\n",
    "\n",
    "# Set random seed in tensorflow\n",
    "tf.random.set_seed(random_seed)\n",
    "\n",
    "# Set random seed in numpy\n",
    "import numpy as np\n",
    "np.random.seed(random_seed)"
   ]
  },
  {
   "cell_type": "code",
   "execution_count": 6,
   "metadata": {
    "executionInfo": {
     "elapsed": 22582,
     "status": "ok",
     "timestamp": 1602471058005,
     "user": {
      "displayName": "Huang Yuxiao",
      "photoUrl": "",
      "userId": "05167076769245149404"
     },
     "user_tz": 240
    },
    "id": "zdkUBn6k11Ka",
    "scrolled": true
   },
   "outputs": [],
   "source": [
    "import warnings\n",
    "warnings.filterwarnings('ignore')"
   ]
  },
  {
   "cell_type": "code",
   "execution_count": 7,
   "metadata": {
    "executionInfo": {
     "elapsed": 22581,
     "status": "ok",
     "timestamp": 1602471058006,
     "user": {
      "displayName": "Huang Yuxiao",
      "photoUrl": "",
      "userId": "05167076769245149404"
     },
     "user_tz": 240
    },
    "id": "bFbdCOgp11Km"
   },
   "outputs": [],
   "source": [
    "import matplotlib.pyplot as plt\n",
    "%matplotlib inline \n",
    "\n",
    "# Set matplotlib sizes\n",
    "plt.rc('font', size=20)\n",
    "plt.rc('axes', titlesize=20)\n",
    "plt.rc('axes', labelsize=20)\n",
    "plt.rc('xtick', labelsize=20)\n",
    "plt.rc('ytick', labelsize=20)\n",
    "plt.rc('legend', fontsize=20)\n",
    "plt.rc('figure', titlesize=20)"
   ]
  },
  {
   "cell_type": "markdown",
   "metadata": {
    "id": "7zJeh75_11Kv"
   },
   "source": [
    "# Data Preprocessing"
   ]
  },
  {
   "cell_type": "code",
   "execution_count": 8,
   "metadata": {
    "colab": {
     "base_uri": "https://localhost:8080/",
     "height": 34
    },
    "executionInfo": {
     "elapsed": 24550,
     "status": "ok",
     "timestamp": 1602471059996,
     "user": {
      "displayName": "Huang Yuxiao",
      "photoUrl": "",
      "userId": "05167076769245149404"
     },
     "user_tz": 240
    },
    "id": "D-Mwc6MczlFD",
    "outputId": "e3dcb512-ba21-4f32-a666-05f6752838e3"
   },
   "outputs": [
    {
     "name": "stdout",
     "output_type": "stream",
     "text": [
      "/content/drive/My Drive/Colab Notebooks/teaching/gwu/machine_learning_I/code/utilities/p2_shallow_learning\n"
     ]
    }
   ],
   "source": [
    "# Change working directory to the absolute path of the shallow utilities folder\n",
    "%cd $abspath_util_shallow\n",
    "\n",
    "# Import the shallow utitilities\n",
    "%run pmlm_utilities_shallow.ipynb"
   ]
  },
  {
   "cell_type": "markdown",
   "metadata": {
    "id": "iPMDkuXH11K1"
   },
   "source": [
    "## Generating the features"
   ]
  },
  {
   "cell_type": "code",
   "execution_count": 9,
   "metadata": {
    "executionInfo": {
     "elapsed": 24549,
     "status": "ok",
     "timestamp": 1602471059997,
     "user": {
      "displayName": "Huang Yuxiao",
      "photoUrl": "",
      "userId": "05167076769245149404"
     },
     "user_tz": 240
    },
    "id": "EhE8WfE911K2"
   },
   "outputs": [],
   "source": [
    "X_train = np.random.randint(2, size=(100, 2))\n",
    "X_test = np.random.randint(2, size=(100, 2))"
   ]
  },
  {
   "cell_type": "markdown",
   "metadata": {
    "id": "Kg1b0yMOEiQE"
   },
   "source": [
    "## Logic AND data"
   ]
  },
  {
   "cell_type": "markdown",
   "metadata": {
    "id": "oyqFhLWc11K8"
   },
   "source": [
    "### Generating logic AND data"
   ]
  },
  {
   "cell_type": "code",
   "execution_count": 10,
   "metadata": {
    "executionInfo": {
     "elapsed": 24548,
     "status": "ok",
     "timestamp": 1602471059998,
     "user": {
      "displayName": "Huang Yuxiao",
      "photoUrl": "",
      "userId": "05167076769245149404"
     },
     "user_tz": 240
    },
    "id": "asW5ibH211K9"
   },
   "outputs": [],
   "source": [
    "y_logic_and_train = np.logical_and(X_train[:, 0], X_train[:, 1])\n",
    "y_logic_and_test = np.logical_and(X_test[:, 0], X_test[:, 1])"
   ]
  },
  {
   "cell_type": "markdown",
   "metadata": {
    "id": "Rjwd5nK011LQ"
   },
   "source": [
    "### Plotting the logic AND data"
   ]
  },
  {
   "cell_type": "code",
   "execution_count": 11,
   "metadata": {
    "colab": {
     "base_uri": "https://localhost:8080/",
     "height": 276
    },
    "executionInfo": {
     "elapsed": 25402,
     "status": "ok",
     "timestamp": 1602471060872,
     "user": {
      "displayName": "Huang Yuxiao",
      "photoUrl": "",
      "userId": "05167076769245149404"
     },
     "user_tz": 240
    },
    "id": "PKVlWp5M11LQ",
    "outputId": "0d5b3fde-bf8a-49bc-eb30-6142ff5c5262",
    "scrolled": true
   },
   "outputs": [
    {
     "data": {
      "image/png": "[encoded data removed]",
      "text/plain": [
       "<Figure size 432x288 with 1 Axes>"
      ]
     },
     "metadata": {
      "needs_background": "light",
      "tags": []
     },
     "output_type": "display_data"
    }
   ],
   "source": [
    "plot_scatter_x1_x2(X_train,\n",
    "                   y_logic_and_train,\n",
    "                   [-1, 2],\n",
    "                   [-1, 0, 1, 2],\n",
    "                   'x1',\n",
    "                   [-1, 2],\n",
    "                   [-1, 0, 1, 2],\n",
    "                   'x2',\n",
    "                   'logic AND',\n",
    "                   abspath_curr + '/result/figure/',\n",
    "                   'logic_AND.pdf')"
   ]
  },
  {
   "cell_type": "markdown",
   "metadata": {
    "id": "at3eSlanEiQJ"
   },
   "source": [
    "## Logic OR data"
   ]
  },
  {
   "cell_type": "markdown",
   "metadata": {
    "id": "YAGI4kA911LA"
   },
   "source": [
    "### Generating logic OR data"
   ]
  },
  {
   "cell_type": "code",
   "execution_count": 12,
   "metadata": {
    "executionInfo": {
     "elapsed": 25401,
     "status": "ok",
     "timestamp": 1602471060873,
     "user": {
      "displayName": "Huang Yuxiao",
      "photoUrl": "",
      "userId": "05167076769245149404"
     },
     "user_tz": 240
    },
    "id": "hoLEfJ7S11LB"
   },
   "outputs": [],
   "source": [
    "y_logic_or_train = np.logical_or(X_train[:, 0], X_train[:, 1])\n",
    "y_logic_or_test = np.logical_or(X_test[:, 0], X_test[:, 1])"
   ]
  },
  {
   "cell_type": "markdown",
   "metadata": {
    "id": "l6W7Y104EiQL"
   },
   "source": [
    "### Plotting the logic OR data"
   ]
  },
  {
   "cell_type": "code",
   "execution_count": 13,
   "metadata": {
    "colab": {
     "base_uri": "https://localhost:8080/",
     "height": 276
    },
    "executionInfo": {
     "elapsed": 25697,
     "status": "ok",
     "timestamp": 1602471061189,
     "user": {
      "displayName": "Huang Yuxiao",
      "photoUrl": "",
      "userId": "05167076769245149404"
     },
     "user_tz": 240
    },
    "id": "BFGrTcloEiQM",
    "outputId": "89b69691-6ee0-476a-8cfa-4cd872cc4042",
    "scrolled": true
   },
   "outputs": [
    {
     "data": {
      "image/png": "[encoded data removed]",
      "text/plain": [
       "<Figure size 432x288 with 1 Axes>"
      ]
     },
     "metadata": {
      "needs_background": "light",
      "tags": []
     },
     "output_type": "display_data"
    }
   ],
   "source": [
    "plot_scatter_x1_x2(X_train,\n",
    "                   y_logic_or_train,\n",
    "                   [-1, 2],\n",
    "                   [-1, 0, 1, 2],\n",
    "                   'x1',\n",
    "                   [-1, 2],\n",
    "                   [-1, 0, 1, 2],\n",
    "                   'x2',\n",
    "                   'logic OR',\n",
    "                   abspath_curr + '/result/figure/',\n",
    "                   'logic_OR.pdf')"
   ]
  },
  {
   "cell_type": "markdown",
   "metadata": {
    "id": "3kx89CMdEiQO"
   },
   "source": [
    "## Logic XOR data"
   ]
  },
  {
   "cell_type": "markdown",
   "metadata": {
    "id": "kJaNMR2h11LE"
   },
   "source": [
    "### Generating logic XOR data"
   ]
  },
  {
   "cell_type": "code",
   "execution_count": 14,
   "metadata": {
    "executionInfo": {
     "elapsed": 25696,
     "status": "ok",
     "timestamp": 1602471061189,
     "user": {
      "displayName": "Huang Yuxiao",
      "photoUrl": "",
      "userId": "05167076769245149404"
     },
     "user_tz": 240
    },
    "id": "coIuTY4i11LF"
   },
   "outputs": [],
   "source": [
    "y_logic_xor_train = np.logical_xor(X_train[:, 0], X_train[:, 1])\n",
    "y_logic_xor_test = np.logical_xor(X_test[:, 0], X_test[:, 1])"
   ]
  },
  {
   "cell_type": "markdown",
   "metadata": {
    "id": "5lCdb4RJEiQS"
   },
   "source": [
    "### Plotting the logic XOR data"
   ]
  },
  {
   "cell_type": "code",
   "execution_count": 15,
   "metadata": {
    "colab": {
     "base_uri": "https://localhost:8080/",
     "height": 276
    },
    "executionInfo": {
     "elapsed": 25832,
     "status": "ok",
     "timestamp": 1602471061346,
     "user": {
      "displayName": "Huang Yuxiao",
      "photoUrl": "",
      "userId": "05167076769245149404"
     },
     "user_tz": 240
    },
    "id": "jaxj-2nKEiQT",
    "outputId": "9f3eaf5e-13c5-4a85-a2ce-76121b3cbe53",
    "scrolled": true
   },
   "outputs": [
    {
     "data": {
      "image/png": "[encoded data removed]",
      "text/plain": [
       "<Figure size 432x288 with 1 Axes>"
      ]
     },
     "metadata": {
      "needs_background": "light",
      "tags": []
     },
     "output_type": "display_data"
    }
   ],
   "source": [
    "plot_scatter_x1_x2(X_train,\n",
    "                   y_logic_xor_train,\n",
    "                   [-1, 2],\n",
    "                   [-1, 0, 1, 2],\n",
    "                   'x1',\n",
    "                   [-1, 2],\n",
    "                   [-1, 0, 1, 2],\n",
    "                   'x2',\n",
    "                   'logic XOR',\n",
    "                   abspath_curr + '/result/figure/',\n",
    "                   'logic_XOR.pdf')"
   ]
  },
  {
   "cell_type": "markdown",
   "metadata": {
    "id": "Of56ObPGe31x"
   },
   "source": [
    "# Shallow Neural Networks"
   ]
  },
  {
   "cell_type": "code",
   "execution_count": 16,
   "metadata": {
    "colab": {
     "base_uri": "https://localhost:8080/",
     "height": 34
    },
    "executionInfo": {
     "elapsed": 27927,
     "status": "ok",
     "timestamp": 1602471063461,
     "user": {
      "displayName": "Huang Yuxiao",
      "photoUrl": "",
      "userId": "05167076769245149404"
     },
     "user_tz": 240
    },
    "id": "IvfaboZrZWQN",
    "outputId": "8cf49bc9-6548-4f9c-a801-1b6fe5134673"
   },
   "outputs": [
    {
     "name": "stdout",
     "output_type": "stream",
     "text": [
      "/content/drive/My Drive/Colab Notebooks/teaching/gwu/machine_learning_I/code/models/p2_shallow_learning\n"
     ]
    }
   ],
   "source": [
    "# Change working directory to the absolute path of the shallow models folder\n",
    "%cd $abspath_model_shallow\n",
    "\n",
    "# Import the shallow models\n",
    "%run pmlm_models_shallow.ipynb"
   ]
  },
  {
   "cell_type": "markdown",
   "metadata": {
    "id": "Af4sZ8Sq11Lb"
   },
   "source": [
    "## Single-Layer Perceptron"
   ]
  },
  {
   "cell_type": "markdown",
   "metadata": {
    "id": "Lf0Kb13j11Lc"
   },
   "source": [
    "### The Sklearn model"
   ]
  },
  {
   "cell_type": "code",
   "execution_count": 17,
   "metadata": {
    "executionInfo": {
     "elapsed": 27927,
     "status": "ok",
     "timestamp": 1602471063463,
     "user": {
      "displayName": "Huang Yuxiao",
      "photoUrl": "",
      "userId": "05167076769245149404"
     },
     "user_tz": 240
    },
    "id": "5Oxadyiw11Lc"
   },
   "outputs": [],
   "source": [
    "from sklearn.linear_model import Perceptron\n",
    "from sklearn.metrics import precision_recall_fscore_support\n",
    "import pandas as pd\n",
    "\n",
    "# The SLP\n",
    "perceptron = Perceptron(class_weight='balanced', random_state=42)"
   ]
  },
  {
   "cell_type": "markdown",
   "metadata": {
    "id": "MyQTiz3U11Le"
   },
   "source": [
    "#### Train and test the SLP on the logic AND data"
   ]
  },
  {
   "cell_type": "code",
   "execution_count": 18,
   "metadata": {
    "colab": {
     "base_uri": "https://localhost:8080/",
     "height": 80
    },
    "executionInfo": {
     "elapsed": 27907,
     "status": "ok",
     "timestamp": 1602471063464,
     "user": {
      "displayName": "Huang Yuxiao",
      "photoUrl": "",
      "userId": "05167076769245149404"
     },
     "user_tz": 240
    },
    "id": "du2i1V4N11Lf",
    "outputId": "c4b201b0-dbc7-468e-c8db-ce18a217d4f0"
   },
   "outputs": [
    {
     "data": {
      "text/html": [
       "<div>\n",
       "<style scoped>\n",
       "    .dataframe tbody tr th:only-of-type {\n",
       "        vertical-align: middle;\n",
       "    }\n",
       "\n",
       "    .dataframe tbody tr th {\n",
       "        vertical-align: top;\n",
       "    }\n",
       "\n",
       "    .dataframe thead th {\n",
       "        text-align: right;\n",
       "    }\n",
       "</style>\n",
       "<table border=\"1\" class=\"dataframe\">\n",
       "  <thead>\n",
       "    <tr style=\"text-align: right;\">\n",
       "      <th></th>\n",
       "      <th>precision</th>\n",
       "      <th>recall</th>\n",
       "      <th>f-score</th>\n",
       "    </tr>\n",
       "  </thead>\n",
       "  <tbody>\n",
       "    <tr>\n",
       "      <th>0</th>\n",
       "      <td>1.0</td>\n",
       "      <td>1.0</td>\n",
       "      <td>1.0</td>\n",
       "    </tr>\n",
       "  </tbody>\n",
       "</table>\n",
       "</div>"
      ],
      "text/plain": [
       "   precision  recall  f-score\n",
       "0        1.0     1.0      1.0"
      ]
     },
     "execution_count": 18,
     "metadata": {
      "tags": []
     },
     "output_type": "execute_result"
    }
   ],
   "source": [
    "# Train the SLP on the training data\n",
    "perceptron.fit(X_train, y_logic_and_train)\n",
    "\n",
    "# Get the prediction on the test data\n",
    "y_logic_and_test_pred = perceptron.predict(X_test)\n",
    "\n",
    "# Get the precision, recall, f-score and support\n",
    "precision, recall, fscore, support = precision_recall_fscore_support(y_logic_and_test, y_logic_and_test_pred, average='macro')\n",
    "\n",
    "# Print the precision, recall and f-score\n",
    "pd.DataFrame([[precision, recall, fscore]], columns=['precision', 'recall', 'f-score'])"
   ]
  },
  {
   "cell_type": "code",
   "execution_count": 19,
   "metadata": {
    "colab": {
     "base_uri": "https://localhost:8080/",
     "height": 80
    },
    "executionInfo": {
     "elapsed": 27887,
     "status": "ok",
     "timestamp": 1602471063464,
     "user": {
      "displayName": "Huang Yuxiao",
      "photoUrl": "",
      "userId": "05167076769245149404"
     },
     "user_tz": 240
    },
    "id": "cdgT1PqV11Lh",
    "outputId": "1dfcc167-c30d-4c5a-fdad-4409dc47424f"
   },
   "outputs": [
    {
     "data": {
      "text/html": [
       "<div>\n",
       "<style scoped>\n",
       "    .dataframe tbody tr th:only-of-type {\n",
       "        vertical-align: middle;\n",
       "    }\n",
       "\n",
       "    .dataframe tbody tr th {\n",
       "        vertical-align: top;\n",
       "    }\n",
       "\n",
       "    .dataframe thead th {\n",
       "        text-align: right;\n",
       "    }\n",
       "</style>\n",
       "<table border=\"1\" class=\"dataframe\">\n",
       "  <thead>\n",
       "    <tr style=\"text-align: right;\">\n",
       "      <th></th>\n",
       "      <th>w0</th>\n",
       "      <th>w1</th>\n",
       "      <th>w2</th>\n",
       "    </tr>\n",
       "  </thead>\n",
       "  <tbody>\n",
       "    <tr>\n",
       "      <th>0</th>\n",
       "      <td>-2.23</td>\n",
       "      <td>1.82</td>\n",
       "      <td>1.14</td>\n",
       "    </tr>\n",
       "  </tbody>\n",
       "</table>\n",
       "</div>"
      ],
      "text/plain": [
       "     w0    w1    w2\n",
       "0 -2.23  1.82  1.14"
      ]
     },
     "execution_count": 19,
     "metadata": {
      "tags": []
     },
     "output_type": "execute_result"
    }
   ],
   "source": [
    "# Print the intercept (w0) and coefficients (w1 and w2) of the trained model\n",
    "pd.DataFrame([[perceptron.intercept_[0], perceptron.coef_[0][0], perceptron.coef_[0][1]]], columns=['w0', 'w1', 'w2']).round(2)"
   ]
  },
  {
   "cell_type": "markdown",
   "metadata": {
    "id": "-sLEIkKC11Lj"
   },
   "source": [
    "#### Train and test the SLP on the logic OR data"
   ]
  },
  {
   "cell_type": "code",
   "execution_count": 20,
   "metadata": {
    "colab": {
     "base_uri": "https://localhost:8080/",
     "height": 80
    },
    "executionInfo": {
     "elapsed": 27868,
     "status": "ok",
     "timestamp": 1602471063465,
     "user": {
      "displayName": "Huang Yuxiao",
      "photoUrl": "",
      "userId": "05167076769245149404"
     },
     "user_tz": 240
    },
    "id": "ohWRczeL11Lj",
    "outputId": "41bd3e5e-8313-4dc1-a9ad-9ccea6eeac27"
   },
   "outputs": [
    {
     "data": {
      "text/html": [
       "<div>\n",
       "<style scoped>\n",
       "    .dataframe tbody tr th:only-of-type {\n",
       "        vertical-align: middle;\n",
       "    }\n",
       "\n",
       "    .dataframe tbody tr th {\n",
       "        vertical-align: top;\n",
       "    }\n",
       "\n",
       "    .dataframe thead th {\n",
       "        text-align: right;\n",
       "    }\n",
       "</style>\n",
       "<table border=\"1\" class=\"dataframe\">\n",
       "  <thead>\n",
       "    <tr style=\"text-align: right;\">\n",
       "      <th></th>\n",
       "      <th>precision</th>\n",
       "      <th>recall</th>\n",
       "      <th>f-score</th>\n",
       "    </tr>\n",
       "  </thead>\n",
       "  <tbody>\n",
       "    <tr>\n",
       "      <th>0</th>\n",
       "      <td>1.0</td>\n",
       "      <td>1.0</td>\n",
       "      <td>1.0</td>\n",
       "    </tr>\n",
       "  </tbody>\n",
       "</table>\n",
       "</div>"
      ],
      "text/plain": [
       "   precision  recall  f-score\n",
       "0        1.0     1.0      1.0"
      ]
     },
     "execution_count": 20,
     "metadata": {
      "tags": []
     },
     "output_type": "execute_result"
    }
   ],
   "source": [
    "# Train the SLP on the training data\n",
    "perceptron.fit(X_train, y_logic_or_train)\n",
    "\n",
    "# Get the prediction on the test data\n",
    "y_logic_or_test_pred = perceptron.predict(X_test)\n",
    "\n",
    "# Get the precision, recall, f-score and support\n",
    "precision, recall, fscore, support = precision_recall_fscore_support(y_logic_or_test, y_logic_or_test_pred, average='macro')\n",
    "\n",
    "# Print the precision, recall and f-score\n",
    "pd.DataFrame([[precision, recall, fscore]], columns=['precision', 'recall', 'f-score'])"
   ]
  },
  {
   "cell_type": "code",
   "execution_count": 21,
   "metadata": {
    "colab": {
     "base_uri": "https://localhost:8080/",
     "height": 80
    },
    "executionInfo": {
     "elapsed": 27847,
     "status": "ok",
     "timestamp": 1602471063465,
     "user": {
      "displayName": "Huang Yuxiao",
      "photoUrl": "",
      "userId": "05167076769245149404"
     },
     "user_tz": 240
    },
    "id": "deRL8kni11Ll",
    "outputId": "6128a956-260c-4bd9-d4fd-451290f5bcbb"
   },
   "outputs": [
    {
     "data": {
      "text/html": [
       "<div>\n",
       "<style scoped>\n",
       "    .dataframe tbody tr th:only-of-type {\n",
       "        vertical-align: middle;\n",
       "    }\n",
       "\n",
       "    .dataframe tbody tr th {\n",
       "        vertical-align: top;\n",
       "    }\n",
       "\n",
       "    .dataframe thead th {\n",
       "        text-align: right;\n",
       "    }\n",
       "</style>\n",
       "<table border=\"1\" class=\"dataframe\">\n",
       "  <thead>\n",
       "    <tr style=\"text-align: right;\">\n",
       "      <th></th>\n",
       "      <th>w0</th>\n",
       "      <th>w1</th>\n",
       "      <th>w2</th>\n",
       "    </tr>\n",
       "  </thead>\n",
       "  <tbody>\n",
       "    <tr>\n",
       "      <th>0</th>\n",
       "      <td>-0.57</td>\n",
       "      <td>0.68</td>\n",
       "      <td>1.35</td>\n",
       "    </tr>\n",
       "  </tbody>\n",
       "</table>\n",
       "</div>"
      ],
      "text/plain": [
       "     w0    w1    w2\n",
       "0 -0.57  0.68  1.35"
      ]
     },
     "execution_count": 21,
     "metadata": {
      "tags": []
     },
     "output_type": "execute_result"
    }
   ],
   "source": [
    "# Print the intercept (w0) and coefficients (w1 and w2) of the trained model\n",
    "pd.DataFrame([[perceptron.intercept_[0], perceptron.coef_[0][0], perceptron.coef_[0][1]]], columns=['w0', 'w1', 'w2']).round(2)"
   ]
  },
  {
   "cell_type": "markdown",
   "metadata": {
    "id": "Yy9hhvCt11Lo"
   },
   "source": [
    "#### Train and test the SLP on the logic XOR data"
   ]
  },
  {
   "cell_type": "code",
   "execution_count": 22,
   "metadata": {
    "colab": {
     "base_uri": "https://localhost:8080/",
     "height": 80
    },
    "executionInfo": {
     "elapsed": 27828,
     "status": "ok",
     "timestamp": 1602471063466,
     "user": {
      "displayName": "Huang Yuxiao",
      "photoUrl": "",
      "userId": "05167076769245149404"
     },
     "user_tz": 240
    },
    "id": "zDK6CCHu11Lp",
    "outputId": "6990dc2c-611c-473b-a391-4c45e90ecd50"
   },
   "outputs": [
    {
     "data": {
      "text/html": [
       "<div>\n",
       "<style scoped>\n",
       "    .dataframe tbody tr th:only-of-type {\n",
       "        vertical-align: middle;\n",
       "    }\n",
       "\n",
       "    .dataframe tbody tr th {\n",
       "        vertical-align: top;\n",
       "    }\n",
       "\n",
       "    .dataframe thead th {\n",
       "        text-align: right;\n",
       "    }\n",
       "</style>\n",
       "<table border=\"1\" class=\"dataframe\">\n",
       "  <thead>\n",
       "    <tr style=\"text-align: right;\">\n",
       "      <th></th>\n",
       "      <th>precision</th>\n",
       "      <th>recall</th>\n",
       "      <th>f-score</th>\n",
       "    </tr>\n",
       "  </thead>\n",
       "  <tbody>\n",
       "    <tr>\n",
       "      <th>0</th>\n",
       "      <td>0.835526</td>\n",
       "      <td>0.744898</td>\n",
       "      <td>0.730342</td>\n",
       "    </tr>\n",
       "  </tbody>\n",
       "</table>\n",
       "</div>"
      ],
      "text/plain": [
       "   precision    recall   f-score\n",
       "0   0.835526  0.744898  0.730342"
      ]
     },
     "execution_count": 22,
     "metadata": {
      "tags": []
     },
     "output_type": "execute_result"
    }
   ],
   "source": [
    "# Train the SLP on the training data\n",
    "perceptron.fit(X_train, y_logic_xor_train)\n",
    "\n",
    "# Get the prediction on the test data\n",
    "y_logic_xor_test_pred = perceptron.predict(X_test)\n",
    "\n",
    "# Get the precision, recall, f-score and support\n",
    "precision, recall, fscore, support = precision_recall_fscore_support(y_logic_xor_test, y_logic_xor_test_pred, average='macro')\n",
    "\n",
    "# Print the precision, recall and f-score\n",
    "pd.DataFrame([[precision, recall, fscore]], columns=['precision', 'recall', 'f-score'])"
   ]
  },
  {
   "cell_type": "code",
   "execution_count": 23,
   "metadata": {
    "colab": {
     "base_uri": "https://localhost:8080/",
     "height": 80
    },
    "executionInfo": {
     "elapsed": 27808,
     "status": "ok",
     "timestamp": 1602471063466,
     "user": {
      "displayName": "Huang Yuxiao",
      "photoUrl": "",
      "userId": "05167076769245149404"
     },
     "user_tz": 240
    },
    "id": "lzpQdRcc11Lv",
    "outputId": "d7d61ea6-79b6-4fc6-f1c0-0319ae2164f5",
    "scrolled": true
   },
   "outputs": [
    {
     "data": {
      "text/html": [
       "<div>\n",
       "<style scoped>\n",
       "    .dataframe tbody tr th:only-of-type {\n",
       "        vertical-align: middle;\n",
       "    }\n",
       "\n",
       "    .dataframe tbody tr th {\n",
       "        vertical-align: top;\n",
       "    }\n",
       "\n",
       "    .dataframe thead th {\n",
       "        text-align: right;\n",
       "    }\n",
       "</style>\n",
       "<table border=\"1\" class=\"dataframe\">\n",
       "  <thead>\n",
       "    <tr style=\"text-align: right;\">\n",
       "      <th></th>\n",
       "      <th>w0</th>\n",
       "      <th>w1</th>\n",
       "      <th>w2</th>\n",
       "    </tr>\n",
       "  </thead>\n",
       "  <tbody>\n",
       "    <tr>\n",
       "      <th>0</th>\n",
       "      <td>-0.24</td>\n",
       "      <td>-0.64</td>\n",
       "      <td>0.4</td>\n",
       "    </tr>\n",
       "  </tbody>\n",
       "</table>\n",
       "</div>"
      ],
      "text/plain": [
       "     w0    w1   w2\n",
       "0 -0.24 -0.64  0.4"
      ]
     },
     "execution_count": 23,
     "metadata": {
      "tags": []
     },
     "output_type": "execute_result"
    }
   ],
   "source": [
    "# Print the intercept (w0) and coefficients (w1 and w2) of the trained model\n",
    "pd.DataFrame([[perceptron.intercept_[0], perceptron.coef_[0][0], perceptron.coef_[0][1]]], columns=['w0', 'w1', 'w2']).round(2)"
   ]
  },
  {
   "cell_type": "markdown",
   "metadata": {
    "id": "lOPpjFlm11Lx"
   },
   "source": [
    "### The implemented model"
   ]
  },
  {
   "cell_type": "code",
   "execution_count": 24,
   "metadata": {
    "executionInfo": {
     "elapsed": 27807,
     "status": "ok",
     "timestamp": 1602471063466,
     "user": {
      "displayName": "Huang Yuxiao",
      "photoUrl": "",
      "userId": "05167076769245149404"
     },
     "user_tz": 240
    },
    "id": "QBXJtXjg11L0"
   },
   "outputs": [],
   "source": [
    "# The SingleLayerPerceptron_MBGD\n",
    "slp_mbgd = SingleLayerPerceptron_MBGD(penalty=None)"
   ]
  },
  {
   "cell_type": "markdown",
   "metadata": {
    "id": "j1d6NlW211L1"
   },
   "source": [
    "#### Train and test the SLP on the logic AND data"
   ]
  },
  {
   "cell_type": "code",
   "execution_count": 25,
   "metadata": {
    "colab": {
     "base_uri": "https://localhost:8080/",
     "height": 80
    },
    "executionInfo": {
     "elapsed": 27787,
     "status": "ok",
     "timestamp": 1602471063467,
     "user": {
      "displayName": "Huang Yuxiao",
      "photoUrl": "",
      "userId": "05167076769245149404"
     },
     "user_tz": 240
    },
    "id": "7X1mRwRu11L1",
    "outputId": "6a92b73f-446b-4a0a-a84b-3ed04580e0ee"
   },
   "outputs": [
    {
     "data": {
      "text/html": [
       "<div>\n",
       "<style scoped>\n",
       "    .dataframe tbody tr th:only-of-type {\n",
       "        vertical-align: middle;\n",
       "    }\n",
       "\n",
       "    .dataframe tbody tr th {\n",
       "        vertical-align: top;\n",
       "    }\n",
       "\n",
       "    .dataframe thead th {\n",
       "        text-align: right;\n",
       "    }\n",
       "</style>\n",
       "<table border=\"1\" class=\"dataframe\">\n",
       "  <thead>\n",
       "    <tr style=\"text-align: right;\">\n",
       "      <th></th>\n",
       "      <th>precision</th>\n",
       "      <th>recall</th>\n",
       "      <th>f-score</th>\n",
       "    </tr>\n",
       "  </thead>\n",
       "  <tbody>\n",
       "    <tr>\n",
       "      <th>0</th>\n",
       "      <td>1.0</td>\n",
       "      <td>1.0</td>\n",
       "      <td>1.0</td>\n",
       "    </tr>\n",
       "  </tbody>\n",
       "</table>\n",
       "</div>"
      ],
      "text/plain": [
       "   precision  recall  f-score\n",
       "0        1.0     1.0      1.0"
      ]
     },
     "execution_count": 25,
     "metadata": {
      "tags": []
     },
     "output_type": "execute_result"
    }
   ],
   "source": [
    "# Train the SLP on the training data\n",
    "slp_mbgd.fit(X_train, y_logic_and_train)\n",
    "\n",
    "# Get the prediction on the test data\n",
    "y_logic_and_test_pred = slp_mbgd.predict(X_test)\n",
    "\n",
    "# Get the SLP, recall, f-score and support\n",
    "precision, recall, fscore, support = precision_recall_fscore_support(y_logic_and_test, y_logic_and_test_pred, average='macro')\n",
    "\n",
    "# Print the precision, recall and f-score\n",
    "pd.DataFrame([[precision, recall, fscore]], columns=['precision', 'recall', 'f-score'])"
   ]
  },
  {
   "cell_type": "code",
   "execution_count": 26,
   "metadata": {
    "colab": {
     "base_uri": "https://localhost:8080/",
     "height": 80
    },
    "executionInfo": {
     "elapsed": 28305,
     "status": "ok",
     "timestamp": 1602471064006,
     "user": {
      "displayName": "Huang Yuxiao",
      "photoUrl": "",
      "userId": "05167076769245149404"
     },
     "user_tz": 240
    },
    "id": "qO5xupqa11L3",
    "outputId": "83a9e44a-b7c6-47bc-980a-c25f7e8b4a90"
   },
   "outputs": [
    {
     "data": {
      "text/html": [
       "<div>\n",
       "<style scoped>\n",
       "    .dataframe tbody tr th:only-of-type {\n",
       "        vertical-align: middle;\n",
       "    }\n",
       "\n",
       "    .dataframe tbody tr th {\n",
       "        vertical-align: top;\n",
       "    }\n",
       "\n",
       "    .dataframe thead th {\n",
       "        text-align: right;\n",
       "    }\n",
       "</style>\n",
       "<table border=\"1\" class=\"dataframe\">\n",
       "  <thead>\n",
       "    <tr style=\"text-align: right;\">\n",
       "      <th></th>\n",
       "      <th>b</th>\n",
       "      <th>w1</th>\n",
       "      <th>w2</th>\n",
       "    </tr>\n",
       "  </thead>\n",
       "  <tbody>\n",
       "    <tr>\n",
       "      <th>0</th>\n",
       "      <td>-0.01</td>\n",
       "      <td>0.01</td>\n",
       "      <td>0.01</td>\n",
       "    </tr>\n",
       "  </tbody>\n",
       "</table>\n",
       "</div>"
      ],
      "text/plain": [
       "      b    w1    w2\n",
       "0 -0.01  0.01  0.01"
      ]
     },
     "execution_count": 26,
     "metadata": {
      "tags": []
     },
     "output_type": "execute_result"
    }
   ],
   "source": [
    "# Print the intercept (w0) and coefficients (w1 and w2) of the trained model\n",
    "pd.DataFrame(slp_mbgd.theta.reshape(1, -1), columns=['b', 'w1', 'w2']).round(2)"
   ]
  },
  {
   "cell_type": "markdown",
   "metadata": {
    "id": "VqvLiGvr11L5"
   },
   "source": [
    "The code below shows how to plot the cost as a function of the epoch."
   ]
  },
  {
   "cell_type": "code",
   "execution_count": 27,
   "metadata": {
    "colab": {
     "base_uri": "https://localhost:8080/",
     "height": 276
    },
    "executionInfo": {
     "elapsed": 28510,
     "status": "ok",
     "timestamp": 1602471064231,
     "user": {
      "displayName": "Huang Yuxiao",
      "photoUrl": "",
      "userId": "05167076769245149404"
     },
     "user_tz": 240
    },
    "id": "kT2093kO11L5",
    "outputId": "e9a42e42-7ac2-449f-9888-e4321840aa29",
    "scrolled": false
   },
   "outputs": [
    {
     "data": {
      "image/png": "[encoded data removed]",
      "text/plain": [
       "<Figure size 432x288 with 1 Axes>"
      ]
     },
     "metadata": {
      "needs_background": "light",
      "tags": []
     },
     "output_type": "display_data"
    }
   ],
   "source": [
    "# The line plot\n",
    "plt.plot(range(len(slp_mbgd.loss_train)), slp_mbgd.loss_train, color='red', lw=3, alpha=0.6)  \n",
    "\n",
    "# Set x-axis\n",
    "plt.xlabel('Epoch')\n",
    "\n",
    "# Set y-axis\n",
    "plt.ylabel('Cost')\n",
    "\n",
    "# Save and show the figure\n",
    "plt.tight_layout()\n",
    "plt.savefig(abspath_curr + '/result/figure/slp_mbgd_logic_and_cost.pdf')\n",
    "plt.show()"
   ]
  },
  {
   "cell_type": "markdown",
   "metadata": {
    "id": "ciiCNlx611L7"
   },
   "source": [
    "#### Train and test the SLP on the logic OR data"
   ]
  },
  {
   "cell_type": "code",
   "execution_count": 28,
   "metadata": {
    "colab": {
     "base_uri": "https://localhost:8080/",
     "height": 80
    },
    "executionInfo": {
     "elapsed": 28490,
     "status": "ok",
     "timestamp": 1602471064232,
     "user": {
      "displayName": "Huang Yuxiao",
      "photoUrl": "",
      "userId": "05167076769245149404"
     },
     "user_tz": 240
    },
    "id": "hW5Bprfb11L8",
    "outputId": "5a73cc44-fbdb-4c68-8af7-75a7a41c8438"
   },
   "outputs": [
    {
     "data": {
      "text/html": [
       "<div>\n",
       "<style scoped>\n",
       "    .dataframe tbody tr th:only-of-type {\n",
       "        vertical-align: middle;\n",
       "    }\n",
       "\n",
       "    .dataframe tbody tr th {\n",
       "        vertical-align: top;\n",
       "    }\n",
       "\n",
       "    .dataframe thead th {\n",
       "        text-align: right;\n",
       "    }\n",
       "</style>\n",
       "<table border=\"1\" class=\"dataframe\">\n",
       "  <thead>\n",
       "    <tr style=\"text-align: right;\">\n",
       "      <th></th>\n",
       "      <th>precision</th>\n",
       "      <th>recall</th>\n",
       "      <th>f-score</th>\n",
       "    </tr>\n",
       "  </thead>\n",
       "  <tbody>\n",
       "    <tr>\n",
       "      <th>0</th>\n",
       "      <td>1.0</td>\n",
       "      <td>1.0</td>\n",
       "      <td>1.0</td>\n",
       "    </tr>\n",
       "  </tbody>\n",
       "</table>\n",
       "</div>"
      ],
      "text/plain": [
       "   precision  recall  f-score\n",
       "0        1.0     1.0      1.0"
      ]
     },
     "execution_count": 28,
     "metadata": {
      "tags": []
     },
     "output_type": "execute_result"
    }
   ],
   "source": [
    "# Train the SLP on the training data\n",
    "slp_mbgd.fit(X_train, y_logic_or_train)\n",
    "\n",
    "# Get the prediction on the test data\n",
    "y_logic_or_test_pred = slp_mbgd.predict(X_test)\n",
    "\n",
    "# Get the precision, recall, f-score and support\n",
    "precision, recall, fscore, support = precision_recall_fscore_support(y_logic_or_test, y_logic_or_test_pred, average='macro')\n",
    "\n",
    "# Print the precision, recall and f-score\n",
    "pd.DataFrame([[precision, recall, fscore]], columns=['precision', 'recall', 'f-score'])"
   ]
  },
  {
   "cell_type": "code",
   "execution_count": 29,
   "metadata": {
    "colab": {
     "base_uri": "https://localhost:8080/",
     "height": 80
    },
    "executionInfo": {
     "elapsed": 28471,
     "status": "ok",
     "timestamp": 1602471064233,
     "user": {
      "displayName": "Huang Yuxiao",
      "photoUrl": "",
      "userId": "05167076769245149404"
     },
     "user_tz": 240
    },
    "id": "rsFhdg9h11L-",
    "outputId": "4885b54c-3765-4b07-af8d-0a53a04afff6"
   },
   "outputs": [
    {
     "data": {
      "text/html": [
       "<div>\n",
       "<style scoped>\n",
       "    .dataframe tbody tr th:only-of-type {\n",
       "        vertical-align: middle;\n",
       "    }\n",
       "\n",
       "    .dataframe tbody tr th {\n",
       "        vertical-align: top;\n",
       "    }\n",
       "\n",
       "    .dataframe thead th {\n",
       "        text-align: right;\n",
       "    }\n",
       "</style>\n",
       "<table border=\"1\" class=\"dataframe\">\n",
       "  <thead>\n",
       "    <tr style=\"text-align: right;\">\n",
       "      <th></th>\n",
       "      <th>b</th>\n",
       "      <th>w1</th>\n",
       "      <th>w2</th>\n",
       "    </tr>\n",
       "  </thead>\n",
       "  <tbody>\n",
       "    <tr>\n",
       "      <th>0</th>\n",
       "      <td>-0.0</td>\n",
       "      <td>0.0</td>\n",
       "      <td>0.01</td>\n",
       "    </tr>\n",
       "  </tbody>\n",
       "</table>\n",
       "</div>"
      ],
      "text/plain": [
       "     b   w1    w2\n",
       "0 -0.0  0.0  0.01"
      ]
     },
     "execution_count": 29,
     "metadata": {
      "tags": []
     },
     "output_type": "execute_result"
    }
   ],
   "source": [
    "# Print the intercept (w0) and coefficients (w1 and w2) of the trained model\n",
    "pd.DataFrame(slp_mbgd.theta.reshape(1, -1), columns=['b', 'w1', 'w2']).round(2)"
   ]
  },
  {
   "cell_type": "markdown",
   "metadata": {
    "id": "BQRvFmf_11MA"
   },
   "source": [
    "The code below shows how to plot the cost as a function of the epoch."
   ]
  },
  {
   "cell_type": "code",
   "execution_count": 30,
   "metadata": {
    "colab": {
     "base_uri": "https://localhost:8080/",
     "height": 276
    },
    "executionInfo": {
     "elapsed": 28453,
     "status": "ok",
     "timestamp": 1602471064236,
     "user": {
      "displayName": "Huang Yuxiao",
      "photoUrl": "",
      "userId": "05167076769245149404"
     },
     "user_tz": 240
    },
    "id": "ARxuZOD011MB",
    "outputId": "534ad725-5ec4-4fe2-e41f-8aa6d71a43bf",
    "scrolled": true
   },
   "outputs": [
    {
     "data": {
      "image/png": "[encoded data removed]",
      "text/plain": [
       "<Figure size 432x288 with 1 Axes>"
      ]
     },
     "metadata": {
      "needs_background": "light",
      "tags": []
     },
     "output_type": "display_data"
    }
   ],
   "source": [
    "# The line plot\n",
    "plt.plot(range(len(slp_mbgd.loss_train)), slp_mbgd.loss_train, color='red', lw=3, alpha=0.6)  \n",
    "\n",
    "# Set x-axis\n",
    "plt.xlabel('Epoch')\n",
    "\n",
    "# Set y-axis\n",
    "plt.ylabel('Cost')\n",
    "\n",
    "# Save and show the figure\n",
    "plt.tight_layout()\n",
    "plt.savefig(abspath_curr + '/result/figure/slp_mbgd_logic_or_cost.pdf')\n",
    "plt.show()"
   ]
  },
  {
   "cell_type": "markdown",
   "metadata": {
    "id": "Y4V4IMf311MD"
   },
   "source": [
    "#### Train and test the SLP on the logic XOR data"
   ]
  },
  {
   "cell_type": "code",
   "execution_count": 31,
   "metadata": {
    "colab": {
     "base_uri": "https://localhost:8080/",
     "height": 80
    },
    "executionInfo": {
     "elapsed": 28435,
     "status": "ok",
     "timestamp": 1602471064238,
     "user": {
      "displayName": "Huang Yuxiao",
      "photoUrl": "",
      "userId": "05167076769245149404"
     },
     "user_tz": 240
    },
    "id": "Sqh1CwlV11MD",
    "outputId": "48a00b23-93a9-414a-8749-b554a787dbef"
   },
   "outputs": [
    {
     "data": {
      "text/html": [
       "<div>\n",
       "<style scoped>\n",
       "    .dataframe tbody tr th:only-of-type {\n",
       "        vertical-align: middle;\n",
       "    }\n",
       "\n",
       "    .dataframe tbody tr th {\n",
       "        vertical-align: top;\n",
       "    }\n",
       "\n",
       "    .dataframe thead th {\n",
       "        text-align: right;\n",
       "    }\n",
       "</style>\n",
       "<table border=\"1\" class=\"dataframe\">\n",
       "  <thead>\n",
       "    <tr style=\"text-align: right;\">\n",
       "      <th></th>\n",
       "      <th>precision</th>\n",
       "      <th>recall</th>\n",
       "      <th>f-score</th>\n",
       "    </tr>\n",
       "  </thead>\n",
       "  <tbody>\n",
       "    <tr>\n",
       "      <th>0</th>\n",
       "      <td>0.255</td>\n",
       "      <td>0.5</td>\n",
       "      <td>0.337748</td>\n",
       "    </tr>\n",
       "  </tbody>\n",
       "</table>\n",
       "</div>"
      ],
      "text/plain": [
       "   precision  recall   f-score\n",
       "0      0.255     0.5  0.337748"
      ]
     },
     "execution_count": 31,
     "metadata": {
      "tags": []
     },
     "output_type": "execute_result"
    }
   ],
   "source": [
    "# Train the SLP on the training data\n",
    "slp_mbgd.fit(X_train, y_logic_xor_train)\n",
    "\n",
    "# Get the prediction on the test data\n",
    "y_logic_xor_test_pred = slp_mbgd.predict(X_test)\n",
    "\n",
    "# Get the precision, recall, f-score and support\n",
    "precision, recall, fscore, support = precision_recall_fscore_support(y_logic_xor_test, y_logic_xor_test_pred, average='macro')\n",
    "\n",
    "# Print the precision, recall and f-score\n",
    "pd.DataFrame([[precision, recall, fscore]], columns=['precision', 'recall', 'f-score'])"
   ]
  },
  {
   "cell_type": "code",
   "execution_count": 32,
   "metadata": {
    "colab": {
     "base_uri": "https://localhost:8080/",
     "height": 80
    },
    "executionInfo": {
     "elapsed": 28414,
     "status": "ok",
     "timestamp": 1602471064238,
     "user": {
      "displayName": "Huang Yuxiao",
      "photoUrl": "",
      "userId": "05167076769245149404"
     },
     "user_tz": 240
    },
    "id": "cQfU6gYa11ME",
    "outputId": "624b9909-7588-4c9e-ec93-80a36c28fb12"
   },
   "outputs": [
    {
     "data": {
      "text/html": [
       "<div>\n",
       "<style scoped>\n",
       "    .dataframe tbody tr th:only-of-type {\n",
       "        vertical-align: middle;\n",
       "    }\n",
       "\n",
       "    .dataframe tbody tr th {\n",
       "        vertical-align: top;\n",
       "    }\n",
       "\n",
       "    .dataframe thead th {\n",
       "        text-align: right;\n",
       "    }\n",
       "</style>\n",
       "<table border=\"1\" class=\"dataframe\">\n",
       "  <thead>\n",
       "    <tr style=\"text-align: right;\">\n",
       "      <th></th>\n",
       "      <th>b</th>\n",
       "      <th>w1</th>\n",
       "      <th>w2</th>\n",
       "    </tr>\n",
       "  </thead>\n",
       "  <tbody>\n",
       "    <tr>\n",
       "      <th>0</th>\n",
       "      <td>-0.0</td>\n",
       "      <td>0.0</td>\n",
       "      <td>-0.0</td>\n",
       "    </tr>\n",
       "  </tbody>\n",
       "</table>\n",
       "</div>"
      ],
      "text/plain": [
       "     b   w1   w2\n",
       "0 -0.0  0.0 -0.0"
      ]
     },
     "execution_count": 32,
     "metadata": {
      "tags": []
     },
     "output_type": "execute_result"
    }
   ],
   "source": [
    "# Print the intercept (w0) and coefficients (w1 and w2) of the trained model\n",
    "pd.DataFrame(slp_mbgd.theta.reshape(1, -1), columns=['b', 'w1', 'w2']).round(2)"
   ]
  },
  {
   "cell_type": "markdown",
   "metadata": {
    "id": "odg7WoKR11MG"
   },
   "source": [
    "The code below shows how to plot the cost as a function of the epoch."
   ]
  },
  {
   "cell_type": "code",
   "execution_count": 33,
   "metadata": {
    "colab": {
     "base_uri": "https://localhost:8080/",
     "height": 276
    },
    "executionInfo": {
     "elapsed": 29141,
     "status": "ok",
     "timestamp": 1602471064985,
     "user": {
      "displayName": "Huang Yuxiao",
      "photoUrl": "",
      "userId": "05167076769245149404"
     },
     "user_tz": 240
    },
    "id": "ccdU2Os611MG",
    "outputId": "e0d299b6-721e-483e-a60f-c75778d074ed",
    "scrolled": false
   },
   "outputs": [
    {
     "data": {
      "image/png": "[encoded data removed]",
      "text/plain": [
       "<Figure size 432x288 with 1 Axes>"
      ]
     },
     "metadata": {
      "needs_background": "light",
      "tags": []
     },
     "output_type": "display_data"
    }
   ],
   "source": [
    "# The line plot\n",
    "plt.plot(range(len(slp_mbgd.loss_train)), slp_mbgd.loss_train, color='red', lw=3, alpha=0.6)  \n",
    "\n",
    "# Set x-axis\n",
    "plt.xlabel('Epoch')\n",
    "\n",
    "# Set y-axis\n",
    "plt.ylabel('Cost')\n",
    "\n",
    "# Save and show the figure\n",
    "plt.tight_layout()\n",
    "plt.savefig(abspath_curr + '/result/figure/slp_mbgd_logic_xor_cost.pdf')\n",
    "plt.show()"
   ]
  },
  {
   "cell_type": "markdown",
   "metadata": {
    "id": "VI87FU8v11MI"
   },
   "source": [
    "### Discussion\n",
    "As shown above, when applied to linearly separable data (logic AND and logic OR), SLP makes no wrong predictions (can you prove this using the weights of the SLP displayed above?). However, when applied to non-linearly separable data (logic XOR), SLP makes wrong predictions almost half of the time. This is why in reality we do not use SLP itself as a classifier. Instead, we combine them (hierarchically) to form a network to address non-linearly separable problems. Such network is called *Neural Network* (a.k.a., Multi-layer Perceptron)."
   ]
  },
  {
   "cell_type": "markdown",
   "metadata": {
    "id": "1-4u1tYi11MI"
   },
   "source": [
    "## Multi-layer Perceptron"
   ]
  },
  {
   "cell_type": "markdown",
   "metadata": {
    "id": "uSIWUkMS11MI"
   },
   "source": [
    "### The Sklearn model"
   ]
  },
  {
   "cell_type": "code",
   "execution_count": 34,
   "metadata": {
    "executionInfo": {
     "elapsed": 29139,
     "status": "ok",
     "timestamp": 1602471064985,
     "user": {
      "displayName": "Huang Yuxiao",
      "photoUrl": "",
      "userId": "05167076769245149404"
     },
     "user_tz": 240
    },
    "id": "eSpNEqu111MJ"
   },
   "outputs": [],
   "source": [
    "from sklearn.neural_network import MLPClassifier\n",
    "\n",
    "# The MLPClassifier\n",
    "mlpc = MLPClassifier(early_stopping=True, random_state=42)"
   ]
  },
  {
   "cell_type": "markdown",
   "metadata": {
    "id": "--FZRK7A11MK"
   },
   "source": [
    "#### Train and test the MLPClassifier on the logic AND data"
   ]
  },
  {
   "cell_type": "code",
   "execution_count": 35,
   "metadata": {
    "colab": {
     "base_uri": "https://localhost:8080/",
     "height": 80
    },
    "executionInfo": {
     "elapsed": 29120,
     "status": "ok",
     "timestamp": 1602471064986,
     "user": {
      "displayName": "Huang Yuxiao",
      "photoUrl": "",
      "userId": "05167076769245149404"
     },
     "user_tz": 240
    },
    "id": "XGuKise111MK",
    "outputId": "2b1036a4-05db-49df-9ed0-650301f2ac0c"
   },
   "outputs": [
    {
     "data": {
      "text/html": [
       "<div>\n",
       "<style scoped>\n",
       "    .dataframe tbody tr th:only-of-type {\n",
       "        vertical-align: middle;\n",
       "    }\n",
       "\n",
       "    .dataframe tbody tr th {\n",
       "        vertical-align: top;\n",
       "    }\n",
       "\n",
       "    .dataframe thead th {\n",
       "        text-align: right;\n",
       "    }\n",
       "</style>\n",
       "<table border=\"1\" class=\"dataframe\">\n",
       "  <thead>\n",
       "    <tr style=\"text-align: right;\">\n",
       "      <th></th>\n",
       "      <th>precision</th>\n",
       "      <th>recall</th>\n",
       "      <th>f-score</th>\n",
       "    </tr>\n",
       "  </thead>\n",
       "  <tbody>\n",
       "    <tr>\n",
       "      <th>0</th>\n",
       "      <td>0.37</td>\n",
       "      <td>0.5</td>\n",
       "      <td>0.425287</td>\n",
       "    </tr>\n",
       "  </tbody>\n",
       "</table>\n",
       "</div>"
      ],
      "text/plain": [
       "   precision  recall   f-score\n",
       "0       0.37     0.5  0.425287"
      ]
     },
     "execution_count": 35,
     "metadata": {
      "tags": []
     },
     "output_type": "execute_result"
    }
   ],
   "source": [
    "# Train the MLP on the training data\n",
    "mlpc.fit(X_train, y_logic_and_train)\n",
    "\n",
    "# Get the prediction on the test data\n",
    "y_logic_and_test_pred = mlpc.predict(X_test)\n",
    "\n",
    "# Get the precision, recall, f-score and support\n",
    "precision, recall, fscore, support = precision_recall_fscore_support(y_logic_and_test, y_logic_and_test_pred, average='macro')\n",
    "\n",
    "# Print the precision, recall and f-score\n",
    "pd.DataFrame([[precision, recall, fscore]], columns=['precision', 'recall', 'f-score'])"
   ]
  },
  {
   "cell_type": "markdown",
   "metadata": {
    "id": "O-1wrp7x11MM"
   },
   "source": [
    "#### Train and test the MLPClassifier on the logic OR data"
   ]
  },
  {
   "cell_type": "code",
   "execution_count": 36,
   "metadata": {
    "colab": {
     "base_uri": "https://localhost:8080/",
     "height": 80
    },
    "executionInfo": {
     "elapsed": 29100,
     "status": "ok",
     "timestamp": 1602471064987,
     "user": {
      "displayName": "Huang Yuxiao",
      "photoUrl": "",
      "userId": "05167076769245149404"
     },
     "user_tz": 240
    },
    "id": "BQyMdoDC11MM",
    "outputId": "b673b2a9-b08e-471b-a12e-befb40b43635"
   },
   "outputs": [
    {
     "data": {
      "text/html": [
       "<div>\n",
       "<style scoped>\n",
       "    .dataframe tbody tr th:only-of-type {\n",
       "        vertical-align: middle;\n",
       "    }\n",
       "\n",
       "    .dataframe tbody tr th {\n",
       "        vertical-align: top;\n",
       "    }\n",
       "\n",
       "    .dataframe thead th {\n",
       "        text-align: right;\n",
       "    }\n",
       "</style>\n",
       "<table border=\"1\" class=\"dataframe\">\n",
       "  <thead>\n",
       "    <tr style=\"text-align: right;\">\n",
       "      <th></th>\n",
       "      <th>precision</th>\n",
       "      <th>recall</th>\n",
       "      <th>f-score</th>\n",
       "    </tr>\n",
       "  </thead>\n",
       "  <tbody>\n",
       "    <tr>\n",
       "      <th>0</th>\n",
       "      <td>0.125</td>\n",
       "      <td>0.5</td>\n",
       "      <td>0.2</td>\n",
       "    </tr>\n",
       "  </tbody>\n",
       "</table>\n",
       "</div>"
      ],
      "text/plain": [
       "   precision  recall  f-score\n",
       "0      0.125     0.5      0.2"
      ]
     },
     "execution_count": 36,
     "metadata": {
      "tags": []
     },
     "output_type": "execute_result"
    }
   ],
   "source": [
    "# Train the MLP on the training data\n",
    "mlpc.fit(X_train, y_logic_or_train)\n",
    "\n",
    "# Get the prediction on the test data\n",
    "y_logic_or_test_pred = mlpc.predict(X_test)\n",
    "\n",
    "# Get the precision, recall, f-score and support\n",
    "precision, recall, fscore, support = precision_recall_fscore_support(y_logic_or_test, y_logic_or_test_pred, average='macro')\n",
    "\n",
    "# Print the precision, recall and f-score\n",
    "pd.DataFrame([[precision, recall, fscore]], columns=['precision', 'recall', 'f-score'])"
   ]
  },
  {
   "cell_type": "markdown",
   "metadata": {
    "id": "FdtAT_-S11MN"
   },
   "source": [
    "#### Train and test the MLPClassifier on the logic XOR data"
   ]
  },
  {
   "cell_type": "code",
   "execution_count": 37,
   "metadata": {
    "colab": {
     "base_uri": "https://localhost:8080/",
     "height": 80
    },
    "executionInfo": {
     "elapsed": 29080,
     "status": "ok",
     "timestamp": 1602471064987,
     "user": {
      "displayName": "Huang Yuxiao",
      "photoUrl": "",
      "userId": "05167076769245149404"
     },
     "user_tz": 240
    },
    "id": "RULIQhxZ11MO",
    "outputId": "5dc82d12-1686-4e63-d210-c153fc8e3e78"
   },
   "outputs": [
    {
     "data": {
      "text/html": [
       "<div>\n",
       "<style scoped>\n",
       "    .dataframe tbody tr th:only-of-type {\n",
       "        vertical-align: middle;\n",
       "    }\n",
       "\n",
       "    .dataframe tbody tr th {\n",
       "        vertical-align: top;\n",
       "    }\n",
       "\n",
       "    .dataframe thead th {\n",
       "        text-align: right;\n",
       "    }\n",
       "</style>\n",
       "<table border=\"1\" class=\"dataframe\">\n",
       "  <thead>\n",
       "    <tr style=\"text-align: right;\">\n",
       "      <th></th>\n",
       "      <th>precision</th>\n",
       "      <th>recall</th>\n",
       "      <th>f-score</th>\n",
       "    </tr>\n",
       "  </thead>\n",
       "  <tbody>\n",
       "    <tr>\n",
       "      <th>0</th>\n",
       "      <td>0.255</td>\n",
       "      <td>0.5</td>\n",
       "      <td>0.337748</td>\n",
       "    </tr>\n",
       "  </tbody>\n",
       "</table>\n",
       "</div>"
      ],
      "text/plain": [
       "   precision  recall   f-score\n",
       "0      0.255     0.5  0.337748"
      ]
     },
     "execution_count": 37,
     "metadata": {
      "tags": []
     },
     "output_type": "execute_result"
    }
   ],
   "source": [
    "# Train the MLP on the training data\n",
    "mlpc.fit(X_train, y_logic_xor_train)\n",
    "\n",
    "# Get the prediction on the test data\n",
    "y_logic_xor_test_pred = mlpc.predict(X_test)\n",
    "\n",
    "# Get the precision, recall, f-score and support\n",
    "precision, recall, fscore, support = precision_recall_fscore_support(y_logic_xor_test, y_logic_xor_test_pred, average='macro')\n",
    "\n",
    "# Print the precision, recall and f-score\n",
    "pd.DataFrame([[precision, recall, fscore]], columns=['precision', 'recall', 'f-score'])"
   ]
  },
  {
   "cell_type": "markdown",
   "metadata": {
    "id": "8od1rZfI11MQ"
   },
   "source": [
    "### The implemented model"
   ]
  },
  {
   "cell_type": "code",
   "execution_count": 38,
   "metadata": {
    "executionInfo": {
     "elapsed": 29079,
     "status": "ok",
     "timestamp": 1602471064988,
     "user": {
      "displayName": "Huang Yuxiao",
      "photoUrl": "",
      "userId": "05167076769245149404"
     },
     "user_tz": 240
    },
    "id": "dn8cXrnz11MT"
   },
   "outputs": [],
   "source": [
    "# The MultiLayerPerceptron_MBGD\n",
    "mlp_mbgd = MultiLayerPerceptron_MBGD()"
   ]
  },
  {
   "cell_type": "markdown",
   "metadata": {
    "id": "_OBi9CBJ11MU"
   },
   "source": [
    "#### Train and test the MultiLayerPerceptron_MBGD on the logic AND data"
   ]
  },
  {
   "cell_type": "code",
   "execution_count": 39,
   "metadata": {
    "colab": {
     "base_uri": "https://localhost:8080/",
     "height": 80
    },
    "executionInfo": {
     "elapsed": 34680,
     "status": "ok",
     "timestamp": 1602471070609,
     "user": {
      "displayName": "Huang Yuxiao",
      "photoUrl": "",
      "userId": "05167076769245149404"
     },
     "user_tz": 240
    },
    "id": "Op2elPEO11MV",
    "outputId": "5b4322b2-8a67-40a8-ed90-c573d55eabba"
   },
   "outputs": [
    {
     "data": {
      "text/html": [
       "<div>\n",
       "<style scoped>\n",
       "    .dataframe tbody tr th:only-of-type {\n",
       "        vertical-align: middle;\n",
       "    }\n",
       "\n",
       "    .dataframe tbody tr th {\n",
       "        vertical-align: top;\n",
       "    }\n",
       "\n",
       "    .dataframe thead th {\n",
       "        text-align: right;\n",
       "    }\n",
       "</style>\n",
       "<table border=\"1\" class=\"dataframe\">\n",
       "  <thead>\n",
       "    <tr style=\"text-align: right;\">\n",
       "      <th></th>\n",
       "      <th>precision</th>\n",
       "      <th>recall</th>\n",
       "      <th>f-score</th>\n",
       "    </tr>\n",
       "  </thead>\n",
       "  <tbody>\n",
       "    <tr>\n",
       "      <th>0</th>\n",
       "      <td>0.37</td>\n",
       "      <td>0.5</td>\n",
       "      <td>0.425287</td>\n",
       "    </tr>\n",
       "  </tbody>\n",
       "</table>\n",
       "</div>"
      ],
      "text/plain": [
       "   precision  recall   f-score\n",
       "0       0.37     0.5  0.425287"
      ]
     },
     "execution_count": 39,
     "metadata": {
      "tags": []
     },
     "output_type": "execute_result"
    }
   ],
   "source": [
    "# Train the MLP on the training data\n",
    "mlp_mbgd.fit(X_train, y_logic_and_train)\n",
    "\n",
    "# Get the prediction on the test data\n",
    "y_logic_and_test_pred = mlp_mbgd.predict(X_test)\n",
    "\n",
    "# Get the precision, recall, f-score and support\n",
    "precision, recall, fscore, support = precision_recall_fscore_support(y_logic_and_test, y_logic_and_test_pred, average='macro')\n",
    "\n",
    "# Print the precision, recall and f-score\n",
    "pd.DataFrame([[precision, recall, fscore]], columns=['precision', 'recall', 'f-score'])"
   ]
  },
  {
   "cell_type": "markdown",
   "metadata": {
    "id": "YFNx82Xm11MW"
   },
   "source": [
    "The code below shows how to plot the cost as a function of the epoch."
   ]
  },
  {
   "cell_type": "code",
   "execution_count": 40,
   "metadata": {
    "colab": {
     "base_uri": "https://localhost:8080/",
     "height": 276
    },
    "executionInfo": {
     "elapsed": 35249,
     "status": "ok",
     "timestamp": 1602471071198,
     "user": {
      "displayName": "Huang Yuxiao",
      "photoUrl": "",
      "userId": "05167076769245149404"
     },
     "user_tz": 240
    },
    "id": "MduUzMk511MX",
    "outputId": "a57b2dca-40f2-40c3-ac9e-fb4066b4ea8c",
    "scrolled": false
   },
   "outputs": [
    {
     "data": {
      "image/png": "[encoded data removed]",
      "text/plain": [
       "<Figure size 432x288 with 1 Axes>"
      ]
     },
     "metadata": {
      "needs_background": "light",
      "tags": []
     },
     "output_type": "display_data"
    }
   ],
   "source": [
    "# The line plot\n",
    "plt.plot(range(len(mlp_mbgd.costs)), mlp_mbgd.costs, color='red', lw=3, alpha=0.6)  \n",
    "\n",
    "# Set x-axis\n",
    "plt.xlabel('Epoch')\n",
    "\n",
    "# Set y-axis\n",
    "plt.ylabel('Cost')\n",
    "\n",
    "# Save and show the figure\n",
    "plt.tight_layout()\n",
    "plt.savefig(abspath_curr + '/result/figure/mlp_mbgd_logic_and_cost.pdf')\n",
    "plt.show()"
   ]
  },
  {
   "cell_type": "markdown",
   "metadata": {
    "id": "duf9fhLP11MY"
   },
   "source": [
    "#### Train and test the MultiLayerPerceptron_MBGD on the logic OR data"
   ]
  },
  {
   "cell_type": "code",
   "execution_count": 41,
   "metadata": {
    "colab": {
     "base_uri": "https://localhost:8080/",
     "height": 80
    },
    "executionInfo": {
     "elapsed": 41186,
     "status": "ok",
     "timestamp": 1602471077156,
     "user": {
      "displayName": "Huang Yuxiao",
      "photoUrl": "",
      "userId": "05167076769245149404"
     },
     "user_tz": 240
    },
    "id": "2t5ZtJ-_11MY",
    "outputId": "a218df09-ee62-4866-8f9d-7c239e7c2fbb"
   },
   "outputs": [
    {
     "data": {
      "text/html": [
       "<div>\n",
       "<style scoped>\n",
       "    .dataframe tbody tr th:only-of-type {\n",
       "        vertical-align: middle;\n",
       "    }\n",
       "\n",
       "    .dataframe tbody tr th {\n",
       "        vertical-align: top;\n",
       "    }\n",
       "\n",
       "    .dataframe thead th {\n",
       "        text-align: right;\n",
       "    }\n",
       "</style>\n",
       "<table border=\"1\" class=\"dataframe\">\n",
       "  <thead>\n",
       "    <tr style=\"text-align: right;\">\n",
       "      <th></th>\n",
       "      <th>precision</th>\n",
       "      <th>recall</th>\n",
       "      <th>f-score</th>\n",
       "    </tr>\n",
       "  </thead>\n",
       "  <tbody>\n",
       "    <tr>\n",
       "      <th>0</th>\n",
       "      <td>0.125</td>\n",
       "      <td>0.5</td>\n",
       "      <td>0.2</td>\n",
       "    </tr>\n",
       "  </tbody>\n",
       "</table>\n",
       "</div>"
      ],
      "text/plain": [
       "   precision  recall  f-score\n",
       "0      0.125     0.5      0.2"
      ]
     },
     "execution_count": 41,
     "metadata": {
      "tags": []
     },
     "output_type": "execute_result"
    }
   ],
   "source": [
    "# Train the MLP on the training data\n",
    "mlp_mbgd.fit(X_train, y_logic_or_train)\n",
    "\n",
    "# Get the prediction on the test data\n",
    "y_logic_or_test_pred = mlp_mbgd.predict(X_test)\n",
    "\n",
    "# Get the precision, recall, f-score and support\n",
    "precision, recall, fscore, support = precision_recall_fscore_support(y_logic_or_test, y_logic_or_test_pred, average='macro')\n",
    "\n",
    "# Print the precision, recall and f-score\n",
    "pd.DataFrame([[precision, recall, fscore]], columns=['precision', 'recall', 'f-score'])"
   ]
  },
  {
   "cell_type": "markdown",
   "metadata": {
    "id": "eI8ykfUM11Ma"
   },
   "source": [
    "The code below shows how to plot the cost as a function of the epoch."
   ]
  },
  {
   "cell_type": "code",
   "execution_count": 42,
   "metadata": {
    "colab": {
     "base_uri": "https://localhost:8080/",
     "height": 276
    },
    "executionInfo": {
     "elapsed": 41166,
     "status": "ok",
     "timestamp": 1602471077156,
     "user": {
      "displayName": "Huang Yuxiao",
      "photoUrl": "",
      "userId": "05167076769245149404"
     },
     "user_tz": 240
    },
    "id": "a0ehWtPP11Ma",
    "outputId": "d7873ec1-fac7-4bbc-e501-edd231af1315",
    "scrolled": false
   },
   "outputs": [
    {
     "data": {
      "image/png": "[encoded data removed]",
      "text/plain": [
       "<Figure size 432x288 with 1 Axes>"
      ]
     },
     "metadata": {
      "needs_background": "light",
      "tags": []
     },
     "output_type": "display_data"
    }
   ],
   "source": [
    "# The line plot\n",
    "plt.plot(range(len(mlp_mbgd.costs)), mlp_mbgd.costs, color='red', lw=3, alpha=0.6)  \n",
    "\n",
    "# Set x-axis\n",
    "plt.xlabel('Epoch')\n",
    "\n",
    "# Set y-axis\n",
    "plt.ylabel('Cost')\n",
    "\n",
    "# Save and show the figure\n",
    "plt.tight_layout()\n",
    "plt.savefig(abspath_curr + '/result/figure/mlp_mbgd_logic_or_cost.pdf')\n",
    "plt.show()"
   ]
  },
  {
   "cell_type": "markdown",
   "metadata": {
    "id": "kkXM6tEV11Mb"
   },
   "source": [
    "#### Train and test the MultiLayerPerceptron_MBGD on the logic XOR data"
   ]
  },
  {
   "cell_type": "code",
   "execution_count": 43,
   "metadata": {
    "colab": {
     "base_uri": "https://localhost:8080/",
     "height": 80
    },
    "executionInfo": {
     "elapsed": 46848,
     "status": "ok",
     "timestamp": 1602471082858,
     "user": {
      "displayName": "Huang Yuxiao",
      "photoUrl": "",
      "userId": "05167076769245149404"
     },
     "user_tz": 240
    },
    "id": "oXqA4Zpp11Mc",
    "outputId": "11dd650d-3ad5-48d7-f72f-d405dd2b06b9"
   },
   "outputs": [
    {
     "data": {
      "text/html": [
       "<div>\n",
       "<style scoped>\n",
       "    .dataframe tbody tr th:only-of-type {\n",
       "        vertical-align: middle;\n",
       "    }\n",
       "\n",
       "    .dataframe tbody tr th {\n",
       "        vertical-align: top;\n",
       "    }\n",
       "\n",
       "    .dataframe thead th {\n",
       "        text-align: right;\n",
       "    }\n",
       "</style>\n",
       "<table border=\"1\" class=\"dataframe\">\n",
       "  <thead>\n",
       "    <tr style=\"text-align: right;\">\n",
       "      <th></th>\n",
       "      <th>precision</th>\n",
       "      <th>recall</th>\n",
       "      <th>f-score</th>\n",
       "    </tr>\n",
       "  </thead>\n",
       "  <tbody>\n",
       "    <tr>\n",
       "      <th>0</th>\n",
       "      <td>0.255</td>\n",
       "      <td>0.5</td>\n",
       "      <td>0.337748</td>\n",
       "    </tr>\n",
       "  </tbody>\n",
       "</table>\n",
       "</div>"
      ],
      "text/plain": [
       "   precision  recall   f-score\n",
       "0      0.255     0.5  0.337748"
      ]
     },
     "execution_count": 43,
     "metadata": {
      "tags": []
     },
     "output_type": "execute_result"
    }
   ],
   "source": [
    "# Train the MLP on the training data\n",
    "mlp_mbgd.fit(X_train, y_logic_xor_train)\n",
    "\n",
    "# Get the prediction on the test data\n",
    "y_logic_xor_test_pred = mlp_mbgd.predict(X_test)\n",
    "\n",
    "# Get the precision, recall, f-score and support\n",
    "precision, recall, fscore, support = precision_recall_fscore_support(y_logic_xor_test, y_logic_xor_test_pred, average='macro')\n",
    "\n",
    "# Print the precision, recall and f-score\n",
    "pd.DataFrame([[precision, recall, fscore]], columns=['precision', 'recall', 'f-score'])"
   ]
  },
  {
   "cell_type": "markdown",
   "metadata": {
    "id": "_eCIkr8w11Md"
   },
   "source": [
    "The code below shows how to plot the cost as a function of the epoch."
   ]
  },
  {
   "cell_type": "code",
   "execution_count": 44,
   "metadata": {
    "colab": {
     "base_uri": "https://localhost:8080/",
     "height": 276
    },
    "executionInfo": {
     "elapsed": 46829,
     "status": "ok",
     "timestamp": 1602471082859,
     "user": {
      "displayName": "Huang Yuxiao",
      "photoUrl": "",
      "userId": "05167076769245149404"
     },
     "user_tz": 240
    },
    "id": "jj0qd1kT11Md",
    "outputId": "78e48a9b-0974-4010-c8c3-f5bd14da66ec",
    "scrolled": false
   },
   "outputs": [
    {
     "data": {
      "image/png": "[encoded data removed]",
      "text/plain": [
       "<Figure size 432x288 with 1 Axes>"
      ]
     },
     "metadata": {
      "needs_background": "light",
      "tags": []
     },
     "output_type": "display_data"
    }
   ],
   "source": [
    "# The line plot\n",
    "plt.plot(range(len(mlp_mbgd.costs)), mlp_mbgd.costs, color='red', lw=3, alpha=0.6)  \n",
    "\n",
    "# Set x-axis\n",
    "plt.xlabel('Epoch')\n",
    "\n",
    "# Set y-axis\n",
    "plt.ylabel('Cost')\n",
    "\n",
    "# Save and show the figure\n",
    "plt.tight_layout()\n",
    "plt.savefig(abspath_curr + '/result/figure/mlp_mbgd_logic_xor_cost.pdf')\n",
    "plt.show()"
   ]
  },
  {
   "cell_type": "markdown",
   "metadata": {
    "collapsed": true,
    "id": "jBOPhzDC11Me"
   },
   "source": [
    "### Discussion\n",
    "The results above show that, unlike single-layer perceptron which only works for linearly separable data (e.g., logic AND and logic OR), multi-layer perceptron can be applied to non-linearly separable data (e.g., XOR). While we only used one hidden layers in this case study, in reality we may need many layers where each layer includes many perceptrons. Such deep neural network allows us to solve complex problems particularly in areas such as Natural Language Processing and Computer Vision. Stay tuned."
   ]
  },
  {
   "cell_type": "code",
   "execution_count": 44,
   "metadata": {
    "executionInfo": {
     "elapsed": 46828,
     "status": "ok",
     "timestamp": 1602471082860,
     "user": {
      "displayName": "Huang Yuxiao",
      "photoUrl": "",
      "userId": "05167076769245149404"
     },
     "user_tz": 240
    },
    "id": "eR1JPLRa11Mf"
   },
   "outputs": [],
   "source": []
  }
 ],
 "metadata": {
  "colab": {
   "collapsed_sections": [],
   "name": "code_example.ipynb",
   "provenance": []
  },
  "kernelspec": {
   "display_name": "Python 3",
   "language": "python",
   "name": "python3"
  },
  "language_info": {
   "codemirror_mode": {
    "name": "ipython",
    "version": 3
   },
   "file_extension": ".py",
   "mimetype": "text/x-python",
   "name": "python",
   "nbconvert_exporter": "python",
   "pygments_lexer": "ipython3",
   "version": "3.7.6"
  },
  "toc": {
   "base_numbering": 1,
   "nav_menu": {},
   "number_sections": true,
   "sideBar": true,
   "skip_h1_title": false,
   "title_cell": "Table of Contents",
   "title_sidebar": "Contents",
   "toc_cell": true,
   "toc_position": {},
   "toc_section_display": true,
   "toc_window_display": false
  }
 },
 "nbformat": 4,
 "nbformat_minor": 1
}
