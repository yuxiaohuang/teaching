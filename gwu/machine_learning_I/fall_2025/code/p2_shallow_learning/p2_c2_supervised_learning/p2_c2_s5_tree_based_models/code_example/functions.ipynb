{
 "cells": [
  {
   "cell_type": "code",
   "execution_count": 4,
   "metadata": {},
   "outputs": [],
   "source": [
    "import scipy.stats as ss\n",
    "\n",
    "def get_bagging_acc(n, p): \n",
    "    \"\"\"\n",
    "    Get bagging accuracy.\n",
    "    \n",
    "    Parameters\n",
    "    ----------\n",
    "    n : a number\n",
    "    funs : a list of functions\n",
    "    \"\"\"\n",
    "    \n",
    "    # Initialize bagging accuracy\n",
    "    bagging_acc = 0\n",
    "    \n",
    "    # Get the binomial distribution\n",
    "    binom_dist = ss.binom(n, p)\n",
    "    \n",
    "    # For each in in [floor(n / 2) + 1, n]\n",
    "    for i in range(n // 2 + 1, n + 1):\n",
    "        # Update bagging accuracy\n",
    "        bagging_acc += binom_dist.pmf(i)\n",
    "\n",
    "    return bagging_acc"
   ]
  },
  {
   "cell_type": "code",
   "execution_count": 37,
   "metadata": {},
   "outputs": [],
   "source": [
    "%matplotlib inline\n",
    "import matplotlib.pyplot as plt\n",
    "\n",
    "def plot(n, p, step):\n",
    "    \"\"\"\n",
    "    Plot the run time of the functions (with respect to the input size).\n",
    "    \n",
    "    Parameters\n",
    "    ----------\n",
    "    n : a number\n",
    "    funs : a list of functions\n",
    "    the incrementation\n",
    "    \"\"\"\n",
    "    \n",
    "    xs= list(range(1, n + 2, step))\n",
    "    ys = [get_bagging_acc(x, p) for x in xs]\n",
    "    \n",
    "    plt.plot(xs, ys, color='g')\n",
    "    plt.xlabel('Number of models')\n",
    "    plt.ylabel('Accuracy')\n",
    "    plt.xticks([min(xs), max(xs) - 1])\n",
    "    plt.yticks([0.1 * i for i in range(5, 11)])\n",
    "    plt.ylim([0.5, 1.0])\n",
    "    plt.tight_layout()\n",
    "    plt.savefig('/Users/yhuang/Desktop/accuracy.pdf')\n",
    "    plt.show()"
   ]
  },
  {
   "cell_type": "code",
   "execution_count": 38,
   "metadata": {
    "scrolled": true
   },
   "outputs": [
    {
     "data": {
      "image/png": "[encoded data removed]",
      "text/plain": [
       "<Figure size 432x288 with 1 Axes>"
      ]
     },
     "metadata": {
      "needs_background": "light"
     },
     "output_type": "display_data"
    }
   ],
   "source": [
    "plot (10000, 0.51, 100)"
   ]
  },
  {
   "cell_type": "code",
   "execution_count": 57,
   "metadata": {},
   "outputs": [],
   "source": [
    "# Set random seed in numpy\n",
    "import numpy as np\n",
    "np.random.seed(42)"
   ]
  },
  {
   "cell_type": "code",
   "execution_count": 58,
   "metadata": {},
   "outputs": [],
   "source": [
    "def get_boosting_pred(n): \n",
    "    \"\"\"\n",
    "    Get bagging accuracy.\n",
    "    \n",
    "    Parameters\n",
    "    ----------\n",
    "    n : a number\n",
    "    funs : a list of functions\n",
    "    \"\"\"\n",
    "    \n",
    "    # Initialize bagging accuracy\n",
    "    y1_pred = np.random.uniform(low=0, high=1)\n",
    "    \n",
    "    y_pred = [y1_pred]\n",
    "    \n",
    "    for k in range(2, n + 1):\n",
    "        residual = 1 - np.sum(y_pred)\n",
    "        low, high = np.min([0, residual]), np.max([0, residual])\n",
    "        yk_pred = np.random.uniform(low=low, high=high)\n",
    "        y_pred.append(yk_pred)\n",
    "\n",
    "    return y_pred"
   ]
  },
  {
   "cell_type": "code",
   "execution_count": 59,
   "metadata": {},
   "outputs": [],
   "source": [
    "y_pred = get_boosting_pred(10)"
   ]
  },
  {
   "cell_type": "code",
   "execution_count": 60,
   "metadata": {},
   "outputs": [
    {
     "data": {
      "text/plain": [
       "[0.3745401188473625,\n",
       " 0.9691737759446208,\n",
       " 0.9917383852020794,\n",
       " 0.9966842709940223,\n",
       " 0.9972015865256105,\n",
       " 0.9976381236932503,\n",
       " 0.9977753100006408,\n",
       " 0.9997022834098298,\n",
       " 0.9998812453214261,\n",
       " 0.9999653322528093]"
      ]
     },
     "execution_count": 60,
     "metadata": {},
     "output_type": "execute_result"
    }
   ],
   "source": [
    "[np.sum(y_pred[: i + 1]) for i in range(10)]"
   ]
  },
  {
   "cell_type": "code",
   "execution_count": 76,
   "metadata": {},
   "outputs": [
    {
     "data": {
      "image/png": "[encoded data removed]",
      "text/plain": [
       "<Figure size 432x288 with 1 Axes>"
      ]
     },
     "metadata": {
      "needs_background": "light"
     },
     "output_type": "display_data"
    }
   ],
   "source": [
    "\n",
    "    \n",
    "xs= list(range(1, 11))\n",
    "ys = [np.sum(y_pred[: i + 1]) for i in range(10)]\n",
    "\n",
    "plt.plot(xs, ys, color='g')\n",
    "plt.xlabel('Number of models')\n",
    "plt.ylabel('Prediction')\n",
    "plt.xticks([i for i in range(1, 11)])\n",
    "#plt.yticks([0.1 * i for i in range(5, 11)])\n",
    "plt.ylim([0, 1.1])\n",
    "plt.tight_layout()\n",
    "plt.savefig('/Users/yhuang/Desktop/prediction.pdf')\n",
    "plt.show()"
   ]
  },
  {
   "cell_type": "code",
   "execution_count": null,
   "metadata": {},
   "outputs": [],
   "source": []
  }
 ],
 "metadata": {
  "kernelspec": {
   "display_name": "Python 3",
   "language": "python",
   "name": "python3"
  },
  "language_info": {
   "codemirror_mode": {
    "name": "ipython",
    "version": 3
   },
   "file_extension": ".py",
   "mimetype": "text/x-python",
   "name": "python",
   "nbconvert_exporter": "python",
   "pygments_lexer": "ipython3",
   "version": "3.7.6"
  },
  "toc": {
   "base_numbering": 1,
   "nav_menu": {},
   "number_sections": true,
   "sideBar": true,
   "skip_h1_title": false,
   "title_cell": "Table of Contents",
   "title_sidebar": "Contents",
   "toc_cell": true,
   "toc_position": {},
   "toc_section_display": true,
   "toc_window_display": false
  }
 },
 "nbformat": 4,
 "nbformat_minor": 2
}
