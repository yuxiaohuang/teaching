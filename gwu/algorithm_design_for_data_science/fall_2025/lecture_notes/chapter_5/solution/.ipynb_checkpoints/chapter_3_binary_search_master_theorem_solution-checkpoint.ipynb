{
 "cells": [
  {
   "cell_type": "markdown",
   "metadata": {
    "toc": true
   },
   "source": [
    "<h1>Table of Contents<span class=\"tocSkip\"></span></h1>\n",
    "<div class=\"toc\"><ul class=\"toc-item\"><li><span><a href=\"#Overview\" data-toc-modified-id=\"Overview-1\"><span class=\"toc-item-num\">1&nbsp;&nbsp;</span>Overview</a></span></li><li><span><a href=\"#Learning-Objectives\" data-toc-modified-id=\"Learning-Objectives-2\"><span class=\"toc-item-num\">2&nbsp;&nbsp;</span>Learning Objectives</a></span></li><li><span><a href=\"#Binary-Search\" data-toc-modified-id=\"Binary-Search-3\"><span class=\"toc-item-num\">3&nbsp;&nbsp;</span>Binary Search</a></span><ul class=\"toc-item\"><li><span><a href=\"#Example-($\\star$)\" data-toc-modified-id=\"Example-($\\star$)-3.1\"><span class=\"toc-item-num\">3.1&nbsp;&nbsp;</span>Example ($\\star$)</a></span></li><li><span><a href=\"#Discussion\" data-toc-modified-id=\"Discussion-3.2\"><span class=\"toc-item-num\">3.2&nbsp;&nbsp;</span>Discussion</a></span></li><li><span><a href=\"#Exercise-($\\star$)\" data-toc-modified-id=\"Exercise-($\\star$)-3.3\"><span class=\"toc-item-num\">3.3&nbsp;&nbsp;</span>Exercise ($\\star$)</a></span></li><li><span><a href=\"#Discussion\" data-toc-modified-id=\"Discussion-3.4\"><span class=\"toc-item-num\">3.4&nbsp;&nbsp;</span>Discussion</a></span></li><li><span><a href=\"#The-idea-of-binary-search\" data-toc-modified-id=\"The-idea-of-binary-search-3.5\"><span class=\"toc-item-num\">3.5&nbsp;&nbsp;</span>The idea of binary search</a></span><ul class=\"toc-item\"><li><span><a href=\"#Why-does-binary-search-work?\" data-toc-modified-id=\"Why-does-binary-search-work?-3.5.1\"><span class=\"toc-item-num\">3.5.1&nbsp;&nbsp;</span>Why does binary search work?</a></span></li><li><span><a href=\"#Why-does-binary-search-matter?\" data-toc-modified-id=\"Why-does-binary-search-matter?-3.5.2\"><span class=\"toc-item-num\">3.5.2&nbsp;&nbsp;</span>Why does binary search matter?</a></span><ul class=\"toc-item\"><li><span><a href=\"#Discussion\" data-toc-modified-id=\"Discussion-3.5.2.1\"><span class=\"toc-item-num\">3.5.2.1&nbsp;&nbsp;</span>Discussion</a></span></li></ul></li><li><span><a href=\"#How-is-binary-search-implemented?\" data-toc-modified-id=\"How-is-binary-search-implemented?-3.5.3\"><span class=\"toc-item-num\">3.5.3&nbsp;&nbsp;</span>How is binary search implemented?</a></span></li><li><span><a href=\"#Discussion\" data-toc-modified-id=\"Discussion-3.5.4\"><span class=\"toc-item-num\">3.5.4&nbsp;&nbsp;</span>Discussion</a></span></li></ul></li><li><span><a href=\"#Exercise-($\\star\\star$)\" data-toc-modified-id=\"Exercise-($\\star\\star$)-3.6\"><span class=\"toc-item-num\">3.6&nbsp;&nbsp;</span>Exercise ($\\star\\star$)</a></span></li><li><span><a href=\"#Exercise-($\\star\\star$)\" data-toc-modified-id=\"Exercise-($\\star\\star$)-3.7\"><span class=\"toc-item-num\">3.7&nbsp;&nbsp;</span>Exercise ($\\star\\star$)</a></span></li><li><span><a href=\"#Exercise-($\\star\\star$)\" data-toc-modified-id=\"Exercise-($\\star\\star$)-3.8\"><span class=\"toc-item-num\">3.8&nbsp;&nbsp;</span>Exercise ($\\star\\star$)</a></span></li><li><span><a href=\"#Discussion\" data-toc-modified-id=\"Discussion-3.9\"><span class=\"toc-item-num\">3.9&nbsp;&nbsp;</span>Discussion</a></span></li><li><span><a href=\"#Exercise-($\\star$)\" data-toc-modified-id=\"Exercise-($\\star$)-3.10\"><span class=\"toc-item-num\">3.10&nbsp;&nbsp;</span>Exercise ($\\star$)</a></span></li><li><span><a href=\"#Exercise-($\\star\\star$)\" data-toc-modified-id=\"Exercise-($\\star\\star$)-3.11\"><span class=\"toc-item-num\">3.11&nbsp;&nbsp;</span>Exercise ($\\star\\star$)</a></span></li></ul></li><li><span><a href=\"#The-Master-Theorem\" data-toc-modified-id=\"The-Master-Theorem-4\"><span class=\"toc-item-num\">4&nbsp;&nbsp;</span>The Master Theorem</a></span></li><li><span><a href=\"#Appendix\" data-toc-modified-id=\"Appendix-5\"><span class=\"toc-item-num\">5&nbsp;&nbsp;</span>Appendix</a></span><ul class=\"toc-item\"><li><span><a href=\"#Hints-for-exercise-3.3:\" data-toc-modified-id=\"Hints-for-exercise-3.3:-5.1\"><span class=\"toc-item-num\">5.1&nbsp;&nbsp;</span>Hints for <a href=\"#3.3\">exercise 3.3</a>:</a></span></li><li><span><a href=\"#Hints-for-exercise-3.6:\" data-toc-modified-id=\"Hints-for-exercise-3.6:-5.2\"><span class=\"toc-item-num\">5.2&nbsp;&nbsp;</span>Hints for <a href=\"#3.6\">exercise 3.6</a>:</a></span></li><li><span><a href=\"#Hints-for-exercise-3.7:\" data-toc-modified-id=\"Hints-for-exercise-3.7:-5.3\"><span class=\"toc-item-num\">5.3&nbsp;&nbsp;</span>Hints for <a href=\"#3.7\">exercise 3.7</a>:</a></span></li><li><span><a href=\"#Hints-for-exercise-3.8:\" data-toc-modified-id=\"Hints-for-exercise-3.8:-5.4\"><span class=\"toc-item-num\">5.4&nbsp;&nbsp;</span>Hints for <a href=\"#3.8\">exercise 3.8</a>:</a></span></li><li><span><a href=\"#Hints-for-exercise-3.10:\" data-toc-modified-id=\"Hints-for-exercise-3.10:-5.5\"><span class=\"toc-item-num\">5.5&nbsp;&nbsp;</span>Hints for <a href=\"#3.10\">exercise 3.10</a>:</a></span></li><li><span><a href=\"#Hints-for-exercise-3.11:\" data-toc-modified-id=\"Hints-for-exercise-3.11:-5.6\"><span class=\"toc-item-num\">5.6&nbsp;&nbsp;</span>Hints for <a href=\"#3.11\">exercise 3.11</a>:</a></span></li></ul></li></ul></div>"
   ]
  },
  {
   "cell_type": "markdown",
   "metadata": {
    "collapsed": true
   },
   "source": [
    "<b>\n",
    "\n",
    "<p>\n",
    "<center>\n",
    "<font size=\"5\">\n",
    "Lecture Note for Computer Science Foundations (DATS 6450)\n",
    "</font>\n",
    "</center>\n",
    "</p>\n",
    "\n",
    "<p>\n",
    "<center>\n",
    "<font size=\"4\">\n",
    "Chapter 3: Binary Search and Master Theorem (Solution)\n",
    "</font>\n",
    "</center>\n",
    "</p>\n",
    "\n",
    "<p>\n",
    "<center>\n",
    "<font size=\"3\">\n",
    "Data Science, Columbian College of Arts & Sciences, George Washington University\n",
    "</font>\n",
    "</center>\n",
    "</p>\n",
    "\n",
    "<p>\n",
    "<center>\n",
    "<font size=\"3\">\n",
    "Author: Yuxiao Huang\n",
    "</font>\n",
    "</center>\n",
    "</p>\n",
    "\n",
    "</b>"
   ]
  },
  {
   "cell_type": "markdown",
   "metadata": {},
   "source": [
    "# Overview\n",
    "- We will discuss two topics here:\n",
    "    - one is a search algorithm, named *Binary Search*, which is one of the most widely used algorithm for searching\n",
    "    - the other is a theorem, named the *Master Theorem*, which allows us to *read* the (time and space) complexity of a recursive algorithm from the recursive definition of the complexity\n",
    "- Particularly, the discussion of binary search can be divided into two parts:\n",
    "    - theory, where we will describe the idea of the algorithm\n",
    "    - coding\n",
    "        - where (most of the time) we will start with some examples and then work on some exercises\n",
    "        - particularly, the examples and exercises are organized in such a way that, an exercise (most of the time) is a follow-up on some example prior to it\n",
    "        - **you should analyze the (time and space) complexity of each example and exercise**\n",
    "- We will use stars to represent the difficulty of the exercises:\n",
    "    - $\\star$ means very easy\n",
    "    - $\\star\\star$ means easy\n",
    "    - $\\star\\star\\star$ means medium\n",
    "    - $\\star\\star\\star\\star$ means difficult\n",
    "    - $\\star\\star\\star\\star\\star$ means very difficult"
   ]
  },
  {
   "cell_type": "markdown",
   "metadata": {},
   "source": [
    "# Learning Objectives\n",
    "Students should know:\n",
    "- how binary search works\n",
    "- how to apply binary search to design optimal solutions (ones with the lowest complexity)\n",
    "- how to apply the master theorem for analyzing the (time and space) complexity of a recursive algorithm"
   ]
  },
  {
   "cell_type": "markdown",
   "metadata": {},
   "source": [
    "# Binary Search\n",
    "Instead of introducing the algorithm right away, let us begin with something easy, that is, finding a target in an array. "
   ]
  },
  {
   "cell_type": "markdown",
   "metadata": {},
   "source": [
    "<a id='3.1'></a>"
   ]
  },
  {
   "cell_type": "markdown",
   "metadata": {},
   "source": [
    "## Example ($\\star$)\n",
    "- Problem:\n",
    "    - find a target in an array\n",
    "    - specifically, the solution returns\n",
    "        - the index of the target, if the target is in the array\n",
    "        - None, otherwise\n",
    "    - you can assume the items in the array are unique\n",
    "    - the solution has the complexity below\n",
    "    - this example will be followed by\n",
    "        - [exercise 3.3](#3.3)\n",
    "- Complexity:\n",
    "    - $O(n)$ time\n",
    "    - $O(1)$ space\n",
    "- Skills: \n",
    "    - solving a problem by starting with a brute-force solution\n",
    "- Logic: loop over the array and record the index of the target, if there is any"
   ]
  },
  {
   "cell_type": "code",
   "execution_count": 1,
   "metadata": {},
   "outputs": [],
   "source": [
    "# Implementation\n",
    "def fun_31(arr, target):\n",
    "    \"\"\"\n",
    "    Find a target in an array\n",
    "    You can assume the items in the array are unique\n",
    "    \n",
    "    Parameters\n",
    "    ----------\n",
    "    arr : a list of integers\n",
    "    target : an integer\n",
    "    \n",
    "    Returns\n",
    "    ----------\n",
    "    The index of the target, if the target is in the array\n",
    "    None, otherwise\n",
    "    \"\"\"\n",
    "    \n",
    "    # Initialize idx with None (which should be returned if the target is not in the array)\n",
    "    idx = None\n",
    "    \n",
    "    # Loop over each element in the array\n",
    "    for i in range(len(arr)):\n",
    "        if arr[i] == target:\n",
    "            # Update idx\n",
    "            idx = i\n",
    "            \n",
    "    return idx"
   ]
  },
  {
   "cell_type": "code",
   "execution_count": 2,
   "metadata": {},
   "outputs": [
    {
     "name": "stdout",
     "output_type": "stream",
     "text": [
      "None\n",
      "0\n",
      "1\n"
     ]
    }
   ],
   "source": [
    "# Test\n",
    "arr_1 = [2]\n",
    "arr_2 = [3]\n",
    "arr_3 = [2, 3]\n",
    "\n",
    "print(fun_31(arr_1, 3))\n",
    "print(fun_31(arr_2, 3))\n",
    "print(fun_31(arr_3, 3))"
   ]
  },
  {
   "cell_type": "markdown",
   "metadata": {
    "collapsed": true
   },
   "source": [
    "## Discussion\n",
    "**Q**: Does fun_31 work when the input array is empty?\n",
    "\n",
    "**A**: It does since when the input array is empty (i.e., len(arr) is 0), the for-loop will not be executed."
   ]
  },
  {
   "cell_type": "markdown",
   "metadata": {},
   "source": [
    "<a id='3.3'></a>"
   ]
  },
  {
   "cell_type": "markdown",
   "metadata": {},
   "source": [
    "## Exercise ($\\star$)\n",
    "- Problem:\n",
    "    - follow up on [example 3.1](#3.1)\n",
    "    - improve the speed of [example 3.1](#3.1)\n",
    "    - find the solution with the complexity below\n",
    "    - this exercise will be followed by\n",
    "        - [exercise 3.5](#3.5)\n",
    "- Complexity:\n",
    "    - $O(n)$ time\n",
    "    - $O(1)$ space\n",
    "- Skills: \n",
    "    - avoid unnecessary computation\n",
    "- Logic: we strongly recommend you to try to find the solution yourself before looking at the [hints](#hints_3.3)"
   ]
  },
  {
   "cell_type": "code",
   "execution_count": 3,
   "metadata": {},
   "outputs": [],
   "source": [
    "# Implementation\n",
    "def fun_33(arr, target):\n",
    "    \"\"\"\n",
    "    Find a target in an array\n",
    "    You can assume the items in the array are unique\n",
    "    \n",
    "    Parameters\n",
    "    ----------\n",
    "    arr : a list of integers\n",
    "    target : an integer\n",
    "    \n",
    "    Returns\n",
    "    ----------\n",
    "    The index of the target, if the target is in the array\n",
    "    None, otherwise\n",
    "    \"\"\"\n",
    "    \n",
    "    # Implemet me\n",
    "    # Loop over each element in the array\n",
    "    for i in range(len(arr)):\n",
    "        if arr[i] == target:\n",
    "            return i\n",
    "            \n",
    "    return None"
   ]
  },
  {
   "cell_type": "code",
   "execution_count": 4,
   "metadata": {
    "scrolled": true
   },
   "outputs": [
    {
     "name": "stdout",
     "output_type": "stream",
     "text": [
      "None\n",
      "0\n",
      "1\n"
     ]
    }
   ],
   "source": [
    "# Test\n",
    "arr_1 = [2]\n",
    "arr_2 = [3]\n",
    "arr_3 = [2, 3]\n",
    "\n",
    "print(fun_31(arr_1, 3))\n",
    "print(fun_31(arr_2, 3))\n",
    "print(fun_31(arr_3, 3))"
   ]
  },
  {
   "cell_type": "markdown",
   "metadata": {},
   "source": [
    "## Discussion\n",
    "The reason why fun_33 is faster than fun_31 is that, fun_33 returns the index as soon as it finds the target, without looping over the remaining numbers in the array (as fun_31 does), thus avoiding unnecessary computation. This is shown in fig. 1, where the two functions search for a target randomly selected from the array."
   ]
  },
  {
   "cell_type": "code",
   "execution_count": 5,
   "metadata": {},
   "outputs": [],
   "source": [
    "import numpy as np\n",
    "import time\n",
    "%matplotlib inline\n",
    "import matplotlib.pyplot as plt\n",
    "\n",
    "def plot(n, funs):\n",
    "    \"\"\"\n",
    "    Plot the run time of the functions (with respect to the input size).\n",
    "    \n",
    "    Parameters\n",
    "    ----------\n",
    "    n : an integer\n",
    "    funs : a list of functions\n",
    "    \"\"\"\n",
    "    \n",
    "    np.random.seed(0)\n",
    "    \n",
    "    x = list(range(n + 1))\n",
    "    ys = [[] for _ in range(len(funs))]\n",
    "\n",
    "    for i in x:\n",
    "        target = np.random.randint(low=0, high=i + 1)\n",
    "        for j in range(len(funs)):\n",
    "            start = time.time()\n",
    "            funs[j](list(range(i + 1)), target)\n",
    "            end = time.time()\n",
    "            ys[j].append(end - start)\n",
    "    \n",
    "    for j in range(len(funs)):\n",
    "        plt.plot(x, ys[j], label=funs[j].__name__)\n",
    "    plt.xlabel('$n$', fontsize=20)\n",
    "    plt.ylabel('Run time', fontsize=20)\n",
    "    plt.xticks([min(x), max(x)], fontsize=20)\n",
    "    plt.yticks([min([ys[j][k] for j in range(len(funs)) for k in range(len(ys[j]))]), max([ys[j][k] for j in range(len(funs)) for k in range(len(ys[j]))])], fontsize=20)\n",
    "    plt.legend(fontsize=20)\n",
    "    plt.tight_layout()\n",
    "    plt.show()  "
   ]
  },
  {
   "cell_type": "code",
   "execution_count": 6,
   "metadata": {
    "scrolled": true
   },
   "outputs": [
    {
     "data": {
      "image/png": "[encoded data removed]",
      "text/plain": [
       "<Figure size 432x288 with 1 Axes>"
      ]
     },
     "metadata": {
      "needs_background": "light"
     },
     "output_type": "display_data"
    },
    {
     "name": "stdout",
     "output_type": "stream",
     "text": [
      "Figure 1. The run time of fun_31 and fun_33.\n"
     ]
    }
   ],
   "source": [
    "plot(10 ** 3, [fun_31, fun_33])\n",
    "print(\"Figure 1. The run time of fun_31 and fun_33.\")"
   ]
  },
  {
   "cell_type": "markdown",
   "metadata": {},
   "source": [
    "## The idea of binary search\n",
    "While fun_33 is faster than fun_31, both of them have $o(n)$ time complexity. This is because (in the worst case) they have to pass the whole array to find the target. It is worth mentioning that, the claim above is only true when the array is not sorted. Because when this is the case, as long as there is still one element in the array that has not been visited, we cannot conclude that the target is not in the array (since it can be the unvisited element). However, things will be quite different when the array is sorted (can you explain why?).\n",
    "\n",
    "Specifically, assume the array has been sorted in ascending order. Then instead of starting the search from the first element of the array (as what we did in fun_31 and fun_33), we begin with the middle element. There are three possible scenarios in terms of the difference between the middle one and the target:\n",
    "- if middle = target, we return the index of the middle element\n",
    "- if middle > target, we first discard the whole elements behind the middle one, and then keep looking for the target in the elements in front of the middle one\n",
    "- if middle < target, we first discard the whole elements in front of the middle one, and then keep looking for the target in the elements behind the middle one\n",
    "\n",
    "The steps above illustrate the idea of *Binary Search*. There is a \"binary\" in the name because every time we only need to look at one half of an array (as mentioned in the last two steps. In the following sections, we will explain why binary search works, why it matters, and more importantly, how it is implemented."
   ]
  },
  {
   "cell_type": "markdown",
   "metadata": {},
   "source": [
    "### Why does binary search work?\n",
    "It is not difficult to figure out why the last two steps in section 3.5 (where the middle is different from the target) work. Take the second step for example, because the middle is larger than the target, all the elements behind the middle item will also be larger than the target (since the array is sorted in ascending order). As a result, we only need to focus on the smaller items in front of the middle item, one of which could be the same as the target. For similar reason, we can only focus on the larger items behind the middle item when it is smaller than the target (as what we did in the last step in section 3.5)."
   ]
  },
  {
   "cell_type": "markdown",
   "metadata": {},
   "source": [
    "### Why does binary search matter?\n",
    "The question is, why discarding half of the array each time matters? The short answer is, because this makes binary search much faster than algorithms such as fun_33. This is a big deal since, as we discussed previously, the time complexity of fun_33 is $O(n)$ (in other words, it is already pretty fast). Being faster than linear algorithms makes binary search one of the most widely used searching algorithms in practice.\n",
    "\n",
    "To long answer, on the other hand, relies on the analysis of the time complexity of binary search. Here we will use two ways to discuss the complexity. The first one is based on a data structure, named *Binary Search Tree* (BST), shown in fig. 2. The second one is based on a theorem, named the *Master Theorem*, which will be discussed in section 4."
   ]
  },
  {
   "cell_type": "markdown",
   "metadata": {},
   "source": [
    "<img src=\"../figure/figure_2.pdf\" width=\"800\" height=\"800\">\n",
    "\n",
    "Figure 2. The binary search tree for input array [0, $\\ldots$, 9]."
   ]
  },
  {
   "cell_type": "markdown",
   "metadata": {},
   "source": [
    "The BST in fig. 2 illustrates the steps in binary search for input array [0, $\\ldots$, 9]. Particularly, each node in the tree contains three numbers. The first number (the one outside the parentheses) is the index of the middle item of the array under consideration, and the last two numbers (the ones in the parentheses) are the indices where the array starts and ends. More formally, if the array we are working with starts at index *left* and ends at index *right*, then the index of the middle item, *mid*, can be calculated as\n",
    "\n",
    "\\begin{equation}\n",
    "mid = (left + right) \\ // \\ 2,\\tag{1}\n",
    "\\end{equation}\n",
    "where // is the floor division (a.k.a., integer division). For instance, the input array used for fig. (2) starts at index 0 (i.e., left = 0) and ends at index 9 (right = 9). This is why the first target in the root of the BST is 4 (mid = 4), which was calculated using eq. (1).\n",
    "\n",
    "It is worth noting that, while eq. (1) is correct in theory, it could be problematic in practice. Specifically, it may result in [Integer Overflow](https://en.wikipedia.org/wiki/Integer_overflow). Here is an oversimplified example illustrating the idea. Assume somewhere in the binary search, the subarray (obtained by discarding half of the input array) starts at index $inf$ // 2 + 1 and ends at index $inf$ (where $inf$ is the maximum integer allowed by Python). That is,\n",
    "\n",
    "\\begin{equation}\n",
    "left = inf\\ //\\ 2 + 1 \\quad \\textrm{and} \\quad right = inf. \\tag{2}\n",
    "\\end{equation}\n",
    "\n",
    "When calculating mid using eq. (1), the numerator of the ratio can be written as\n",
    "\n",
    "\\begin{equation}\n",
    "left + right = inf\\ //\\ 2 + 1 + inf, \\tag{3}\n",
    "\\end{equation}\n",
    "which, unfortunately, is larger than $inf$, in turn causing overflow.\n",
    "\n",
    "This problem can be handled by rewriting eq. (1) as\n",
    "\n",
    "\\begin{equation}\n",
    "mid = left + (right - left) \\ // \\ 2.\\tag{4}\n",
    "\\end{equation}\n",
    "\n",
    "This equation still gives us the mid (between left and right) without causing overflow (can you explain why?).\n",
    "\n",
    "Now let us use the BST in fig. 2 to illustrate the three steps of binary search (mentioned in section 3.5). We first compare the middle item (whose index is the first number in the root) with the target. Then:\n",
    "- if middle == target, we return the index of the middle item\n",
    "- if middle > target, we go to the left subtree (can you explain why?)\n",
    "- if middle < target, we go to the right subtree\n",
    "\n",
    "We repeat the above steps until the target has been found or we have reached a leaf node and have nowhere to go.\n",
    "\n",
    "Here is an example illustrating the steps for finding target 6 in the array.\n",
    "- First, we compare the target (6) with the middle item of the input array (4). Since the target is larger than the item, we go to the right subtree.\n",
    "- Next, we compare 6 with the middle item of the subarray (7). Since the target is smaller than the item, we go to the left subtree.\n",
    "- Next, we compare 6 with the middle item of the subarray (5). Since the target is larger than the item, we go to the right subtree.\n",
    "- Last, we compare 6 with the middle item of the subarray (6). Since they are equal, we return the index, 6.\n",
    "\n",
    "The above steps are also shown by the red path in the figure below."
   ]
  },
  {
   "cell_type": "markdown",
   "metadata": {},
   "source": [
    "<img src=\"../figure/figure_3.pdf\" width=\"800\" height=\"800\">\n",
    "\n",
    "Figure 3. The steps (denoted by the red path) for finding target 6 in input array [0, $\\ldots$, 9]."
   ]
  },
  {
   "cell_type": "markdown",
   "metadata": {},
   "source": [
    "#### Discussion\n",
    "- **Q**: Can you explain what happens when the target is 0?\n",
    "- **Q**: Can you explain what happens when the target is 10?"
   ]
  },
  {
   "cell_type": "markdown",
   "metadata": {},
   "source": [
    "The example and discussion above show that, no matter what the target is, binary search can always terminate within 4 steps. Here 4 is the number of nodes in the longest path (from the root to a leaf) in fig. 2, which is also the depth of the BST. This makes sense since we will definitely know whether the target is in the array (or not) after walking through one of the paths, whose length cannot be larger than 4. \n",
    "\n",
    "The finding above is interesting because it reveals the time complexity of binary search, that is, $O(depth)$. The question is, what is the value of this mysterious number, *depth*, when there are $n$ elements in the input array? To answer this question, let us briefly review what happens in binary search, or even better, in the BST in fig. 2. In general, we iteratively divide the input array in half until we the subarray only contains one element. In other words, we repeatedly divide $n$ (the length of the input array) by 2 until $n$ becomes 1. The number of iteration, $k$, can be calculated by solving the equation below\n",
    "\n",
    "\\begin{equation}\n",
    "2 ^ k = n,\\tag{2}\n",
    "\\end{equation}\n",
    "which gives us\n",
    "\\begin{equation}\n",
    "k = log(n).\\tag{3}\n",
    "\\end{equation}\n",
    "\n",
    "That is, the depth of a BST for input array with size $n$ is $log(n)$. As a result, the time complexity of binary search is $O(log(n))$. In section 4, we will use the Master Theorem to read the complexity of the binary search from the recursive definition of the complexity.\n",
    "\n",
    "The above complexity theoretically explains the question we asked in the beginning of this section, that is, why binary search matters. It is simply because a $O(log(n))$ algorithm is much faster than a $O(n)$ one. This is the key reason why binary search is one of the most widely used algorithms in reality."
   ]
  },
  {
   "cell_type": "markdown",
   "metadata": {},
   "source": [
    "<a id='3.5.3'></a>"
   ]
  },
  {
   "cell_type": "markdown",
   "metadata": {},
   "source": [
    "### How is binary search implemented?\n",
    "The implementation of binary search is straightforward. Basically we can simply follow the steps in section 3.5 to implement the algorithm. Below is one way to do so. "
   ]
  },
  {
   "cell_type": "code",
   "execution_count": 7,
   "metadata": {},
   "outputs": [],
   "source": [
    "def binary_search(arr, target):\n",
    "    \"\"\"\n",
    "    The binary search algorithm\n",
    "    \n",
    "    Parameters\n",
    "    ----------\n",
    "    arr : a list of integers\n",
    "    target : an integer\n",
    "    \n",
    "    Returns\n",
    "    ----------\n",
    "    The index of the target, if the target is in the array\n",
    "    None, otherwise\n",
    "    \"\"\"\n",
    "    \n",
    "    # The starting and ending point of the input array\n",
    "    left, right = 0, len(arr) - 1\n",
    "    \n",
    "    # While the subarray is not empty\n",
    "    while (left <= right):\n",
    "        # Get the index of the middle item in the subarray\n",
    "        mid = left + (right - left) // 2\n",
    "        \n",
    "        # If the middle item equals the target\n",
    "        if arr[mid] == target:\n",
    "            return mid\n",
    "        # If the middle item is larger than the target\n",
    "        elif arr[mid] > target:\n",
    "            right = mid - 1\n",
    "        # If the middle item is smaller than the target\n",
    "        else:\n",
    "            left = mid + 1\n",
    "            \n",
    "    return None"
   ]
  },
  {
   "cell_type": "code",
   "execution_count": 8,
   "metadata": {
    "scrolled": true
   },
   "outputs": [
    {
     "name": "stdout",
     "output_type": "stream",
     "text": [
      "None\n",
      "0\n",
      "1\n"
     ]
    }
   ],
   "source": [
    "# Test\n",
    "arr_1 = [2]\n",
    "arr_2 = [3]\n",
    "arr_3 = [2, 3]\n",
    "\n",
    "print(binary_search(arr_1, 3))\n",
    "print(binary_search(arr_2, 3))\n",
    "print(binary_search(arr_3, 3))"
   ]
  },
  {
   "cell_type": "markdown",
   "metadata": {},
   "source": [
    "### Discussion\n",
    "The difference (in running time) between binary search and fun_33 is shown in fig. 4. This experimentally illustrates what we theoretically explained, that is, binary search (with $O(log(n))$ time complexity) is indeed faster than the linear algorithms (with $O(n)$ complexity)."
   ]
  },
  {
   "cell_type": "code",
   "execution_count": 9,
   "metadata": {
    "scrolled": false
   },
   "outputs": [
    {
     "data": {
      "image/png": "[encoded data removed]",
      "text/plain": [
       "<Figure size 432x288 with 1 Axes>"
      ]
     },
     "metadata": {
      "needs_background": "light"
     },
     "output_type": "display_data"
    },
    {
     "name": "stdout",
     "output_type": "stream",
     "text": [
      "Figure 4. The run time of fun_33 and binary search.\n"
     ]
    }
   ],
   "source": [
    "plot(10 ** 4, [fun_33, binary_search])\n",
    "print(\"Figure 4. The run time of fun_33 and binary search.\")"
   ]
  },
  {
   "cell_type": "markdown",
   "metadata": {},
   "source": [
    "<a id='3.6'></a>"
   ]
  },
  {
   "cell_type": "markdown",
   "metadata": {},
   "source": [
    "## Exercise ($\\star\\star$)\n",
    "- Problem:\n",
    "    - follow up on [section 3.5.3](#3.5.3)\n",
    "    - unlike in binary search where we return None when the target is not in the input array, here we return the index where the target should be inserted (so that the array is still sorted in ascending order)\n",
    "    - see examples in the testing cases\n",
    "    - you can assume the items in the array are unique\n",
    "    - find the solution with the complexity below\n",
    "- Complexity:\n",
    "    - $O(log(n))$ time\n",
    "    - $O(1)$ space\n",
    "- Skills: \n",
    "    - tweaking an existing solution to fulfill the new requirements\n",
    "- Logic: we strongly recommend you to try to find the solution yourself before looking at the [hints](#hints_3.6)"
   ]
  },
  {
   "cell_type": "code",
   "execution_count": 10,
   "metadata": {},
   "outputs": [],
   "source": [
    "# Implementation\n",
    "def fun_36(arr, target):\n",
    "    \"\"\"\n",
    "    Find a target in an array\n",
    "    You can assume the items in the array are unique\n",
    "    \n",
    "    Parameters\n",
    "    ----------\n",
    "    arr : a list of integers\n",
    "    num : an integer\n",
    "    \n",
    "    Returns\n",
    "    ----------\n",
    "    The index of the target, if the target is in the array\n",
    "    The index where the target should be inserted (so that the array is still sorted in ascending order), otherwise\n",
    "    \"\"\"\n",
    "    \n",
    "    # Implement me\n",
    "    # The starting and ending point of the input array\n",
    "    left, right = 0, len(arr) - 1\n",
    "    \n",
    "    # While the subarray is not empty\n",
    "    while (left <= right):\n",
    "        # Get the index of the middle item in the subarray\n",
    "        mid = left + (right - left) // 2\n",
    "        \n",
    "        # If the middle item equals the target\n",
    "        if arr[mid] == target:\n",
    "            return mid\n",
    "        # If the middle item is larger than the target\n",
    "        elif arr[mid] > target:\n",
    "            right = mid - 1\n",
    "        # If the middle item is smaller than the target\n",
    "        else:\n",
    "            left = mid + 1\n",
    "            \n",
    "    return left"
   ]
  },
  {
   "cell_type": "code",
   "execution_count": 11,
   "metadata": {},
   "outputs": [
    {
     "name": "stdout",
     "output_type": "stream",
     "text": [
      "1\n",
      "0\n",
      "1\n"
     ]
    }
   ],
   "source": [
    "# Test\n",
    "arr_1 = [2]\n",
    "arr_2 = [4]\n",
    "arr_3 = [2, 3, 4]\n",
    "\n",
    "print(fun_36(arr_1, 3))\n",
    "print(fun_36(arr_2, 3))\n",
    "print(fun_36(arr_3, 3))"
   ]
  },
  {
   "cell_type": "markdown",
   "metadata": {},
   "source": [
    "<a id='3.7'></a>"
   ]
  },
  {
   "cell_type": "markdown",
   "metadata": {},
   "source": [
    "## Exercise ($\\star\\star$)\n",
    "- Problem:\n",
    "    - check whether the target is a square of another number\n",
    "    - find the solution with the complexity below\n",
    "    - this example will be followed by\n",
    "        - [exercise 3.8](#3.8)\n",
    "- Complexity:\n",
    "    - $O(n)$ time\n",
    "    - $O(1)$ space\n",
    "- Skills: \n",
    "    - handling corner cases\n",
    "    - handling overflow\n",
    "- Logic: we strongly recommend you to try to find the solution yourself before looking at the [hints](#hints_3.7)"
   ]
  },
  {
   "cell_type": "code",
   "execution_count": 12,
   "metadata": {},
   "outputs": [],
   "source": [
    "# Implementation\n",
    "def fun_37(target):\n",
    "    \"\"\"\n",
    "    Check whether the target is a square of another number\n",
    "    \n",
    "    Parameters\n",
    "    ----------\n",
    "    target : an integer\n",
    "    \n",
    "    Returns\n",
    "    ----------\n",
    "    True, if the target is a square of another number\n",
    "    False, otherwise\n",
    "    \"\"\"\n",
    "    \n",
    "    # Implement me\n",
    "    # Corner case\n",
    "    if target == 0:\n",
    "        return True\n",
    "    \n",
    "    # For each target i\n",
    "    for i in range(1, target + 1):\n",
    "        if i == target / i:\n",
    "            return True\n",
    "\n",
    "    return False"
   ]
  },
  {
   "cell_type": "code",
   "execution_count": 13,
   "metadata": {},
   "outputs": [
    {
     "name": "stdout",
     "output_type": "stream",
     "text": [
      "False\n",
      "True\n",
      "False\n",
      "True\n",
      "True\n"
     ]
    }
   ],
   "source": [
    "# Test\n",
    "target_1 = -1\n",
    "target_2 = 0\n",
    "target_3 = 5\n",
    "target_4 = 9\n",
    "target_5 = 100\n",
    "\n",
    "print(fun_37(target_1))\n",
    "print(fun_37(target_2))\n",
    "print(fun_37(target_3))\n",
    "print(fun_37(target_4))\n",
    "print(fun_37(target_5))"
   ]
  },
  {
   "cell_type": "markdown",
   "metadata": {},
   "source": [
    "<a id='3.8'></a>"
   ]
  },
  {
   "cell_type": "markdown",
   "metadata": {},
   "source": [
    "## Exercise ($\\star\\star$)\n",
    "- Problem:\n",
    "    - follow up on [exercise 3.7](#3.7)\n",
    "    - find the solution with the complexity below\n",
    "- Complexity:\n",
    "    - $O(log(n))$ time\n",
    "    - $O(1)$ space\n",
    "- Skills: \n",
    "    - tweaking an existing solution to fulfill the new requirements\n",
    "- Logic: we strongly recommend you to try to find the solution yourself before looking at the [hints](#hints_3.8)"
   ]
  },
  {
   "cell_type": "code",
   "execution_count": 14,
   "metadata": {},
   "outputs": [],
   "source": [
    "# Implementation\n",
    "def fun_38(target):\n",
    "    \"\"\"\n",
    "    Check whether the target is a square of another number\n",
    "    \n",
    "    Parameters\n",
    "    ----------\n",
    "    target : an integer\n",
    "    \n",
    "    Returns\n",
    "    ----------\n",
    "    True, if the target is a square of another number\n",
    "    False, otherwise\n",
    "    \"\"\"\n",
    "    \n",
    "    # Implement me\n",
    "    # Corner case\n",
    "    if target == 0:\n",
    "        return True\n",
    "    \n",
    "    # The starting and ending point of a range\n",
    "    left, right = 1, target\n",
    "\n",
    "    # While the range is not empty\n",
    "    while left <= right:\n",
    "        # Get the middle item in the range\n",
    "        mid = left + (right - left) // 2\n",
    "        div = target / mid\n",
    "\n",
    "        # If the middle item equals the target\n",
    "        if mid == div:\n",
    "            return True\n",
    "        # If the middle item is larger than the target\n",
    "        elif mid > div:\n",
    "            right = mid - 1\n",
    "        # If the middle item is smaller than the target\n",
    "        else:\n",
    "            left = mid + 1\n",
    "\n",
    "    return False"
   ]
  },
  {
   "cell_type": "code",
   "execution_count": 15,
   "metadata": {
    "scrolled": false
   },
   "outputs": [
    {
     "name": "stdout",
     "output_type": "stream",
     "text": [
      "False\n",
      "True\n",
      "False\n",
      "True\n",
      "True\n"
     ]
    }
   ],
   "source": [
    "# Test\n",
    "target_1 = -1\n",
    "target_2 = 0\n",
    "target_3 = 5\n",
    "target_4 = 9\n",
    "target_5 = 100\n",
    "\n",
    "print(fun_38(target_1))\n",
    "print(fun_38(target_2))\n",
    "print(fun_38(target_3))\n",
    "print(fun_38(target_4))\n",
    "print(fun_38(target_5))"
   ]
  },
  {
   "cell_type": "markdown",
   "metadata": {},
   "source": [
    "## Discussion\n",
    "The difference (in running time) between fun_37 (the linear solution) and fun_38 (the binary search) can be seen in fig. 5."
   ]
  },
  {
   "cell_type": "code",
   "execution_count": 16,
   "metadata": {},
   "outputs": [],
   "source": [
    "def plot(n, funs):\n",
    "    \"\"\"\n",
    "    Plot the run time of the functions (with respect to the input size).\n",
    "    \n",
    "    Parameters\n",
    "    ----------\n",
    "    n : an integer\n",
    "    funs : a list of functions\n",
    "    \"\"\"\n",
    "        \n",
    "    x = list(range(n + 1))\n",
    "    ys = [[] for _ in range(len(funs))]\n",
    "\n",
    "    for i in x:\n",
    "        for j in range(len(funs)):\n",
    "            start = time.time()\n",
    "            funs[j](i)\n",
    "            end = time.time()\n",
    "            ys[j].append(end - start)\n",
    "    \n",
    "    for j in range(len(funs)):\n",
    "        plt.plot(x, ys[j], label=funs[j].__name__)\n",
    "    plt.xlabel('$n$', fontsize=20)\n",
    "    plt.ylabel('Run time', fontsize=20)\n",
    "    plt.xticks([min(x), max(x)], fontsize=20)\n",
    "    plt.yticks([min([ys[j][k] for j in range(len(funs)) for k in range(len(ys[j]))]), max([ys[j][k] for j in range(len(funs)) for k in range(len(ys[j]))])], fontsize=20)\n",
    "    plt.legend(fontsize=20)\n",
    "    plt.tight_layout()\n",
    "    plt.show()  "
   ]
  },
  {
   "cell_type": "code",
   "execution_count": 17,
   "metadata": {
    "scrolled": false
   },
   "outputs": [
    {
     "data": {
      "image/png": "[encoded data removed]",
      "text/plain": [
       "<Figure size 432x288 with 1 Axes>"
      ]
     },
     "metadata": {
      "needs_background": "light"
     },
     "output_type": "display_data"
    },
    {
     "name": "stdout",
     "output_type": "stream",
     "text": [
      "Figure 5. The run time of fun_37 and fun_38.\n"
     ]
    }
   ],
   "source": [
    "plot(10 ** 4, [fun_37, fun_38])\n",
    "print(\"Figure 5. The run time of fun_37 and fun_38.\")"
   ]
  },
  {
   "cell_type": "markdown",
   "metadata": {},
   "source": [
    "<a id='3.10'></a>"
   ]
  },
  {
   "cell_type": "markdown",
   "metadata": {},
   "source": [
    "## Exercise ($\\star$)\n",
    "- Problem:\n",
    "    - assume I randomly picked a number between 1 and n\n",
    "    - your job is to find which number I picked, in no more than n attempts\n",
    "    - particularly, for each of your attempt, a helper function (named, well, helper) will return one of the two numbers:\n",
    "        - 1, if your guess = the number I picked\n",
    "        - 0, if your guess $\\neq$ the number I picked\n",
    "    - find the solution with the complexity below\n",
    "    - for the spirit of a game, the testing result was hidden intentionally\n",
    "    - this example will be followed by\n",
    "        - [exercise 3.11](#3.11)\n",
    "- Complexity:\n",
    "    - $O(n)$ time\n",
    "    - $O(1)$ space\n",
    "- Logic: we strongly recommend you to try to find the solution yourself before looking at the [hints](#hints_3.10)"
   ]
  },
  {
   "cell_type": "code",
   "execution_count": 18,
   "metadata": {},
   "outputs": [],
   "source": [
    "# Implementation\n",
    "def fun_310(n):\n",
    "    \"\"\"\n",
    "    Find the number I picked (between 1 and n), in no more than n attempts\n",
    "    \n",
    "    Parameters\n",
    "    ----------\n",
    "    n : a positive integer\n",
    "    \n",
    "    Returns\n",
    "    ----------\n",
    "    The target I picked (between 1 and n)\n",
    "    \"\"\"\n",
    "    \n",
    "    # Implement me\n",
    "    # For each number i between 1 and n\n",
    "    for i in range(1, n + 1):\n",
    "        if helper(i, n) == 1:\n",
    "            return i\n",
    "        \n",
    "    return None"
   ]
  },
  {
   "cell_type": "code",
   "execution_count": 19,
   "metadata": {},
   "outputs": [],
   "source": [
    "def helper(i, n):\n",
    "    # Randomly pick a number between 1 and n\n",
    "    np.random.seed(0)\n",
    "    num = np.random.randint(low=1, high=n + 1)\n",
    "    \n",
    "    return 1 if i == num else 0"
   ]
  },
  {
   "cell_type": "code",
   "execution_count": 20,
   "metadata": {
    "scrolled": true
   },
   "outputs": [
    {
     "name": "stdout",
     "output_type": "stream",
     "text": [
      "1\n",
      "1\n",
      "45\n"
     ]
    }
   ],
   "source": [
    "# Test\n",
    "n_1 = 1\n",
    "n_2 = 3\n",
    "n_3 = 100\n",
    "\n",
    "print(fun_310(n_1))\n",
    "print(fun_310(n_2))\n",
    "print(fun_310(n_3))"
   ]
  },
  {
   "cell_type": "markdown",
   "metadata": {},
   "source": [
    "<a id='3.11'></a>"
   ]
  },
  {
   "cell_type": "markdown",
   "metadata": {},
   "source": [
    "## Exercise ($\\star\\star$)\n",
    "- Problem:\n",
    "    - follow up on [exercise 3.10](#3.10)\n",
    "    - in this case, you will work with a helper function that is a little bit more powerful\n",
    "    - particularly, for each of your attempt, the helper function will return one of the three numbers:\n",
    "        - 0,  if your guess = the number I picked\n",
    "        - -1, if your guess > the number I picked (indicating your guess should go down)\n",
    "        - 1,  if your guess < the number I picked (indicating your guess should go up)\n",
    "    - your job is to find which number I picked, in no more than log(n) attempts\n",
    "    - find the solution with the complexity below\n",
    "    - for the spirit of a game, the testing result was hidden intentionally\n",
    "- Complexity:\n",
    "    - $O(log(n))$ time\n",
    "    - $O(1)$ space\n",
    "- Skills: \n",
    "    - tweaking an existing solution to fulfill the new requirements\n",
    "- Logic: we strongly recommend you to try to find the solution yourself before looking at the [hints](#hints_3.11)"
   ]
  },
  {
   "cell_type": "code",
   "execution_count": 21,
   "metadata": {},
   "outputs": [],
   "source": [
    "# Implementation\n",
    "def fun_311(n):\n",
    "    \"\"\"\n",
    "    Find the number I picked (between 1 and n), in no more than log(n) attempts\n",
    "    \n",
    "    Parameters\n",
    "    ----------\n",
    "    n : a positive integer\n",
    "    \n",
    "    Returns\n",
    "    ----------\n",
    "    The number I picked (between 1 and n)\n",
    "    \"\"\"\n",
    "    \n",
    "    # Implement me\n",
    "    # The starting and ending point of a range\n",
    "    left, right = 1, n\n",
    "\n",
    "    # While the range is not empty\n",
    "    while left <= right:\n",
    "        # Get the middle item in the range\n",
    "        mid = left + (right - left) // 2\n",
    "        # Get the result of helper\n",
    "        num = helper(mid, n)\n",
    "\n",
    "        # If the middle item equals the target I picked\n",
    "        if num == 0:\n",
    "            return mid\n",
    "        # If the middle item is larger than the target I picked\n",
    "        elif num == -1:\n",
    "            right = mid - 1\n",
    "        # If the middle item is smaller than the target I picked\n",
    "        else:\n",
    "            left = mid + 1\n",
    "\n",
    "    return left"
   ]
  },
  {
   "cell_type": "code",
   "execution_count": 22,
   "metadata": {},
   "outputs": [],
   "source": [
    "def helper(mid, n):\n",
    "    # Randomly pick a number between 1 and n\n",
    "    np.random.seed(0)\n",
    "    num = np.random.randint(low=1, high=n + 1)\n",
    "    \n",
    "    if mid == num:\n",
    "        return 0\n",
    "    if mid > num:\n",
    "        return -1\n",
    "    if mid < num:\n",
    "        return 1"
   ]
  },
  {
   "cell_type": "code",
   "execution_count": 23,
   "metadata": {
    "scrolled": false
   },
   "outputs": [
    {
     "name": "stdout",
     "output_type": "stream",
     "text": [
      "1\n",
      "1\n",
      "45\n"
     ]
    }
   ],
   "source": [
    "# Test\n",
    "n_1 = 1\n",
    "n_2 = 3\n",
    "n_3 = 100\n",
    "\n",
    "print(fun_311(n_1))\n",
    "print(fun_311(n_2))\n",
    "print(fun_311(n_3))"
   ]
  },
  {
   "cell_type": "markdown",
   "metadata": {},
   "source": [
    "# The Master Theorem\n",
    "TBD"
   ]
  },
  {
   "cell_type": "markdown",
   "metadata": {
    "collapsed": true
   },
   "source": [
    "# Appendix"
   ]
  },
  {
   "cell_type": "markdown",
   "metadata": {
    "collapsed": true
   },
   "source": [
    "<a id='hints_3.3'></a>"
   ]
  },
  {
   "cell_type": "markdown",
   "metadata": {},
   "source": [
    "## Hints for [exercise 3.3](#3.3):\n",
    "- the logic is almost the same as that in [example 3.1](#3.1)\n",
    "- the difference is\n",
    "    - when the target is found, instead of looping over the remaining items, we return its index right away (thus avoiding unnecessary computation)"
   ]
  },
  {
   "cell_type": "markdown",
   "metadata": {
    "collapsed": true
   },
   "source": [
    "<a id='hints_3.6'></a>"
   ]
  },
  {
   "cell_type": "markdown",
   "metadata": {},
   "source": [
    "## Hints for [exercise 3.6](#3.6):\n",
    "- the logic is almost the same as that in the binary search in [section 3.5.3](#3.5.3)\n",
    "- the difference is\n",
    "    - when the target is not in the input array, we return left instead of None"
   ]
  },
  {
   "cell_type": "markdown",
   "metadata": {
    "collapsed": true
   },
   "source": [
    "<a id='hints_3.7'></a>"
   ]
  },
  {
   "cell_type": "markdown",
   "metadata": {},
   "source": [
    "## Hints for [exercise 3.7](#3.7):\n",
    "- we loop over each target i between 0 and target (the input) and check whether target is the square of i\n",
    "- instead of checking if i * i == target, we check if i == target / i (to handle overflow)"
   ]
  },
  {
   "cell_type": "markdown",
   "metadata": {
    "collapsed": true
   },
   "source": [
    "<a id='hints_3.8'></a>"
   ]
  },
  {
   "cell_type": "markdown",
   "metadata": {},
   "source": [
    "## Hints for [exercise 3.8](#3.8):\n",
    "- the logic is almost the same as that in [exercise 3.6](#3.6)\n",
    "- the difference is\n",
    "    - instead of comparing mid with target, we compare mid with target / mid"
   ]
  },
  {
   "cell_type": "markdown",
   "metadata": {
    "collapsed": true
   },
   "source": [
    "<a id='hints_3.10'></a>"
   ]
  },
  {
   "cell_type": "markdown",
   "metadata": {},
   "source": [
    "## Hints for [exercise 3.10](#3.10):\n",
    "- we loop over each number i between 1 and n and return i if the helper function returns 1"
   ]
  },
  {
   "cell_type": "markdown",
   "metadata": {
    "collapsed": true
   },
   "source": [
    "<a id='hints_3.11'></a>"
   ]
  },
  {
   "cell_type": "markdown",
   "metadata": {},
   "source": [
    "## Hints for [exercise 3.11](#3.11):\n",
    "- the logic is almost the same as that in [exercise 3.6](#3.6)\n",
    "- the difference is\n",
    "    - instead of comparing mid with the target (which is hidden in this case), we compare mid with the result of the helper function"
   ]
  }
 ],
 "metadata": {
  "kernelspec": {
   "display_name": "Python 3",
   "language": "python",
   "name": "python3"
  },
  "language_info": {
   "codemirror_mode": {
    "name": "ipython",
    "version": 3
   },
   "file_extension": ".py",
   "mimetype": "text/x-python",
   "name": "python",
   "nbconvert_exporter": "python",
   "pygments_lexer": "ipython3",
   "version": "3.7.2"
  },
  "toc": {
   "base_numbering": 1,
   "nav_menu": {},
   "number_sections": true,
   "sideBar": true,
   "skip_h1_title": false,
   "title_cell": "Table of Contents",
   "title_sidebar": "Contents",
   "toc_cell": true,
   "toc_position": {},
   "toc_section_display": true,
   "toc_window_display": false
  }
 },
 "nbformat": 4,
 "nbformat_minor": 2
}
