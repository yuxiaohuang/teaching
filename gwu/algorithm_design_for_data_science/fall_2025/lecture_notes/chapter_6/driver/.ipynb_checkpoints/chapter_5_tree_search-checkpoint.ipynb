{
 "cells": [
  {
   "cell_type": "markdown",
   "metadata": {
    "toc": true
   },
   "source": [
    "<h1>Table of Contents<span class=\"tocSkip\"></span></h1>\n",
    "<div class=\"toc\"><ul class=\"toc-item\"><li><span><a href=\"#Overview\" data-toc-modified-id=\"Overview-1\"><span class=\"toc-item-num\">1&nbsp;&nbsp;</span>Overview</a></span></li><li><span><a href=\"#Learning-Objectives\" data-toc-modified-id=\"Learning-Objectives-2\"><span class=\"toc-item-num\">2&nbsp;&nbsp;</span>Learning Objectives</a></span></li><li><span><a href=\"#Tree\" data-toc-modified-id=\"Tree-3\"><span class=\"toc-item-num\">3&nbsp;&nbsp;</span>Tree</a></span><ul class=\"toc-item\"><li><span><a href=\"#The-Definition\" data-toc-modified-id=\"The-Definition-3.1\"><span class=\"toc-item-num\">3.1&nbsp;&nbsp;</span>The Definition</a></span></li><li><span><a href=\"#The-Implementation-(of-Binary-Tree)\" data-toc-modified-id=\"The-Implementation-(of-Binary-Tree)-3.2\"><span class=\"toc-item-num\">3.2&nbsp;&nbsp;</span>The Implementation (of Binary Tree)</a></span></li><li><span><a href=\"#Tree-Traversal\" data-toc-modified-id=\"Tree-Traversal-3.3\"><span class=\"toc-item-num\">3.3&nbsp;&nbsp;</span>Tree Traversal</a></span><ul class=\"toc-item\"><li><span><a href=\"#Pre-order-Traversal\" data-toc-modified-id=\"Pre-order-Traversal-3.3.1\"><span class=\"toc-item-num\">3.3.1&nbsp;&nbsp;</span>Pre-order Traversal</a></span><ul class=\"toc-item\"><li><span><a href=\"#The-Idea\" data-toc-modified-id=\"The-Idea-3.3.1.1\"><span class=\"toc-item-num\">3.3.1.1&nbsp;&nbsp;</span>The Idea</a></span></li><li><span><a href=\"#Exercise-($\\star\\star$):-the-implementation\" data-toc-modified-id=\"Exercise-($\\star\\star$):-the-implementation-3.3.1.2\"><span class=\"toc-item-num\">3.3.1.2&nbsp;&nbsp;</span>Exercise ($\\star\\star$): the implementation</a></span></li><li><span><a href=\"#Discussion\" data-toc-modified-id=\"Discussion-3.3.1.3\"><span class=\"toc-item-num\">3.3.1.3&nbsp;&nbsp;</span>Discussion</a></span></li></ul></li><li><span><a href=\"#In-order-Traversal\" data-toc-modified-id=\"In-order-Traversal-3.3.2\"><span class=\"toc-item-num\">3.3.2&nbsp;&nbsp;</span>In-order Traversal</a></span><ul class=\"toc-item\"><li><span><a href=\"#The-Idea\" data-toc-modified-id=\"The-Idea-3.3.2.1\"><span class=\"toc-item-num\">3.3.2.1&nbsp;&nbsp;</span>The Idea</a></span></li><li><span><a href=\"#Exercise-($\\star\\star$):-the-implementation\" data-toc-modified-id=\"Exercise-($\\star\\star$):-the-implementation-3.3.2.2\"><span class=\"toc-item-num\">3.3.2.2&nbsp;&nbsp;</span>Exercise ($\\star\\star$): the implementation</a></span></li><li><span><a href=\"#Discussion\" data-toc-modified-id=\"Discussion-3.3.2.3\"><span class=\"toc-item-num\">3.3.2.3&nbsp;&nbsp;</span>Discussion</a></span></li></ul></li><li><span><a href=\"#Post-order-Traversal\" data-toc-modified-id=\"Post-order-Traversal-3.3.3\"><span class=\"toc-item-num\">3.3.3&nbsp;&nbsp;</span>Post-order Traversal</a></span><ul class=\"toc-item\"><li><span><a href=\"#The-Idea\" data-toc-modified-id=\"The-Idea-3.3.3.1\"><span class=\"toc-item-num\">3.3.3.1&nbsp;&nbsp;</span>The Idea</a></span></li><li><span><a href=\"#Exercise-($\\star\\star$):-the-implementation\" data-toc-modified-id=\"Exercise-($\\star\\star$):-the-implementation-3.3.3.2\"><span class=\"toc-item-num\">3.3.3.2&nbsp;&nbsp;</span>Exercise ($\\star\\star$): the implementation</a></span></li><li><span><a href=\"#Discussion\" data-toc-modified-id=\"Discussion-3.3.3.3\"><span class=\"toc-item-num\">3.3.3.3&nbsp;&nbsp;</span>Discussion</a></span></li></ul></li><li><span><a href=\"#Level-order-Traversal\" data-toc-modified-id=\"Level-order-Traversal-3.3.4\"><span class=\"toc-item-num\">3.3.4&nbsp;&nbsp;</span>Level-order Traversal</a></span><ul class=\"toc-item\"><li><span><a href=\"#Example-($\\star\\star\\star$):-the-implementation\" data-toc-modified-id=\"Example-($\\star\\star\\star$):-the-implementation-3.3.4.1\"><span class=\"toc-item-num\">3.3.4.1&nbsp;&nbsp;</span>Example ($\\star\\star\\star$): the implementation</a></span></li></ul></li></ul></li></ul></li><li><span><a href=\"#The-Idea-of-Depth-First-Search-and-Breadth-First-Search\" data-toc-modified-id=\"The-Idea-of-Depth-First-Search-and-Breadth-First-Search-4\"><span class=\"toc-item-num\">4&nbsp;&nbsp;</span>The Idea of Depth First Search and Breadth First Search</a></span></li><li><span><a href=\"#The-Application-of-DFS\" data-toc-modified-id=\"The-Application-of-DFS-5\"><span class=\"toc-item-num\">5&nbsp;&nbsp;</span>The Application of DFS</a></span><ul class=\"toc-item\"><li><span><a href=\"#Exercise-($\\star\\star$)\" data-toc-modified-id=\"Exercise-($\\star\\star$)-5.1\"><span class=\"toc-item-num\">5.1&nbsp;&nbsp;</span>Exercise ($\\star\\star$)</a></span></li><li><span><a href=\"#Exercise-($\\star\\star$)\" data-toc-modified-id=\"Exercise-($\\star\\star$)-5.2\"><span class=\"toc-item-num\">5.2&nbsp;&nbsp;</span>Exercise ($\\star\\star$)</a></span></li><li><span><a href=\"#Exercise-($\\star\\star\\star$)\" data-toc-modified-id=\"Exercise-($\\star\\star\\star$)-5.3\"><span class=\"toc-item-num\">5.3&nbsp;&nbsp;</span>Exercise ($\\star\\star\\star$)</a></span></li><li><span><a href=\"#Exercise-($\\star\\star$)\" data-toc-modified-id=\"Exercise-($\\star\\star$)-5.4\"><span class=\"toc-item-num\">5.4&nbsp;&nbsp;</span>Exercise ($\\star\\star$)</a></span></li><li><span><a href=\"#Exercise-($\\star\\star$)\" data-toc-modified-id=\"Exercise-($\\star\\star$)-5.5\"><span class=\"toc-item-num\">5.5&nbsp;&nbsp;</span>Exercise ($\\star\\star$)</a></span></li><li><span><a href=\"#Exercise-($\\star\\star$)\" data-toc-modified-id=\"Exercise-($\\star\\star$)-5.6\"><span class=\"toc-item-num\">5.6&nbsp;&nbsp;</span>Exercise ($\\star\\star$)</a></span></li><li><span><a href=\"#Exercise-($\\star\\star$)\" data-toc-modified-id=\"Exercise-($\\star\\star$)-5.7\"><span class=\"toc-item-num\">5.7&nbsp;&nbsp;</span>Exercise ($\\star\\star$)</a></span></li><li><span><a href=\"#Exercise-($\\star\\star$)\" data-toc-modified-id=\"Exercise-($\\star\\star$)-5.8\"><span class=\"toc-item-num\">5.8&nbsp;&nbsp;</span>Exercise ($\\star\\star$)</a></span></li><li><span><a href=\"#Exercise-($\\star\\star$)\" data-toc-modified-id=\"Exercise-($\\star\\star$)-5.9\"><span class=\"toc-item-num\">5.9&nbsp;&nbsp;</span>Exercise ($\\star\\star$)</a></span></li><li><span><a href=\"#Exercise-($\\star\\star\\star$)\" data-toc-modified-id=\"Exercise-($\\star\\star\\star$)-5.10\"><span class=\"toc-item-num\">5.10&nbsp;&nbsp;</span>Exercise ($\\star\\star\\star$)</a></span></li></ul></li><li><span><a href=\"#The-Application-of-BFS\" data-toc-modified-id=\"The-Application-of-BFS-6\"><span class=\"toc-item-num\">6&nbsp;&nbsp;</span>The Application of BFS</a></span><ul class=\"toc-item\"><li><span><a href=\"#Exercise-($\\star\\star$)\" data-toc-modified-id=\"Exercise-($\\star\\star$)-6.1\"><span class=\"toc-item-num\">6.1&nbsp;&nbsp;</span>Exercise ($\\star\\star$)</a></span></li><li><span><a href=\"#Exercise-($\\star\\star$)\" data-toc-modified-id=\"Exercise-($\\star\\star$)-6.2\"><span class=\"toc-item-num\">6.2&nbsp;&nbsp;</span>Exercise ($\\star\\star$)</a></span></li><li><span><a href=\"#Exercise-($\\star\\star$)\" data-toc-modified-id=\"Exercise-($\\star\\star$)-6.3\"><span class=\"toc-item-num\">6.3&nbsp;&nbsp;</span>Exercise ($\\star\\star$)</a></span></li><li><span><a href=\"#Exercise-($\\star\\star$)\" data-toc-modified-id=\"Exercise-($\\star\\star$)-6.4\"><span class=\"toc-item-num\">6.4&nbsp;&nbsp;</span>Exercise ($\\star\\star$)</a></span></li><li><span><a href=\"#Exercise-($\\star\\star\\star$)\" data-toc-modified-id=\"Exercise-($\\star\\star\\star$)-6.5\"><span class=\"toc-item-num\">6.5&nbsp;&nbsp;</span>Exercise ($\\star\\star\\star$)</a></span></li><li><span><a href=\"#Exercise-($\\star\\star\\star$)\" data-toc-modified-id=\"Exercise-($\\star\\star\\star$)-6.6\"><span class=\"toc-item-num\">6.6&nbsp;&nbsp;</span>Exercise ($\\star\\star\\star$)</a></span></li><li><span><a href=\"#Exercise-($\\star\\star\\star$)\" data-toc-modified-id=\"Exercise-($\\star\\star\\star$)-6.7\"><span class=\"toc-item-num\">6.7&nbsp;&nbsp;</span>Exercise ($\\star\\star\\star$)</a></span></li><li><span><a href=\"#Exercise-($\\star\\star\\star$)\" data-toc-modified-id=\"Exercise-($\\star\\star\\star$)-6.8\"><span class=\"toc-item-num\">6.8&nbsp;&nbsp;</span>Exercise ($\\star\\star\\star$)</a></span></li><li><span><a href=\"#Exercise-($\\star\\star\\star$)\" data-toc-modified-id=\"Exercise-($\\star\\star\\star$)-6.9\"><span class=\"toc-item-num\">6.9&nbsp;&nbsp;</span>Exercise ($\\star\\star\\star$)</a></span></li><li><span><a href=\"#Exercise-($\\star\\star\\star$)\" data-toc-modified-id=\"Exercise-($\\star\\star\\star$)-6.10\"><span class=\"toc-item-num\">6.10&nbsp;&nbsp;</span>Exercise ($\\star\\star\\star$)</a></span></li></ul></li><li><span><a href=\"#Appendix\" data-toc-modified-id=\"Appendix-7\"><span class=\"toc-item-num\">7&nbsp;&nbsp;</span>Appendix</a></span><ul class=\"toc-item\"><li><span><a href=\"#Hints-for-exercise-5.1:\" data-toc-modified-id=\"Hints-for-exercise-5.1:-7.1\"><span class=\"toc-item-num\">7.1&nbsp;&nbsp;</span>Hints for <a href=\"#5.1\">exercise 5.1</a>:</a></span></li><li><span><a href=\"#Hints-for-exercise-5.2:\" data-toc-modified-id=\"Hints-for-exercise-5.2:-7.2\"><span class=\"toc-item-num\">7.2&nbsp;&nbsp;</span>Hints for <a href=\"#5.2\">exercise 5.2</a>:</a></span></li><li><span><a href=\"#Hints-for-exercise-5.3:\" data-toc-modified-id=\"Hints-for-exercise-5.3:-7.3\"><span class=\"toc-item-num\">7.3&nbsp;&nbsp;</span>Hints for <a href=\"#5.3\">exercise 5.3</a>:</a></span></li><li><span><a href=\"#Hints-for-exercise-5.4:\" data-toc-modified-id=\"Hints-for-exercise-5.4:-7.4\"><span class=\"toc-item-num\">7.4&nbsp;&nbsp;</span>Hints for <a href=\"#5.4\">exercise 5.4</a>:</a></span></li><li><span><a href=\"#Hints-for-exercise-5.5:\" data-toc-modified-id=\"Hints-for-exercise-5.5:-7.5\"><span class=\"toc-item-num\">7.5&nbsp;&nbsp;</span>Hints for <a href=\"#5.5\">exercise 5.5</a>:</a></span></li><li><span><a href=\"#Hints-for-exercise-5.6:\" data-toc-modified-id=\"Hints-for-exercise-5.6:-7.6\"><span class=\"toc-item-num\">7.6&nbsp;&nbsp;</span>Hints for <a href=\"#5.6\">exercise 5.6</a>:</a></span></li><li><span><a href=\"#Hints-for-exercise-5.7:\" data-toc-modified-id=\"Hints-for-exercise-5.7:-7.7\"><span class=\"toc-item-num\">7.7&nbsp;&nbsp;</span>Hints for <a href=\"#5.7\">exercise 5.7</a>:</a></span></li><li><span><a href=\"#Hints-for-exercise-5.8:\" data-toc-modified-id=\"Hints-for-exercise-5.8:-7.8\"><span class=\"toc-item-num\">7.8&nbsp;&nbsp;</span>Hints for <a href=\"#5.8\">exercise 5.8</a>:</a></span></li><li><span><a href=\"#Hints-for-exercise-5.9:\" data-toc-modified-id=\"Hints-for-exercise-5.9:-7.9\"><span class=\"toc-item-num\">7.9&nbsp;&nbsp;</span>Hints for <a href=\"#5.9\">exercise 5.9</a>:</a></span></li><li><span><a href=\"#Hints-for-exercise-5.10:\" data-toc-modified-id=\"Hints-for-exercise-5.10:-7.10\"><span class=\"toc-item-num\">7.10&nbsp;&nbsp;</span>Hints for <a href=\"#5.10\">exercise 5.10</a>:</a></span></li><li><span><a href=\"#Hints-for-exercise-6.1:\" data-toc-modified-id=\"Hints-for-exercise-6.1:-7.11\"><span class=\"toc-item-num\">7.11&nbsp;&nbsp;</span>Hints for <a href=\"#6.1\">exercise 6.1</a>:</a></span></li><li><span><a href=\"#Hints-for-exercise-6.2:\" data-toc-modified-id=\"Hints-for-exercise-6.2:-7.12\"><span class=\"toc-item-num\">7.12&nbsp;&nbsp;</span>Hints for <a href=\"#6.2\">exercise 6.2</a>:</a></span></li><li><span><a href=\"#Hints-for-exercise-6.3:\" data-toc-modified-id=\"Hints-for-exercise-6.3:-7.13\"><span class=\"toc-item-num\">7.13&nbsp;&nbsp;</span>Hints for <a href=\"#6.3\">exercise 6.3</a>:</a></span></li><li><span><a href=\"#Hints-for-exercise-6.4:\" data-toc-modified-id=\"Hints-for-exercise-6.4:-7.14\"><span class=\"toc-item-num\">7.14&nbsp;&nbsp;</span>Hints for <a href=\"#6.4\">exercise 6.4</a>:</a></span></li><li><span><a href=\"#Hints-for-exercise-6.5:\" data-toc-modified-id=\"Hints-for-exercise-6.5:-7.15\"><span class=\"toc-item-num\">7.15&nbsp;&nbsp;</span>Hints for <a href=\"#6.5\">exercise 6.5</a>:</a></span></li><li><span><a href=\"#Hints-for-exercise-6.6:\" data-toc-modified-id=\"Hints-for-exercise-6.6:-7.16\"><span class=\"toc-item-num\">7.16&nbsp;&nbsp;</span>Hints for <a href=\"#6.6\">exercise 6.6</a>:</a></span></li><li><span><a href=\"#Hints-for-exercise-6.7:\" data-toc-modified-id=\"Hints-for-exercise-6.7:-7.17\"><span class=\"toc-item-num\">7.17&nbsp;&nbsp;</span>Hints for <a href=\"#6.7\">exercise 6.7</a>:</a></span></li><li><span><a href=\"#Hints-for-exercise-6.8:\" data-toc-modified-id=\"Hints-for-exercise-6.8:-7.18\"><span class=\"toc-item-num\">7.18&nbsp;&nbsp;</span>Hints for <a href=\"#6.8\">exercise 6.8</a>:</a></span></li><li><span><a href=\"#Hints-for-exercise-6.9:\" data-toc-modified-id=\"Hints-for-exercise-6.9:-7.19\"><span class=\"toc-item-num\">7.19&nbsp;&nbsp;</span>Hints for <a href=\"#6.9\">exercise 6.9</a>:</a></span></li><li><span><a href=\"#Hints-for-exercise-6.10:\" data-toc-modified-id=\"Hints-for-exercise-6.10:-7.20\"><span class=\"toc-item-num\">7.20&nbsp;&nbsp;</span>Hints for <a href=\"#6.10\">exercise 6.10</a>:</a></span></li></ul></li></ul></div>"
   ]
  },
  {
   "cell_type": "markdown",
   "metadata": {
    "collapsed": true
   },
   "source": [
    "<b>\n",
    "\n",
    "<p>\n",
    "<center>\n",
    "<font size=\"5\">\n",
    "Lecture Note for Computer Science Foundations (DATS 6450)\n",
    "</font>\n",
    "</center>\n",
    "</p>\n",
    "\n",
    "<p>\n",
    "<center>\n",
    "<font size=\"4\">\n",
    "Chapter 5: Tree and Search\n",
    "</font>\n",
    "</center>\n",
    "</p>\n",
    "\n",
    "<p>\n",
    "<center>\n",
    "<font size=\"3\">\n",
    "Data Science, Columbian College of Arts & Sciences, George Washington University\n",
    "</font>\n",
    "</center>\n",
    "</p>\n",
    "\n",
    "<p>\n",
    "<center>\n",
    "<font size=\"3\">\n",
    "Author: Yuxiao Huang\n",
    "</font>\n",
    "</center>\n",
    "</p>\n",
    "\n",
    "</b>"
   ]
  },
  {
   "cell_type": "markdown",
   "metadata": {},
   "source": [
    "# Overview\n",
    "- We will discuss an advanced data structure (compared to the ones covered in chapter 2), named Tree\n",
    "- Based on this data structure, we will discuss two kinds of search algorithms:\n",
    "    - Depth First Search (DFS)\n",
    "    - Breadth First Search (BFS)\n",
    "- Particularly, the discussion of each algorithm can be divided into two parts:\n",
    "    - theory, where we will describe the idea of the algorithm\n",
    "    - coding\n",
    "        - where (most of the time) we will start with some examples and then work on some exercises\n",
    "        - particularly, the examples and exercises are organized in such a way that, an exercise (most of the time) is a follow-up on some example prior to it\n",
    "        - **you should analyze the (time and space) complexity of each example and exercise**\n",
    "- We will use stars to represent the difficulty of the exercises:\n",
    "    - $\\star$ means very easy\n",
    "    - $\\star\\star$ means easy\n",
    "    - $\\star\\star\\star$ means medium\n",
    "    - $\\star\\star\\star\\star$ means difficult\n",
    "    - $\\star\\star\\star\\star\\star$ means very difficult"
   ]
  },
  {
   "cell_type": "markdown",
   "metadata": {},
   "source": [
    "# Learning Objectives\n",
    "Students should know:\n",
    "- the idea and implementation of tree\n",
    "- how depth and breadth first search work\n",
    "- how to apply the two kinds of search algorithms to design optimal solutions (ones with the lowest complexity)"
   ]
  },
  {
   "cell_type": "markdown",
   "metadata": {},
   "source": [
    "# Tree"
   ]
  },
  {
   "cell_type": "markdown",
   "metadata": {
    "collapsed": true
   },
   "source": [
    "## The Definition\n",
    "While we have not formally defined the tree structure, we have been using it for a while. For example, in chapter 2 we used Recursion Tree to show the steps of calculating the Fibonacci Series. In chapter 3, we used Binary Search Tree to show the steps in Binary Search. These trees (as trees in real life) represent a hierarchical relationship between items.\n",
    "\n",
    "More formally, a *Tree* data structure is a collection of nodes connected by directed (or sometimes undirected) edges. Each edge connects a parent (the node that the edge comes out of) and a child (the node that the edge goes into). While a node can have any number of children (including zero), it cannot have more than one parent. Particularly, based on the number of parent and children a node has, we can divide the nodes (in a tree) into three categories:\n",
    "- root: the node that has no parent\n",
    "- leaf: a node that has no children\n",
    "- internal node: a node that is neither the root nor a leaf\n",
    "\n",
    "<img src=\"../figure/figure_1.pdf\" width=\"500\" height=\"500\">\n",
    "\n",
    "Figure 1. The recursion tree for calculating the Fibonacci Series when $n = 5$."
   ]
  },
  {
   "cell_type": "markdown",
   "metadata": {},
   "source": [
    "In the recursion tree shown in fig. 1, the root is f(5) and the 0s and 1s are the leaves. The remaining nodes are the internal nodes.\n",
    "\n",
    "There are two concepts that are sometimes used incorrectly: the depth of a node and the height of a node. Specifically, the *depth of a node* is the number of edges from the root to the node. The *height of a node*, on the other hand, is the number of edges from the node to the deepest leaf. The *height of a tree* is the height of the root. A tree with a single node (hence both a root and leaf) has depth and height zero. Conventionally, an empty tree (one with no nodes) has height −1. In fig. 1, the depth of f(5) is 0 (since f(5) is the root), and the height of f(5) is 5, which is also the height of the tree.\n",
    "\n",
    "While a node in a tree can have any number of children, here we only focus on the case where a node has no more than two children. We call such tree a *Binary Tree*. An example of binary tree is shown in fig. 1, where each node has at most two children.\n",
    "\n",
    "In chapter 3, we introduced a special case of binary tree, named *Binary Search Tree* (BST). A BST is a binary tree that satisfies all of the three following conditions:\n",
    "- the left subtree of the root contains only nodes with value less than the value of the root\n",
    "- the right subtree of the root contains only nodes with value larger than the value of the root\n",
    "- both the left and right subtrees are BSTs\n",
    "\n",
    "For example, fig. 2 shows the BST for input array [0, $\\ldots$, 9]."
   ]
  },
  {
   "cell_type": "markdown",
   "metadata": {},
   "source": [
    "<img src=\"../figure/figure_2.pdf\" width=\"700\" height=\"700\">\n",
    "\n",
    "Figure 2. The Binary Search Tree (BST) for input array [0, $\\ldots$, 9]."
   ]
  },
  {
   "cell_type": "markdown",
   "metadata": {},
   "source": [
    "## The Implementation (of Binary Tree)\n",
    "As discussed earlier, a binary tree data structure is a collection of nodes (connected by edges) where each node has no more than two children. Such a tree node can be implemented as follows."
   ]
  },
  {
   "cell_type": "code",
   "execution_count": 1,
   "metadata": {},
   "outputs": [],
   "source": [
    "class TreeNode(object):\n",
    "    \"\"\"The tree node class (for a binary tree)\"\"\"\n",
    "    \n",
    "    def __init__(self, x):\n",
    "        # The value of the node\n",
    "        self.val = x\n",
    "        # The left child\n",
    "        self.left = None\n",
    "        # The right child\n",
    "        self.right = None"
   ]
  },
  {
   "cell_type": "markdown",
   "metadata": {},
   "source": [
    "The TreeNode class above has three attributes: the value of the node, the left child, and the right child. The value attribute is used to store the data (e.g., f(5) in fig. 1). The left and right child attributes are used to connect the node to its left and right children. The code blow creates the binary tree shown in fig. 3."
   ]
  },
  {
   "cell_type": "code",
   "execution_count": 2,
   "metadata": {},
   "outputs": [],
   "source": [
    "# The root\n",
    "root = TreeNode(0)\n",
    "\n",
    "# The left and right child at depth 1\n",
    "root.left = TreeNode(1)\n",
    "root.right = TreeNode(2)\n",
    "\n",
    "# The children at depth 2\n",
    "root.left.left = TreeNode(3)\n",
    "root.left.right = TreeNode(4)\n",
    "root.right.left = TreeNode(5)\n",
    "root.right.right = TreeNode(6)"
   ]
  },
  {
   "cell_type": "markdown",
   "metadata": {},
   "source": [
    "<img src=\"../figure/figure_3.pdf\" width=\"300\" height=\"300\">\n",
    "\n",
    "Figure 3. A binary tree with 7 nodes."
   ]
  },
  {
   "cell_type": "markdown",
   "metadata": {},
   "source": [
    "## Tree Traversal \n",
    "It is worth noting that the tree in fig. 3 was not generated by python, but by [Graphviz](https://www.graphviz.org) from a dot file (where we manually specified the tree structure). A natural question is, can we write a piece of code to display a tree? The answer is, well, it depends. It could be a little bit difficult to generate a figure that looks as good as fig. 3. However, it is quite easy to produce something that we can work with. One such thing is the *Tree Traversal*, which shows us the (value of the) nodes in certain order. In this section, we will discuss four kinds of tree traversal, including: pre-order, in-order, post-order, and level-order traversal. For each kind of traversal, we will discuss both the idea and implementation."
   ]
  },
  {
   "cell_type": "markdown",
   "metadata": {},
   "source": [
    "### Pre-order Traversal"
   ]
  },
  {
   "cell_type": "markdown",
   "metadata": {},
   "source": [
    "#### The Idea\n",
    "The pre-order traversal can be summarized as a recursive process:\n",
    "- if the root is None (empty), return\n",
    "- otherwise we:\n",
    "    - display the value of the root\n",
    "    - traverse the left subtree by recursively calling the pre-order function\n",
    "    - traverse the right subtree by recursively calling the pre-order function"
   ]
  },
  {
   "cell_type": "markdown",
   "metadata": {},
   "source": [
    "#### Exercise ($\\star\\star$): the implementation\n",
    "- Problem:\n",
    "    - based on the idea above, implement pre-order traversal\n",
    "- Logic: see the idea above"
   ]
  },
  {
   "cell_type": "code",
   "execution_count": 3,
   "metadata": {},
   "outputs": [],
   "source": [
    "def pre_order(root):\n",
    "    \"\"\"\n",
    "    Pre-order traversal \n",
    "    \n",
    "    Parameters\n",
    "    ----------\n",
    "    root : the root of a binary tree\n",
    "    \"\"\"\n",
    "    \n",
    "    # Implement me\n"
   ]
  },
  {
   "cell_type": "code",
   "execution_count": 4,
   "metadata": {},
   "outputs": [
    {
     "name": "stdout",
     "output_type": "stream",
     "text": [
      "0 1 3 4 2 5 6 "
     ]
    }
   ],
   "source": [
    "# Test\n",
    "pre_order(root)"
   ]
  },
  {
   "cell_type": "markdown",
   "metadata": {},
   "source": [
    "#### Discussion\n",
    "Can you explain the results above?"
   ]
  },
  {
   "cell_type": "markdown",
   "metadata": {},
   "source": [
    "### In-order Traversal"
   ]
  },
  {
   "cell_type": "markdown",
   "metadata": {},
   "source": [
    "#### The Idea\n",
    "The in-order traversal is almost the same as pre-order traversal. The only difference is that, unlike in pre-order traversal where we display the root before traversing the left and right subtree, here we do so after traversing the left subtree but before traversing the right subtree. This can be summarized as a recursive process:\n",
    "- if the root is None (empty), return\n",
    "- otherwise we:\n",
    "    - traverse the left subtree by recursively calling the in-order function\n",
    "    - display the value of the root\n",
    "    - traverse the right subtree by recursively calling the in-order function"
   ]
  },
  {
   "cell_type": "markdown",
   "metadata": {},
   "source": [
    "#### Exercise ($\\star\\star$): the implementation\n",
    "- Problem:\n",
    "    - based on the idea above, implement in-order traversal\n",
    "- Logic: see the idea above"
   ]
  },
  {
   "cell_type": "code",
   "execution_count": 5,
   "metadata": {},
   "outputs": [],
   "source": [
    "def in_order(root):\n",
    "    \"\"\"\n",
    "    In-order traversal \n",
    "    \n",
    "    Parameters\n",
    "    ----------\n",
    "    root : the root of a binary tree\n",
    "    \"\"\"\n",
    "    \n",
    "    # Implement me\n"
   ]
  },
  {
   "cell_type": "code",
   "execution_count": 6,
   "metadata": {},
   "outputs": [
    {
     "name": "stdout",
     "output_type": "stream",
     "text": [
      "3 1 4 0 5 2 6 "
     ]
    }
   ],
   "source": [
    "# Test\n",
    "in_order(root)"
   ]
  },
  {
   "cell_type": "markdown",
   "metadata": {},
   "source": [
    "#### Discussion\n",
    "Can you explain the results above?"
   ]
  },
  {
   "cell_type": "markdown",
   "metadata": {},
   "source": [
    "### Post-order Traversal"
   ]
  },
  {
   "cell_type": "markdown",
   "metadata": {},
   "source": [
    "#### The Idea\n",
    "After the discussion of pre-order and in-order traversal, we are pretty sure that you can guess what the post-order traversal is about. Yes, you are right. Unlike in in-order traversal where we display the root after traversing the left subtree but before traversing the right subtree, here we do so after traversing both of the subtrees. This can be summarized as a recursive process:\n",
    "- if the root is None (empty), return\n",
    "- otherwise we:\n",
    "    - traverse the left subtree by recursively calling the post-order function\n",
    "    - traverse the right subtree by recursively calling the post-order function\n",
    "    - display the value of the root"
   ]
  },
  {
   "cell_type": "markdown",
   "metadata": {},
   "source": [
    "#### Exercise ($\\star\\star$): the implementation\n",
    "- Problem:\n",
    "    - based on the idea above, implement post-order traversal\n",
    "- Logic: see the idea above"
   ]
  },
  {
   "cell_type": "code",
   "execution_count": 7,
   "metadata": {},
   "outputs": [],
   "source": [
    "def post_order(root):\n",
    "    \"\"\"\n",
    "    Post-order traversal \n",
    "    \n",
    "    Parameters\n",
    "    ----------\n",
    "    root : the root of a binary tree\n",
    "    \"\"\"\n",
    "\n",
    "    # Implement me\n"
   ]
  },
  {
   "cell_type": "code",
   "execution_count": 8,
   "metadata": {
    "scrolled": false
   },
   "outputs": [
    {
     "name": "stdout",
     "output_type": "stream",
     "text": [
      "3 4 1 5 6 2 0 "
     ]
    }
   ],
   "source": [
    "# Test\n",
    "post_order(root)"
   ]
  },
  {
   "cell_type": "markdown",
   "metadata": {},
   "source": [
    "#### Discussion\n",
    "Can you explain the results above?"
   ]
  },
  {
   "cell_type": "markdown",
   "metadata": {},
   "source": [
    "### Level-order Traversal\n",
    "While the first three kinds of tree traversal differ in the order of displaying the (value of the) root node, there is one thing in common. That is, after visiting the root of each subtree we directly move on to its left child. Take the pre-order traversal for example, after visiting the root (0), we then visit its left child (1), then the left child of its left child (3), which is a leaf node. This is the reason why the first three number in the output of pre-order traversal are 0, 1, and 3.\n",
    "\n",
    "Here we introduce another approach for tree traversal, *Level-order Traversal*, which (as suggested by the name) traverses the nodes level by level. This can be summarized as an iterative process:\n",
    "- for depth from 0 to the height of the tree\n",
    "    - we traverse the nodes with the corresponding depth from left to right\n",
    "    - this can be done using the queue structure discussed in chapter 2"
   ]
  },
  {
   "cell_type": "markdown",
   "metadata": {},
   "source": [
    "#### Example ($\\star\\star\\star$): the implementation\n",
    "- Problem:\n",
    "    - based on the idea above, implement level-order traversal\n",
    "- Logic: see the idea above"
   ]
  },
  {
   "cell_type": "code",
   "execution_count": 9,
   "metadata": {},
   "outputs": [],
   "source": [
    "from collections import deque\n",
    "\n",
    "def level_order(root):\n",
    "    \"\"\"\n",
    "    Level-order traversal \n",
    "    \n",
    "    Parameters\n",
    "    ----------\n",
    "    root : the root of a binary tree\n",
    "    \"\"\"\n",
    "\n",
    "    # Corner case\n",
    "    if root == None:\n",
    "        return\n",
    "\n",
    "    # Initialize the queue\n",
    "    queue = deque([root])\n",
    "    \n",
    "    # Level order traversal\n",
    "    while len(queue) > 0:\n",
    "        # Get the length of the queue\n",
    "        n = len(queue)    \n",
    "        for _ in range(n):\n",
    "            # Remove the first node in the queue\n",
    "            node = queue.popleft()            \n",
    "            if node != None:\n",
    "                print(node.val, end=' ')\n",
    "                # Add the left and right children to the end of the queue\n",
    "                queue.append(node.left)\n",
    "                queue.append(node.right)\n",
    "        print()"
   ]
  },
  {
   "cell_type": "code",
   "execution_count": 10,
   "metadata": {
    "scrolled": false
   },
   "outputs": [
    {
     "name": "stdout",
     "output_type": "stream",
     "text": [
      "0 \n",
      "1 2 \n",
      "3 4 5 6 \n",
      "\n"
     ]
    }
   ],
   "source": [
    "# Test\n",
    "level_order(root)"
   ]
  },
  {
   "cell_type": "markdown",
   "metadata": {},
   "source": [
    "# The Idea of Depth First Search and Breadth First Search\n",
    "Previously we discussed the idea and implementation of binary tree and its traversal. Particularly, we introduced four kinds of tree traversal algorithms, including: pre-order, in-order, post-order, and level-order traversal. The first three algorithms visit the nodes in such a way that, after vising the root of the tree they directly move on to its children. Level-order traversal, on the other hand, visits the nodes level by level.\n",
    "\n",
    "It turns out that the four kinds of traversals represent two kinds of searching algorithms. Specifically, pre-order, in-order, and post-order traversal represent a searching algorithm called *Depth First Search* (DFS). If you think about it, the name makes sense since all the three traversals start at the root and go down a path as far as they can. On the other hand, level-order traversal represents a searching algorithm called *Breadth First Search* (BFS). The name also makes sense, since the traversal starts at the root and explores all the nodes with the present depth prior to moving on to the nodes at the next depth level."
   ]
  },
  {
   "cell_type": "markdown",
   "metadata": {},
   "source": [
    "# The Application of DFS\n",
    "In this section, we will discuss how to apply DFS to solve some searching problems."
   ]
  },
  {
   "cell_type": "markdown",
   "metadata": {
    "collapsed": true
   },
   "source": [
    "<a id='5.1'></a>"
   ]
  },
  {
   "cell_type": "markdown",
   "metadata": {},
   "source": [
    "## Exercise ($\\star\\star$)\n",
    "- Problem:\n",
    "    - find the height of a binary tree\n",
    "    - as mentioned in sec. 3.1\n",
    "        - the height of a tree is the number of edges from the node to the deepest leaf\n",
    "        - a tree with a single node (hence both a root and leaf) has depth and height zero\n",
    "        - an empty tree (one with no nodes) has height −1\n",
    "    - see examples in the test cases\n",
    "    - find the solution with the complexity below\n",
    "    - this exercise will be followed by\n",
    "        - [exercise 6.1](#6.1)\n",
    "- Complexity:\n",
    "    - $O(n)$ time\n",
    "    - $O(1)$ space\n",
    "- Skills: \n",
    "    - DFS\n",
    "    - using recursion to design a solution\n",
    "- Logic: we strongly recommend you to try to find the solution yourself before looking at the [hints](#hints_5.1)"
   ]
  },
  {
   "cell_type": "code",
   "execution_count": 11,
   "metadata": {},
   "outputs": [],
   "source": [
    "# Implementation\n",
    "def fun_51(root):\n",
    "    \"\"\"\n",
    "    Find the height of a binary tree\n",
    "    \n",
    "    Parameters\n",
    "    ----------\n",
    "    root : the root of a binary tree\n",
    "    \n",
    "    Returns\n",
    "    ----------\n",
    "    The height of the tree : an integer\n",
    "    \"\"\"\n",
    "    \n",
    "    # Implement me\n"
   ]
  },
  {
   "cell_type": "code",
   "execution_count": 12,
   "metadata": {},
   "outputs": [
    {
     "name": "stdout",
     "output_type": "stream",
     "text": [
      "-1\n",
      "0\n",
      "1\n",
      "2\n"
     ]
    }
   ],
   "source": [
    "# Test\n",
    "root1 = None\n",
    "\n",
    "root2 = TreeNode(0)\n",
    "\n",
    "root3 = TreeNode(0)\n",
    "root3.left = TreeNode(1)\n",
    "root3.right = TreeNode(2)\n",
    "\n",
    "root4 = TreeNode(0)\n",
    "root4.left = TreeNode(1)\n",
    "root4.right = TreeNode(2)\n",
    "root4.left.left = TreeNode(3)\n",
    "\n",
    "print(fun_51(root1))\n",
    "print(fun_51(root2))\n",
    "print(fun_51(root3))\n",
    "print(fun_51(root4))"
   ]
  },
  {
   "cell_type": "markdown",
   "metadata": {
    "collapsed": true
   },
   "source": [
    "<a id='5.2'></a>"
   ]
  },
  {
   "cell_type": "markdown",
   "metadata": {},
   "source": [
    "## Exercise ($\\star\\star$)\n",
    "- Problem:\n",
    "    - find whether two binary trees are the same\n",
    "    - here, two trees are considered the same if they have the same structure and the same nodes\n",
    "    - see examples in the test cases\n",
    "    - find the solution with the complexity below\n",
    "    - this exercise will be followed by\n",
    "        - [exercise 5.3](#5.3)\n",
    "        - [exercise 6.2](#6.2)\n",
    "- Complexity:\n",
    "    - $O(n)$ time\n",
    "    - $O(1)$ space\n",
    "- Skills: \n",
    "    - DFS\n",
    "    - using recursion to design a solution\n",
    "- Logic: we strongly recommend you to try to find the solution yourself before looking at the [hints](#hints_5.2)"
   ]
  },
  {
   "cell_type": "code",
   "execution_count": 13,
   "metadata": {},
   "outputs": [],
   "source": [
    "# Implementation\n",
    "def fun_52(root1, root2):\n",
    "    \"\"\"\n",
    "    Find whether two binary trees are the same\n",
    "    \n",
    "    Parameters\n",
    "    ----------\n",
    "    root : the root of a binary tree\n",
    "    \n",
    "    Returns\n",
    "    ----------\n",
    "    True, if the trees are the same\n",
    "    False, otherwise\n",
    "    \"\"\"\n",
    "    \n",
    "    # Implement me\n"
   ]
  },
  {
   "cell_type": "code",
   "execution_count": 14,
   "metadata": {},
   "outputs": [
    {
     "name": "stdout",
     "output_type": "stream",
     "text": [
      "True\n",
      "False\n",
      "True\n",
      "False\n"
     ]
    }
   ],
   "source": [
    "# Test\n",
    "root1 = None\n",
    "root2 = None\n",
    "\n",
    "root3 = None\n",
    "root4 = TreeNode('0')\n",
    "\n",
    "root5 = TreeNode('0')\n",
    "root6 = TreeNode('0')\n",
    "\n",
    "root7 = TreeNode('0')\n",
    "root7.left = TreeNode('1')\n",
    "root8 = TreeNode('0')\n",
    "root8.right = TreeNode('1')\n",
    "\n",
    "print(fun_52(root1, root2))\n",
    "print(fun_52(root3, root4))\n",
    "print(fun_52(root5, root6))\n",
    "print(fun_52(root7, root8))"
   ]
  },
  {
   "cell_type": "markdown",
   "metadata": {
    "collapsed": true
   },
   "source": [
    "<a id='5.3'></a>"
   ]
  },
  {
   "cell_type": "markdown",
   "metadata": {},
   "source": [
    "## Exercise ($\\star\\star\\star$)\n",
    "- Problem:\n",
    "    - follow up on [exercise 5.2](#5.2)\n",
    "    - check whether a binary tree is symmetric (i.e., mirror of itself)\n",
    "    - see examples in the test cases\n",
    "    - find the solution with the complexity below\n",
    "    - this exercise will be followed by\n",
    "        - [exercise 6.6](#6.6)\n",
    "- Complexity:\n",
    "    - $O(n)$ time\n",
    "    - $O(1)$ space\n",
    "- Skills: \n",
    "    - DFS\n",
    "    - using recursion to design a solution\n",
    "    - using helper function to avoid redundancy\n",
    "- Logic: we strongly recommend you to try to find the solution yourself before looking at the [hints](#hints_5.3)"
   ]
  },
  {
   "cell_type": "code",
   "execution_count": 15,
   "metadata": {},
   "outputs": [],
   "source": [
    "# Implementation\n",
    "def fun_53(root):\n",
    "    \"\"\"\n",
    "    Check whether a binary tree is symmetric (i.e., mirror of itself)    \n",
    "    \n",
    "    Parameters\n",
    "    ----------\n",
    "    root : the root of a binary tree\n",
    "    \n",
    "    Returns\n",
    "    ----------\n",
    "    True, if the tree is symmetric\n",
    "    False, otherwise\n",
    "    \"\"\"\n",
    "    \n",
    "    # Implement me\n"
   ]
  },
  {
   "cell_type": "code",
   "execution_count": 16,
   "metadata": {},
   "outputs": [],
   "source": [
    "def helper(left, right):\n",
    "    \"\"\"\n",
    "    Check whether the left subtree is the mirror of the right subtree \n",
    "    \n",
    "    Parameters\n",
    "    ----------\n",
    "    left : the root of the left subtree\n",
    "    right : the root of the right subtree\n",
    "    \n",
    "    Returns\n",
    "    ----------\n",
    "    True, if the left subtree is the mirror of the right subtree \n",
    "    False, otherwise\n",
    "    \"\"\"\n",
    "    \n",
    "    # Implement me\n"
   ]
  },
  {
   "cell_type": "code",
   "execution_count": 17,
   "metadata": {
    "scrolled": false
   },
   "outputs": [
    {
     "name": "stdout",
     "output_type": "stream",
     "text": [
      "True\n",
      "True\n",
      "False\n",
      "True\n",
      "False\n",
      "True\n"
     ]
    }
   ],
   "source": [
    "# Test\n",
    "root1 = None\n",
    "\n",
    "root2 = TreeNode(0)\n",
    "\n",
    "root3 = TreeNode(0)\n",
    "root3.left = TreeNode(1)\n",
    "\n",
    "root4 = TreeNode(0)\n",
    "root4.left = TreeNode(1)\n",
    "root4.right = TreeNode(1)\n",
    "\n",
    "root5 = TreeNode(0)\n",
    "root5.left = TreeNode(1)\n",
    "root5.left.left = TreeNode(2)\n",
    "root5.right = TreeNode(1)\n",
    "root5.right.left = TreeNode(2)\n",
    "\n",
    "root6 = TreeNode(0)\n",
    "root6.left = TreeNode(1)\n",
    "root6.left.left = TreeNode(2)\n",
    "root6.right = TreeNode(1)\n",
    "root6.right.right = TreeNode(2)\n",
    "\n",
    "print(fun_53(root1))\n",
    "print(fun_53(root2))\n",
    "print(fun_53(root3))\n",
    "print(fun_53(root4))\n",
    "print(fun_53(root5))\n",
    "print(fun_53(root6))"
   ]
  },
  {
   "cell_type": "markdown",
   "metadata": {
    "collapsed": true
   },
   "source": [
    "<a id='5.4'></a>"
   ]
  },
  {
   "cell_type": "markdown",
   "metadata": {},
   "source": [
    "## Exercise ($\\star\\star$)\n",
    "- Problem:\n",
    "    - find whether two binary trees have the same sequence of leaves\n",
    "    - see examples in the test cases\n",
    "    - find the solution with the complexity below\n",
    "    - this exercise will be followed by\n",
    "        - [exercise 6.5](#6.5)\n",
    "- Complexity:\n",
    "    - $O(n)$ time\n",
    "    - $O(n)$ space\n",
    "- Skills: \n",
    "    - DFS\n",
    "    - using recursion to design a solution\n",
    "    - using helper function to avoid redundancy\n",
    "- Logic: we strongly recommend you to try to find the solution yourself before looking at the [hints](#hints_5.4)"
   ]
  },
  {
   "cell_type": "code",
   "execution_count": 18,
   "metadata": {},
   "outputs": [],
   "source": [
    "# Implementation\n",
    "def fun_54(root1, root2):\n",
    "    \"\"\"\n",
    "    Find whether two binary trees have the same sequence of leaves\n",
    "    \n",
    "    Parameters\n",
    "    ----------\n",
    "    root : the root of a binary tree\n",
    "    \n",
    "    Returns\n",
    "    ----------\n",
    "    True, if the trees have the same sequence of leaves\n",
    "    False, otherwise\n",
    "    \"\"\"\n",
    "    \n",
    "    # Implement me\n"
   ]
  },
  {
   "cell_type": "code",
   "execution_count": 19,
   "metadata": {},
   "outputs": [],
   "source": [
    "def helper(root):\n",
    "    \"\"\"\n",
    "    Find the sequence of leaves of a tree\n",
    "    \n",
    "    Parameters\n",
    "    ----------\n",
    "    root : the root of a binary tree\n",
    "    \n",
    "    Returns\n",
    "    ----------\n",
    "    The sequence of leaves : a list\n",
    "    \"\"\"\n",
    "    \n",
    "    # Implement me\n"
   ]
  },
  {
   "cell_type": "code",
   "execution_count": 20,
   "metadata": {},
   "outputs": [
    {
     "name": "stdout",
     "output_type": "stream",
     "text": [
      "True\n",
      "False\n",
      "True\n",
      "True\n"
     ]
    }
   ],
   "source": [
    "# Test\n",
    "root1 = None\n",
    "root2 = None\n",
    "\n",
    "root3 = None\n",
    "root4 = TreeNode('0')\n",
    "\n",
    "root5 = TreeNode('0')\n",
    "root6 = TreeNode('0')\n",
    "\n",
    "root7 = TreeNode('0')\n",
    "root7.left = TreeNode('1')\n",
    "root8 = TreeNode('0')\n",
    "root8.right = TreeNode('1')\n",
    "\n",
    "print(fun_54(root1, root2))\n",
    "print(fun_54(root3, root4))\n",
    "print(fun_54(root5, root6))\n",
    "print(fun_54(root7, root8))"
   ]
  },
  {
   "cell_type": "markdown",
   "metadata": {
    "collapsed": true
   },
   "source": [
    "<a id='5.5'></a>"
   ]
  },
  {
   "cell_type": "markdown",
   "metadata": {},
   "source": [
    "## Exercise ($\\star\\star$)\n",
    "- Problem:\n",
    "    - find the paths (from the root to a leaf) of a binary tree \n",
    "    - see examples in the test cases\n",
    "    - find the solution with the complexity below\n",
    "- Complexity:\n",
    "    - $O(n)$ time\n",
    "    - $O(n)$ space\n",
    "- Skills: \n",
    "    - DFS\n",
    "    - using recursion to design a solution\n",
    "    - using helper function to avoid redundancy\n",
    "    - string operations\n",
    "- Logic: we strongly recommend you to try to find the solution yourself before looking at the [hints](#hints_5.5)"
   ]
  },
  {
   "cell_type": "code",
   "execution_count": 21,
   "metadata": {},
   "outputs": [],
   "source": [
    "# Implementation\n",
    "def fun_55(root):\n",
    "    \"\"\"\n",
    "    Find the paths (from the root to a leaf) of a binary tree   \n",
    "    \n",
    "    Parameters\n",
    "    ----------\n",
    "    root : the root of a binary tree\n",
    "    \n",
    "    Returns\n",
    "    ----------\n",
    "    The paths\n",
    "    \"\"\"\n",
    "    \n",
    "    # Implement me\n"
   ]
  },
  {
   "cell_type": "code",
   "execution_count": 22,
   "metadata": {},
   "outputs": [],
   "source": [
    "def helper(root, path):\n",
    "    \"\"\"\n",
    "    Find the paths (from the root to a leaf) of a binary tree   \n",
    "    \n",
    "    Parameters\n",
    "    ----------\n",
    "    root : the root of a binary tree\n",
    "    \n",
    "    Returns\n",
    "    ----------\n",
    "    The paths\n",
    "    \"\"\"\n",
    "\n",
    "    # Implement me\n"
   ]
  },
  {
   "cell_type": "code",
   "execution_count": 23,
   "metadata": {
    "scrolled": true
   },
   "outputs": [
    {
     "name": "stdout",
     "output_type": "stream",
     "text": [
      "[]\n",
      "['0']\n",
      "['0->1']\n",
      "['0->1', '0->1']\n",
      "['0->1->2', '0->1->2']\n",
      "['0->1->2', '0->1->2']\n"
     ]
    }
   ],
   "source": [
    "# Test\n",
    "root1 = None\n",
    "\n",
    "root2 = TreeNode(0)\n",
    "\n",
    "root3 = TreeNode(0)\n",
    "root3.left = TreeNode(1)\n",
    "\n",
    "root4 = TreeNode(0)\n",
    "root4.left = TreeNode(1)\n",
    "root4.right = TreeNode(1)\n",
    "\n",
    "root5 = TreeNode(0)\n",
    "root5.left = TreeNode(1)\n",
    "root5.left.left = TreeNode(2)\n",
    "root5.right = TreeNode(1)\n",
    "root5.right.left = TreeNode(2)\n",
    "\n",
    "root6 = TreeNode(0)\n",
    "root6.left = TreeNode(1)\n",
    "root6.left.left = TreeNode(2)\n",
    "root6.right = TreeNode(1)\n",
    "root6.right.right = TreeNode(2)\n",
    "\n",
    "print(fun_55(root1))\n",
    "print(fun_55(root2))\n",
    "print(fun_55(root3))\n",
    "print(fun_55(root4))\n",
    "print(fun_55(root5))\n",
    "print(fun_55(root6))"
   ]
  },
  {
   "cell_type": "markdown",
   "metadata": {
    "collapsed": true
   },
   "source": [
    "<a id='5.6'></a>"
   ]
  },
  {
   "cell_type": "markdown",
   "metadata": {},
   "source": [
    "## Exercise ($\\star\\star$)\n",
    "- Problem:\n",
    "    - find whether a binary tree is a Binary Search Tree (BST)\n",
    "    - as discussed in section 3.1, a BST is a binary tree that satisfies all of the three following conditions:\n",
    "        - the left subtree of the root contains only nodes with value less than the value of the root\n",
    "        - the right subtree of the root contains only nodes with value larger than the value of the root\n",
    "        - both the left and right subtrees are BSTs\n",
    "    - see examples in the test cases\n",
    "    - find the solution with the complexity below\n",
    "    - this exercise will be followed by\n",
    "        - [exercise 5.8](#5.8)\n",
    "- Complexity:\n",
    "    - $O(n)$ time\n",
    "    - $O(1)$ space\n",
    "- Skills: \n",
    "    - DFS\n",
    "    - using recursion to design a solution\n",
    "    - using helper function to avoid redundancy\n",
    "- Logic: we strongly recommend you to try to find the solution yourself before looking at the [hints](#hints_5.6)"
   ]
  },
  {
   "cell_type": "code",
   "execution_count": 24,
   "metadata": {},
   "outputs": [],
   "source": [
    "# Implementation\n",
    "def fun_56(root):\n",
    "    \"\"\"\n",
    "    Find whether a binary tree is a Binary Search Tree (BST)\n",
    "    \n",
    "    Parameters\n",
    "    ----------\n",
    "    root : the root of a binary tree\n",
    "    \n",
    "    Returns\n",
    "    ----------\n",
    "    True, if the tree is a BST\n",
    "    False, otherwise\n",
    "    \"\"\"\n",
    "    \n",
    "    # Implement me\n"
   ]
  },
  {
   "cell_type": "code",
   "execution_count": 25,
   "metadata": {},
   "outputs": [],
   "source": [
    "def helper(root, min_, max_):\n",
    "    \"\"\"\n",
    "    Find whether a binary tree is a Binary Search Tree (BST)\n",
    "    \n",
    "    Parameters\n",
    "    ----------\n",
    "    root : the root of a binary tree\n",
    "    min_ : the lower bound of the value of the tree\n",
    "    max_ : the upper bound of the value of the tree\n",
    "    \n",
    "    Returns\n",
    "    ----------\n",
    "    True, if the tree is a BST\n",
    "    False, otherwise\n",
    "    \"\"\"\n",
    "    \n",
    "    # Implement me\n"
   ]
  },
  {
   "cell_type": "code",
   "execution_count": 26,
   "metadata": {
    "scrolled": true
   },
   "outputs": [
    {
     "name": "stdout",
     "output_type": "stream",
     "text": [
      "True\n",
      "True\n",
      "True\n",
      "True\n",
      "False\n",
      "False\n"
     ]
    }
   ],
   "source": [
    "# Test\n",
    "root1 = None\n",
    "\n",
    "root2 = TreeNode(0)\n",
    "\n",
    "root3 = TreeNode(0)\n",
    "root3.left = TreeNode(-1)\n",
    "\n",
    "root4 = TreeNode(0)\n",
    "root4.left = TreeNode(-1)\n",
    "root4.right = TreeNode(1)\n",
    "\n",
    "root5 = TreeNode(0)\n",
    "root5.left = TreeNode(-1)\n",
    "root5.left.left = TreeNode(-2)\n",
    "root5.right = TreeNode(1)\n",
    "root5.right.left = TreeNode(2)\n",
    "\n",
    "root6 = TreeNode(0)\n",
    "root6.left = TreeNode(-1)\n",
    "root6.left.left = TreeNode(2)\n",
    "root6.right = TreeNode(1)\n",
    "root6.right.right = TreeNode(-2)\n",
    "\n",
    "print(fun_56(root1))\n",
    "print(fun_56(root2))\n",
    "print(fun_56(root3))\n",
    "print(fun_56(root4))\n",
    "print(fun_56(root5))\n",
    "print(fun_56(root6))"
   ]
  },
  {
   "cell_type": "markdown",
   "metadata": {
    "collapsed": true
   },
   "source": [
    "<a id='5.7'></a>"
   ]
  },
  {
   "cell_type": "markdown",
   "metadata": {},
   "source": [
    "## Exercise ($\\star\\star$)\n",
    "- Problem:\n",
    "    - build a height-balanced binary tree from an array\n",
    "    - here:\n",
    "        - an empty binary tree is balanced\n",
    "        - a non-empty binary tree is balanced if all of the following three conditions hold:\n",
    "            - the left subtree is balanced\n",
    "            - the right subtree is balanced\n",
    "            - the difference between the height of left and right subtree is not more than 1\n",
    "    - see examples in the test cases\n",
    "    - find the solution with the complexity below\n",
    "    - this exercise will be followed by\n",
    "        - [exercise 5.8](#5.8)\n",
    "- Complexity:\n",
    "    - $O(n)$ time\n",
    "    - $O(n)$ space\n",
    "- Skills: \n",
    "    - DFS\n",
    "    - using recursion to design a solution\n",
    "- Logic: we strongly recommend you to try to find the solution yourself before looking at the [hints](#hints_5.7)"
   ]
  },
  {
   "cell_type": "code",
   "execution_count": 27,
   "metadata": {},
   "outputs": [],
   "source": [
    "# Implementation\n",
    "def fun_57(arr):\n",
    "    \"\"\"\n",
    "    Build a height-balanced binary tree from an array\n",
    "    \n",
    "    Parameters\n",
    "    ----------\n",
    "    arr : a list of integers\n",
    "    \n",
    "    Returns\n",
    "    ----------\n",
    "    A height-balanced binary tree\n",
    "    \"\"\"\n",
    "    \n",
    "    # Implement me\n"
   ]
  },
  {
   "cell_type": "code",
   "execution_count": 28,
   "metadata": {
    "scrolled": true
   },
   "outputs": [
    {
     "name": "stdout",
     "output_type": "stream",
     "text": [
      "2 \n",
      "\n",
      "4 \n",
      "\n",
      "3 \n",
      "2 4 \n",
      "\n",
      "5 \n",
      "3 7 \n",
      "2 4 6 8 \n",
      "\n"
     ]
    }
   ],
   "source": [
    "# Test\n",
    "arr_1 = [2]\n",
    "arr_2 = [4]\n",
    "arr_3 = [2, 3, 4]\n",
    "arr_4 = [2, 3, 4, 5, 6, 7, 8]\n",
    "\n",
    "level_order(fun_57(arr_1))\n",
    "level_order(fun_57(arr_2))\n",
    "level_order(fun_57(arr_3))\n",
    "level_order(fun_57(arr_4))"
   ]
  },
  {
   "cell_type": "markdown",
   "metadata": {
    "collapsed": true
   },
   "source": [
    "<a id='5.8'></a>"
   ]
  },
  {
   "cell_type": "markdown",
   "metadata": {},
   "source": [
    "## Exercise ($\\star\\star$)\n",
    "- Problem:\n",
    "    - follow up on [exercise 5.7](#5.7) (and [exercise 5.6](#5.6))\n",
    "    - unlike in [exercise 5.7](#5.7) where you should build a height-balanced binary tree from an array, here you should build a height-balanced binary search tree (BST) from a sorted array (in ascending order)\n",
    "    - see the definition of BST and height-balanced binary tree in [exercise 5.6](#5.6) and [exercise 5.7](#5.7)\n",
    "    - see examples in the test cases\n",
    "    - find the solution with the complexity below\n",
    "- Complexity:\n",
    "    - $O(n)$ time\n",
    "    - $O(n)$ space\n",
    "- Skills: \n",
    "    - DFS\n",
    "    - using recursion to design a solution\n",
    "- Logic: we strongly recommend you to try to find the solution yourself before looking at the [hints](#hints_5.8)"
   ]
  },
  {
   "cell_type": "code",
   "execution_count": 29,
   "metadata": {},
   "outputs": [],
   "source": [
    "# Implementation\n",
    "def fun_58(arr):\n",
    "    \"\"\"\n",
    "    Build a height-balanced binary search tree from a sorted array (in ascending order)\n",
    "    \n",
    "    Parameters\n",
    "    ----------\n",
    "    arr : a list of integers\n",
    "    \n",
    "    Returns\n",
    "    ----------\n",
    "    A height-balanced binary search tree\n",
    "    \"\"\"\n",
    "    \n",
    "    # Implement me\n"
   ]
  },
  {
   "cell_type": "code",
   "execution_count": 30,
   "metadata": {
    "scrolled": true
   },
   "outputs": [
    {
     "name": "stdout",
     "output_type": "stream",
     "text": [
      "2 \n",
      "\n",
      "4 \n",
      "\n",
      "3 \n",
      "2 4 \n",
      "\n",
      "5 \n",
      "3 7 \n",
      "2 4 6 8 \n",
      "\n"
     ]
    }
   ],
   "source": [
    "# Test\n",
    "arr_1 = [2]\n",
    "arr_2 = [4]\n",
    "arr_3 = [2, 3, 4]\n",
    "arr_4 = [2, 3, 4, 5, 6, 7, 8]\n",
    "\n",
    "\n",
    "level_order(fun_58(arr_1))\n",
    "level_order(fun_58(arr_2))\n",
    "level_order(fun_58(arr_3))\n",
    "level_order(fun_58(arr_4))"
   ]
  },
  {
   "cell_type": "markdown",
   "metadata": {
    "collapsed": true
   },
   "source": [
    "<a id='5.9'></a>"
   ]
  },
  {
   "cell_type": "markdown",
   "metadata": {},
   "source": [
    "## Exercise ($\\star\\star$)\n",
    "- Problem:\n",
    "    - find the total number of [kaggle competitions](https://www.kaggle.com/competitions) a student and their friends at Data Science have taken\n",
    "    - here, a student's information is a list of three elements:\n",
    "        - id\n",
    "        - number of kaggle competitions the student has taken\n",
    "        - the list of the student's friends\n",
    "    - see examples in the test cases\n",
    "    - find the solution with the complexity below\n",
    "- Complexity:\n",
    "    - $O(n)$ time\n",
    "    - $O(n)$ space\n",
    "- Skills: \n",
    "    - DFS\n",
    "    - using recursion to design a solution\n",
    "    - using helper function to avoid redundancy\n",
    "    - using dictionaries\n",
    "- Logic: we strongly recommend you to try to find the solution yourself before looking at the [hints](#hints_5.9)"
   ]
  },
  {
   "cell_type": "code",
   "execution_count": 31,
   "metadata": {},
   "outputs": [],
   "source": [
    "# Implementation\n",
    "def fun_59(students, id):\n",
    "    \"\"\"\n",
    "    Find the total number of kaggle competitions a student and their friends at Data Science have taken\n",
    "    \n",
    "    Parameters\n",
    "    ----------\n",
    "    students : a list of [id, number of competitions, friends' id]\n",
    "    id : the id of a student\n",
    "    \n",
    "    Returns\n",
    "    ----------\n",
    "    the total number of kaggle competitions someone and their friends have taken : an integer\n",
    "    \"\"\"\n",
    "\n",
    "    # Implement me\n"
   ]
  },
  {
   "cell_type": "code",
   "execution_count": 32,
   "metadata": {},
   "outputs": [],
   "source": [
    "def helper(dict_, id):\n",
    "    \"\"\"\n",
    "    Find the total number of kaggle competitions a student and their friends at Data Science have taken\n",
    "    \n",
    "    Parameters\n",
    "    ----------\n",
    "    students : a dictionary where the keys are id and values are [number of competitions, friends' id]\n",
    "    id : the id of a student\n",
    "    \n",
    "    Returns\n",
    "    ----------\n",
    "    the total number of kaggle competitions someone and their friends have taken : an integer\n",
    "    \"\"\"\n",
    "\n",
    "    # Implement me\n"
   ]
  },
  {
   "cell_type": "code",
   "execution_count": 33,
   "metadata": {},
   "outputs": [
    {
     "name": "stdout",
     "output_type": "stream",
     "text": [
      "0\n",
      "0\n",
      "1\n",
      "3\n",
      "6\n"
     ]
    }
   ],
   "source": [
    "# Test\n",
    "students1 = []\n",
    "id1 = 0\n",
    "\n",
    "students2 = [[]]\n",
    "id2 = 0\n",
    "\n",
    "students3 = [[0, 1, []]]\n",
    "id3 = 0\n",
    "\n",
    "students4 = [[0, 1, [1]],\n",
    "             [1, 2, [0]],\n",
    "             [2, 3, []]]\n",
    "id4 = 0\n",
    "\n",
    "students5 = [[0, 1, [1, 2]],\n",
    "             [1, 2, [0]],\n",
    "             [2, 3, [0]]]\n",
    "id5 = 1\n",
    "\n",
    "print(fun_59(students1, id1))\n",
    "print(fun_59(students2, id2))\n",
    "print(fun_59(students3, id3))\n",
    "print(fun_59(students4, id4))\n",
    "print(fun_59(students5, id5))"
   ]
  },
  {
   "cell_type": "markdown",
   "metadata": {
    "collapsed": true
   },
   "source": [
    "<a id='5.10'></a>"
   ]
  },
  {
   "cell_type": "markdown",
   "metadata": {},
   "source": [
    "## Exercise ($\\star\\star\\star$)\n",
    "- Problem:\n",
    "    - find the number of (vertically or horizontally) connected deserts in a map\n",
    "    - here, the map is represented by a matrix (2d array), where 1 denotes desert and 0 denotes grassland\n",
    "    - for example\n",
    "        - there is one connected desert in matrix [[1, 1], [0, 1]]   \n",
    "        - there are two connected deserts in matrix [[1, 0], [0, 1]]   \n",
    "    - see examples in the test cases\n",
    "    - find the solution with the complexity below\n",
    "- Complexity:\n",
    "    - $O(n)$ time\n",
    "    - $O(1)$ space\n",
    "- Skills: \n",
    "    - DFS\n",
    "    - using recursion to design a solution\n",
    "    - using helper function to avoid redundancy\n",
    "- Logic: we strongly recommend you to try to find the solution yourself before looking at the [hints](#hints_5.10)"
   ]
  },
  {
   "cell_type": "code",
   "execution_count": 34,
   "metadata": {},
   "outputs": [],
   "source": [
    "# Implementation\n",
    "def fun_510(matrix):\n",
    "    \"\"\"\n",
    "    Find the number of (vertically or horizontally) connected deserts in a map (represented by a matrix)\n",
    "    \n",
    "    Parameters\n",
    "    ----------\n",
    "    matrix : a matrix where 1 denotes desert and 0 denotes grassland\n",
    "    \n",
    "    Returns\n",
    "    ----------\n",
    "    the number of connected deserts\n",
    "    \"\"\"\n",
    "\n",
    "    # Implement me\n"
   ]
  },
  {
   "cell_type": "code",
   "execution_count": 35,
   "metadata": {},
   "outputs": [],
   "source": [
    "def helper(matrix, m, n, i, j):\n",
    "    \"\"\"\n",
    "    DFS: remove '1's conntected to entry [i, j]\n",
    "\n",
    "    Parameters\n",
    "    ----------\n",
    "    matrix : a matrix where 1 denotes desert and 0 denotes grass land\n",
    "    m : the nubmer of rows in the matrix\n",
    "    n : the nubmer of columns in the matrix\n",
    "    i, j : entry [i, j]\n",
    "    \"\"\"\n",
    "\n",
    "    # Implement me\n"
   ]
  },
  {
   "cell_type": "code",
   "execution_count": 36,
   "metadata": {
    "scrolled": false
   },
   "outputs": [
    {
     "name": "stdout",
     "output_type": "stream",
     "text": [
      "0\n",
      "0\n",
      "1\n",
      "1\n",
      "2\n",
      "3\n",
      "2\n",
      "2\n",
      "3\n",
      "2\n"
     ]
    }
   ],
   "source": [
    "# Test\n",
    "matrix1 = []\n",
    "matrix2 = [[]]\n",
    "matrix3 = [[1]]\n",
    "matrix4 = [[1, 1],\n",
    "           [0, 1]]\n",
    "matrix5 = [[1, 0],\n",
    "           [0, 1]]\n",
    "matrix6 = [[1, 0, 0],\n",
    "           [0, 1, 0],\n",
    "           [0, 0, 1]]\n",
    "matrix7 = [[1, 1, 0],\n",
    "           [0, 1, 0],\n",
    "           [0, 0, 1]]\n",
    "matrix8 = [[1, 1, 1],\n",
    "           [0, 1, 0],\n",
    "           [0, 0, 1]]\n",
    "matrix9 = [[1, 1, 0],\n",
    "           [0, 1, 0],\n",
    "           [1, 0, 1]]\n",
    "matrix10 = [[1, 1, 0],\n",
    "            [1, 1, 0],\n",
    "            [1, 0, 1]]\n",
    "\n",
    "print(fun_510(matrix1))\n",
    "print(fun_510(matrix2))\n",
    "print(fun_510(matrix3))\n",
    "print(fun_510(matrix4))\n",
    "print(fun_510(matrix5))\n",
    "print(fun_510(matrix6))\n",
    "print(fun_510(matrix7))\n",
    "print(fun_510(matrix8))\n",
    "print(fun_510(matrix9))\n",
    "print(fun_510(matrix10))"
   ]
  },
  {
   "cell_type": "markdown",
   "metadata": {},
   "source": [
    "# The Application of BFS\n",
    "In the previous section, we discussed how to use DFS to solve problems. Here, we will apply BFS to do so. Particularly, some of the problems in this section are the same as those in the previous section. By doing this, we want to show that DFS and BFS could be suitable for different problems."
   ]
  },
  {
   "cell_type": "markdown",
   "metadata": {
    "collapsed": true
   },
   "source": [
    "<a id='6.1'></a>"
   ]
  },
  {
   "cell_type": "markdown",
   "metadata": {},
   "source": [
    "## Exercise ($\\star\\star$)\n",
    "- Problem:\n",
    "    - follow up on [exercise 5.1](#5.1)\n",
    "    - find the height of a binary tree\n",
    "    - unlike in [exercise 5.1](#5.1) where we use DFS to design a recursive solution, here we use BFS to design an iterative solution\n",
    "    - see examples in the test cases\n",
    "    - find the solution with the complexity below\n",
    "- Complexity:\n",
    "    - $O(n)$ time\n",
    "    - $O(n)$ space\n",
    "- Skills: \n",
    "    - BFS\n",
    "    - using queue to design a solution\n",
    "- Logic: we strongly recommend you to try to find the solution yourself before looking at the [hints](#hints_6.1)"
   ]
  },
  {
   "cell_type": "code",
   "execution_count": 37,
   "metadata": {},
   "outputs": [],
   "source": [
    "# Implementation\n",
    "def fun_61(root):\n",
    "    \"\"\"\n",
    "    Find the height of a binary tree    \n",
    "    \n",
    "    Parameters\n",
    "    ----------\n",
    "    root : the root of a binary tree\n",
    "    \n",
    "    Returns\n",
    "    ----------\n",
    "    The height of the tree : an integer\n",
    "    \"\"\"\n",
    "\n",
    "    # Implement me\n"
   ]
  },
  {
   "cell_type": "code",
   "execution_count": 38,
   "metadata": {},
   "outputs": [
    {
     "name": "stdout",
     "output_type": "stream",
     "text": [
      "-1\n",
      "0\n",
      "1\n",
      "2\n"
     ]
    }
   ],
   "source": [
    "# Test\n",
    "root1 = None\n",
    "\n",
    "root2 = TreeNode(0)\n",
    "\n",
    "root3 = TreeNode(0)\n",
    "root3.left = TreeNode(1)\n",
    "root3.right = TreeNode(2)\n",
    "\n",
    "root4 = TreeNode(0)\n",
    "root4.left = TreeNode(1)\n",
    "root4.right = TreeNode(2)\n",
    "root4.left.left = TreeNode(3)\n",
    "\n",
    "print(fun_61(root1))\n",
    "print(fun_61(root2))\n",
    "print(fun_61(root3))\n",
    "print(fun_61(root4))"
   ]
  },
  {
   "cell_type": "markdown",
   "metadata": {
    "collapsed": true
   },
   "source": [
    "<a id='6.2'></a>"
   ]
  },
  {
   "cell_type": "markdown",
   "metadata": {},
   "source": [
    "## Exercise ($\\star\\star$)\n",
    "- Problem:\n",
    "    - follow up on [exercise 5.2](#5.2)\n",
    "    - find whether two binary trees are the same\n",
    "    - unlike in [exercise 5.2](#5.2) where we use DFS to design a recursive solution, here we use BFS to design an iterative solution\n",
    "    - see examples in the test cases\n",
    "    - find the solution with the complexity below\n",
    "    - this exercise will be followed by\n",
    "        - [exercise 6.3](#6.3)\n",
    "- Complexity:\n",
    "    - $O(n)$ time\n",
    "    - $O(n)$ space\n",
    "- Skills: \n",
    "    - BFS\n",
    "    - using queue to design a solution\n",
    "    - using helper function to avoid redundancy\n",
    "- Logic: we strongly recommend you to try to find the solution yourself before looking at the [hints](#hints_6.2)"
   ]
  },
  {
   "cell_type": "code",
   "execution_count": 39,
   "metadata": {},
   "outputs": [],
   "source": [
    "# Implementation\n",
    "def fun_62(root1, root2):\n",
    "    \"\"\"\n",
    "    Find whether two binary trees are the same\n",
    "    \n",
    "    Parameters\n",
    "    ----------\n",
    "    root : the root of a binary tree\n",
    "    \n",
    "    Returns\n",
    "    ----------\n",
    "    True, if the trees are the same\n",
    "    False, otherwise\n",
    "    \"\"\"\n",
    "    \n",
    "    # Implement me\n"
   ]
  },
  {
   "cell_type": "code",
   "execution_count": 40,
   "metadata": {},
   "outputs": [],
   "source": [
    "def helper(root):\n",
    "    \"\"\"\n",
    "    Level-order traversal that includes None (empty node) in the traversal\n",
    "    \n",
    "    Parameters\n",
    "    ----------\n",
    "    root : the root of a binary tree\n",
    "    \"\"\"\n",
    "\n",
    "    # Implement me\n"
   ]
  },
  {
   "cell_type": "code",
   "execution_count": 41,
   "metadata": {
    "scrolled": true
   },
   "outputs": [
    {
     "name": "stdout",
     "output_type": "stream",
     "text": [
      "True\n",
      "False\n",
      "True\n",
      "False\n"
     ]
    }
   ],
   "source": [
    "# Test\n",
    "root1 = None\n",
    "root2 = None\n",
    "\n",
    "root3 = None\n",
    "root4 = TreeNode('0')\n",
    "\n",
    "root5 = TreeNode('0')\n",
    "root6 = TreeNode('0')\n",
    "\n",
    "root7 = TreeNode('0')\n",
    "root7.left = TreeNode('1')\n",
    "root8 = TreeNode('0')\n",
    "root8.right = TreeNode('1')\n",
    "\n",
    "print(fun_62(root1, root2))\n",
    "print(fun_62(root3, root4))\n",
    "print(fun_62(root5, root6))\n",
    "print(fun_62(root7, root8))"
   ]
  },
  {
   "cell_type": "markdown",
   "metadata": {
    "collapsed": true
   },
   "source": [
    "<a id='6.3'></a>"
   ]
  },
  {
   "cell_type": "markdown",
   "metadata": {},
   "source": [
    "## Exercise ($\\star\\star$)\n",
    "- Problem:\n",
    "    - follow up on [exercise 6.2](#6.2)\n",
    "    - find whether two binary trees are the same\n",
    "    - unlike in [exercise 6.2](#6.2) where we complete the level-order traversal of both trees and then compare the traversals, here we compare the traversal of each level of the two trees and terminate the algorithm as soon as the traversals are different\n",
    "    - see examples in the test cases\n",
    "    - find the solution with the complexity below\n",
    "    - this exercise will be followed by\n",
    "        - [exercise 6.4](#6.4)\n",
    "- Complexity:\n",
    "    - $O(n)$ time\n",
    "    - $O(n)$ space\n",
    "- Skills: \n",
    "    - BFS\n",
    "    - using queue to design a solution\n",
    "    - using helper function to avoid redundancy\n",
    "- Logic: we strongly recommend you to try to find the solution yourself before looking at the [hints](#hints_6.3)"
   ]
  },
  {
   "cell_type": "code",
   "execution_count": 42,
   "metadata": {},
   "outputs": [],
   "source": [
    "# Implementation\n",
    "def fun_63(root1, root2):\n",
    "    \"\"\"\n",
    "    Find whether two binary trees are the same\n",
    "    \n",
    "    Parameters\n",
    "    ----------\n",
    "    root : the root of a binary tree\n",
    "    \n",
    "    Returns\n",
    "    ----------\n",
    "    True, if the trees are the same\n",
    "    False, otherwise\n",
    "    \"\"\"\n",
    "    \n",
    "    # Implement me    \n"
   ]
  },
  {
   "cell_type": "code",
   "execution_count": 43,
   "metadata": {},
   "outputs": [],
   "source": [
    "def helper(queue):\n",
    "    \"\"\"\n",
    "    Level-order traversal that includes None (empty node) in the traversal\n",
    "    \n",
    "    Parameters\n",
    "    ----------\n",
    "    root : the root of a binary tree\n",
    "    \n",
    "    Returns\n",
    "    ----------\n",
    "    The value of the nodes on a level\n",
    "    \"\"\"\n",
    "\n",
    "    # Implement me\n"
   ]
  },
  {
   "cell_type": "code",
   "execution_count": 44,
   "metadata": {
    "scrolled": false
   },
   "outputs": [
    {
     "name": "stdout",
     "output_type": "stream",
     "text": [
      "True\n",
      "False\n",
      "True\n",
      "False\n"
     ]
    }
   ],
   "source": [
    "# Test\n",
    "root1 = None\n",
    "root2 = None\n",
    "\n",
    "root3 = None\n",
    "root4 = TreeNode('0')\n",
    "\n",
    "root5 = TreeNode('0')\n",
    "root6 = TreeNode('0')\n",
    "\n",
    "root7 = TreeNode('0')\n",
    "root7.left = TreeNode('1')\n",
    "root8 = TreeNode('0')\n",
    "root8.right = TreeNode('1')\n",
    "\n",
    "print(fun_63(root1, root2))\n",
    "print(fun_63(root3, root4))\n",
    "print(fun_63(root5, root6))\n",
    "print(fun_63(root7, root8))"
   ]
  },
  {
   "cell_type": "markdown",
   "metadata": {
    "collapsed": true
   },
   "source": [
    "<a id='6.4'></a>"
   ]
  },
  {
   "cell_type": "markdown",
   "metadata": {},
   "source": [
    "## Exercise ($\\star\\star$)\n",
    "- Problem:\n",
    "    - follow up on [exercise 6.3](#6.3)\n",
    "    - find whether two binary trees are the same\n",
    "    - unlike in [exercise 6.3](#6.3) where we complete the traversal of each level of the two trees, here we compare the node on each level of the two trees and terminate the algorithm as soon as the nodes are different\n",
    "    - see examples in the test cases\n",
    "    - find the solution with the complexity below\n",
    "- Complexity:\n",
    "    - $O(n)$ time\n",
    "    - $O(n)$ space\n",
    "- Skills: \n",
    "    - BFS\n",
    "    - using queue to design a solution\n",
    "    - using helper function to avoid redundancy\n",
    "- Logic: we strongly recommend you to try to find the solution yourself before looking at the [hints](#hints_6.4)"
   ]
  },
  {
   "cell_type": "code",
   "execution_count": 45,
   "metadata": {},
   "outputs": [],
   "source": [
    "# Implementation\n",
    "def fun_64(root1, root2):\n",
    "    \"\"\"\n",
    "    Find whether two binary trees are the same\n",
    "    \n",
    "    Parameters\n",
    "    ----------\n",
    "    root : the root of a binary tree\n",
    "    \n",
    "    Returns\n",
    "    ----------\n",
    "    True, if the trees are the same\n",
    "    False, otherwise\n",
    "    \"\"\"\n",
    "    \n",
    "    # Implement me    \n"
   ]
  },
  {
   "cell_type": "code",
   "execution_count": 46,
   "metadata": {},
   "outputs": [],
   "source": [
    "def helper(node1, node2):\n",
    "    \"\"\"\n",
    "    Find whether two nodes are the same\n",
    "    \n",
    "    Parameters\n",
    "    ----------\n",
    "    node1 : one node in a binary tree\n",
    "    node2 : the other node in a binary tree\n",
    "    \"\"\"\n",
    "\n",
    "    # Implement me\n"
   ]
  },
  {
   "cell_type": "code",
   "execution_count": 47,
   "metadata": {
    "scrolled": false
   },
   "outputs": [
    {
     "name": "stdout",
     "output_type": "stream",
     "text": [
      "True\n",
      "False\n",
      "True\n",
      "False\n"
     ]
    }
   ],
   "source": [
    "# Test\n",
    "root1 = None\n",
    "root2 = None\n",
    "\n",
    "root3 = None\n",
    "root4 = TreeNode('0')\n",
    "\n",
    "root5 = TreeNode('0')\n",
    "root6 = TreeNode('0')\n",
    "\n",
    "root7 = TreeNode('0')\n",
    "root7.left = TreeNode('1')\n",
    "root8 = TreeNode('0')\n",
    "root8.right = TreeNode('1')\n",
    "\n",
    "print(fun_64(root1, root2))\n",
    "print(fun_64(root3, root4))\n",
    "print(fun_64(root5, root6))\n",
    "print(fun_64(root7, root8))"
   ]
  },
  {
   "cell_type": "markdown",
   "metadata": {
    "collapsed": true
   },
   "source": [
    "<a id='6.5'></a>"
   ]
  },
  {
   "cell_type": "markdown",
   "metadata": {},
   "source": [
    "## Exercise ($\\star\\star\\star$)\n",
    "- Problem:\n",
    "    - follow up on [exercise 5.3](#5.3)\n",
    "    - check whether a binary tree is symmetric (i.e., mirror of itself)\n",
    "    - unlike in [exercise 5.3](#5.3) where we use DFS to design a recursive solution, here we use BFS to design an iterative solution\n",
    "    - see examples in the test cases\n",
    "    - find the solution with the complexity below\n",
    "- Complexity:\n",
    "    - $O(n)$ time\n",
    "    - $O(n)$ space\n",
    "- Skills: \n",
    "    - BFS\n",
    "    - using queue to design a solution\n",
    "- Logic: we strongly recommend you to try to find the solution yourself before looking at the [hints](#hints_6.5)"
   ]
  },
  {
   "cell_type": "code",
   "execution_count": 48,
   "metadata": {},
   "outputs": [],
   "source": [
    "# Implementation\n",
    "def fun_65(root):\n",
    "    \"\"\"\n",
    "    Check whether a binary tree is symmetric (i.e., mirror of itself)    \n",
    "    \n",
    "    Parameters\n",
    "    ----------\n",
    "    arr : a list of integers\n",
    "    \n",
    "    Returns\n",
    "    ----------\n",
    "    True, if the binary is symmetric\n",
    "    False, otherwise\n",
    "    \"\"\"\n",
    "\n",
    "    # Implement me\n"
   ]
  },
  {
   "cell_type": "code",
   "execution_count": 49,
   "metadata": {
    "scrolled": true
   },
   "outputs": [
    {
     "name": "stdout",
     "output_type": "stream",
     "text": [
      "True\n",
      "True\n",
      "False\n",
      "True\n",
      "False\n",
      "True\n"
     ]
    }
   ],
   "source": [
    "# Test\n",
    "root1 = None\n",
    "\n",
    "root2 = TreeNode(0)\n",
    "\n",
    "root3 = TreeNode(0)\n",
    "root3.left = TreeNode(1)\n",
    "\n",
    "root4 = TreeNode(0)\n",
    "root4.left = TreeNode(1)\n",
    "root4.right = TreeNode(1)\n",
    "\n",
    "root5 = TreeNode(0)\n",
    "root5.left = TreeNode(1)\n",
    "root5.left.left = TreeNode(2)\n",
    "root5.right = TreeNode(1)\n",
    "root5.right.left = TreeNode(2)\n",
    "\n",
    "root6 = TreeNode(0)\n",
    "root6.left = TreeNode(1)\n",
    "root6.left.left = TreeNode(2)\n",
    "root6.right = TreeNode(1)\n",
    "root6.right.right = TreeNode(2)\n",
    "\n",
    "print(fun_65(root1))\n",
    "print(fun_65(root2))\n",
    "print(fun_65(root3))\n",
    "print(fun_65(root4))\n",
    "print(fun_65(root5))\n",
    "print(fun_65(root6))"
   ]
  },
  {
   "cell_type": "markdown",
   "metadata": {
    "collapsed": true
   },
   "source": [
    "<a id='6.6'></a>"
   ]
  },
  {
   "cell_type": "markdown",
   "metadata": {},
   "source": [
    "## Exercise ($\\star\\star\\star$)\n",
    "- Problem:\n",
    "    - follow up on [exercise 6.5](#6.5)\n",
    "    - check whether a binary tree is symmetric (i.e., mirror of itself)\n",
    "    - unlike in [exercise 6.5](#6.5) where we use a list to keep track of the value of nodes on each level, here we do not use the list (thus saving O(n) extra space)\n",
    "    - see examples in the test cases\n",
    "    - find the solution with the complexity below\n",
    "- Complexity:\n",
    "    - $O(n)$ time\n",
    "    - $O(n)$ space\n",
    "- Skills: \n",
    "    - BFS\n",
    "    - using queue to design a solution\n",
    "- Logic: we strongly recommend you to try to find the solution yourself before looking at the [hints](#hints_6.6)"
   ]
  },
  {
   "cell_type": "code",
   "execution_count": 50,
   "metadata": {},
   "outputs": [],
   "source": [
    "# Implementation\n",
    "def fun_66(root):\n",
    "    \"\"\"\n",
    "    Check whether a binary tree is symmetric (i.e., mirror of itself)    \n",
    "    \n",
    "    Parameters\n",
    "    ----------\n",
    "    arr : a list of integers\n",
    "    \n",
    "    Returns\n",
    "    ----------\n",
    "    True, if the binary is symmetric\n",
    "    False, otherwise\n",
    "    \"\"\"\n",
    "\n",
    "    # Implement me\n"
   ]
  },
  {
   "cell_type": "code",
   "execution_count": 51,
   "metadata": {
    "scrolled": true
   },
   "outputs": [
    {
     "name": "stdout",
     "output_type": "stream",
     "text": [
      "True\n",
      "True\n",
      "False\n",
      "True\n",
      "False\n",
      "True\n"
     ]
    }
   ],
   "source": [
    "# Test\n",
    "root1 = None\n",
    "\n",
    "root2 = TreeNode(0)\n",
    "\n",
    "root3 = TreeNode(0)\n",
    "root3.left = TreeNode(1)\n",
    "\n",
    "root4 = TreeNode(0)\n",
    "root4.left = TreeNode(1)\n",
    "root4.right = TreeNode(1)\n",
    "\n",
    "root5 = TreeNode(0)\n",
    "root5.left = TreeNode(1)\n",
    "root5.left.left = TreeNode(2)\n",
    "root5.right = TreeNode(1)\n",
    "root5.right.left = TreeNode(2)\n",
    "\n",
    "root6 = TreeNode(0)\n",
    "root6.left = TreeNode(1)\n",
    "root6.left.left = TreeNode(2)\n",
    "root6.right = TreeNode(1)\n",
    "root6.right.right = TreeNode(2)\n",
    "\n",
    "print(fun_66(root1))\n",
    "print(fun_66(root2))\n",
    "print(fun_66(root3))\n",
    "print(fun_66(root4))\n",
    "print(fun_66(root5))\n",
    "print(fun_66(root6))"
   ]
  },
  {
   "cell_type": "markdown",
   "metadata": {
    "collapsed": true
   },
   "source": [
    "<a id='6.7'></a>"
   ]
  },
  {
   "cell_type": "markdown",
   "metadata": {},
   "source": [
    "## Exercise ($\\star\\star\\star$)\n",
    "- Problem:\n",
    "    - follow up on [exercise 5.4](#5.4)\n",
    "    - find whether two binary trees have the same sequence of leaves\n",
    "    - unlike in [exercise 5.4](#5.4) where we use DFS to design a recursive solution, here we use BFS to design an iterative solution\n",
    "    - see examples in the test cases\n",
    "    - find the solution with the complexity below\n",
    "- Complexity:\n",
    "    - $O(n)$ time\n",
    "    - $O(n)$ space\n",
    "- Skills: \n",
    "    - BFS\n",
    "    - using queue to design a solution\n",
    "    - using helper function to avoid redundancy\n",
    "- Logic: we strongly recommend you to try to find the solution yourself before looking at the [hints](#hints_6.7)"
   ]
  },
  {
   "cell_type": "code",
   "execution_count": 52,
   "metadata": {},
   "outputs": [],
   "source": [
    "# Implementation\n",
    "def fun_65(root1, root2):\n",
    "    \"\"\"\n",
    "    Find whether two binary trees have the same sequence of leaves\n",
    "    \n",
    "    Parameters\n",
    "    ----------\n",
    "    root1 : the root of one binary tree\n",
    "    root2 : the root of the other binary tree\n",
    "    \n",
    "    Returns\n",
    "    ----------\n",
    "    True, if the trees have the same sequence of leaves\n",
    "    False, otherwise\n",
    "    \"\"\"\n",
    "    \n",
    "    # Implement me\n"
   ]
  },
  {
   "cell_type": "code",
   "execution_count": 53,
   "metadata": {},
   "outputs": [],
   "source": [
    "def helper(root):\n",
    "    \"\"\"\n",
    "    Find the sequence of leaves of a tree\n",
    "    \n",
    "    Parameters\n",
    "    ----------\n",
    "    root : the root of a binary tree\n",
    "    \n",
    "    Returns\n",
    "    ----------\n",
    "    The sequence of leaves : a list\n",
    "    \"\"\"\n",
    "    \n",
    "    # Implement me    \n"
   ]
  },
  {
   "cell_type": "code",
   "execution_count": 54,
   "metadata": {
    "scrolled": false
   },
   "outputs": [
    {
     "name": "stdout",
     "output_type": "stream",
     "text": [
      "True\n",
      "False\n",
      "True\n",
      "True\n"
     ]
    }
   ],
   "source": [
    "# Test\n",
    "root1 = None\n",
    "root2 = None\n",
    "\n",
    "root3 = None\n",
    "root4 = TreeNode('0')\n",
    "\n",
    "root5 = TreeNode('0')\n",
    "root6 = TreeNode('0')\n",
    "\n",
    "root7 = TreeNode('0')\n",
    "root7.left = TreeNode('1')\n",
    "root8 = TreeNode('0')\n",
    "root8.right = TreeNode('1')\n",
    "\n",
    "print(fun_65(root1, root2))\n",
    "print(fun_65(root3, root4))\n",
    "print(fun_65(root5, root6))\n",
    "print(fun_65(root7, root8))"
   ]
  },
  {
   "cell_type": "markdown",
   "metadata": {
    "collapsed": true
   },
   "source": [
    "<a id='6.8'></a>"
   ]
  },
  {
   "cell_type": "markdown",
   "metadata": {},
   "source": [
    "## Exercise ($\\star\\star\\star$)\n",
    "- Problem:\n",
    "    - check whether two nodes in a binary tree are on the same level (i.e., have the same depth)\n",
    "    - see examples in the test cases\n",
    "    - find the solution with the complexity below\n",
    "    - this exercise will be followed by\n",
    "        - [exercise 6.9](#6.9)\n",
    "- Complexity:\n",
    "    - $O(n)$ time\n",
    "    - $O(n)$ space\n",
    "- Skills: \n",
    "    - BFS\n",
    "    - using queue to design a solution\n",
    "    - using dictionary to design a solution\n",
    "- Logic: we strongly recommend you to try to find the solution yourself before looking at the [hints](#hints_6.8)"
   ]
  },
  {
   "cell_type": "code",
   "execution_count": 55,
   "metadata": {},
   "outputs": [],
   "source": [
    "# Implementation\n",
    "def fun_68(root, x, y):\n",
    "    \"\"\"\n",
    "    Check whether two nodes in a binary tree are on the same level (i.e., have the same depth)    \n",
    "    \n",
    "    Parameters\n",
    "    ----------\n",
    "    root : the root of a tree\n",
    "    x : the value of a node\n",
    "    y : the value of another node\n",
    "    \n",
    "    Returns\n",
    "    ----------\n",
    "    True, if the two nodes are on the same level\n",
    "    False, otherwise\n",
    "    \"\"\"\n",
    "\n",
    "    # Implement me\n"
   ]
  },
  {
   "cell_type": "code",
   "execution_count": 56,
   "metadata": {
    "scrolled": true
   },
   "outputs": [
    {
     "name": "stdout",
     "output_type": "stream",
     "text": [
      "True\n",
      "False\n",
      "False\n",
      "True\n",
      "True\n",
      "True\n"
     ]
    }
   ],
   "source": [
    "# Test\n",
    "root1 = None\n",
    "x1, y1 = 0, 1\n",
    "\n",
    "root2 = TreeNode(0)\n",
    "x2, y2 = 0, 1\n",
    "\n",
    "root3 = TreeNode(0)\n",
    "root3.left = TreeNode(1)\n",
    "x3, y3 = 0, 1\n",
    "\n",
    "root4 = TreeNode(0)\n",
    "root4.left = TreeNode(1)\n",
    "root4.right = TreeNode(2)\n",
    "x4, y4 = 1, 2\n",
    "\n",
    "root5 = TreeNode(0)\n",
    "root5.left = TreeNode(1)\n",
    "root5.left.left = TreeNode(3)\n",
    "root5.right = TreeNode(2)\n",
    "root5.right.left = TreeNode(4)\n",
    "x5, y5 = 1, 2\n",
    "\n",
    "root6 = TreeNode(0)\n",
    "root6.left = TreeNode(1)\n",
    "root6.left.left = TreeNode(3)\n",
    "root6.right = TreeNode(2)\n",
    "root6.right.right = TreeNode(4)\n",
    "x6, y6 = 3, 4\n",
    "\n",
    "print(fun_68(root1, x1, y1))\n",
    "print(fun_68(root2, x2, y2))\n",
    "print(fun_68(root3, x3, y3))\n",
    "print(fun_68(root4, x4, y4))\n",
    "print(fun_68(root5, x5, y5))\n",
    "print(fun_68(root6, x6, y6))"
   ]
  },
  {
   "cell_type": "markdown",
   "metadata": {
    "collapsed": true
   },
   "source": [
    "<a id='6.9'></a>"
   ]
  },
  {
   "cell_type": "markdown",
   "metadata": {},
   "source": [
    "## Exercise ($\\star\\star\\star$)\n",
    "- Problem:\n",
    "    - follow up on [exercise 6.8](#6.8)\n",
    "    - unlike in [exercise 6.8](#6.8) where we only check whether two nodes in a binary tree are on the same level, here we also check whether they have different parents\n",
    "    - see examples in the test cases\n",
    "    - find the solution with the complexity below\n",
    "- Complexity:\n",
    "    - $O(n)$ time\n",
    "    - $O(n)$ space\n",
    "- Skills: \n",
    "    - BFS\n",
    "    - using queue to design a solution\n",
    "    - using dictionary to design a solution\n",
    "- Logic: we strongly recommend you to try to find the solution yourself before looking at the [hints](#hints_6.9)"
   ]
  },
  {
   "cell_type": "code",
   "execution_count": 57,
   "metadata": {},
   "outputs": [],
   "source": [
    "# Implementation\n",
    "def fun_69(root, x, y):\n",
    "    \"\"\"\n",
    "    Check whether two nodes in a binary tree 1) are on the same level, and 2) have different parents\n",
    "    \n",
    "    Parameters\n",
    "    ----------\n",
    "    root : the root of a tree\n",
    "    x : the value of a node\n",
    "    y : the value of another node\n",
    "    \n",
    "    Returns\n",
    "    ----------\n",
    "    True, if the two nodes are on the same level but have different parents\n",
    "    False, otherwise\n",
    "    \"\"\"\n",
    "\n",
    "    # Implement me\n"
   ]
  },
  {
   "cell_type": "code",
   "execution_count": 58,
   "metadata": {
    "scrolled": false
   },
   "outputs": [
    {
     "name": "stdout",
     "output_type": "stream",
     "text": [
      "True\n",
      "False\n",
      "False\n",
      "False\n",
      "False\n",
      "True\n"
     ]
    }
   ],
   "source": [
    "# Test\n",
    "root1 = None\n",
    "x1, y1 = 0, 1\n",
    "\n",
    "root2 = TreeNode(0)\n",
    "x2, y2 = 0, 1\n",
    "\n",
    "root3 = TreeNode(0)\n",
    "root3.left = TreeNode(1)\n",
    "x3, y3 = 0, 1\n",
    "\n",
    "root4 = TreeNode(0)\n",
    "root4.left = TreeNode(1)\n",
    "root4.right = TreeNode(2)\n",
    "x4, y4 = 1, 2\n",
    "\n",
    "root5 = TreeNode(0)\n",
    "root5.left = TreeNode(1)\n",
    "root5.left.left = TreeNode(3)\n",
    "root5.right = TreeNode(2)\n",
    "root5.right.left = TreeNode(4)\n",
    "x5, y5 = 1, 2\n",
    "\n",
    "root6 = TreeNode(0)\n",
    "root6.left = TreeNode(1)\n",
    "root6.left.left = TreeNode(3)\n",
    "root6.right = TreeNode(2)\n",
    "root6.right.right = TreeNode(4)\n",
    "x6, y6 = 3, 4\n",
    "\n",
    "print(fun_69(root1, x1, y1))\n",
    "print(fun_69(root2, x2, y2))\n",
    "print(fun_69(root3, x3, y3))\n",
    "print(fun_69(root4, x4, y4))\n",
    "print(fun_69(root5, x5, y5))\n",
    "print(fun_69(root6, x6, y6))"
   ]
  },
  {
   "cell_type": "markdown",
   "metadata": {
    "collapsed": true
   },
   "source": [
    "<a id='6.10'></a>"
   ]
  },
  {
   "cell_type": "markdown",
   "metadata": {},
   "source": [
    "## Exercise ($\\star\\star\\star$)\n",
    "- Problem:\n",
    "    - find the bottom-left node in a binary tree\n",
    "    - see examples in the test cases\n",
    "- Complexity:\n",
    "    - $O(n)$ time\n",
    "    - $O(n)$ space\n",
    "- Skills: \n",
    "    - BFS\n",
    "    - using queue to design a solution\n",
    "- Logic: we strongly recommend you to try to find the solution yourself before looking at the [hints](#hints_6.10)"
   ]
  },
  {
   "cell_type": "code",
   "execution_count": 59,
   "metadata": {},
   "outputs": [],
   "source": [
    "# Implementation\n",
    "def fun_610(root):\n",
    "    \"\"\"\n",
    "    Find the bottom-left node in a binary tree\n",
    "    \n",
    "    Parameters\n",
    "    ----------\n",
    "    root : the root of a tree\n",
    "    \n",
    "    Returns\n",
    "    ----------\n",
    "    The value of the bottom-left node in a binary tree\n",
    "    \"\"\"\n",
    "\n",
    "    # Implement me\n"
   ]
  },
  {
   "cell_type": "code",
   "execution_count": 60,
   "metadata": {
    "scrolled": true
   },
   "outputs": [
    {
     "name": "stdout",
     "output_type": "stream",
     "text": [
      "None\n",
      "0\n",
      "1\n",
      "1\n",
      "3\n",
      "3\n"
     ]
    }
   ],
   "source": [
    "# Test\n",
    "root1 = None\n",
    "\n",
    "root2 = TreeNode(0)\n",
    "\n",
    "root3 = TreeNode(0)\n",
    "root3.left = TreeNode(1)\n",
    "\n",
    "root4 = TreeNode(0)\n",
    "root4.left = TreeNode(1)\n",
    "root4.right = TreeNode(2)\n",
    "\n",
    "root5 = TreeNode(0)\n",
    "root5.left = TreeNode(1)\n",
    "root5.left.left = TreeNode(3)\n",
    "root5.right = TreeNode(2)\n",
    "root5.right.left = TreeNode(4)\n",
    "\n",
    "root6 = TreeNode(0)\n",
    "root6.left = TreeNode(1)\n",
    "root6.left.left = TreeNode(3)\n",
    "root6.right = TreeNode(2)\n",
    "root6.right.right = TreeNode(4)\n",
    "\n",
    "print(fun_610(root1))\n",
    "print(fun_610(root2))\n",
    "print(fun_610(root3))\n",
    "print(fun_610(root4))\n",
    "print(fun_610(root5))\n",
    "print(fun_610(root6))"
   ]
  },
  {
   "cell_type": "markdown",
   "metadata": {
    "collapsed": true
   },
   "source": [
    "# Appendix"
   ]
  },
  {
   "cell_type": "markdown",
   "metadata": {
    "collapsed": true
   },
   "source": [
    "<a id='hints_5.1'></a>"
   ]
  },
  {
   "cell_type": "markdown",
   "metadata": {},
   "source": [
    "## Hints for [exercise 5.1](#5.1):\n",
    "- if the root is None (i.e., empty tree), the height is -1\n",
    "- otherwise, the height is the max of the height of the left and right subtree, plus 1 (the root)"
   ]
  },
  {
   "cell_type": "markdown",
   "metadata": {
    "collapsed": true
   },
   "source": [
    "<a id='hints_5.2'></a>"
   ]
  },
  {
   "cell_type": "markdown",
   "metadata": {},
   "source": [
    "## Hints for [exercise 5.2](#5.2):\n",
    "- if the two roots are both None, return True\n",
    "- if only one of the roots is None, return False\n",
    "- if all of the following three conditions are met, return True\n",
    "- otherwise, return False\n",
    "    - if the two roots have the same value\n",
    "    - if the left subtrees are the same\n",
    "    - if the right subtrees are the same"
   ]
  },
  {
   "cell_type": "markdown",
   "metadata": {
    "collapsed": true
   },
   "source": [
    "<a id='hints_5.3'></a>"
   ]
  },
  {
   "cell_type": "markdown",
   "metadata": {},
   "source": [
    "## Hints for [exercise 5.3](#5.3):\n",
    "- if the root is None, return True\n",
    "- if the left and right subtree are symmetric (determined by a helper function), return True\n",
    "- otherwise, return False\n",
    "- particularly, in the helper function\n",
    "    - if the root of the left and right subtree are both None, the two subtrees are symmetric\n",
    "    - if only one of the root is None, they are not symmetric\n",
    "    - if the value of the two roots are not the same, they are not symmetric\n",
    "    - if the left-left and right-right subtree are symmetric, and the left-right and right-left subtree are symmetric, the two subtrees are symmetric\n",
    "    - otherwise, they are not symmetric"
   ]
  },
  {
   "cell_type": "markdown",
   "metadata": {
    "collapsed": true
   },
   "source": [
    "<a id='hints_5.4'></a>"
   ]
  },
  {
   "cell_type": "markdown",
   "metadata": {},
   "source": [
    "## Hints for [exercise 5.4](#5.4):\n",
    "- we compare the list of leaves of each tree (obtained by a helper function)\n",
    "- in the helper function\n",
    "    - when the root is None, return []\n",
    "    - when the root has no children, return [root]\n",
    "    - otherwise, return the combination of the list of leaves in the left subtree and the list of leaves in the right subtree"
   ]
  },
  {
   "cell_type": "markdown",
   "metadata": {
    "collapsed": true
   },
   "source": [
    "<a id='hints_5.5'></a>"
   ]
  },
  {
   "cell_type": "markdown",
   "metadata": {},
   "source": [
    "## Hints for [exercise 5.5](#5.5):\n",
    "- we use a global variable, paths, to keep track of the paths\n",
    "- in the helper function\n",
    "    - we use a string, path, to keep track of each path\n",
    "    - when the root is None, return\n",
    "    - when the root is a leaf\n",
    "        - add the value of the root to path\n",
    "        - append path to paths\n",
    "        - return\n",
    "    - when the root is not a leaf\n",
    "        - add the value of the root and the arrow ('->') to path\n",
    "        - recursively apply the helper function to the left and right subtree"
   ]
  },
  {
   "cell_type": "markdown",
   "metadata": {
    "collapsed": true
   },
   "source": [
    "<a id='hints_5.6'></a>"
   ]
  },
  {
   "cell_type": "markdown",
   "metadata": {},
   "source": [
    "## Hints for [exercise 5.6](#5.6):\n",
    "- in the helper function, we use two variables, min_ and max_, to keep track of the boundaries (of the value) of a binary tree\n",
    "- specifically\n",
    "    - the value of each node, node.val, should satisfy\n",
    "        - min_ < node.val < max_\n",
    "    - the value of each node in the left subtree of the node, left_descendant.val, should satisfy\n",
    "        - min_ < left_descendant.val < node.val\n",
    "    - the value of each node in the right subtree of the node, right_descendant.val, should satisfy\n",
    "        - node.val < right_descendant.val < max_"
   ]
  },
  {
   "cell_type": "markdown",
   "metadata": {
    "collapsed": true
   },
   "source": [
    "<a id='hints_5.7'></a>"
   ]
  },
  {
   "cell_type": "markdown",
   "metadata": {},
   "source": [
    "## Hints for [exercise 5.7](#5.7):\n",
    "- we first create the root based on the middle item of the array\n",
    "- we then recursively call the function to build the left and right subtree from the left and right subarray"
   ]
  },
  {
   "cell_type": "markdown",
   "metadata": {
    "collapsed": true
   },
   "source": [
    "<a id='hints_5.8'></a>"
   ]
  },
  {
   "cell_type": "markdown",
   "metadata": {},
   "source": [
    "## Hints for [exercise 5.8](#5.8):\n",
    "- the logic is exactly the same as that for exercise 5.7"
   ]
  },
  {
   "cell_type": "markdown",
   "metadata": {
    "collapsed": true
   },
   "source": [
    "<a id='hints_5.9'></a>"
   ]
  },
  {
   "cell_type": "markdown",
   "metadata": {},
   "source": [
    "## Hints for [exercise 5.9](#5.9):\n",
    "- we create a dictionary where the key is the student's id, and value is [number of competitions, [friends' id]]\n",
    "- we use DFS to calculate the sum of the number of competitions the student participated and the number of each of their friends (as long as the corresponding number is not -1)\n",
    "- we change the number into -1 after visiting each student to avoid infinite loop"
   ]
  },
  {
   "cell_type": "markdown",
   "metadata": {
    "collapsed": true
   },
   "source": [
    "<a id='hints_5.10'></a>"
   ]
  },
  {
   "cell_type": "markdown",
   "metadata": {},
   "source": [
    "## Hints for [exercise 5.10](#5.10):\n",
    "- we use a variable, count, to keep track of the number of 1s\n",
    "- we loop over the matrix and for each 1 we:\n",
    "    - increase count by 1\n",
    "    - use DFS to remove the connected 1s"
   ]
  },
  {
   "cell_type": "markdown",
   "metadata": {
    "collapsed": true
   },
   "source": [
    "<a id='hints_6.1'></a>"
   ]
  },
  {
   "cell_type": "markdown",
   "metadata": {},
   "source": [
    "## Hints for [exercise 6.1](#6.1):\n",
    "- we use a variable, height, to keep track of the height of the tree\n",
    "- we increase height in each round of the level-order traversal"
   ]
  },
  {
   "cell_type": "markdown",
   "metadata": {
    "collapsed": true
   },
   "source": [
    "<a id='hints_6.2'></a>"
   ]
  },
  {
   "cell_type": "markdown",
   "metadata": {},
   "source": [
    "## Hints for [exercise 6.2](#6.2):\n",
    "- we compare the order-level traversal of the two trees\n",
    "    - if the two traversals are the same, return True\n",
    "    - otherwise, return False\n",
    "- however, we need to tweak the order-level traversal implemented earlier by including None (empty nodes) \n",
    "- this allows us to distinguish cases (as shown below) where the traversals are the same but the structures are different\n",
    "    - 1<-0->None\n",
    "    - None<-0->1"
   ]
  },
  {
   "cell_type": "markdown",
   "metadata": {
    "collapsed": true
   },
   "source": [
    "<a id='hints_6.3'></a>"
   ]
  },
  {
   "cell_type": "markdown",
   "metadata": {},
   "source": [
    "## Hints for [exercise 6.3](#6.3):\n",
    "- the logic is almost the same as that for [exercise 6.2](#6.2)\n",
    "- the difference is\n",
    "    - here we compare the traversal of each level of the two trees and terminate the algorithm as soon as the traversals are different"
   ]
  },
  {
   "cell_type": "markdown",
   "metadata": {
    "collapsed": true
   },
   "source": [
    "<a id='hints_6.4'></a>"
   ]
  },
  {
   "cell_type": "markdown",
   "metadata": {},
   "source": [
    "## Hints for [exercise 6.4](#6.4):\n",
    "- the logic is almost the same as that for [exercise 6.3](#6.3)\n",
    "- the difference is\n",
    "    - here we compare the node on each level of the two trees and terminate the algorithm as soon as the nodes are different"
   ]
  },
  {
   "cell_type": "markdown",
   "metadata": {
    "collapsed": true
   },
   "source": [
    "<a id='hints_6.5'></a>"
   ]
  },
  {
   "cell_type": "markdown",
   "metadata": {},
   "source": [
    "## Hints for [exercise 6.5](#6.5):\n",
    "- we use queue to implement BFS\n",
    "- we use a variable, vals, to keep track of the value of the nodes on each level\n",
    "- we return False as soon as we find vals is not symmetric\n",
    "- we return True if all the levels are symmetric"
   ]
  },
  {
   "cell_type": "markdown",
   "metadata": {
    "collapsed": true
   },
   "source": [
    "<a id='hints_6.6'></a>"
   ]
  },
  {
   "cell_type": "markdown",
   "metadata": {},
   "source": [
    "## Hints for [exercise 6.6](#6.6):\n",
    "- the logic is similar to that for [exercise 6.5](#6.5)\n",
    "- the difference is\n",
    "    - on each level instead of adding nodes from left to right (as what we did in [exercise 6.5](#6.5)) to the queue, here we add a pair of nodes that are symmetric in the tree (in terms of their positions)\n",
    "    - then when we pop the first two nodes in the queue, they are symmetric\n",
    "    - by doing this, we do not have to use a list to check symmetric nodes on each level"
   ]
  },
  {
   "cell_type": "markdown",
   "metadata": {
    "collapsed": true
   },
   "source": [
    "<a id='hints_6.7'></a>"
   ]
  },
  {
   "cell_type": "markdown",
   "metadata": {},
   "source": [
    "## Hints for [exercise 6.7](#6.7):\n",
    "- we use queue to implement BFS\n",
    "- we use a variable, vals, to keep track of the value of the nodes on each level\n",
    "- after traversing all the nodes, vals will be the value of the leaves on the bottom level"
   ]
  },
  {
   "cell_type": "markdown",
   "metadata": {
    "collapsed": true
   },
   "source": [
    "<a id='hints_6.8'></a>"
   ]
  },
  {
   "cell_type": "markdown",
   "metadata": {},
   "source": [
    "## Hints for [exercise 6.8](#6.8):\n",
    "- we use queue to implement BFS\n",
    "- we return True as soon as we find that both of the nodes are child of nodes in the queue (indicating that they are on the same level)\n",
    "- this can be done by using a dictionary, where the key is the value of the children of nodes in the queue\n",
    "- we return False after traversing all the nodes"
   ]
  },
  {
   "cell_type": "markdown",
   "metadata": {
    "collapsed": true
   },
   "source": [
    "<a id='hints_6.9'></a>"
   ]
  },
  {
   "cell_type": "markdown",
   "metadata": {},
   "source": [
    "## Hints for [exercise 6.9](#6.9):\n",
    "- the logic is almost the same as that in [exercise 6.8](#6.8)\n",
    "- the difference is\n",
    "    - we also need to check whether the two nodes have the same parent\n",
    "    - this can be done by making the value of a parent as the value of the dictionary (where the key is the value of the children of the parent)"
   ]
  },
  {
   "cell_type": "markdown",
   "metadata": {
    "collapsed": true
   },
   "source": [
    "<a id='hints_6.10'></a>"
   ]
  },
  {
   "cell_type": "markdown",
   "metadata": {},
   "source": [
    "## Hints for [exercise 6.10](#6.10):\n",
    "- we use a variable, left_most, to keep track of the value of the left-most node on each level\n",
    "- after traversing all the nodes, left_most will be the value of the bottom-left node"
   ]
  },
  {
   "cell_type": "code",
   "execution_count": null,
   "metadata": {},
   "outputs": [],
   "source": []
  }
 ],
 "metadata": {
  "kernelspec": {
   "display_name": "Python 3",
   "language": "python",
   "name": "python3"
  },
  "language_info": {
   "codemirror_mode": {
    "name": "ipython",
    "version": 3
   },
   "file_extension": ".py",
   "mimetype": "text/x-python",
   "name": "python",
   "nbconvert_exporter": "python",
   "pygments_lexer": "ipython3",
   "version": "3.7.2"
  },
  "toc": {
   "base_numbering": 1,
   "nav_menu": {},
   "number_sections": true,
   "sideBar": true,
   "skip_h1_title": false,
   "title_cell": "Table of Contents",
   "title_sidebar": "Contents",
   "toc_cell": true,
   "toc_position": {},
   "toc_section_display": true,
   "toc_window_display": false
  }
 },
 "nbformat": 4,
 "nbformat_minor": 2
}
