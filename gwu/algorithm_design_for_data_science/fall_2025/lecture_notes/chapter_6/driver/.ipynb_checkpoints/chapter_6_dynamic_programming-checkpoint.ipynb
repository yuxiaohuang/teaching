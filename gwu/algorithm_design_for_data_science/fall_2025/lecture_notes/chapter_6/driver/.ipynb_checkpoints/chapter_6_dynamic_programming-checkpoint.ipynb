{
 "cells": [
  {
   "cell_type": "markdown",
   "metadata": {
    "toc": true
   },
   "source": [
    "<h1>Table of Contents<span class=\"tocSkip\"></span></h1>\n",
    "<div class=\"toc\"><ul class=\"toc-item\"><li><span><a href=\"#Overview\" data-toc-modified-id=\"Overview-1\"><span class=\"toc-item-num\">1&nbsp;&nbsp;</span>Overview</a></span></li><li><span><a href=\"#Learning-Objectives\" data-toc-modified-id=\"Learning-Objectives-2\"><span class=\"toc-item-num\">2&nbsp;&nbsp;</span>Learning Objectives</a></span></li><li><span><a href=\"#Dynamic-Programming\" data-toc-modified-id=\"Dynamic-Programming-3\"><span class=\"toc-item-num\">3&nbsp;&nbsp;</span>Dynamic Programming</a></span><ul class=\"toc-item\"><li><span><a href=\"#The-Idea\" data-toc-modified-id=\"The-Idea-3.1\"><span class=\"toc-item-num\">3.1&nbsp;&nbsp;</span>The Idea</a></span></li><li><span><a href=\"#The-implementation\" data-toc-modified-id=\"The-implementation-3.2\"><span class=\"toc-item-num\">3.2&nbsp;&nbsp;</span>The implementation</a></span></li></ul></li><li><span><a href=\"#Exercises\" data-toc-modified-id=\"Exercises-4\"><span class=\"toc-item-num\">4&nbsp;&nbsp;</span>Exercises</a></span><ul class=\"toc-item\"><li><span><a href=\"#Exercise-($\\star\\star$)\" data-toc-modified-id=\"Exercise-($\\star\\star$)-4.1\"><span class=\"toc-item-num\">4.1&nbsp;&nbsp;</span>Exercise ($\\star\\star$)</a></span></li><li><span><a href=\"#Exercise-($\\star\\star\\star$)\" data-toc-modified-id=\"Exercise-($\\star\\star\\star$)-4.2\"><span class=\"toc-item-num\">4.2&nbsp;&nbsp;</span>Exercise ($\\star\\star\\star$)</a></span></li><li><span><a href=\"#Discussion\" data-toc-modified-id=\"Discussion-4.3\"><span class=\"toc-item-num\">4.3&nbsp;&nbsp;</span>Discussion</a></span></li><li><span><a href=\"#Exercise-($\\star\\star$)\" data-toc-modified-id=\"Exercise-($\\star\\star$)-4.4\"><span class=\"toc-item-num\">4.4&nbsp;&nbsp;</span>Exercise ($\\star\\star$)</a></span></li><li><span><a href=\"#Exercise-($\\star\\star\\star$)\" data-toc-modified-id=\"Exercise-($\\star\\star\\star$)-4.5\"><span class=\"toc-item-num\">4.5&nbsp;&nbsp;</span>Exercise ($\\star\\star\\star$)</a></span></li><li><span><a href=\"#Discussion\" data-toc-modified-id=\"Discussion-4.6\"><span class=\"toc-item-num\">4.6&nbsp;&nbsp;</span>Discussion</a></span></li><li><span><a href=\"#Exercise-($\\star\\star$)\" data-toc-modified-id=\"Exercise-($\\star\\star$)-4.7\"><span class=\"toc-item-num\">4.7&nbsp;&nbsp;</span>Exercise ($\\star\\star$)</a></span></li><li><span><a href=\"#Exercise-($\\star\\star\\star$)\" data-toc-modified-id=\"Exercise-($\\star\\star\\star$)-4.8\"><span class=\"toc-item-num\">4.8&nbsp;&nbsp;</span>Exercise ($\\star\\star\\star$)</a></span></li><li><span><a href=\"#Exercise-($\\star\\star\\star$)\" data-toc-modified-id=\"Exercise-($\\star\\star\\star$)-4.9\"><span class=\"toc-item-num\">4.9&nbsp;&nbsp;</span>Exercise ($\\star\\star\\star$)</a></span></li><li><span><a href=\"#Discussion\" data-toc-modified-id=\"Discussion-4.10\"><span class=\"toc-item-num\">4.10&nbsp;&nbsp;</span>Discussion</a></span></li><li><span><a href=\"#Exercise-($\\star\\star$)\" data-toc-modified-id=\"Exercise-($\\star\\star$)-4.11\"><span class=\"toc-item-num\">4.11&nbsp;&nbsp;</span>Exercise ($\\star\\star$)</a></span></li><li><span><a href=\"#Exercise-($\\star\\star\\star$)\" data-toc-modified-id=\"Exercise-($\\star\\star\\star$)-4.12\"><span class=\"toc-item-num\">4.12&nbsp;&nbsp;</span>Exercise ($\\star\\star\\star$)</a></span></li><li><span><a href=\"#Exercise-($\\star\\star$)\" data-toc-modified-id=\"Exercise-($\\star\\star$)-4.13\"><span class=\"toc-item-num\">4.13&nbsp;&nbsp;</span>Exercise ($\\star\\star$)</a></span></li><li><span><a href=\"#Exercise-($\\star\\star\\star$)\" data-toc-modified-id=\"Exercise-($\\star\\star\\star$)-4.14\"><span class=\"toc-item-num\">4.14&nbsp;&nbsp;</span>Exercise ($\\star\\star\\star$)</a></span></li><li><span><a href=\"#Exercise-($\\star\\star\\star$)\" data-toc-modified-id=\"Exercise-($\\star\\star\\star$)-4.15\"><span class=\"toc-item-num\">4.15&nbsp;&nbsp;</span>Exercise ($\\star\\star\\star$)</a></span></li><li><span><a href=\"#Discussion\" data-toc-modified-id=\"Discussion-4.16\"><span class=\"toc-item-num\">4.16&nbsp;&nbsp;</span>Discussion</a></span></li></ul></li><li><span><a href=\"#Appendix\" data-toc-modified-id=\"Appendix-5\"><span class=\"toc-item-num\">5&nbsp;&nbsp;</span>Appendix</a></span><ul class=\"toc-item\"><li><span><a href=\"#Hints-for-exercise-4.1:\" data-toc-modified-id=\"Hints-for-exercise-4.1:-5.1\"><span class=\"toc-item-num\">5.1&nbsp;&nbsp;</span>Hints for <a href=\"#4.1\">exercise 4.1</a>:</a></span></li><li><span><a href=\"#Hints-for-exercise-4.2:\" data-toc-modified-id=\"Hints-for-exercise-4.2:-5.2\"><span class=\"toc-item-num\">5.2&nbsp;&nbsp;</span>Hints for <a href=\"#4.2\">exercise 4.2</a>:</a></span></li><li><span><a href=\"#Hints-for-exercise-4.4:\" data-toc-modified-id=\"Hints-for-exercise-4.4:-5.3\"><span class=\"toc-item-num\">5.3&nbsp;&nbsp;</span>Hints for <a href=\"#4.4\">exercise 4.4</a>:</a></span></li><li><span><a href=\"#Hints-for-exercise-4.5:\" data-toc-modified-id=\"Hints-for-exercise-4.5:-5.4\"><span class=\"toc-item-num\">5.4&nbsp;&nbsp;</span>Hints for <a href=\"#4.5\">exercise 4.5</a>:</a></span></li><li><span><a href=\"#Hints-for-exercise-4.7:\" data-toc-modified-id=\"Hints-for-exercise-4.7:-5.5\"><span class=\"toc-item-num\">5.5&nbsp;&nbsp;</span>Hints for <a href=\"#4.7\">exercise 4.7</a>:</a></span></li><li><span><a href=\"#Hints-for-exercise-4.8:\" data-toc-modified-id=\"Hints-for-exercise-4.8:-5.6\"><span class=\"toc-item-num\">5.6&nbsp;&nbsp;</span>Hints for <a href=\"#4.8\">exercise 4.8</a>:</a></span></li><li><span><a href=\"#Hints-for-exercise-4.9:\" data-toc-modified-id=\"Hints-for-exercise-4.9:-5.7\"><span class=\"toc-item-num\">5.7&nbsp;&nbsp;</span>Hints for <a href=\"#4.9\">exercise 4.9</a>:</a></span></li><li><span><a href=\"#Hints-for-exercise-4.11:\" data-toc-modified-id=\"Hints-for-exercise-4.11:-5.8\"><span class=\"toc-item-num\">5.8&nbsp;&nbsp;</span>Hints for <a href=\"#4.11\">exercise 4.11</a>:</a></span></li><li><span><a href=\"#Hints-for-exercise-4.11:\" data-toc-modified-id=\"Hints-for-exercise-4.11:-5.9\"><span class=\"toc-item-num\">5.9&nbsp;&nbsp;</span>Hints for <a href=\"#4.11\">exercise 4.11</a>:</a></span></li><li><span><a href=\"#Hints-for-exercise-4.12:\" data-toc-modified-id=\"Hints-for-exercise-4.12:-5.10\"><span class=\"toc-item-num\">5.10&nbsp;&nbsp;</span>Hints for <a href=\"#4.12\">exercise 4.12</a>:</a></span></li><li><span><a href=\"#Hints-for-exercise-4.13:\" data-toc-modified-id=\"Hints-for-exercise-4.13:-5.11\"><span class=\"toc-item-num\">5.11&nbsp;&nbsp;</span>Hints for <a href=\"#4.13\">exercise 4.13</a>:</a></span></li><li><span><a href=\"#Hints-for-exercise-4.14:\" data-toc-modified-id=\"Hints-for-exercise-4.14:-5.12\"><span class=\"toc-item-num\">5.12&nbsp;&nbsp;</span>Hints for <a href=\"#4.14\">exercise 4.14</a>:</a></span></li><li><span><a href=\"#Hints-for-exercise-4.15:\" data-toc-modified-id=\"Hints-for-exercise-4.15:-5.13\"><span class=\"toc-item-num\">5.13&nbsp;&nbsp;</span>Hints for <a href=\"#4.15\">exercise 4.15</a>:</a></span></li></ul></li></ul></div>"
   ]
  },
  {
   "cell_type": "markdown",
   "metadata": {
    "collapsed": true
   },
   "source": [
    "<b>\n",
    "\n",
    "<p>\n",
    "<center>\n",
    "<font size=\"5\">\n",
    "Lecture Notes for Algorithm Design for Data Science (DATS 6001)\n",
    "</font>\n",
    "</center>\n",
    "</p>\n",
    "\n",
    "<p>\n",
    "<center>\n",
    "<font size=\"4\">\n",
    "Chapter 6: Dynamic Programming\n",
    "</font>\n",
    "</center>\n",
    "</p>\n",
    "\n",
    "<p>\n",
    "<center>\n",
    "<font size=\"3\">\n",
    "Data Science, Columbian College of Arts & Sciences, George Washington University\n",
    "</font>\n",
    "</center>\n",
    "</p>\n",
    "\n",
    "<p>\n",
    "<center>\n",
    "<font size=\"3\">\n",
    "Author: Yuxiao Huang\n",
    "</font>\n",
    "</center>\n",
    "</p>\n",
    "\n",
    "</b>"
   ]
  },
  {
   "cell_type": "markdown",
   "metadata": {},
   "source": [
    "# Overview\n",
    "- We will discuss Dynamic Programming (DP), which is a powerful algorithm to lower the time complexity of a recursive solution\n",
    "- Particularly, the discussion of the algorithm can be divided into two parts:\n",
    "    - theory, where we will describe the idea of the algorithm\n",
    "    - coding\n",
    "        - where (most of the time) we will start with some examples and then work on some exercises\n",
    "        - particularly, the examples and exercises are organized in such a way that, an exercise (most of the time) is a follow-up on some example prior to it\n",
    "        - **you should analyze the (time and space) complexity of each example and exercise**\n",
    "- We will use stars to represent the difficulty of the exercises:\n",
    "    - $\\star$ means very easy\n",
    "    - $\\star\\star$ means easy\n",
    "    - $\\star\\star\\star$ means medium\n",
    "    - $\\star\\star\\star\\star$ means difficult\n",
    "    - $\\star\\star\\star\\star\\star$ means very difficult"
   ]
  },
  {
   "cell_type": "markdown",
   "metadata": {},
   "source": [
    "# Learning Objectives\n",
    "After completing this chapter, students are expected to understand:\n",
    "- the idea and implementation of DP\n",
    "- how to apply DP to design optimal solutions (ones with the lowest complexity)"
   ]
  },
  {
   "cell_type": "markdown",
   "metadata": {},
   "source": [
    "# Dynamic Programming"
   ]
  },
  {
   "cell_type": "markdown",
   "metadata": {},
   "source": [
    "## The Idea\n",
    "It turns out that, the idea of Dynamic Programming (DP) is closely related to divide-and-conquer. That is, instead of solving a big problem directly (which is usually difficult), we first divide the big problem into small ones, and then solve these small problems. We can see this idea from the example below which, as we discussed in Chapter 1, calculates the $n$th number in [Fibonacci series](https://en.wikipedia.org/wiki/Fibonacci_number)."
   ]
  },
  {
   "cell_type": "code",
   "execution_count": 1,
   "metadata": {},
   "outputs": [],
   "source": [
    "# Reference: the code below is from Chapter 1 of Lecture Notes for Algorithm Design for Data Science (DATS 6001) \n",
    "def fun_brute_force(n):\n",
    "    \"\"\"\n",
    "    The brute-force (recursive) solution for Fibonacci series.\n",
    "    The solution has exponential time complexity and linear space complexity.\n",
    "    \n",
    "    Parameters\n",
    "    ----------\n",
    "    n : a number\n",
    "    \n",
    "    Returns\n",
    "    ----------\n",
    "    The nth number in Fibonacci series\n",
    "    \"\"\"\n",
    "        \n",
    "    # Base\n",
    "    if n <= 1:\n",
    "        return n\n",
    "    \n",
    "    # Recursion\n",
    "    return fun_brute_force(n - 2) + fun_brute_force(n - 1)"
   ]
  },
  {
   "cell_type": "markdown",
   "metadata": {},
   "source": [
    "In Chapters 1 and 2, we used the recursion tree in fig. 1 to show that, the time / space complexity of the solution above is exponential / linear (can you explain why?). One reason for the exponential time is that, many nodes in the recursion tree will be calculated multiple times. For example, we will calculate node $f(3)$ twice and node $f(2)$ three times."
   ]
  },
  {
   "cell_type": "markdown",
   "metadata": {},
   "source": [
    "<img src=\"../figure/figure_1.pdf\" width=\"600\" height=\"600\">\n",
    "\n",
    "Figure 1. The recursion tree when $n = 5$."
   ]
  },
  {
   "cell_type": "markdown",
   "metadata": {},
   "source": [
    "Intuitively, if we can save the result of each node and simply reuse the result rather than recalculate it, we could avoid redundant computation, hence save run time. It turns out that, this is the defining characteristic of DP. Concretely, DP divides the original problem into subproblems, calculates and stores the result of the subproblems, and reuses the results so that the subproblems only need to be calculated once. In simple words, DP is a divide-and-conquer algorithm that allows computation sharing.\n",
    "\n",
    "While this is the first time we introduce DP, we actually have used DP to design several solutions. Below is the optimal solution for calculating the $n$th number in the Fibonacci series. Can you see it is actually a DP-based solution (i.e., divide-and-conquer + computation sharing)?"
   ]
  },
  {
   "cell_type": "code",
   "execution_count": 2,
   "metadata": {},
   "outputs": [],
   "source": [
    "# Reference: the code below is from Chapter 1 of Lecture Notes for Algorithm Design for Data Science (DATS 6001) \n",
    "def fun_dp_constant(n):\n",
    "    \"\"\"\n",
    "    The optimal solution for Fibonacci series.\n",
    "    The solution has linear time complexity and constant space complexity.\n",
    "    \n",
    "    Parameters\n",
    "    ----------\n",
    "    n : a number\n",
    "    \n",
    "    Returns\n",
    "    ----------\n",
    "    The nth number in Fibonacci series\n",
    "    \n",
    "    \"\"\"\n",
    "    \n",
    "    # Implement me\n",
    "    if n <= 1:\n",
    "        return n\n",
    "    \n",
    "    a, b = 0, 1\n",
    "        \n",
    "    for i in range(2, n + 1):\n",
    "        c = a + b\n",
    "        a = b\n",
    "        b = c\n",
    "\n",
    "    return c"
   ]
  },
  {
   "cell_type": "markdown",
   "metadata": {},
   "source": [
    "Let us walk through the solution above and see why it is DP-based. Here we solve the problem (calculating the $n$th number in Fibonacci series) by looping over $i$ from 2 to $n$ and calculate each $i$th number in the series. This coincides the divide-and-conquer part of a DP-based algorithm (dividing a big problem into small ones). Further, after calculating the $i$th number, we store its value (using $b$) and the value of the $i - 1$th number (using $a$), so that they do not have to be calculated again when computing the $i + 1$th number (assigned to $c$). By doing so, we only need to calculate each number in the series once. That is, the solution above not only allows divide-and-conquer but also computation sharing, hence is DP-based."
   ]
  },
  {
   "cell_type": "markdown",
   "metadata": {},
   "source": [
    "## The implementation\n",
    "\n",
    "Being one of the most difficult algorithms in algorithm design, implementing DP usually is not straightforward. However, there are two tips that could make implementing DP a bit easier. Unsurprisingly, the tips are related to the defining characteristic of DP discussed earlier, that is, divide-and-conquer and computation sharing. \n",
    "\n",
    "To begin with, we need to find the equation that allows us to divide the problem into subproblems. In Fibonacci series, the equation is\n",
    "\n",
    "$$\n",
    "f(n) = f(n - 1) + f(n - 2).\n",
    "$$\n",
    "\n",
    "As shown in Section 5 (Hints), we will always mention the equation when discussing the logic of a DP-based solution. You will be very close (to solving the problem using DP) once such equation is found.\n",
    "\n",
    "What is next is figuring out how to share the computation of the subproblems (so that we only need to calculate them once). This is usually done using a bottom-up approach, where we start from the smallest subproblems and gradually move on to bigger problems. Moreover, we store the results of the problems solved along the way. In the optimal solution (of Fibonacci series), we start from the $0$th and $1$st number (the base), then calculate the number from 2 to $n$ (i.e., bottom-up). This is different from the recursive (brute-force) solution, where we start from the $n$th number, then recursively calculate smaller number (i.e., top-down). Further, after calculating the $i$th number (where $2 \\leq i \\leq n$), we store its value and the value of the $i - 1$th number, so that they can be reused when calculating the $i + 1$th number (which is the sum of $i - 1$th and $i$th number)."
   ]
  },
  {
   "cell_type": "markdown",
   "metadata": {},
   "source": [
    "# Exercises"
   ]
  },
  {
   "cell_type": "markdown",
   "metadata": {
    "collapsed": true
   },
   "source": [
    "<a id='4.1'></a>"
   ]
  },
  {
   "cell_type": "markdown",
   "metadata": {},
   "source": [
    "## Exercise ($\\star\\star$)\n",
    "- Problem:\n",
    "    - find the maximum profit by buying and selling stock\n",
    "    - here\n",
    "        - the stock returns are stored in an array, where the $i$th element is the return on day $i$\n",
    "        - you can make no more than one transaction\n",
    "    - see examples in the test cases\n",
    "    - find the solution with the complexity below\n",
    "    - this exercise will be followed by\n",
    "        - [exercise 4.2](#4.2)\n",
    "- Complexity:\n",
    "    - $O(n^2)$ time\n",
    "    - $O(1)$ space\n",
    "- Skills: \n",
    "    - solving a problem by starting with a brute-force solution\n",
    "- Logic: we strongly recommend you to try to find the solution yourself before looking at the [hints](#hints_4.1)"
   ]
  },
  {
   "cell_type": "code",
   "execution_count": 3,
   "metadata": {},
   "outputs": [],
   "source": [
    "# Implementation\n",
    "def fun_41(arr):\n",
    "    \"\"\"\n",
    "    Find the maximum profit by buying and selling stock\n",
    "    You can make no more than one transaction\n",
    "    \n",
    "    Parameters\n",
    "    ----------\n",
    "    arr : a list of integers\n",
    "    \n",
    "    Returns\n",
    "    ----------\n",
    "    The maximum profit : an integer\n",
    "    \"\"\"\n",
    "    \n",
    "    # Implement me        \n"
   ]
  },
  {
   "cell_type": "code",
   "execution_count": 4,
   "metadata": {},
   "outputs": [
    {
     "name": "stdout",
     "output_type": "stream",
     "text": [
      "Input  1: [2, 5, 5, 9, 5, 7, 4]\n",
      "Output 1: 7\n",
      "\n",
      "Input  2: [9, 8, 10, 10, 3, 8]\n",
      "Output 2: 5\n",
      "\n",
      "Input  3: [9, 10, 3, 7, 10, 6, 5, 2, 5]\n",
      "Output 3: 7\n",
      "\n",
      "Input  4: [2, 4, 5, 10, 3, 5, 5]\n",
      "Output 4: 8\n",
      "\n",
      "Input  5: [9, 2, 3, 2, 6]\n",
      "Output 5: 4\n",
      "\n",
      "Input  6: [5, 4, 9, 4, 2, 2, 6, 7, 7]\n",
      "Output 6: 5\n",
      "\n",
      "Input  7: [10, 6, 3, 6, 10, 3, 3, 9]\n",
      "Output 7: 7\n",
      "\n",
      "Input  8: [8, 9, 4, 2, 5]\n",
      "Output 8: 3\n",
      "\n",
      "Input  9: [6, 6, 8, 6, 6, 5, 6]\n",
      "Output 9: 2\n",
      "\n",
      "Input  10: [10, 6, 5, 9, 7, 7]\n",
      "Output 10: 4\n",
      "\n"
     ]
    }
   ],
   "source": [
    "# Test\n",
    "import numpy as np\n",
    "np.random.seed(0)\n",
    "\n",
    "for i in range(10):\n",
    "    n = np.random.randint(low=2, high=11)\n",
    "    arr = np.random.randint(low=2, high=11, size=n)\n",
    "    print('Input  ' + str(i + 1) + ':', list(arr))\n",
    "    print('Output ' + str(i + 1) + ':', fun_41(arr), end='\\n\\n')"
   ]
  },
  {
   "cell_type": "markdown",
   "metadata": {
    "collapsed": true
   },
   "source": [
    "<a id='4.2'></a>"
   ]
  },
  {
   "cell_type": "markdown",
   "metadata": {},
   "source": [
    "## Exercise ($\\star\\star\\star$)\n",
    "- Problem:\n",
    "    - follow up on [exercise 4.1](#4.1)\n",
    "    - find the maximum profit by buying and selling stock\n",
    "    - find the solution with the complexity below\n",
    "- Complexity:\n",
    "    - $O(n)$ time\n",
    "    - $O(1)$ space\n",
    "- Skills: \n",
    "    - using dp to design an optimal solution\n",
    "- Logic: we strongly recommend you to try to find the solution yourself before looking at the [hints](#hints_4.2)"
   ]
  },
  {
   "cell_type": "code",
   "execution_count": 5,
   "metadata": {},
   "outputs": [],
   "source": [
    "# Implementation\n",
    "def fun_42(arr):\n",
    "    \"\"\"\n",
    "    Find the maximum profit by buying and selling stock\n",
    "    You can make no more than one transaction\n",
    "    \n",
    "    Parameters\n",
    "    ----------\n",
    "    arr : a list of integers\n",
    "    \n",
    "    Returns\n",
    "    ----------\n",
    "    The maximum profit : an integer\n",
    "    \"\"\"\n",
    "    \n",
    "    # Implement me\n"
   ]
  },
  {
   "cell_type": "code",
   "execution_count": 6,
   "metadata": {
    "scrolled": true
   },
   "outputs": [
    {
     "name": "stdout",
     "output_type": "stream",
     "text": [
      "Input  1: [2, 5, 5, 9, 5, 7, 4]\n",
      "Output 1: 7\n",
      "\n",
      "Input  2: [9, 8, 10, 10, 3, 8]\n",
      "Output 2: 5\n",
      "\n",
      "Input  3: [9, 10, 3, 7, 10, 6, 5, 2, 5]\n",
      "Output 3: 7\n",
      "\n",
      "Input  4: [2, 4, 5, 10, 3, 5, 5]\n",
      "Output 4: 8\n",
      "\n",
      "Input  5: [9, 2, 3, 2, 6]\n",
      "Output 5: 4\n",
      "\n",
      "Input  6: [5, 4, 9, 4, 2, 2, 6, 7, 7]\n",
      "Output 6: 5\n",
      "\n",
      "Input  7: [10, 6, 3, 6, 10, 3, 3, 9]\n",
      "Output 7: 7\n",
      "\n",
      "Input  8: [8, 9, 4, 2, 5]\n",
      "Output 8: 3\n",
      "\n",
      "Input  9: [6, 6, 8, 6, 6, 5, 6]\n",
      "Output 9: 2\n",
      "\n",
      "Input  10: [10, 6, 5, 9, 7, 7]\n",
      "Output 10: 4\n",
      "\n"
     ]
    }
   ],
   "source": [
    "# Test\n",
    "np.random.seed(0)\n",
    "\n",
    "for i in range(10):\n",
    "    n = np.random.randint(low=2, high=11)\n",
    "    arr = np.random.randint(low=2, high=11, size=n)\n",
    "    print('Input  ' + str(i + 1) + ':', list(arr))\n",
    "    print('Output ' + str(i + 1) + ':', fun_41(arr), end='\\n\\n')"
   ]
  },
  {
   "cell_type": "markdown",
   "metadata": {},
   "source": [
    "## Discussion\n",
    "The difference (in run time) between fun_41 and fun_42 is shown in fig. 2. Here, fun_42 (DP-based, $O(n)$ time complexity) is much faster than fun_41 (brute-force, $O(n^2)$ complexity)."
   ]
  },
  {
   "cell_type": "code",
   "execution_count": 7,
   "metadata": {},
   "outputs": [],
   "source": [
    "import time\n",
    "%matplotlib inline\n",
    "import matplotlib.pyplot as plt\n",
    "\n",
    "def plot_43(n, funs, sorted_):\n",
    "    \"\"\"\n",
    "    Plot the run time of the functions (with respect to the input size).\n",
    "    \n",
    "    Parameters\n",
    "    ----------\n",
    "    n : an integer\n",
    "    funs : a list of functions\n",
    "    sorted_ : an integer which says:\n",
    "              -1 : sorted in descending order\n",
    "              0 : not sorted\n",
    "              1 : sorted in ascending order\n",
    "    \"\"\"\n",
    "    \n",
    "    np.random.seed(0)\n",
    "    \n",
    "    x = list(range(1, n + 1))\n",
    "    ys = [[] for _ in range(len(funs))]\n",
    "\n",
    "    for i in x:\n",
    "        arr = list(range(1, i + 1))\n",
    "        if sorted_ == -1:\n",
    "            arr = sorted(arr, reverse=True)\n",
    "        elif sorted_ == 0:\n",
    "            np.random.shuffle(arr)\n",
    "        for j in range(len(funs)):\n",
    "            start = time.time()\n",
    "            funs[j](arr)\n",
    "            end = time.time()\n",
    "            ys[j].append(end - start)\n",
    "    \n",
    "    for j in range(len(funs)):\n",
    "        plt.plot(x, ys[j], label=funs[j].__name__)\n",
    "    plt.xlabel('$n$', fontsize=20)\n",
    "    plt.ylabel('Run time', fontsize=20)\n",
    "    plt.xticks([min(x), max(x)], fontsize=20)\n",
    "    plt.yticks([min([ys[j][k] for j in range(len(funs)) for k in range(len(ys[j]))]), max([ys[j][k] for j in range(len(funs)) for k in range(len(ys[j]))])], fontsize=20)\n",
    "    plt.legend(fontsize=20)\n",
    "    plt.tight_layout()\n",
    "    plt.show()  "
   ]
  },
  {
   "cell_type": "code",
   "execution_count": 8,
   "metadata": {
    "scrolled": false
   },
   "outputs": [
    {
     "data": {
      "image/png": "[encoded data removed]",
      "text/plain": [
       "<Figure size 432x288 with 1 Axes>"
      ]
     },
     "metadata": {
      "needs_background": "light"
     },
     "output_type": "display_data"
    },
    {
     "name": "stdout",
     "output_type": "stream",
     "text": [
      "Figure 2. The run time of fun_41 and fun_42.\n"
     ]
    }
   ],
   "source": [
    "plot_43(10 ** 2, [fun_41, fun_42], 0)\n",
    "print(\"Figure 2. The run time of fun_41 and fun_42.\")"
   ]
  },
  {
   "cell_type": "markdown",
   "metadata": {
    "collapsed": true
   },
   "source": [
    "<a id='4.4'></a>"
   ]
  },
  {
   "cell_type": "markdown",
   "metadata": {},
   "source": [
    "## Exercise ($\\star\\star$)\n",
    "- Problem:\n",
    "    - find the minimum cost to win a game\n",
    "    - here\n",
    "        - the game has a sequence of barriers, numbered from 1 to $n$\n",
    "        - there is a cost for each barrier, particularly for barrier $i$ the cost is arr[i]\n",
    "        - after paying the cost of a barrier, you can either pass the barrier alone, or pass the barrier and the one behind it\n",
    "        - you can start either from the first barrier or the second\n",
    "        - the minimum cost is zero when there are fewer than two barriers\n",
    "    - find the solution with the complexity below\n",
    "    - this exercise will be followed by\n",
    "        - [exercise 4.5](#4.5)\n",
    "- Complexity:\n",
    "    - $O(2^n)$ time\n",
    "    - $O(n)$ space\n",
    "- Skills: \n",
    "    - solving a problem by starting with a brute-force solution\n",
    "- Logic: we strongly recommend you to try to find the solution yourself before looking at the [hints](#hints_4.4)"
   ]
  },
  {
   "cell_type": "code",
   "execution_count": 9,
   "metadata": {},
   "outputs": [],
   "source": [
    "# Implementation\n",
    "def fun_44(arr):\n",
    "    \"\"\"\n",
    "    Find the minimum cost to win a game\n",
    "    \n",
    "    Parameters\n",
    "    ----------\n",
    "    arr : a list of integers\n",
    "    \n",
    "    Returns\n",
    "    ----------\n",
    "    The minimum cost : an integer\n",
    "    \"\"\"\n",
    "    \n",
    "    # Implement me\n"
   ]
  },
  {
   "cell_type": "code",
   "execution_count": 10,
   "metadata": {},
   "outputs": [],
   "source": [
    "# Implementation\n",
    "def helper(arr, n):\n",
    "    \"\"\"\n",
    "    Find the minimum cost to win a game\n",
    "    \n",
    "    Parameters\n",
    "    ----------\n",
    "    arr : a list of integers\n",
    "    n : the number of barriers we need to pass\n",
    "    \n",
    "    Returns\n",
    "    ----------\n",
    "    The minimum cost : an integer\n",
    "    \"\"\"\n",
    "    \n",
    "    # Implement me\n"
   ]
  },
  {
   "cell_type": "code",
   "execution_count": 11,
   "metadata": {
    "scrolled": false
   },
   "outputs": [
    {
     "name": "stdout",
     "output_type": "stream",
     "text": [
      "Input  1: [2, 5, 5, 9, 5, 7, 4]\n",
      "Output 1: 16\n",
      "\n",
      "Input  2: [9, 8, 10, 10, 3, 8]\n",
      "Output 2: 21\n",
      "\n",
      "Input  3: [9, 10, 3, 7, 10, 6, 5, 2, 5]\n",
      "Output 3: 25\n",
      "\n",
      "Input  4: [2, 4, 5, 10, 3, 5, 5]\n",
      "Output 4: 15\n",
      "\n",
      "Input  5: [9, 2, 3, 2, 6]\n",
      "Output 5: 4\n",
      "\n",
      "Input  6: [5, 4, 9, 4, 2, 2, 6, 7, 7]\n",
      "Output 6: 17\n",
      "\n",
      "Input  7: [10, 6, 3, 6, 10, 3, 3, 9]\n",
      "Output 7: 18\n",
      "\n",
      "Input  8: [8, 9, 4, 2, 5]\n",
      "Output 8: 11\n",
      "\n",
      "Input  9: [6, 6, 8, 6, 6, 5, 6]\n",
      "Output 9: 17\n",
      "\n",
      "Input  10: [10, 6, 5, 9, 7, 7]\n",
      "Output 10: 18\n",
      "\n"
     ]
    }
   ],
   "source": [
    "# Test\n",
    "np.random.seed(0)\n",
    "\n",
    "for i in range(10):\n",
    "    n = np.random.randint(low=2, high=11)\n",
    "    arr = np.random.randint(low=2, high=11, size=n)\n",
    "    print('Input  ' + str(i + 1) + ':', list(arr))\n",
    "    print('Output ' + str(i + 1) + ':', fun_44(arr), end='\\n\\n')"
   ]
  },
  {
   "cell_type": "markdown",
   "metadata": {
    "collapsed": true
   },
   "source": [
    "<a id='4.5'></a>"
   ]
  },
  {
   "cell_type": "markdown",
   "metadata": {},
   "source": [
    "## Exercise ($\\star\\star\\star$)\n",
    "- Problem:\n",
    "    - follow up on [exercise 4.4](#4.4)\n",
    "    - find the minimum cost to win a game\n",
    "    - find the solution with the complexity below\n",
    "- Complexity:\n",
    "    - $O(n)$ time\n",
    "    - $O(1)$ space\n",
    "- Skills: \n",
    "    - using dp to design an optimal solution\n",
    "- Logic: we strongly recommend you to try to find the solution yourself before looking at the [hints](#hints_4.5)"
   ]
  },
  {
   "cell_type": "code",
   "execution_count": 12,
   "metadata": {},
   "outputs": [],
   "source": [
    "# Implementation\n",
    "def fun_45(arr):\n",
    "    \"\"\"\n",
    "    Find the minimum cost to win a game\n",
    "    \n",
    "    Parameters\n",
    "    ----------\n",
    "    arr : a list of integers\n",
    "    \n",
    "    Returns\n",
    "    ----------\n",
    "    The minimum cost : an integer\n",
    "    \"\"\"\n",
    "    \n",
    "    # Implement me\n"
   ]
  },
  {
   "cell_type": "code",
   "execution_count": 13,
   "metadata": {
    "scrolled": false
   },
   "outputs": [
    {
     "name": "stdout",
     "output_type": "stream",
     "text": [
      "Input  1: [2, 5, 5, 9, 5, 7, 4]\n",
      "Output 1: 16\n",
      "\n",
      "Input  2: [9, 8, 10, 10, 3, 8]\n",
      "Output 2: 21\n",
      "\n",
      "Input  3: [9, 10, 3, 7, 10, 6, 5, 2, 5]\n",
      "Output 3: 25\n",
      "\n",
      "Input  4: [2, 4, 5, 10, 3, 5, 5]\n",
      "Output 4: 15\n",
      "\n",
      "Input  5: [9, 2, 3, 2, 6]\n",
      "Output 5: 4\n",
      "\n",
      "Input  6: [5, 4, 9, 4, 2, 2, 6, 7, 7]\n",
      "Output 6: 17\n",
      "\n",
      "Input  7: [10, 6, 3, 6, 10, 3, 3, 9]\n",
      "Output 7: 18\n",
      "\n",
      "Input  8: [8, 9, 4, 2, 5]\n",
      "Output 8: 11\n",
      "\n",
      "Input  9: [6, 6, 8, 6, 6, 5, 6]\n",
      "Output 9: 17\n",
      "\n",
      "Input  10: [10, 6, 5, 9, 7, 7]\n",
      "Output 10: 18\n",
      "\n"
     ]
    }
   ],
   "source": [
    "# Test\n",
    "np.random.seed(0)\n",
    "\n",
    "for i in range(10):\n",
    "    n = np.random.randint(low=2, high=11)\n",
    "    arr = np.random.randint(low=2, high=11, size=n)\n",
    "    print('Input  ' + str(i + 1) + ':', list(arr))\n",
    "    print('Output ' + str(i + 1) + ':', fun_45(arr), end='\\n\\n')"
   ]
  },
  {
   "cell_type": "markdown",
   "metadata": {},
   "source": [
    "## Discussion\n",
    "The difference (in run time) between fun_44 and fun_45 is shown in fig. 3. Here, fun_45 (DP-based, $O(n)$ time complexity) is much faster than fun_44 (brute-force, $O(2^n)$ complexity)."
   ]
  },
  {
   "cell_type": "code",
   "execution_count": 14,
   "metadata": {
    "scrolled": false
   },
   "outputs": [
    {
     "data": {
      "image/png": "[encoded data removed]",
      "text/plain": [
       "<Figure size 432x288 with 1 Axes>"
      ]
     },
     "metadata": {
      "needs_background": "light"
     },
     "output_type": "display_data"
    },
    {
     "name": "stdout",
     "output_type": "stream",
     "text": [
      "Figure 3. The run time of fun_44 and fun_45.\n"
     ]
    }
   ],
   "source": [
    "plot_43(30, [fun_44, fun_45], 0)\n",
    "print(\"Figure 3. The run time of fun_44 and fun_45.\")"
   ]
  },
  {
   "cell_type": "markdown",
   "metadata": {
    "collapsed": true
   },
   "source": [
    "<a id='4.7'></a>"
   ]
  },
  {
   "cell_type": "markdown",
   "metadata": {},
   "source": [
    "## Exercise ($\\star\\star$)\n",
    "- Problem:\n",
    "    - find the number of ways to reach the exit of a maze (represented by a $m \\times n$ matrix)\n",
    "    - suppose there is a mice in a maze \n",
    "        - the mice starts from the entrance, located at entry [0, 0]\n",
    "        - each time the mice can either move to the right or go down\n",
    "        - the goal (of the mice) is to find the exit, located at entry [m - 1, n - 1]\n",
    "    - find the solution with the complexity below\n",
    "    - this exercise will be followed by\n",
    "        - [exercise 4.8](#4.8)\n",
    "- Complexity:\n",
    "    - $O(2^{max(m, n)})$ time\n",
    "    - $O(max(m, n))$ space\n",
    "- Skills: \n",
    "    - solving a problem by starting with a brute-force solution\n",
    "- Logic: we strongly recommend you to try to find the solution yourself before looking at the [hints](#hints_4.7)"
   ]
  },
  {
   "cell_type": "code",
   "execution_count": 15,
   "metadata": {},
   "outputs": [],
   "source": [
    "# Implementation\n",
    "def fun_47(m, n):\n",
    "    \"\"\"\n",
    "    Find the number of ways to reach the exit of a maze (represented by a m * n matrix)\n",
    "    \n",
    "    Parameters\n",
    "    ----------\n",
    "    m : the number of rows in the matrix\n",
    "    n : the number of columns in the matrix\n",
    "    \n",
    "    Returns\n",
    "    ----------\n",
    "    The number of ways : an integer\n",
    "    \"\"\"\n",
    "    \n",
    "    # Implement me\n"
   ]
  },
  {
   "cell_type": "code",
   "execution_count": 16,
   "metadata": {
    "scrolled": true
   },
   "outputs": [
    {
     "name": "stdout",
     "output_type": "stream",
     "text": [
      "Input  1: m = 4 n = 5\n",
      "Output 1: 35\n",
      "\n",
      "Input  2: m = 0 n = 3\n",
      "Output 2: 0\n",
      "\n",
      "Input  3: m = 3 n = 3\n",
      "Output 3: 6\n",
      "\n",
      "Input  4: m = 1 n = 3\n",
      "Output 4: 1\n",
      "\n",
      "Input  5: m = 5 n = 2\n",
      "Output 5: 5\n",
      "\n",
      "Input  6: m = 4 n = 0\n",
      "Output 6: 0\n",
      "\n",
      "Input  7: m = 0 n = 4\n",
      "Output 7: 0\n",
      "\n",
      "Input  8: m = 2 n = 1\n",
      "Output 8: 1\n",
      "\n",
      "Input  9: m = 0 n = 1\n",
      "Output 9: 0\n",
      "\n",
      "Input  10: m = 5 n = 1\n",
      "Output 10: 1\n",
      "\n"
     ]
    }
   ],
   "source": [
    "# Test\n",
    "np.random.seed(0)\n",
    "\n",
    "for i in range(10):\n",
    "    m, n = np.random.randint(low=0, high=6, size=2)\n",
    "    print('Input  ' + str(i + 1) + ':', 'm = ' + str(m), 'n = ' + str(n))\n",
    "    print('Output ' + str(i + 1) + ':', fun_47(m, n), end='\\n\\n')"
   ]
  },
  {
   "cell_type": "markdown",
   "metadata": {
    "collapsed": true
   },
   "source": [
    "<a id='4.8'></a>"
   ]
  },
  {
   "cell_type": "markdown",
   "metadata": {},
   "source": [
    "## Exercise ($\\star\\star\\star$)\n",
    "- Problem:\n",
    "    - follow up on [exercise 4.7](#4.7)\n",
    "    - find the number of ways to reach the exit of a maze (represented by a $m \\times n$ matrix)\n",
    "    - find the solution with the complexity below\n",
    "    - this exercise will be followed by\n",
    "        - [exercise 4.9](#4.9)\n",
    "- Complexity:\n",
    "    - $O(m \\times n)$ time\n",
    "    - $O(m \\times n)$ space\n",
    "- Skills: \n",
    "    - using dp to design an improved solution\n",
    "- Logic: we strongly recommend you to try to find the solution yourself before looking at the [hints](#hints_4.8)"
   ]
  },
  {
   "cell_type": "code",
   "execution_count": 17,
   "metadata": {},
   "outputs": [],
   "source": [
    "# Implementation\n",
    "def fun_48(m, n):\n",
    "    \"\"\"\n",
    "    Find the number of ways to reach the exit of a maze (represented by a m * n matrix)\n",
    "    \n",
    "    Parameters\n",
    "    ----------\n",
    "    matrix : a matrix of integers\n",
    "    m : the number of rows in the matrix\n",
    "    n : the number of columns in the ma\n",
    "    \n",
    "    Returns\n",
    "    ----------\n",
    "    The number of ways : an integer\n",
    "    \"\"\"\n",
    "    \n",
    "    # Implement me\n"
   ]
  },
  {
   "cell_type": "code",
   "execution_count": 18,
   "metadata": {
    "scrolled": true
   },
   "outputs": [
    {
     "name": "stdout",
     "output_type": "stream",
     "text": [
      "Input  1: m = 4 n = 5\n",
      "Output 1: 35\n",
      "\n",
      "Input  2: m = 0 n = 3\n",
      "Output 2: 0\n",
      "\n",
      "Input  3: m = 3 n = 3\n",
      "Output 3: 6\n",
      "\n",
      "Input  4: m = 1 n = 3\n",
      "Output 4: 1\n",
      "\n",
      "Input  5: m = 5 n = 2\n",
      "Output 5: 5\n",
      "\n",
      "Input  6: m = 4 n = 0\n",
      "Output 6: 0\n",
      "\n",
      "Input  7: m = 0 n = 4\n",
      "Output 7: 0\n",
      "\n",
      "Input  8: m = 2 n = 1\n",
      "Output 8: 1\n",
      "\n",
      "Input  9: m = 0 n = 1\n",
      "Output 9: 0\n",
      "\n",
      "Input  10: m = 5 n = 1\n",
      "Output 10: 1\n",
      "\n"
     ]
    }
   ],
   "source": [
    "# Test\n",
    "np.random.seed(0)\n",
    "\n",
    "for i in range(10):\n",
    "    m, n = np.random.randint(low=0, high=6, size=2)\n",
    "    print('Input  ' + str(i + 1) + ':', 'm = ' + str(m), 'n = ' + str(n))\n",
    "    print('Output ' + str(i + 1) + ':', fun_48(m, n), end='\\n\\n')"
   ]
  },
  {
   "cell_type": "markdown",
   "metadata": {
    "collapsed": true
   },
   "source": [
    "<a id='4.9'></a>"
   ]
  },
  {
   "cell_type": "markdown",
   "metadata": {},
   "source": [
    "## Exercise ($\\star\\star\\star$)\n",
    "- Problem:\n",
    "    - follow up on [exercise 4.8](#4.8)\n",
    "    - find the number of ways to reach the exit of a maze (represented by a $m \\times n$ matrix)\n",
    "    - find the solution with the complexity below\n",
    "- Complexity:\n",
    "    - $O(m \\times n)$ time\n",
    "    - $O(max(m, n))$ space\n",
    "- Skills: \n",
    "    - using dp to design an optimal solution\n",
    "- Logic: we strongly recommend you to try to find the solution yourself before looking at the [hints](#hints_4.9)"
   ]
  },
  {
   "cell_type": "code",
   "execution_count": 19,
   "metadata": {},
   "outputs": [],
   "source": [
    "# Implementation\n",
    "def fun_49(m, n):\n",
    "    \"\"\"\n",
    "    Find the number of ways to reach the exit of a maze (represented by a m * n matrix)\n",
    "    \n",
    "    Parameters\n",
    "    ----------\n",
    "    matrix : a matrix of integers\n",
    "    m : the number of rows in the matrix\n",
    "    n : the number of columns in the ma\n",
    "    \n",
    "    Returns\n",
    "    ----------\n",
    "    The number of ways : an integer\n",
    "    \"\"\"\n",
    "    \n",
    "    # Implement me\n"
   ]
  },
  {
   "cell_type": "code",
   "execution_count": 20,
   "metadata": {
    "scrolled": true
   },
   "outputs": [
    {
     "name": "stdout",
     "output_type": "stream",
     "text": [
      "Input  1: m = 4 n = 5\n",
      "Output 1: 35\n",
      "\n",
      "Input  2: m = 0 n = 3\n",
      "Output 2: 0\n",
      "\n",
      "Input  3: m = 3 n = 3\n",
      "Output 3: 6\n",
      "\n",
      "Input  4: m = 1 n = 3\n",
      "Output 4: 1\n",
      "\n",
      "Input  5: m = 5 n = 2\n",
      "Output 5: 5\n",
      "\n",
      "Input  6: m = 4 n = 0\n",
      "Output 6: 0\n",
      "\n",
      "Input  7: m = 0 n = 4\n",
      "Output 7: 0\n",
      "\n",
      "Input  8: m = 2 n = 1\n",
      "Output 8: 1\n",
      "\n",
      "Input  9: m = 0 n = 1\n",
      "Output 9: 0\n",
      "\n",
      "Input  10: m = 5 n = 1\n",
      "Output 10: 1\n",
      "\n"
     ]
    }
   ],
   "source": [
    "# Test\n",
    "np.random.seed(0)\n",
    "\n",
    "for i in range(10):\n",
    "    m, n = np.random.randint(low=0, high=6, size=2)\n",
    "    print('Input  ' + str(i + 1) + ':', 'm = ' + str(m), 'n = ' + str(n))\n",
    "    print('Output ' + str(i + 1) + ':', fun_49(m, n), end='\\n\\n')"
   ]
  },
  {
   "cell_type": "markdown",
   "metadata": {},
   "source": [
    "## Discussion\n",
    "The difference (in run time) between fun_47, fun_48, and fun_49 is shown in fig. 4. Here, fun_48 and fun_49 (DP-based, $O(m \\times n)$ time complexity) is much faster than fun_47 (brute-force, $O(2^{max(m, n)})$ complexity)."
   ]
  },
  {
   "cell_type": "code",
   "execution_count": 21,
   "metadata": {},
   "outputs": [],
   "source": [
    "def plot_410(n, funs):\n",
    "    \"\"\"\n",
    "    Plot the run time of the functions (with respect to the input size).\n",
    "    \n",
    "    Parameters\n",
    "    ----------\n",
    "    n : an integer\n",
    "    funs : a list of functions\n",
    "    \"\"\"\n",
    "    \n",
    "    np.random.seed(0)\n",
    "    \n",
    "    x = list(range(1, n + 1))\n",
    "    ys = [[] for _ in range(len(funs))]\n",
    "\n",
    "    for i in x:\n",
    "        for j in range(len(funs)):\n",
    "            start = time.time()\n",
    "            funs[j](i, i)\n",
    "            end = time.time()\n",
    "            ys[j].append(end - start)\n",
    "    \n",
    "    for j in range(len(funs)):\n",
    "        plt.plot(x, ys[j], label=funs[j].__name__)\n",
    "    plt.xlabel('$n$', fontsize=20)\n",
    "    plt.ylabel('Run time', fontsize=20)\n",
    "    plt.xticks([min(x), max(x)], fontsize=20)\n",
    "    plt.yticks([min([ys[j][k] for j in range(len(funs)) for k in range(len(ys[j]))]), max([ys[j][k] for j in range(len(funs)) for k in range(len(ys[j]))])], fontsize=20)\n",
    "    plt.legend(fontsize=20)\n",
    "    plt.tight_layout()\n",
    "    plt.show() "
   ]
  },
  {
   "cell_type": "code",
   "execution_count": 22,
   "metadata": {},
   "outputs": [
    {
     "data": {
      "image/png": "[encoded data removed]",
      "text/plain": [
       "<Figure size 432x288 with 1 Axes>"
      ]
     },
     "metadata": {
      "needs_background": "light"
     },
     "output_type": "display_data"
    },
    {
     "name": "stdout",
     "output_type": "stream",
     "text": [
      "Figure 4. The run time of fun_47, fun_48, and fun_49\n"
     ]
    }
   ],
   "source": [
    "plot_410(10, [fun_47, fun_48, fun_49])\n",
    "print(\"Figure 4. The run time of fun_47, fun_48, and fun_49\")"
   ]
  },
  {
   "cell_type": "markdown",
   "metadata": {
    "collapsed": true
   },
   "source": [
    "<a id='4.11'></a>"
   ]
  },
  {
   "cell_type": "markdown",
   "metadata": {},
   "source": [
    "## Exercise ($\\star\\star$)\n",
    "- Problem:\n",
    "    - get the maximum number of candies\n",
    "    - your niece is going to visit the houses in your street on Halloween night\n",
    "    - given the number of candies each house has, your goal is to help your niece get the maximum number of candies\n",
    "    - the only constraint here is, your niece cannot visit two houses in a row\n",
    "    - that is, if she visited house $i$ already, she could not visit house $i + 1$ anymore\n",
    "    - find the solution with the complexity below\n",
    "    - this exercise will be followed by\n",
    "        - [exercise 4.12](#4.12)\n",
    "- Complexity:\n",
    "    - $O(2^n)$ time\n",
    "    - $O(n)$ space\n",
    "- Skills: \n",
    "    - solving a problem by starting with a brute-force solution\n",
    "- Logic: we strongly recommend you to try to find the solution yourself before looking at the [hints](#hints_4.11)"
   ]
  },
  {
   "cell_type": "code",
   "execution_count": 23,
   "metadata": {},
   "outputs": [],
   "source": [
    "# Implementation\n",
    "def fun_411(arr):\n",
    "    \"\"\"\n",
    "    Get the maximum number of candies\n",
    "    \n",
    "    Parameters\n",
    "    ----------\n",
    "    arr : a list of integers\n",
    "    \n",
    "    Returns\n",
    "    ----------\n",
    "    The maximum number of candies : an integer\n",
    "    \"\"\"\n",
    "    \n",
    "    # Implement me\n"
   ]
  },
  {
   "cell_type": "code",
   "execution_count": 24,
   "metadata": {
    "scrolled": true
   },
   "outputs": [
    {
     "name": "stdout",
     "output_type": "stream",
     "text": [
      "Input  1: [2, 5, 5, 9, 5, 7, 4]\n",
      "Output 1: 21\n",
      "\n",
      "Input  2: [9, 8, 10, 10, 3, 8]\n",
      "Output 2: 27\n",
      "\n",
      "Input  3: [9, 10, 3, 7, 10, 6, 5, 2, 5]\n",
      "Output 3: 32\n",
      "\n",
      "Input  4: [2, 4, 5, 10, 3, 5, 5]\n",
      "Output 4: 19\n",
      "\n",
      "Input  5: [9, 2, 3, 2, 6]\n",
      "Output 5: 18\n",
      "\n",
      "Input  6: [5, 4, 9, 4, 2, 2, 6, 7, 7]\n",
      "Output 6: 29\n",
      "\n",
      "Input  7: [10, 6, 3, 6, 10, 3, 3, 9]\n",
      "Output 7: 32\n",
      "\n",
      "Input  8: [8, 9, 4, 2, 5]\n",
      "Output 8: 17\n",
      "\n",
      "Input  9: [6, 6, 8, 6, 6, 5, 6]\n",
      "Output 9: 26\n",
      "\n",
      "Input  10: [10, 6, 5, 9, 7, 7]\n",
      "Output 10: 26\n",
      "\n"
     ]
    }
   ],
   "source": [
    "# Test\n",
    "np.random.seed(0)\n",
    "\n",
    "for i in range(10):\n",
    "    n = np.random.randint(low=2, high=11)\n",
    "    arr = np.random.randint(low=2, high=11, size=n)\n",
    "    print('Input  ' + str(i + 1) + ':', list(arr))\n",
    "    print('Output ' + str(i + 1) + ':', fun_411(arr), end='\\n\\n')"
   ]
  },
  {
   "cell_type": "markdown",
   "metadata": {
    "collapsed": true
   },
   "source": [
    "<a id='4.12'></a>"
   ]
  },
  {
   "cell_type": "markdown",
   "metadata": {},
   "source": [
    "## Exercise ($\\star\\star\\star$)\n",
    "- Problem:\n",
    "    - follow up on [exercise 4.11](#4.11)\n",
    "    - get the maximum number of candies\n",
    "    - find the solution with the complexity below\n",
    "- Complexity:\n",
    "    - $O(n)$ time\n",
    "    - $O(1)$ space\n",
    "- Skills: \n",
    "    - using dp to design an optimal solution\n",
    "- Logic: we strongly recommend you to try to find the solution yourself before looking at the [hints](#hints_4.12)"
   ]
  },
  {
   "cell_type": "code",
   "execution_count": 25,
   "metadata": {},
   "outputs": [],
   "source": [
    "# Implementation\n",
    "def fun_412(arr):\n",
    "    \"\"\"\n",
    "    Get the maximum number of candies\n",
    "    \n",
    "    Parameters\n",
    "    ----------\n",
    "    arr : a list of integers\n",
    "    \n",
    "    Returns\n",
    "    ----------\n",
    "    The maximum number of candies : an integer\n",
    "    \"\"\"\n",
    "    \n",
    "    # Implement me\n"
   ]
  },
  {
   "cell_type": "code",
   "execution_count": 26,
   "metadata": {
    "scrolled": true
   },
   "outputs": [
    {
     "name": "stdout",
     "output_type": "stream",
     "text": [
      "Input  1: [2, 5, 5, 9, 5, 7, 4]\n",
      "Output 1: 21\n",
      "\n",
      "Input  2: [9, 8, 10, 10, 3, 8]\n",
      "Output 2: 27\n",
      "\n",
      "Input  3: [9, 10, 3, 7, 10, 6, 5, 2, 5]\n",
      "Output 3: 32\n",
      "\n",
      "Input  4: [2, 4, 5, 10, 3, 5, 5]\n",
      "Output 4: 19\n",
      "\n",
      "Input  5: [9, 2, 3, 2, 6]\n",
      "Output 5: 18\n",
      "\n",
      "Input  6: [5, 4, 9, 4, 2, 2, 6, 7, 7]\n",
      "Output 6: 29\n",
      "\n",
      "Input  7: [10, 6, 3, 6, 10, 3, 3, 9]\n",
      "Output 7: 32\n",
      "\n",
      "Input  8: [8, 9, 4, 2, 5]\n",
      "Output 8: 17\n",
      "\n",
      "Input  9: [6, 6, 8, 6, 6, 5, 6]\n",
      "Output 9: 26\n",
      "\n",
      "Input  10: [10, 6, 5, 9, 7, 7]\n",
      "Output 10: 26\n",
      "\n"
     ]
    }
   ],
   "source": [
    "# Test\n",
    "np.random.seed(0)\n",
    "\n",
    "for i in range(10):\n",
    "    n = np.random.randint(low=2, high=11)\n",
    "    arr = np.random.randint(low=2, high=11, size=n)\n",
    "    print('Input  ' + str(i + 1) + ':', list(arr))\n",
    "    print('Output ' + str(i + 1) + ':', fun_412(arr), end='\\n\\n')"
   ]
  },
  {
   "cell_type": "markdown",
   "metadata": {
    "collapsed": true
   },
   "source": [
    "<a id='4.13'></a>"
   ]
  },
  {
   "cell_type": "markdown",
   "metadata": {},
   "source": [
    "## Exercise ($\\star\\star$)\n",
    "- Problem:\n",
    "    - find the number of [palindromic](https://en.wikipedia.org/wiki/Palindrome) subarray\n",
    "    - find the solution with the complexity below\n",
    "    - this exercise will be followed by\n",
    "        - [exercise 4.14](#4.14)\n",
    "- Complexity:\n",
    "    - $O(n^3)$ time\n",
    "    - $O(1)$ space\n",
    "- Skills: \n",
    "    - solving a problem by starting with a brute-force solution\n",
    "- Logic: we strongly recommend you to try to find the solution yourself before looking at the [hints](#hints_4.13)"
   ]
  },
  {
   "cell_type": "code",
   "execution_count": 27,
   "metadata": {},
   "outputs": [],
   "source": [
    "# Implementation\n",
    "def fun_413(arr):\n",
    "    \"\"\"\n",
    "    Find the number of palindromic subarray\n",
    "    \n",
    "    Parameters\n",
    "    ----------\n",
    "    arr : a list of integers\n",
    "    \n",
    "    Returns\n",
    "    ----------\n",
    "    The number of palindromic subarray : an integer\n",
    "    \"\"\"\n",
    "    \n",
    "    # Implement me\n"
   ]
  },
  {
   "cell_type": "code",
   "execution_count": 28,
   "metadata": {},
   "outputs": [],
   "source": [
    "# Implementation\n",
    "def helper(arr, i, j):\n",
    "    \"\"\"\n",
    "    Find whether a subarray is palindromic\n",
    "    \n",
    "    Parameters\n",
    "    ----------\n",
    "    arr : a list of integers\n",
    "    i : the first index of the subarray\n",
    "    j : the last index of the subarray\n",
    "    \n",
    "    Returns\n",
    "    ----------\n",
    "    1 : if the subarray is palindromic\n",
    "    0 : otherwise\n",
    "    \"\"\"\n",
    "    \n",
    "    # Implement me\n",
    "    while i < j:\n",
    "        if arr[i] != arr[j]:\n",
    "            return 0\n",
    "        \n",
    "        i += 1\n",
    "        j -= 1\n",
    "        \n",
    "    return 1"
   ]
  },
  {
   "cell_type": "code",
   "execution_count": 29,
   "metadata": {
    "scrolled": true
   },
   "outputs": [
    {
     "name": "stdout",
     "output_type": "stream",
     "text": [
      "Input  1: [2, 5, 5, 9, 5, 7, 4]\n",
      "Output 1: 9\n",
      "\n",
      "Input  2: [9, 8, 10, 10, 3, 8]\n",
      "Output 2: 7\n",
      "\n",
      "Input  3: [9, 10, 3, 7, 10, 6, 5, 2, 5]\n",
      "Output 3: 10\n",
      "\n",
      "Input  4: [2, 4, 5, 10, 3, 5, 5]\n",
      "Output 4: 8\n",
      "\n",
      "Input  5: [9, 2, 3, 2, 6]\n",
      "Output 5: 6\n",
      "\n",
      "Input  6: [5, 4, 9, 4, 2, 2, 6, 7, 7]\n",
      "Output 6: 12\n",
      "\n",
      "Input  7: [10, 6, 3, 6, 10, 3, 3, 9]\n",
      "Output 7: 11\n",
      "\n",
      "Input  8: [8, 9, 4, 2, 5]\n",
      "Output 8: 5\n",
      "\n",
      "Input  9: [6, 6, 8, 6, 6, 5, 6]\n",
      "Output 9: 12\n",
      "\n",
      "Input  10: [10, 6, 5, 9, 7, 7]\n",
      "Output 10: 7\n",
      "\n"
     ]
    }
   ],
   "source": [
    "# Test\n",
    "np.random.seed(0)\n",
    "\n",
    "for i in range(10):\n",
    "    n = np.random.randint(low=2, high=11)\n",
    "    arr = np.random.randint(low=2, high=11, size=n)\n",
    "    print('Input  ' + str(i + 1) + ':', list(arr))\n",
    "    print('Output ' + str(i + 1) + ':', fun_413(arr), end='\\n\\n')"
   ]
  },
  {
   "cell_type": "markdown",
   "metadata": {
    "collapsed": true
   },
   "source": [
    "<a id='4.14'></a>"
   ]
  },
  {
   "cell_type": "markdown",
   "metadata": {},
   "source": [
    "## Exercise ($\\star\\star\\star$)\n",
    "- Problem:\n",
    "    - follow up on [exercise 4.13](#4.13)\n",
    "    - find the number of [palindromic](https://en.wikipedia.org/wiki/Palindrome) subarray\n",
    "    - find the solution with the complexity below\n",
    "    - this exercise will be followed by\n",
    "        - [exercise 4.15](#4.15)\n",
    "- Complexity:\n",
    "    - $O(n^2)$ time\n",
    "    - $O(n^2)$ space\n",
    "- Skills: \n",
    "    - solving a problem by starting with a brute-force solution\n",
    "- Logic: we strongly recommend you to try to find the solution yourself before looking at the [hints](#hints_4.13)"
   ]
  },
  {
   "cell_type": "code",
   "execution_count": 30,
   "metadata": {},
   "outputs": [],
   "source": [
    "# Implementation\n",
    "def fun_414(arr):\n",
    "    \"\"\"\n",
    "    Find the number of palindromic subarray\n",
    "    \n",
    "    Parameters\n",
    "    ----------\n",
    "    arr : a list of integers\n",
    "    \n",
    "    Returns\n",
    "    ----------\n",
    "    The number of palindromic subarray : an integer\n",
    "    \"\"\"\n",
    "    \n",
    "    # Implement me\n"
   ]
  },
  {
   "cell_type": "code",
   "execution_count": 31,
   "metadata": {
    "scrolled": true
   },
   "outputs": [
    {
     "name": "stdout",
     "output_type": "stream",
     "text": [
      "Input  1: [2, 5, 5, 9, 5, 7, 4]\n",
      "Output 1: 9\n",
      "\n",
      "Input  2: [9, 8, 10, 10, 3, 8]\n",
      "Output 2: 7\n",
      "\n",
      "Input  3: [9, 10, 3, 7, 10, 6, 5, 2, 5]\n",
      "Output 3: 10\n",
      "\n",
      "Input  4: [2, 4, 5, 10, 3, 5, 5]\n",
      "Output 4: 8\n",
      "\n",
      "Input  5: [9, 2, 3, 2, 6]\n",
      "Output 5: 6\n",
      "\n",
      "Input  6: [5, 4, 9, 4, 2, 2, 6, 7, 7]\n",
      "Output 6: 12\n",
      "\n",
      "Input  7: [10, 6, 3, 6, 10, 3, 3, 9]\n",
      "Output 7: 11\n",
      "\n",
      "Input  8: [8, 9, 4, 2, 5]\n",
      "Output 8: 5\n",
      "\n",
      "Input  9: [6, 6, 8, 6, 6, 5, 6]\n",
      "Output 9: 12\n",
      "\n",
      "Input  10: [10, 6, 5, 9, 7, 7]\n",
      "Output 10: 7\n",
      "\n"
     ]
    }
   ],
   "source": [
    "# Test\n",
    "np.random.seed(0)\n",
    "\n",
    "for i in range(10):\n",
    "    n = np.random.randint(low=2, high=11)\n",
    "    arr = np.random.randint(low=2, high=11, size=n)\n",
    "    print('Input  ' + str(i + 1) + ':', list(arr))\n",
    "    print('Output ' + str(i + 1) + ':', fun_414(arr), end='\\n\\n')"
   ]
  },
  {
   "cell_type": "markdown",
   "metadata": {
    "collapsed": true
   },
   "source": [
    "<a id='4.15'></a>"
   ]
  },
  {
   "cell_type": "markdown",
   "metadata": {},
   "source": [
    "## Exercise ($\\star\\star\\star$)\n",
    "- Problem:\n",
    "    - follow up on [exercise 4.14](#4.14)\n",
    "    - find the number of [palindromic](https://en.wikipedia.org/wiki/Palindrome) subarray\n",
    "    - find the solution with the complexity below\n",
    "- Complexity:\n",
    "    - $O(n^2)$ time\n",
    "    - $O(n)$ space\n",
    "- Skills: \n",
    "    - solving a problem by starting with a brute-force solution\n",
    "- Logic: we strongly recommend you to try to find the solution yourself before looking at the [hints](#hints_4.15)"
   ]
  },
  {
   "cell_type": "code",
   "execution_count": 32,
   "metadata": {},
   "outputs": [],
   "source": [
    "# Implementation\n",
    "def fun_415(arr):\n",
    "    \"\"\"\n",
    "    Find the number of palindromic subarray\n",
    "    \n",
    "    Parameters\n",
    "    ----------\n",
    "    arr : a list of integers\n",
    "    \n",
    "    Returns\n",
    "    ----------\n",
    "    The number of palindromic subarray : an integer\n",
    "    \"\"\"\n",
    "    \n",
    "    # Implement me\n"
   ]
  },
  {
   "cell_type": "code",
   "execution_count": 33,
   "metadata": {
    "scrolled": true
   },
   "outputs": [
    {
     "name": "stdout",
     "output_type": "stream",
     "text": [
      "Input  1: [2, 5, 5, 9, 5, 7, 4]\n",
      "Output 1: 9\n",
      "\n",
      "Input  2: [9, 8, 10, 10, 3, 8]\n",
      "Output 2: 7\n",
      "\n",
      "Input  3: [9, 10, 3, 7, 10, 6, 5, 2, 5]\n",
      "Output 3: 10\n",
      "\n",
      "Input  4: [2, 4, 5, 10, 3, 5, 5]\n",
      "Output 4: 8\n",
      "\n",
      "Input  5: [9, 2, 3, 2, 6]\n",
      "Output 5: 6\n",
      "\n",
      "Input  6: [5, 4, 9, 4, 2, 2, 6, 7, 7]\n",
      "Output 6: 12\n",
      "\n",
      "Input  7: [10, 6, 3, 6, 10, 3, 3, 9]\n",
      "Output 7: 11\n",
      "\n",
      "Input  8: [8, 9, 4, 2, 5]\n",
      "Output 8: 5\n",
      "\n",
      "Input  9: [6, 6, 8, 6, 6, 5, 6]\n",
      "Output 9: 12\n",
      "\n",
      "Input  10: [10, 6, 5, 9, 7, 7]\n",
      "Output 10: 7\n",
      "\n"
     ]
    }
   ],
   "source": [
    "# Test\n",
    "np.random.seed(0)\n",
    "\n",
    "for i in range(10):\n",
    "    n = np.random.randint(low=2, high=11)\n",
    "    arr = np.random.randint(low=2, high=11, size=n)\n",
    "    print('Input  ' + str(i + 1) + ':', list(arr))\n",
    "    print('Output ' + str(i + 1) + ':', fun_415(arr), end='\\n\\n')"
   ]
  },
  {
   "cell_type": "markdown",
   "metadata": {},
   "source": [
    "## Discussion\n",
    "The difference (in run time) between fun_413, fun_414, and fun_415 is shown in fig. 5. Here, fun_414 and fun_415 (DP-based, $O(n^2)$ time complexity) are faster than fun_413 (brute-force, $O(n^3)$ complexity)."
   ]
  },
  {
   "cell_type": "code",
   "execution_count": 34,
   "metadata": {},
   "outputs": [],
   "source": [
    "import numpy as np\n",
    "import time\n",
    "%matplotlib inline\n",
    "import matplotlib.pyplot as plt\n",
    "\n",
    "def plot_416(n, funs, sorted_):\n",
    "    \"\"\"\n",
    "    Plot the run time of the functions (with respect to the input size).\n",
    "    \n",
    "    Parameters\n",
    "    ----------\n",
    "    n : an integer\n",
    "    funs : a list of functions\n",
    "    sorted_ : an integer which says:\n",
    "              -1 : sorted in descending order\n",
    "              0 : not sorted\n",
    "              1 : sorted in ascending order\n",
    "    \"\"\"\n",
    "    \n",
    "    np.random.seed(0)\n",
    "    \n",
    "    x = list(range(1, n + 1))\n",
    "    ys = [[] for _ in range(len(funs))]\n",
    "\n",
    "    for i in x:\n",
    "        arr = np.random.randint(low=0, high=2, size=i)\n",
    "        if sorted_ == -1:\n",
    "            arr = sorted(arr, reverse=True)\n",
    "        elif sorted_ == 0:\n",
    "            np.random.shuffle(arr)\n",
    "        for j in range(len(funs)):\n",
    "            start = time.time()\n",
    "            funs[j](arr)\n",
    "            end = time.time()\n",
    "            ys[j].append(end - start)\n",
    "    \n",
    "    for j in range(len(funs)):\n",
    "        plt.plot(x, ys[j], label=funs[j].__name__)\n",
    "    plt.xlabel('$n$', fontsize=20)\n",
    "    plt.ylabel('Run time', fontsize=20)\n",
    "    plt.xticks([min(x), max(x)], fontsize=20)\n",
    "    plt.yticks([min([ys[j][k] for j in range(len(funs)) for k in range(len(ys[j]))]), max([ys[j][k] for j in range(len(funs)) for k in range(len(ys[j]))])], fontsize=20)\n",
    "    plt.legend(fontsize=20)\n",
    "    plt.tight_layout()\n",
    "    plt.show()  "
   ]
  },
  {
   "cell_type": "code",
   "execution_count": 35,
   "metadata": {
    "scrolled": false
   },
   "outputs": [
    {
     "data": {
      "image/png": "[encoded data removed]",
      "text/plain": [
       "<Figure size 432x288 with 1 Axes>"
      ]
     },
     "metadata": {
      "needs_background": "light"
     },
     "output_type": "display_data"
    },
    {
     "name": "stdout",
     "output_type": "stream",
     "text": [
      "Figure 5. The run time of fun_413, fun_414, and fun_415\n"
     ]
    }
   ],
   "source": [
    "plot_416(10 ** 2, [fun_413, fun_414, fun_415], 0)\n",
    "print(\"Figure 5. The run time of fun_413, fun_414, and fun_415\")"
   ]
  },
  {
   "cell_type": "markdown",
   "metadata": {
    "collapsed": true
   },
   "source": [
    "# Appendix"
   ]
  },
  {
   "cell_type": "markdown",
   "metadata": {
    "collapsed": true
   },
   "source": [
    "<a id='hints_4.1'></a>"
   ]
  },
  {
   "cell_type": "markdown",
   "metadata": {},
   "source": [
    "## Hints for [exercise 4.1](#4.1):\n",
    "- we use a variable, max_profit, to keep track of the maximum profit\n",
    "- we loop over each $[i, j]$, where $i$ is the day when buying in and $j$ the day when selling out (and $i < j$)\n",
    "    - for each $[i, j]$, we update max_profit if it is smaller than the current profit, arr[j] - arr[i]"
   ]
  },
  {
   "cell_type": "markdown",
   "metadata": {
    "collapsed": true
   },
   "source": [
    "<a id='hints_4.2'></a>"
   ]
  },
  {
   "cell_type": "markdown",
   "metadata": {},
   "source": [
    "## Hints for [exercise 4.2](#4.2):\n",
    "- as in [exercise 4.1](#4.1), we use a variable, max_profit, to keep track of the maximum profit\n",
    "- the difference is\n",
    "    - here we also use a variable, min_price, to keep track of the minimum price\n",
    "    - for each $j$ (the day when selling out)\n",
    "        - if arr[j] - min_price > max_profit, we update max_profit\n",
    "        - if arr[j] < min_price, we update min_price"
   ]
  },
  {
   "cell_type": "markdown",
   "metadata": {
    "collapsed": true
   },
   "source": [
    "<a id='hints_4.4'></a>"
   ]
  },
  {
   "cell_type": "markdown",
   "metadata": {},
   "source": [
    "## Hints for [exercise 4.4](#4.4):\n",
    "- let helper(arr, n) be the minimum cost of passing $n$ barriers, then\n",
    "$$\n",
    "helper(arr, n) = min([helper(arr, n - 1) + arr[n - 1], helper(arr, n - 2) + arr[n - 2]])\n",
    "$$\n",
    "- that is, the minimum cost of passing $n$ barriers is the smaller cost between passing $n - 1$ barriers plus the cost of the $n - 1$th barrier (the last one in the array, since the array begins with index 0), and passing $n - 2$ barriers plus the cost of the $n - 2$th barrier (the second last one in the array)"
   ]
  },
  {
   "cell_type": "markdown",
   "metadata": {
    "collapsed": true
   },
   "source": [
    "<a id='hints_4.5'></a>"
   ]
  },
  {
   "cell_type": "markdown",
   "metadata": {},
   "source": [
    "## Hints for [exercise 4.5](#4.5):\n",
    "- unlike [exercise 4.4](#4.4) where we used a top-down approach (from $n$ to 2), here we use a bottom-up approach (from 2 to $n$)\n",
    "- for the $i$th barrier\n",
    "    - we use two variables, $a$ and $b$, to represent the minimum cost of passing the first $i - 3$ barriers and the first $i - 2$ barriers\n",
    "    - we also use a variable, $c$, to represent the minimum cost of passing the first $i$ barriers\n",
    "    - then $c$ can be written as\n",
    "$$    \n",
    "c = min(a + arr[i - 2], b + arr[i - 1])\n",
    "$$"
   ]
  },
  {
   "cell_type": "markdown",
   "metadata": {
    "collapsed": true
   },
   "source": [
    "<a id='hints_4.7'></a>"
   ]
  },
  {
   "cell_type": "markdown",
   "metadata": {},
   "source": [
    "## Hints for [exercise 4.7](#4.7):\n",
    "- the number of ways to reach entry $[m, n]$, $f(m, n)$, can be written as\n",
    "$$\n",
    "f(m, n) = f(m - 1, n) + f(m, n - 1)\n",
    "$$\n",
    "- that is, $f(m, n)$ is the sum of the following two numbers:\n",
    "    - the number of ways to reach entry $[m - 1, n]$\n",
    "    - the number of ways to reach entry $[m, n - 1]$"
   ]
  },
  {
   "cell_type": "markdown",
   "metadata": {
    "collapsed": true
   },
   "source": [
    "<a id='hints_4.8'></a>"
   ]
  },
  {
   "cell_type": "markdown",
   "metadata": {},
   "source": [
    "## Hints for [exercise 4.8](#4.8):\n",
    "- unlike [exercise 4.7](#4.7) where we used a top-down approach (from $[m, n]$ to [1, 1]), here we use a bottom-up approach (from [1, 1] to $[m, n]$)\n",
    "- specifically\n",
    "    - we use a matrix to keep track of the number of ways, where $matrix[i, j]$ is the number of ways to reach entry $[i, j]$\n",
    "    - similar to [exercise 4.7](#4.7), $matrix[i, j]$ can be written as  \n",
    "    $$\n",
    "    matrix[i, j] = matrix[i - 1, j] + matrix[i, j - 1]\n",
    "    $$"
   ]
  },
  {
   "cell_type": "markdown",
   "metadata": {
    "collapsed": true
   },
   "source": [
    "<a id='hints_4.9'></a>"
   ]
  },
  {
   "cell_type": "markdown",
   "metadata": {},
   "source": [
    "## Hints for [exercise 4.9](#4.9):\n",
    "- the logic is almost the same as that in [exercise 4.8](#4.8)\n",
    "- the difference is\n",
    "    - unlike [exercise 4.8](#4.8) where we used a matrix to keep track of the number of ways, here we use an array to do so\n",
    "    - the idea is that, when calculating $matrix[i, j]$ in [exercise 4.8](#4.8), we only need to know row $i - 1$ and column $j - 1$, hence we do not need to keep the other rows and columns\n",
    "    - specifically, for each $i$, the number of ways to reach entry $[i, j]$, $arr[j]$, can be written as  \n",
    "$$\n",
    "arr[j] = arr[j] + arr[j - 1]\n",
    "$$"
   ]
  },
  {
   "cell_type": "markdown",
   "metadata": {
    "collapsed": true
   },
   "source": [
    "<a id='hints_4.11'></a>"
   ]
  },
  {
   "cell_type": "markdown",
   "metadata": {},
   "source": [
    "## Hints for [exercise 4.11](#4.11):\n",
    "- the maximum number of candies your niece can get after visiting the $n$th house, $f(n)$, can be written as\n",
    "$$\n",
    "f(n) = max\\big(f(n - 2) + arr[n], f(n - 1) \\big)\n",
    "$$\n",
    "\n",
    "- that is, $f(n)$ is the maximum between the following two numbers:\n",
    "    - the maximum number of candies after visiting the $n - 2$th house plus the candies house $n$ has \n",
    "    - the maximum number of candies after visiting the $n - 1$th house"
   ]
  },
  {
   "cell_type": "markdown",
   "metadata": {
    "collapsed": true
   },
   "source": [
    "<a id='hints_4.11'></a>"
   ]
  },
  {
   "cell_type": "markdown",
   "metadata": {},
   "source": [
    "## Hints for [exercise 4.11](#4.11):\n",
    "- the maximum number of candies your niece can get after visiting the $n$th house, $f(n)$, can be written as\n",
    "$$\n",
    "f(n) = max\\big(f(n - 2) + arr[n], f(n - 1) \\big)\n",
    "$$\n",
    "\n",
    "- that is, $f(n)$ is the maximum between the following two numbers:\n",
    "    - the maximum number of candies after visiting the $n - 2$th house plus the candies house $n$ has \n",
    "    - the maximum number of candies after visiting the $n - 1$th house"
   ]
  },
  {
   "cell_type": "markdown",
   "metadata": {
    "collapsed": true
   },
   "source": [
    "<a id='hints_4.12'></a>"
   ]
  },
  {
   "cell_type": "markdown",
   "metadata": {},
   "source": [
    "## Hints for [exercise 4.12](#4.12):\n",
    "- unlike [exercise 4.11](#4.11) where we used a top-down approach (from $n$ to 2), here we use a bottom-up approach (from 2 to $n$)\n",
    "- for the $i$th house\n",
    "    - we use two variables, $a$, $b$, and $c$ to represent $f(i - 2)$, $f(i - 1)$, and $f(i)$\n",
    "    - then $c$ can be written as\n",
    "$$    \n",
    "c = max(a + arr[i], b)\n",
    "$$"
   ]
  },
  {
   "cell_type": "markdown",
   "metadata": {
    "collapsed": true
   },
   "source": [
    "<a id='hints_4.13'></a>"
   ]
  },
  {
   "cell_type": "markdown",
   "metadata": {},
   "source": [
    "## Hints for [exercise 4.13](#4.13):\n",
    "- we use a variable, count, to keep track of the number of palindromic subarray \n",
    "- we loop over each possible subarray and increase count if the subarray is palindromic"
   ]
  },
  {
   "cell_type": "markdown",
   "metadata": {
    "collapsed": true
   },
   "source": [
    "<a id='hints_4.14'></a>"
   ]
  },
  {
   "cell_type": "markdown",
   "metadata": {},
   "source": [
    "## Hints for [exercise 4.14](#4.14):\n",
    "- the logic is almost the same as that in [exercise 4.13](#4.13)\n",
    "- the difference is\n",
    "    - in [exercise 4.13](#4.13) we pass the whole subarray from $i$ to $j$ to decide whether the subarray is palindromic\n",
    "    - the time complexity of doing so is $O(n)$\n",
    "    - here we use a $n \\times n$ matrix to keep track of whether subarray with length 1 to $n$ is palindromic\n",
    "    - when deciding whether subarray starting from $j$ with length $i$ is palindromic, we only need to check whether subarray from $j + 1$ with length $i - 2$ is palindromic, and whether arr[j] == arr[j + i - 1]\n",
    "    - the time complexity of doing so is $O(1)$"
   ]
  },
  {
   "cell_type": "markdown",
   "metadata": {
    "collapsed": true
   },
   "source": [
    "<a id='hints_4.15'></a>"
   ]
  },
  {
   "cell_type": "markdown",
   "metadata": {},
   "source": [
    "## Hints for [exercise 4.15](#4.15):\n",
    "- the logic is almost the same as that in [exercise 4.14](#4.14)\n",
    "- the difference is\n",
    "    - unlike [exercise 4.14](#4.14) where we use a $n \\times n$ matrix to keep track of whether subarray with length 1 to $n$ is palindromic (hence $O(n^2)$ space complexity), here we do so by using a $2 \\times n$ matrix (hence $O(n)$ space complexity)\n",
    "    - as mentioned in the hints for [exercise 4.14](#4.14), when deciding whether subarray starting from $j$ with length $i$ is palindromic, we only need to check whether subarray from $j + 1$ with length $i - 2$ is palindromic (and whether arr[j] == arr[j + i - 1])\n",
    "    - this means that we only need to keep track of the status of subarray with length $i - 2$ and $i - 1$ such that\n",
    "        - the information for length $i - 2$ will be used when deciding subarray with length $i$\n",
    "        - the information for length $i - 1$ will be used when deciding subarray with length $i + 1$    "
   ]
  },
  {
   "cell_type": "code",
   "execution_count": null,
   "metadata": {},
   "outputs": [],
   "source": []
  }
 ],
 "metadata": {
  "kernelspec": {
   "display_name": "Python 3",
   "language": "python",
   "name": "python3"
  },
  "language_info": {
   "codemirror_mode": {
    "name": "ipython",
    "version": 3
   },
   "file_extension": ".py",
   "mimetype": "text/x-python",
   "name": "python",
   "nbconvert_exporter": "python",
   "pygments_lexer": "ipython3",
   "version": "3.7.6"
  },
  "toc": {
   "base_numbering": 1,
   "nav_menu": {},
   "number_sections": true,
   "sideBar": true,
   "skip_h1_title": false,
   "title_cell": "Table of Contents",
   "title_sidebar": "Contents",
   "toc_cell": true,
   "toc_position": {},
   "toc_section_display": true,
   "toc_window_display": false
  }
 },
 "nbformat": 4,
 "nbformat_minor": 2
}
