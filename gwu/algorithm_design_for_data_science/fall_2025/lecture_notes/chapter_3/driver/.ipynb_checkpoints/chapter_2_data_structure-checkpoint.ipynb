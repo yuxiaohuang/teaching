{
 "cells": [
  {
   "cell_type": "markdown",
   "metadata": {
    "toc": true
   },
   "source": [
    "<h1>Table of Contents<span class=\"tocSkip\"></span></h1>\n",
    "<div class=\"toc\"><ul class=\"toc-item\"><li><span><a href=\"#Overview\" data-toc-modified-id=\"Overview-1\"><span class=\"toc-item-num\">1&nbsp;&nbsp;</span>Overview</a></span></li><li><span><a href=\"#Learning-Objectives\" data-toc-modified-id=\"Learning-Objectives-2\"><span class=\"toc-item-num\">2&nbsp;&nbsp;</span>Learning Objectives</a></span></li><li><span><a href=\"#Array\" data-toc-modified-id=\"Array-3\"><span class=\"toc-item-num\">3&nbsp;&nbsp;</span>Array</a></span><ul class=\"toc-item\"><li><span><a href=\"#Definition\" data-toc-modified-id=\"Definition-3.1\"><span class=\"toc-item-num\">3.1&nbsp;&nbsp;</span>Definition</a></span></li><li><span><a href=\"#Array-in-Python\" data-toc-modified-id=\"Array-in-Python-3.2\"><span class=\"toc-item-num\">3.2&nbsp;&nbsp;</span>Array in Python</a></span></li><li><span><a href=\"#Example-($\\star$)\" data-toc-modified-id=\"Example-($\\star$)-3.3\"><span class=\"toc-item-num\">3.3&nbsp;&nbsp;</span>Example ($\\star$)</a></span><ul class=\"toc-item\"><li><span><a href=\"#Discussion\" data-toc-modified-id=\"Discussion-3.3.1\"><span class=\"toc-item-num\">3.3.1&nbsp;&nbsp;</span>Discussion</a></span></li></ul></li><li><span><a href=\"#Exercise-($\\star$)\" data-toc-modified-id=\"Exercise-($\\star$)-3.4\"><span class=\"toc-item-num\">3.4&nbsp;&nbsp;</span>Exercise ($\\star$)</a></span><ul class=\"toc-item\"><li><span><a href=\"#Discussion:\" data-toc-modified-id=\"Discussion:-3.4.1\"><span class=\"toc-item-num\">3.4.1&nbsp;&nbsp;</span>Discussion:</a></span></li></ul></li><li><span><a href=\"#Example-($\\star\\star$)\" data-toc-modified-id=\"Example-($\\star\\star$)-3.5\"><span class=\"toc-item-num\">3.5&nbsp;&nbsp;</span>Example ($\\star\\star$)</a></span></li><li><span><a href=\"#Exercise-($\\star\\star$)\" data-toc-modified-id=\"Exercise-($\\star\\star$)-3.6\"><span class=\"toc-item-num\">3.6&nbsp;&nbsp;</span>Exercise ($\\star\\star$)</a></span></li><li><span><a href=\"#Discussion\" data-toc-modified-id=\"Discussion-3.7\"><span class=\"toc-item-num\">3.7&nbsp;&nbsp;</span>Discussion</a></span></li><li><span><a href=\"#Example-($\\star\\star\\star$)\" data-toc-modified-id=\"Example-($\\star\\star\\star$)-3.8\"><span class=\"toc-item-num\">3.8&nbsp;&nbsp;</span>Example ($\\star\\star\\star$)</a></span></li><li><span><a href=\"#Discussion\" data-toc-modified-id=\"Discussion-3.9\"><span class=\"toc-item-num\">3.9&nbsp;&nbsp;</span>Discussion</a></span></li><li><span><a href=\"#Exercise-($\\star\\star\\star$)\" data-toc-modified-id=\"Exercise-($\\star\\star\\star$)-3.10\"><span class=\"toc-item-num\">3.10&nbsp;&nbsp;</span>Exercise ($\\star\\star\\star$)</a></span></li><li><span><a href=\"#Discussion\" data-toc-modified-id=\"Discussion-3.11\"><span class=\"toc-item-num\">3.11&nbsp;&nbsp;</span>Discussion</a></span></li><li><span><a href=\"#Exercise-($\\star\\star$)\" data-toc-modified-id=\"Exercise-($\\star\\star$)-3.12\"><span class=\"toc-item-num\">3.12&nbsp;&nbsp;</span>Exercise ($\\star\\star$)</a></span></li><li><span><a href=\"#Exercise-($\\star\\star$)\" data-toc-modified-id=\"Exercise-($\\star\\star$)-3.13\"><span class=\"toc-item-num\">3.13&nbsp;&nbsp;</span>Exercise ($\\star\\star$)</a></span></li><li><span><a href=\"#Exercise-($\\star\\star$)\" data-toc-modified-id=\"Exercise-($\\star\\star$)-3.14\"><span class=\"toc-item-num\">3.14&nbsp;&nbsp;</span>Exercise ($\\star\\star$)</a></span></li><li><span><a href=\"#Exercise-($\\star\\star$)\" data-toc-modified-id=\"Exercise-($\\star\\star$)-3.15\"><span class=\"toc-item-num\">3.15&nbsp;&nbsp;</span>Exercise ($\\star\\star$)</a></span></li></ul></li><li><span><a href=\"#Stack\" data-toc-modified-id=\"Stack-4\"><span class=\"toc-item-num\">4&nbsp;&nbsp;</span>Stack</a></span><ul class=\"toc-item\"><li><span><a href=\"#Definition\" data-toc-modified-id=\"Definition-4.1\"><span class=\"toc-item-num\">4.1&nbsp;&nbsp;</span>Definition</a></span></li><li><span><a href=\"#Example-($\\star\\star$)\" data-toc-modified-id=\"Example-($\\star\\star$)-4.2\"><span class=\"toc-item-num\">4.2&nbsp;&nbsp;</span>Example ($\\star\\star$)</a></span></li><li><span><a href=\"#Example-($\\star\\star$)\" data-toc-modified-id=\"Example-($\\star\\star$)-4.3\"><span class=\"toc-item-num\">4.3&nbsp;&nbsp;</span>Example ($\\star\\star$)</a></span></li><li><span><a href=\"#Exercise-($\\star\\star$)\" data-toc-modified-id=\"Exercise-($\\star\\star$)-4.4\"><span class=\"toc-item-num\">4.4&nbsp;&nbsp;</span>Exercise ($\\star\\star$)</a></span></li><li><span><a href=\"#Exercise-($\\star\\star$)\" data-toc-modified-id=\"Exercise-($\\star\\star$)-4.5\"><span class=\"toc-item-num\">4.5&nbsp;&nbsp;</span>Exercise ($\\star\\star$)</a></span></li><li><span><a href=\"#Exercise-($\\star\\star$)\" data-toc-modified-id=\"Exercise-($\\star\\star$)-4.6\"><span class=\"toc-item-num\">4.6&nbsp;&nbsp;</span>Exercise ($\\star\\star$)</a></span></li><li><span><a href=\"#Discussion\" data-toc-modified-id=\"Discussion-4.7\"><span class=\"toc-item-num\">4.7&nbsp;&nbsp;</span>Discussion</a></span></li><li><span><a href=\"#Exercise-($\\star\\star$)\" data-toc-modified-id=\"Exercise-($\\star\\star$)-4.8\"><span class=\"toc-item-num\">4.8&nbsp;&nbsp;</span>Exercise ($\\star\\star$)</a></span></li><li><span><a href=\"#Example-($\\star\\star$)\" data-toc-modified-id=\"Example-($\\star\\star$)-4.9\"><span class=\"toc-item-num\">4.9&nbsp;&nbsp;</span>Example ($\\star\\star$)</a></span></li><li><span><a href=\"#Discussion\" data-toc-modified-id=\"Discussion-4.10\"><span class=\"toc-item-num\">4.10&nbsp;&nbsp;</span>Discussion</a></span></li></ul></li><li><span><a href=\"#Queue\" data-toc-modified-id=\"Queue-5\"><span class=\"toc-item-num\">5&nbsp;&nbsp;</span>Queue</a></span><ul class=\"toc-item\"><li><span><a href=\"#Definition\" data-toc-modified-id=\"Definition-5.1\"><span class=\"toc-item-num\">5.1&nbsp;&nbsp;</span>Definition</a></span></li></ul></li><li><span><a href=\"#Appendix\" data-toc-modified-id=\"Appendix-6\"><span class=\"toc-item-num\">6&nbsp;&nbsp;</span>Appendix</a></span><ul class=\"toc-item\"><li><span><a href=\"#Hints-for-exercise-3.4:\" data-toc-modified-id=\"Hints-for-exercise-3.4:-6.1\"><span class=\"toc-item-num\">6.1&nbsp;&nbsp;</span>Hints for <a href=\"#3.4\">exercise 3.4</a>:</a></span></li><li><span><a href=\"#Hints-for-exercise-3.6:\" data-toc-modified-id=\"Hints-for-exercise-3.6:-6.2\"><span class=\"toc-item-num\">6.2&nbsp;&nbsp;</span>Hints for <a href=\"#3.6\">exercise 3.6</a>:</a></span></li><li><span><a href=\"#Hints-for-exercise-3.10:\" data-toc-modified-id=\"Hints-for-exercise-3.10:-6.3\"><span class=\"toc-item-num\">6.3&nbsp;&nbsp;</span>Hints for <a href=\"#3.10\">exercise 3.10</a>:</a></span></li><li><span><a href=\"#Hints-for-exercise-3.12:\" data-toc-modified-id=\"Hints-for-exercise-3.12:-6.4\"><span class=\"toc-item-num\">6.4&nbsp;&nbsp;</span>Hints for <a href=\"#3.12\">exercise 3.12</a>:</a></span></li><li><span><a href=\"#Hints-for-exercise-3.13:\" data-toc-modified-id=\"Hints-for-exercise-3.13:-6.5\"><span class=\"toc-item-num\">6.5&nbsp;&nbsp;</span>Hints for <a href=\"#3.13\">exercise 3.13</a>:</a></span></li><li><span><a href=\"#Hints-for-exercise-3.14:\" data-toc-modified-id=\"Hints-for-exercise-3.14:-6.6\"><span class=\"toc-item-num\">6.6&nbsp;&nbsp;</span>Hints for <a href=\"#3.14\">exercise 3.14</a>:</a></span></li><li><span><a href=\"#Hints-for-exercise-3.15:\" data-toc-modified-id=\"Hints-for-exercise-3.15:-6.7\"><span class=\"toc-item-num\">6.7&nbsp;&nbsp;</span>Hints for <a href=\"#3.15\">exercise 3.15</a>:</a></span></li><li><span><a href=\"#Hints-for-exercise-4.4:\" data-toc-modified-id=\"Hints-for-exercise-4.4:-6.8\"><span class=\"toc-item-num\">6.8&nbsp;&nbsp;</span>Hints for <a href=\"#4.4\">exercise 4.4</a>:</a></span></li><li><span><a href=\"#Hints-for-exercise-4.5:\" data-toc-modified-id=\"Hints-for-exercise-4.5:-6.9\"><span class=\"toc-item-num\">6.9&nbsp;&nbsp;</span>Hints for <a href=\"#4.5\">exercise 4.5</a>:</a></span></li><li><span><a href=\"#Hints-for-exercise-4.6:\" data-toc-modified-id=\"Hints-for-exercise-4.6:-6.10\"><span class=\"toc-item-num\">6.10&nbsp;&nbsp;</span>Hints for <a href=\"#4.6\">exercise 4.6</a>:</a></span></li><li><span><a href=\"#Hints-for-exercise-4.8:\" data-toc-modified-id=\"Hints-for-exercise-4.8:-6.11\"><span class=\"toc-item-num\">6.11&nbsp;&nbsp;</span>Hints for <a href=\"#4.8\">exercise 4.8</a>:</a></span></li></ul></li></ul></div>"
   ]
  },
  {
   "cell_type": "markdown",
   "metadata": {
    "collapsed": true
   },
   "source": [
    "<b>\n",
    "\n",
    "<p>\n",
    "<center>\n",
    "<font size=\"5\">\n",
    "Lecture Note for Computer Science Foundations (DATS 6450)\n",
    "</font>\n",
    "</center>\n",
    "</p>\n",
    "\n",
    "<p>\n",
    "<center>\n",
    "<font size=\"4\">\n",
    "Chapter 2: Array, Stack, and Queue\n",
    "</font>\n",
    "</center>\n",
    "</p>\n",
    "\n",
    "<p>\n",
    "<center>\n",
    "<font size=\"3\">\n",
    "Data Science, Columbian College of Arts & Sciences, George Washington University\n",
    "</font>\n",
    "</center>\n",
    "</p>\n",
    "\n",
    "<p>\n",
    "<center>\n",
    "<font size=\"3\">\n",
    "Author: Yuxiao Huang\n",
    "</font>\n",
    "</center>\n",
    "</p>\n",
    "\n",
    "</b>"
   ]
  },
  {
   "cell_type": "markdown",
   "metadata": {},
   "source": [
    "# Overview\n",
    "- We will discuss three kinds of basic data structures in this chapter, including:\n",
    "    - array\n",
    "    - stack\n",
    "    - queue\n",
    "- The discussion of each kind of data structure can be divided into two parts:\n",
    "    - theory, where we will describe the idea of the data structure\n",
    "    - coding\n",
    "        - where (most of the time) we will start with some examples and then work on some exercises\n",
    "        - particularly, the examples and exercises are organized in such a way that, each exercise is a follow-up on some example prior to it\n",
    "        - **you should analyze the (time and space) complexity of each example and exercise**\n",
    "- We will use stars to represent the difficulty of the exercises:\n",
    "    - $\\star$ means very easy\n",
    "    - $\\star\\star$ means easy\n",
    "    - $\\star\\star\\star$ means medium\n",
    "    - $\\star\\star\\star\\star$ means difficult\n",
    "    - $\\star\\star\\star\\star\\star$ means very difficult"
   ]
  },
  {
   "cell_type": "markdown",
   "metadata": {},
   "source": [
    "# Learning Objectives\n",
    "Students should know:\n",
    "- how the three kinds of data structures work\n",
    "- how to apply these data structures to design optimal solutions (ones with the lowest complexity)"
   ]
  },
  {
   "cell_type": "markdown",
   "metadata": {},
   "source": [
    "# Array\n",
    "We will start with array, which is perhaps the most widely used data structure in algorithm design. In this course most of the solutions will be implemented using array."
   ]
  },
  {
   "cell_type": "markdown",
   "metadata": {},
   "source": [
    "## Definition\n",
    "In simple words, an *array* is a data structure that stores the same type of items at contiguous memory locations. The idea of array is that, if we know the memory address of the first element in the array, then we can access any element in constant time (i.e., $O(1)$). Accessing an item in the array from its index is also called *array indexing*. \n",
    "\n",
    "Array indexing takes constant time because we can first calculate the memory address of the $i$th element using \n",
    "\n",
    "\\begin{equation}\n",
    "a + i \\times s.\n",
    "\\end{equation}\n",
    "\n",
    "Here $a$ is the address of the first element in the array, and $s$ is the space each element takes (this is why we require the elements in an array must have the same type, so that $s$ will be the same for every element). Then we can retrieve the element from the address in the equation above. Both calculating the address and retrieving the element take constant time. This is the key reason why array is one of the most important data structures in algorithm design."
   ]
  },
  {
   "cell_type": "markdown",
   "metadata": {},
   "source": [
    "## Array in Python \n",
    "While array is a primitive data structure in most of the programming languages (e.g., C, C++, and JAVA), it is not the case in Python. Instead, Python has a primitive data structure, named *list*, which can be used as array since *list indexing* (accessing an item in the list from its index) also takes constant time. What is more, list also supports operations that array (in other programming languages) does not allow (e.g., adding or removing an element, and list comprehension, more on this later). Hereafter unless otherwise specified we will use list and array interchangeably. Below are some very simple examples of using list."
   ]
  },
  {
   "cell_type": "code",
   "execution_count": 1,
   "metadata": {},
   "outputs": [
    {
     "data": {
      "text/plain": [
       "[1, 2, 3, 4]"
      ]
     },
     "execution_count": 1,
     "metadata": {},
     "output_type": "execute_result"
    }
   ],
   "source": [
    "# Initialize a list using different numbers\n",
    "arr = [1, 2, 3, 4]\n",
    "arr"
   ]
  },
  {
   "cell_type": "code",
   "execution_count": 2,
   "metadata": {
    "scrolled": true
   },
   "outputs": [
    {
     "data": {
      "text/plain": [
       "[0, 0, 0, 0, 0, 0, 0, 0, 0, 0]"
      ]
     },
     "execution_count": 2,
     "metadata": {},
     "output_type": "execute_result"
    }
   ],
   "source": [
    "# Initialize a list using the same number, say 0\n",
    "arr = [0] * 10\n",
    "arr"
   ]
  },
  {
   "cell_type": "code",
   "execution_count": 3,
   "metadata": {
    "scrolled": true
   },
   "outputs": [
    {
     "name": "stdout",
     "output_type": "stream",
     "text": [
      "1\n",
      "2\n",
      "3\n",
      "4\n"
     ]
    }
   ],
   "source": [
    "# List indexing\n",
    "arr = [1, 2, 3, 4]\n",
    "for i in range(len(arr)):\n",
    "    print(arr[i])"
   ]
  },
  {
   "cell_type": "markdown",
   "metadata": {},
   "source": [
    "It is worth noting that, while array is not a primitive data structure in Python, the language does have build-in packages that implement array. Among these packages, perhaps the most widely used is *numpy*, which implements *numpy Array* (or *ndarray*). Numpy array provides vectorized arithmetic operations (e.g., matrix multiplication) which are highly efficient. This is the reason why, as far as we know, most of the machine learning models in [scikit-learn](https://scikit-learn.org/stable/) are implemented using numpy array.\n",
    "\n",
    "Despite of the appealing performance of numpy, it will not be used in this course. One reason is that, some of the algorithms (e.g., binary search) that you will learn and practice have already been implemented in numpy. This is also why, according to our knowledge, numpy cannot be used in the \"White Board Coding\" interviews."
   ]
  },
  {
   "cell_type": "markdown",
   "metadata": {},
   "source": [
    "<a id='3.3'></a>"
   ]
  },
  {
   "cell_type": "markdown",
   "metadata": {},
   "source": [
    "## Example ($\\star$)\n",
    "- Problem: \n",
    "    - find the largest element in the array\n",
    "    - you may assume the array is not empty\n",
    "    - the solution has the complexity below\n",
    "    - this example will be followed by\n",
    "        - [exercise 3.4](#3.4)\n",
    "- Complexity: \n",
    "    - $O(n)$ time\n",
    "    - $O(1)$ space\n",
    "- Skills: \n",
    "    - looping through an array\n",
    "    - avoiding unnecessary computation\n",
    "- Logic: see the comments below"
   ]
  },
  {
   "cell_type": "code",
   "execution_count": 4,
   "metadata": {
    "collapsed": true
   },
   "outputs": [],
   "source": [
    "# Implementation\n",
    "def fun_33(arr):\n",
    "    \"\"\"\n",
    "    Find the largest element in the array\n",
    "    You may assume the array is not empty\n",
    "    \n",
    "    Parameters\n",
    "    ----------\n",
    "    arr : a list of integers\n",
    "    \n",
    "    Returns\n",
    "    ----------\n",
    "    The largest element in arr: an integer\n",
    "    \"\"\"\n",
    "    \n",
    "    # Since we can assume the array is not empty (as suggested in the docstring), \n",
    "    # assign the first element to max_\n",
    "    max_ = arr[0]\n",
    "    \n",
    "    # Loop over each remaining element in the array\n",
    "    for i in range(1, len(arr)):\n",
    "        if max_ < arr[i]:\n",
    "            # Update max_\n",
    "            max_ = arr[i]\n",
    "            \n",
    "    return max_"
   ]
  },
  {
   "cell_type": "code",
   "execution_count": 5,
   "metadata": {},
   "outputs": [
    {
     "name": "stdout",
     "output_type": "stream",
     "text": [
      "2\n",
      "3\n"
     ]
    }
   ],
   "source": [
    "# Test\n",
    "arr_1 = [2]\n",
    "arr_2 = [2, 3]\n",
    "\n",
    "print(fun_33(arr_1))\n",
    "print(fun_33(arr_2))"
   ]
  },
  {
   "cell_type": "markdown",
   "metadata": {},
   "source": [
    "### Discussion\n",
    "- what happens when replacing $<$ with $<=$ in the solution?\n",
    "- can you design a different solution?"
   ]
  },
  {
   "cell_type": "markdown",
   "metadata": {},
   "source": [
    "<a id='3.4'></a>"
   ]
  },
  {
   "cell_type": "markdown",
   "metadata": {},
   "source": [
    "## Exercise ($\\star$)\n",
    "- Problem:\n",
    "    - follow up on [example 3.3](#3.3)\n",
    "    - you cannot assume the array is not empty\n",
    "    - find the solution with the complexity below\n",
    "- Complexity:\n",
    "    - $O(n)$ time\n",
    "    - $O(1)$ space\n",
    "- Skills: \n",
    "    - handling corner cases of the input\n",
    "- Logic: we strongly recommend you to try to find the solution yourself before looking at the [hints](#hints_3.4)"
   ]
  },
  {
   "cell_type": "code",
   "execution_count": 6,
   "metadata": {
    "collapsed": true
   },
   "outputs": [],
   "source": [
    "# Implementation\n",
    "def fun_34(arr):\n",
    "    \"\"\"\n",
    "    Find the largest element in the array\n",
    "    You cannot assume the array is not empty\n",
    "    \n",
    "    Parameters\n",
    "    ----------\n",
    "    arr : a list of integers\n",
    "    \n",
    "    Returns\n",
    "    ----------\n",
    "    The largest element in arr, if nonempty array\n",
    "    None, otherwise\n",
    "    \"\"\"\n",
    "    \n",
    "    # Implement me\n",
    "    "
   ]
  },
  {
   "cell_type": "code",
   "execution_count": 7,
   "metadata": {},
   "outputs": [
    {
     "name": "stdout",
     "output_type": "stream",
     "text": [
      "None\n",
      "2\n",
      "3\n"
     ]
    }
   ],
   "source": [
    "# Test\n",
    "arr_1 = []\n",
    "arr_2 = [2]\n",
    "arr_3 = [2, 3]\n",
    "\n",
    "print(fun_34(arr_1))\n",
    "print(fun_34(arr_2))\n",
    "print(fun_34(arr_3))"
   ]
  },
  {
   "cell_type": "markdown",
   "metadata": {},
   "source": [
    "### Discussion:\n",
    "- identifying and handling corner cases is an important skill in algorithm design (and more broadly, software engineering)\n",
    "- you are strongly recommended to\n",
    "    - come up with as many corner cases as possible, and consider these cases when designing the algorithm\n",
    "    - include the corner cases when testing the algorithm"
   ]
  },
  {
   "cell_type": "markdown",
   "metadata": {},
   "source": [
    "<a id='3.5'></a>"
   ]
  },
  {
   "cell_type": "markdown",
   "metadata": {},
   "source": [
    "## Example ($\\star\\star$)\n",
    "- Problem:\n",
    "    - find the largest sum across all the contiguous (non-empty) subarrays of the input array\n",
    "    - you may assume the input array is not empty\n",
    "    - find the brute-force solution with the complexity below\n",
    "    - this example will be followed by\n",
    "        - [exercise 3.6](#3.6)\n",
    "        - [exercise 3.12](#3.12)\n",
    "- Complexity: \n",
    "    - $O(n^3)$ time\n",
    "    - $O(1)$ space\n",
    "- Skills:\n",
    "    - solving a non-trivial problem by starting with a brute-force solution\n",
    "- Logic:\n",
    "    - we first loop over each possible continuous (non-empty) subarray and calculate its sum\n",
    "    - we then return the largest sum across all the subarrays"
   ]
  },
  {
   "cell_type": "code",
   "execution_count": 8,
   "metadata": {
    "collapsed": true
   },
   "outputs": [],
   "source": [
    "# Implementation\n",
    "def fun_35(arr):\n",
    "    \"\"\"\n",
    "    Find the largest sum across all the contiguous (non-empty) subarrays of the input array\n",
    "    You may assume the input array is not empty\n",
    "    \n",
    "    Parameters\n",
    "    ----------\n",
    "    arr : a list of integers\n",
    "    \n",
    "    Returns\n",
    "    ----------\n",
    "    The largest sum : an interger\n",
    "    \"\"\"\n",
    "    \n",
    "    # The largest sum\n",
    "    max_sum = None\n",
    "    \n",
    "    # For each possible start of the subarray\n",
    "    for i in range(len(arr)):\n",
    "        # For each possible end of the subarray\n",
    "        for j in range(i, len(arr)):\n",
    "            # The sum of the subarray (starting with i and ending with j)\n",
    "            sum_ = 0\n",
    "            for k in range(i, j + 1):\n",
    "                sum_ += arr[k]\n",
    "            \n",
    "            if max_sum is None or max_sum < sum_:\n",
    "                # Update max_sum\n",
    "                max_sum = sum_\n",
    "            \n",
    "    return max_sum"
   ]
  },
  {
   "cell_type": "code",
   "execution_count": 9,
   "metadata": {
    "scrolled": true
   },
   "outputs": [
    {
     "name": "stdout",
     "output_type": "stream",
     "text": [
      "2\n",
      "3\n",
      "5\n"
     ]
    }
   ],
   "source": [
    "# Test\n",
    "arr_1 = [2]\n",
    "arr_2 = [-2, 3]\n",
    "arr_3 = [-2, 3, -2, 4, -1, -2]\n",
    "\n",
    "print(fun_35(arr_1))\n",
    "print(fun_35(arr_2))\n",
    "print(fun_35(arr_3))"
   ]
  },
  {
   "cell_type": "markdown",
   "metadata": {},
   "source": [
    "<a id='3.6'></a>"
   ]
  },
  {
   "cell_type": "markdown",
   "metadata": {},
   "source": [
    "## Exercise ($\\star\\star$)\n",
    "- Problem:\n",
    "    - follow up on [example 3.5](#3.5)\n",
    "    - find an improved solution with the complexity below\n",
    "    - this exercise will be followed by\n",
    "        - [example 3.8](#3.8)\n",
    "        - [exercise 3.13](#3.13)\n",
    "- Complexity: \n",
    "    - $O(n^2)$ time\n",
    "    - $O(1)$ space\n",
    "- Logic: we strongly recommend you to try to find the solution yourself before looking at the [hints](#hints_3.6)"
   ]
  },
  {
   "cell_type": "code",
   "execution_count": 10,
   "metadata": {
    "collapsed": true
   },
   "outputs": [],
   "source": [
    "# Implementation\n",
    "def fun_36(arr):\n",
    "    \"\"\"\n",
    "    Find the largest sum across all the contiguous (non-empty) subarrays of the input array\n",
    "    You may assume the input array is not empty\n",
    "    \n",
    "    Parameters\n",
    "    ----------\n",
    "    arr : a list of integers\n",
    "    \n",
    "    Returns\n",
    "    ----------\n",
    "    The largest sum : an interger\n",
    "    \"\"\"\n",
    "    \n",
    "    # Implement me\n",
    "    "
   ]
  },
  {
   "cell_type": "code",
   "execution_count": 11,
   "metadata": {
    "scrolled": false
   },
   "outputs": [
    {
     "name": "stdout",
     "output_type": "stream",
     "text": [
      "2\n",
      "3\n",
      "5\n"
     ]
    }
   ],
   "source": [
    "# Test\n",
    "arr_1 = [2]\n",
    "arr_2 = [-2, 3]\n",
    "arr_3 = [-2, 3, -2, 4, -1, -2]\n",
    "\n",
    "print(fun_36(arr_1))\n",
    "print(fun_36(arr_2))\n",
    "print(fun_36(arr_3))"
   ]
  },
  {
   "cell_type": "markdown",
   "metadata": {},
   "source": [
    "## Discussion\n",
    "In theory, the improved solution (with $O(n^2)$ time complexity) is one order of magnitude faster than the brute-force solution (with $O(n^3)$). This is also demonstrated empirically by comparing their run time across a series of inputs, as shown in fig. 1."
   ]
  },
  {
   "cell_type": "code",
   "execution_count": 12,
   "metadata": {
    "collapsed": true
   },
   "outputs": [],
   "source": [
    "import time\n",
    "%matplotlib inline\n",
    "import matplotlib.pyplot as plt\n",
    "\n",
    "def plot(n, funs):\n",
    "    \"\"\"\n",
    "    Plot the run time of the functions (with respect to the input size).\n",
    "    \n",
    "    Parameters\n",
    "    ----------\n",
    "    n : a number\n",
    "    funs : a list of functions\n",
    "    \"\"\"\n",
    "    \n",
    "    x = list(range(n + 1))\n",
    "    ys = [[] for _ in range(len(funs))]\n",
    "\n",
    "    for i in x:\n",
    "        for j in range(len(funs)):\n",
    "            start = time.time()\n",
    "            funs[j](list(range(i + 1)))\n",
    "            end = time.time()\n",
    "            ys[j].append(end - start)\n",
    "    \n",
    "    for j in range(len(funs)):\n",
    "        plt.plot(x, ys[j], label=funs[j].__name__)\n",
    "    plt.xlabel('$n$', fontsize=20)\n",
    "    plt.ylabel('Run time', fontsize=20)\n",
    "    plt.xticks([min(x), max(x)], fontsize=20)\n",
    "    plt.yticks([min([ys[j][k] for j in range(len(funs)) for k in range(len(ys[j]))]), max([ys[j][k] for j in range(len(funs)) for k in range(len(ys[j]))])], fontsize=20)\n",
    "    plt.legend(fontsize=20)\n",
    "    plt.tight_layout()\n",
    "    plt.show()  "
   ]
  },
  {
   "cell_type": "code",
   "execution_count": 13,
   "metadata": {
    "scrolled": true
   },
   "outputs": [
    {
     "data": {
      "image/png": "[encoded data removed]",
      "text/plain": [
       "<matplotlib.figure.Figure at 0x10c21ee48>"
      ]
     },
     "metadata": {},
     "output_type": "display_data"
    },
    {
     "name": "stdout",
     "output_type": "stream",
     "text": [
      "Figure 1. The run time of fun_35 and fun_36.\n"
     ]
    }
   ],
   "source": [
    "plot(200, [fun_35, fun_36])\n",
    "print(\"Figure 1. The run time of fun_35 and fun_36.\")"
   ]
  },
  {
   "cell_type": "markdown",
   "metadata": {},
   "source": [
    "<a id='3.8'></a>"
   ]
  },
  {
   "cell_type": "markdown",
   "metadata": {},
   "source": [
    "## Example ($\\star\\star\\star$)\n",
    "- Problem:\n",
    "    - follow up on [exercise 3.6](#3.6)\n",
    "    - find an improved solution with the complexity below\n",
    "    - this example will be followed by\n",
    "        - [exercise 3.14](#3.14)\n",
    "- Complexity: \n",
    "    - $O(n)$ time\n",
    "    - $O(n)$ space\n",
    "- Skills:\n",
    "    - further improving the solution (by lowering the time complexity)\n",
    "- Logic:\n",
    "    - the contiguous subarray has $n$ possible ending points, $0, 1, \\ldots, n - 1$\n",
    "    - we can use an array, sum_arr, to record the sum of these arrays, where sum_arr[i] is the sum of the subarray ending at index $i$\n",
    "    - specifically, sum_arr[i] can be calculated this way:\n",
    "        - if sum_arr[i - 1] > 0, then sum_arr[i] = sum_arr[i - 1] + arr[i], meaning the subarray extends from $i - 1$ to $i$\n",
    "        - otherwise, sum_arr[i] = arr[i], meaning the subarray starts at index $i$\n",
    "    - last, we return the largest sum in sum_arr"
   ]
  },
  {
   "cell_type": "code",
   "execution_count": 14,
   "metadata": {
    "collapsed": true
   },
   "outputs": [],
   "source": [
    "# Implementation\n",
    "def fun_38(arr):\n",
    "    \"\"\"\n",
    "    Find the largest sum across all the contiguous (non-empty) subarrays of the input array\n",
    "    You may assume the input array is not empty\n",
    "    \n",
    "    Parameters\n",
    "    ----------\n",
    "    arr : a list of integers\n",
    "    \n",
    "    Returns\n",
    "    ----------\n",
    "    The largest sum : an interger\n",
    "    \"\"\"\n",
    "    \n",
    "    sum_arr = [0] * len(arr)\n",
    "    # Corner case\n",
    "    sum_arr[0] = arr[0]\n",
    "    \n",
    "    for i in range(1, len(arr)):\n",
    "        if sum_arr[i - 1] > 0:\n",
    "            sum_arr[i] = sum_arr[i - 1] + arr[i]\n",
    "        else:\n",
    "            sum_arr[i] = arr[i]\n",
    "      \n",
    "    return max(sum_arr)"
   ]
  },
  {
   "cell_type": "code",
   "execution_count": 15,
   "metadata": {
    "scrolled": false
   },
   "outputs": [
    {
     "name": "stdout",
     "output_type": "stream",
     "text": [
      "2\n",
      "3\n",
      "5\n"
     ]
    }
   ],
   "source": [
    "# Test\n",
    "arr_1 = [2]\n",
    "arr_2 = [-2, 3]\n",
    "arr_3 = [-2, 3, -2, 4, -1, -2]\n",
    "\n",
    "print(fun_38(arr_1))\n",
    "print(fun_38(arr_2))\n",
    "print(fun_38(arr_3))"
   ]
  },
  {
   "cell_type": "markdown",
   "metadata": {},
   "source": [
    "## Discussion\n",
    "Compared to fun_36 (the solution for [exercise 3.6](#3.6)), in fun_38 we further improved the time complexity by one order of magnitude (from $O(n^2)$ to $O(n)$). This is also demonstrated empirically by comparing their run time across a series of inputs, as shown in fig. 2."
   ]
  },
  {
   "cell_type": "code",
   "execution_count": 16,
   "metadata": {
    "scrolled": true
   },
   "outputs": [
    {
     "data": {
      "image/png": "[encoded data removed]",
      "text/plain": [
       "<matplotlib.figure.Figure at 0x112b370b8>"
      ]
     },
     "metadata": {},
     "output_type": "display_data"
    },
    {
     "name": "stdout",
     "output_type": "stream",
     "text": [
      "Figure 2. The run time of fun_36 and fun_38\n"
     ]
    }
   ],
   "source": [
    "plot(300, [fun_36, fun_38])\n",
    "print(\"Figure 2. The run time of fun_36 and fun_38\")"
   ]
  },
  {
   "cell_type": "markdown",
   "metadata": {},
   "source": [
    "It is worth noting that, compared to fun_36 while the time complexity was decreased in fun_38, the space complexity, on the other hand, was increased, from $O(1)$ to $O(n)$. This is usually acceptable since, as we mentioned several times, most of the time the speed is the property of an algorithm we care about the most.\n",
    "\n",
    "However, it does not mean we should stop here, because we can actually lower the space to $O(1)$ while keeping the time as $O(n)$. The corresponding solution, as a matter of fact, is the optimal solution. Can you explain why?"
   ]
  },
  {
   "cell_type": "markdown",
   "metadata": {},
   "source": [
    "<a id='3.10'></a>"
   ]
  },
  {
   "cell_type": "markdown",
   "metadata": {},
   "source": [
    "## Exercise ($\\star\\star\\star$)\n",
    "- Problem:\n",
    "    - follow up on [example 3.8](#3.8)\n",
    "    - find the optimal solution with the complexity below\n",
    "    - this exercise will be followed by\n",
    "        - [exercise 3.15](#3.15)\n",
    "- Complexity: \n",
    "    - $O(n)$ time\n",
    "    - $O(1)$ space\n",
    "- Skills:\n",
    "    - further improving the solution (by lowering the space complexity) to reach the optimal solution\n",
    "- Logic: we strongly recommend you to try to find the solution yourself before looking at the [hints](#hints_3.10)"
   ]
  },
  {
   "cell_type": "code",
   "execution_count": 17,
   "metadata": {
    "collapsed": true
   },
   "outputs": [],
   "source": [
    "# Implementation\n",
    "def fun_310(arr):\n",
    "    \"\"\"\n",
    "    Find the largest sum across all the contiguous (non-empty) subarrays of the input array\n",
    "    You may assume the input array is not empty\n",
    "    \n",
    "    Parameters\n",
    "    ----------\n",
    "    arr : a list of integers\n",
    "    \n",
    "    Returns\n",
    "    ----------\n",
    "    The largest sum : an interger\n",
    "    \"\"\"\n",
    "    \n",
    "    # Implement me\n",
    "    "
   ]
  },
  {
   "cell_type": "code",
   "execution_count": 18,
   "metadata": {},
   "outputs": [
    {
     "name": "stdout",
     "output_type": "stream",
     "text": [
      "2\n",
      "3\n",
      "5\n"
     ]
    }
   ],
   "source": [
    "# Test\n",
    "arr_1 = [2]\n",
    "arr_2 = [-2, 3]\n",
    "arr_3 = [-2, 3, -2, 4, -1, -2]\n",
    "\n",
    "print(fun_310(arr_1))\n",
    "print(fun_310(arr_2))\n",
    "print(fun_310(arr_3))"
   ]
  },
  {
   "cell_type": "markdown",
   "metadata": {},
   "source": [
    "## Discussion\n",
    "**Q**: Comparing the solution for [example 3.8](#3.8) (fun_38) and that for [exercise 3.10](#3.10) (fun_310), which one is faster and why?\n",
    "\n",
    "**A**: While both of them have linear time complexity (meaning they have the same asymptotic order of growth), fun_310 is faster than fun_38, as shown in fig. 3. While the difference is trivial, it is actually quite important to know why this is the case, since this will show you how to distinguish algorithms (in terms of their speed) with the same asymptotic order of growth (or big $O$).\n",
    "\n",
    "The reason why fun_38 is slower than fun_310 is that, the first needs to pass the array three times (can you explain why?), taking $3 n$ steps, whereas the second only needs to pass the array once, taking $n$ steps. This theoretically explains the difference in fig. 3."
   ]
  },
  {
   "cell_type": "code",
   "execution_count": 19,
   "metadata": {},
   "outputs": [
    {
     "data": {
      "image/png": "[encoded data removed]",
      "text/plain": [
       "<matplotlib.figure.Figure at 0x10c21eb38>"
      ]
     },
     "metadata": {},
     "output_type": "display_data"
    },
    {
     "name": "stdout",
     "output_type": "stream",
     "text": [
      "Figure 3. The run time of fun_38 and fun_310.\n"
     ]
    }
   ],
   "source": [
    "plot(10 ** 4, [fun_38, fun_310])\n",
    "print(\"Figure 3. The run time of fun_38 and fun_310.\")"
   ]
  },
  {
   "cell_type": "markdown",
   "metadata": {},
   "source": [
    "<a id='3.12'></a>"
   ]
  },
  {
   "cell_type": "markdown",
   "metadata": {},
   "source": [
    "## Exercise ($\\star\\star$)\n",
    "- Problem:\n",
    "    - follow up on [example 3.5](#3.5)\n",
    "    - unlike in the example \n",
    "        - where the function only returns the largest sum, here the function also returns the index of the first and last element in the subarray (that has the largest sum)\n",
    "        - where we only assume that the input array is not empty, here we also assume that there is exactly one subarray (that has the largest sum)\n",
    "    - find the solution with the complexity below\n",
    "- Complexity: \n",
    "    - $O(n^3)$ time\n",
    "    - $O(1)$ space\n",
    "- Skills:\n",
    "    - tweaking an existing solution to fulfill the new requirements\n",
    "- Logic: we strongly recommend you to try to find the solution yourself before looking at the [hints](#hints_3.12)"
   ]
  },
  {
   "cell_type": "code",
   "execution_count": 20,
   "metadata": {
    "collapsed": true
   },
   "outputs": [],
   "source": [
    "# Implementation\n",
    "def fun_312(arr):\n",
    "    \"\"\"\n",
    "    Find the largest sum across all the contiguous (non-empty) subarrays of the input array\n",
    "    You may assume the input array is not empty\n",
    "    You may also assume there is exactly one subarray (that has the largest sum)\n",
    "    \n",
    "    Parameters\n",
    "    ----------\n",
    "    arr : a list of integers\n",
    "    \n",
    "    Returns\n",
    "    ----------\n",
    "    [the largest sum, \n",
    "    the index of the first element in the subarray, \n",
    "    the index of the last element in the subarray]\n",
    "    : a list  \n",
    "    \"\"\"\n",
    "    \n",
    "    # Implement me\n",
    "    "
   ]
  },
  {
   "cell_type": "code",
   "execution_count": 21,
   "metadata": {
    "scrolled": true
   },
   "outputs": [
    {
     "name": "stdout",
     "output_type": "stream",
     "text": [
      "[2, 0, 0]\n",
      "[3, 1, 1]\n",
      "[5, 1, 3]\n"
     ]
    }
   ],
   "source": [
    "# Test\n",
    "arr_1 = [2]\n",
    "arr_2 = [-2, 3]\n",
    "arr_3 = [-2, 3, -2, 4, -1, -2]\n",
    "\n",
    "print(fun_312(arr_1))\n",
    "print(fun_312(arr_2))\n",
    "print(fun_312(arr_3))"
   ]
  },
  {
   "cell_type": "markdown",
   "metadata": {},
   "source": [
    "<a id='3.13'></a>"
   ]
  },
  {
   "cell_type": "markdown",
   "metadata": {},
   "source": [
    "## Exercise ($\\star\\star$)\n",
    "- Problem:\n",
    "    - follow up on [exercise 3.6](#3.6)\n",
    "    - unlike in the exercise \n",
    "        - where the function only returns the largest sum, here the function also returns the index of the first and last element in the subarray (that has the largest sum)\n",
    "        - where we only assume that the input array is not empty, here we also assume that there is exactly one subarray (that has the largest sum)\n",
    "    - find the solution with the complexity below\n",
    "- Complexity: \n",
    "    - $O(n^2)$ time\n",
    "    - $O(1)$ space\n",
    "- Skills:\n",
    "    - tweaking an existing solution to fulfill the new requirements\n",
    "- Logic: we strongly recommend you to try to find the solution yourself before looking at the [hints](#hints_3.13)"
   ]
  },
  {
   "cell_type": "code",
   "execution_count": 22,
   "metadata": {
    "collapsed": true
   },
   "outputs": [],
   "source": [
    "# Implementation\n",
    "def fun_313(arr):\n",
    "    \"\"\"\n",
    "    Find the largest sum across all the contiguous (non-empty) subarrays of the input array\n",
    "    You may assume the input array is not empty\n",
    "    You may also assume there is exactly one subarray (that has the largest sum)\n",
    "    \n",
    "    Parameters\n",
    "    ----------\n",
    "    arr : a list of integers\n",
    "    \n",
    "    Returns\n",
    "    ----------\n",
    "    [the largest sum, \n",
    "    the index of the first element in the subarray, \n",
    "    the index of the last element in the subarray]\n",
    "    : a list  \n",
    "    \"\"\"\n",
    "    \n",
    "    # Implement me\n",
    "    "
   ]
  },
  {
   "cell_type": "code",
   "execution_count": 23,
   "metadata": {
    "scrolled": true
   },
   "outputs": [
    {
     "name": "stdout",
     "output_type": "stream",
     "text": [
      "[2, 0, 0]\n",
      "[3, 1, 1]\n",
      "[5, 1, 3]\n"
     ]
    }
   ],
   "source": [
    "# Test\n",
    "arr_1 = [2]\n",
    "arr_2 = [-2, 3]\n",
    "arr_3 = [-2, 3, -2, 4, -1, -2]\n",
    "\n",
    "print(fun_313(arr_1))\n",
    "print(fun_313(arr_2))\n",
    "print(fun_313(arr_3))"
   ]
  },
  {
   "cell_type": "markdown",
   "metadata": {},
   "source": [
    "<a id='3.14'></a>"
   ]
  },
  {
   "cell_type": "markdown",
   "metadata": {},
   "source": [
    "## Exercise ($\\star\\star$)\n",
    "- Problem:\n",
    "    - follow up on [example 3.8](#3.8)\n",
    "    - unlike in the example \n",
    "        - where the function only returns the largest sum, here the function also returns the index of the first and last element in the subarray (that has the largest sum)\n",
    "        - where we only assume that the input array is not empty, here we also assume that there is exactly one subarray (that has the largest sum)\n",
    "    - find the solution with the complexity below\n",
    "- Complexity: \n",
    "    - $O(n)$ time\n",
    "    - $O(n)$ space\n",
    "- Skills:\n",
    "    - tweaking an existing solution to fulfill the new requirements\n",
    "- Logic: we strongly recommend you to try to find the solution yourself before looking at the [hints](#hints_3.14)"
   ]
  },
  {
   "cell_type": "code",
   "execution_count": 24,
   "metadata": {
    "collapsed": true
   },
   "outputs": [],
   "source": [
    "# Implementation\n",
    "def fun_314(arr):\n",
    "    \"\"\"\n",
    "    Find the largest sum across all the contiguous (non-empty) subarrays of the input array\n",
    "    You may assume the input array is not empty\n",
    "    You may also assume there is exactly one subarray (that has the largest sum)\n",
    "    \n",
    "    Parameters\n",
    "    ----------\n",
    "    arr : a list of integers\n",
    "    \n",
    "    Returns\n",
    "    ----------\n",
    "    [the largest sum, \n",
    "    the index of the first element in the subarray, \n",
    "    the index of the last element in the subarray]\n",
    "    : a list  \n",
    "    \"\"\"\n",
    "    \n",
    "    # Implement me\n",
    "    "
   ]
  },
  {
   "cell_type": "code",
   "execution_count": 25,
   "metadata": {
    "scrolled": true
   },
   "outputs": [
    {
     "name": "stdout",
     "output_type": "stream",
     "text": [
      "[2, 0, 0]\n",
      "[3, 1, 1]\n",
      "[5, 1, 3]\n"
     ]
    }
   ],
   "source": [
    "# Test\n",
    "arr_1 = [2]\n",
    "arr_2 = [-2, 3]\n",
    "arr_3 = [-2, 3, -2, 4, -1, -2]\n",
    "\n",
    "print(fun_314(arr_1))\n",
    "print(fun_314(arr_2))\n",
    "print(fun_314(arr_3))"
   ]
  },
  {
   "cell_type": "markdown",
   "metadata": {},
   "source": [
    "<a id='3.15'></a>"
   ]
  },
  {
   "cell_type": "markdown",
   "metadata": {},
   "source": [
    "## Exercise ($\\star\\star$)\n",
    "- Problem:\n",
    "    - follow up on [exercise 3.10](#3.10)\n",
    "    - unlike in the exercise \n",
    "        - where the function only returns the largest sum, here the function also returns the index of the first and last element in the subarray (that has the largest sum)\n",
    "        - where we only assume that the input array is not empty, here we also assume that there is exactly one subarray (that has the largest sum)\n",
    "    - find the solution with the complexity below\n",
    "- Complexity: \n",
    "    - $O(n)$ time\n",
    "    - $O(1)$ space\n",
    "- Skills:\n",
    "    - tweaking an existing solution to fulfill the new requirements\n",
    "- Logic: we strongly recommend you to try to find the solution yourself before looking at the [hints](#hints_3.15)"
   ]
  },
  {
   "cell_type": "code",
   "execution_count": 26,
   "metadata": {
    "collapsed": true
   },
   "outputs": [],
   "source": [
    "# Implementation\n",
    "def fun_315(arr):\n",
    "    \"\"\"\n",
    "    Find the largest sum across all the contiguous (non-empty) subarrays of the input array\n",
    "    You may assume the input array is not empty\n",
    "    You may also assume there is exactly one subarray (that has the largest sum)\n",
    "    \n",
    "    Parameters\n",
    "    ----------\n",
    "    arr : an array\n",
    "    \n",
    "    Returns\n",
    "    ----------\n",
    "    [the largest sum, \n",
    "    the index of the first element in the subarray, \n",
    "    the index of the last element in the subarray]\n",
    "    : a list\n",
    "    \n",
    "    \"\"\"\n",
    "    \n",
    "    # Implement me\n",
    "    "
   ]
  },
  {
   "cell_type": "code",
   "execution_count": 27,
   "metadata": {
    "scrolled": false
   },
   "outputs": [
    {
     "name": "stdout",
     "output_type": "stream",
     "text": [
      "[2, 0, 0]\n",
      "[3, 1, 1]\n",
      "[5, 1, 3]\n"
     ]
    }
   ],
   "source": [
    "# Test\n",
    "arr_1 = [2]\n",
    "arr_2 = [-2, 3]\n",
    "arr_3 = [-2, 3, -2, 4, -1, -2]\n",
    "\n",
    "print(fun_315(arr_1))\n",
    "print(fun_315(arr_2))\n",
    "print(fun_315(arr_3))"
   ]
  },
  {
   "cell_type": "markdown",
   "metadata": {},
   "source": [
    "# Stack\n",
    "While array is probably the most important data structure, it is by no means the only one that we can use for algorithm design. Other data structures, such as linked list, stack, queue, tree, graph, and heap are also widely used. Since linked list performs quite similar to Python list (the built-in data structure we have been using for array), we will skip it and refer the interested reader to chapter 10 of [*Introduction to Algorithms (Third Edition)*](https://mitpress.mit.edu/books/introduction-algorithms-third-edition) for details. For the remaining data structures, we will discuss the basic ones including stack and queue in this chapter, and leave the advanced ones to later chapters."
   ]
  },
  {
   "cell_type": "markdown",
   "metadata": {},
   "source": [
    "## Definition\n",
    "In simple words, stack is a structure where data are stored in a LIFO (last in first out) fashion. It turns out that, the way how stack stores data is exactly the same as the way how stack stores say, plates. The plate on the top is the one that goes in the last but comes out the first (i.e., LIFO). This example also shows two major operations of stack, pushing (the plate into the stack) and popping (the plate off the stack). The stack data structure and its operations are supported by, again, Python list. Below are two very simple examples of using list as stack."
   ]
  },
  {
   "cell_type": "code",
   "execution_count": 28,
   "metadata": {},
   "outputs": [
    {
     "name": "stdout",
     "output_type": "stream",
     "text": [
      "[1, 2]\n",
      "2\n",
      "[1]\n"
     ]
    }
   ],
   "source": [
    "# Initialize a stack\n",
    "stack = [1]\n",
    "\n",
    "# Push 2 into the stack\n",
    "stack.append(2)\n",
    "print(stack)\n",
    "\n",
    "# Pop the top off the stack\n",
    "print(stack.pop())\n",
    "print(stack)"
   ]
  },
  {
   "cell_type": "markdown",
   "metadata": {},
   "source": [
    "Stack has been used for problems such as recursion, function call, parenthesis checking, and expression evaluation. Here is an example illustrating the first two applications. The last two will be discussed later."
   ]
  },
  {
   "cell_type": "markdown",
   "metadata": {},
   "source": [
    "## Example ($\\star\\star$)\n",
    "\n",
    "In chapter one, we introduced the recursive solution for the [Fibonacci series](https://en.wikipedia.org/wiki/Fibonacci_number). Particularly, we used the recursion tree to analyze the time complexity of the solution. Fig. 4 shows the recursion tree when the input is 5 (where $f(i)$ denotes the $i$th number in the series), that is, we want to know the fifth number in the series. "
   ]
  },
  {
   "cell_type": "markdown",
   "metadata": {},
   "source": [
    "<img src=\"../figure/figure_4.pdf\" width=\"500\" height=\"500\">\n",
    "\n",
    "Figure 4. The recursion tree when $n = 5$."
   ]
  },
  {
   "cell_type": "markdown",
   "metadata": {},
   "source": [
    "Here we will show how we can calculate $f(5)$ using two stacks. This can be done in 30 steps, where the two stacks in each step are shown in the corresponding panel in fig. 5. Specifically, the stack on the top of each panel is used for storing $f(0), f(1), \\ldots, f(5)$, and the stack on the bottom is used for storing their values. We will use stack $i$.1 to denote the stack on the top in panel $(i)$ and use stack $i$.2 to denote the stack on the bottom.\n",
    "\n",
    "Let us look at the first five steps for calculating $f(5)$:\n",
    "- $f(5)$ is unknown, so we push it into stack 1.1 (the top stack in panel (1))\n",
    "- calculating the top of stack 1.1, $f(5)$, requires its left child, $f(4)$, so we push it into stack 2.1\n",
    "- calculating the top of stack 2.1, $f(4)$, requires its left child, $f(3)$, so we push it into stack 3.1\n",
    "- calculating the top of stack 3.1, $f(3)$, requires its left child, $f(2)$, so we push it into stack 4.1\n",
    "- calculating the top of stack 4.1, $f(2)$, requires its left child, $f(1)$, so we push it into stack 5.1"
   ]
  },
  {
   "cell_type": "markdown",
   "metadata": {},
   "source": [
    "<img src=\"../figure/figure_5.pdf\" width=\"1000\" height=\"1000\">\n",
    "\n",
    "Figure 5. The two stacks used across the 30 steps for calculating $f(5)$."
   ]
  },
  {
   "cell_type": "markdown",
   "metadata": {},
   "source": [
    "It seems that nothing happened to the bottom stack in any of the first five panels. This is because, as we mentioned previously, this stack is used for storing the value for $f(0), f(1), \\ldots, f(5)$. We do not know the value for any of them, except for $f(0)$ and $f(1)$ (the base in the recursive solution of example 8.1 in chapter 1). This is the reason why the bottom stack did not change at all in the first five steps. \n",
    "\n",
    "However, since the top of stack 5.1, $f(1)$, is 1, we pop $f(1)$ off stack 6.1 and push 1 into stack 6.2. It is worth noting that $f(1)$ is the left child of $f(2)$ (in the left most path of the recursion tree) and its value is now on the top of stack 6.2.\n",
    "\n",
    "Next we push the right child of $f(2)$, $f(0)$, into stack 7.1. Since $f(0)$ is 0, we pop it off stack 8.1 and push its value, 0, into stack 8.2. Now both the left-child and right-child of $f(2)$ have been calculated. We can pop $f(2)$ off stack 9.1. We can also pop the value of its two children off stack 9.2 and push their sum, which is the value of $f(2)$, into stack 10.2.\n",
    "\n",
    "The stacks for calculating the remaining nodes in the recursion tree are shown in panels 11 to 30. Specifically, panels 11 to 19 show the stacks used for calculating the left subtree, whereas panels 20 to 30 show the stacks used for calculating the right subtree and the root, $f(5)$ (can you explain what happens under the hood?). The value of the root can be seen in stack 30.2.\n",
    "\n",
    "Last but not least, fig. 5 also experimentally demonstrated the space complexity ($O(n)$) of the recursive solution (example 8.1, chapter 1) we theoretically explained. As shown in the figure, the sum of the space used by the two stacks in each step is never larger than 6, which is the maximum number of levels in the recursion tree."
   ]
  },
  {
   "cell_type": "markdown",
   "metadata": {
    "collapsed": true
   },
   "source": [
    "<a id='4.3'></a>"
   ]
  },
  {
   "cell_type": "markdown",
   "metadata": {},
   "source": [
    "## Example ($\\star\\star$)\n",
    "- Problem:\n",
    "    - check whether the parentheses in the input string are valid\n",
    "    - the parentheses are valid if they are always in pairs and in correct order \n",
    "    - you may assume the string only includes '(' and ')'\n",
    "    - find the solution with the complexity below\n",
    "    - this exercise will be followed by\n",
    "        - [exercise 4.4](#4.4)\n",
    "        - [exercise 4.5](#4.5)\n",
    "- Complexity: \n",
    "    - $O(n)$ time\n",
    "    - $O(n)$ space\n",
    "- Skills:\n",
    "    - using stack\n",
    "- Logic: see the comments below"
   ]
  },
  {
   "cell_type": "code",
   "execution_count": 29,
   "metadata": {
    "collapsed": true
   },
   "outputs": [],
   "source": [
    "def fun_43(s):\n",
    "    \"\"\"\n",
    "    Check whether the parentheses in the input string are valid\n",
    "    The parentheses are valid if they are always in pairs and in correct order \n",
    "    You may assume the string only includes '(' and ')'\n",
    "    \n",
    "    Parameters\n",
    "    ----------\n",
    "    s : a string\n",
    "    \n",
    "    Returns\n",
    "    ----------\n",
    "    True or False : boolean\n",
    "    \"\"\"\n",
    "\n",
    "    stack = []\n",
    "\n",
    "    for c in s:\n",
    "        if c == ')':\n",
    "            # If the parentheses are not in pairs or in correct order\n",
    "            if (len(stack) == 0) or ('(' != stack.pop()):\n",
    "                return False\n",
    "        else:\n",
    "            # Push '('\n",
    "            stack.append(c)\n",
    "\n",
    "    return True if len(stack) == 0 else False"
   ]
  },
  {
   "cell_type": "code",
   "execution_count": 30,
   "metadata": {},
   "outputs": [
    {
     "name": "stdout",
     "output_type": "stream",
     "text": [
      "True\n",
      "False\n",
      "True\n",
      "True\n"
     ]
    }
   ],
   "source": [
    "# Test\n",
    "s_1 = \"()\"\n",
    "s_2 = \")(\"\n",
    "s_3 = \"()()\"\n",
    "s_4 = \"(())\"\n",
    "\n",
    "print(fun_43(s_1))\n",
    "print(fun_43(s_2))\n",
    "print(fun_43(s_3))\n",
    "print(fun_43(s_4))"
   ]
  },
  {
   "cell_type": "markdown",
   "metadata": {
    "collapsed": true
   },
   "source": [
    "<a id='4.4'></a>"
   ]
  },
  {
   "cell_type": "markdown",
   "metadata": {},
   "source": [
    "## Exercise ($\\star\\star$)\n",
    "- Problem:\n",
    "    - follow up on [example 4.3](#4.3)\n",
    "    - find an improved solution with the complexity below\n",
    "- Complexity: \n",
    "    - $O(n)$ time\n",
    "    - $O(1)$ space\n",
    "- Skills:\n",
    "    - improving the solution (by lowering the space complexity) to reach the optimal solution\n",
    "- Logic: we strongly recommend you to try to find the solution yourself before looking at the [hints](#hints_4.4)"
   ]
  },
  {
   "cell_type": "code",
   "execution_count": 31,
   "metadata": {
    "collapsed": true
   },
   "outputs": [],
   "source": [
    "def fun_44(s):\n",
    "    \"\"\"\n",
    "    Check whether the parentheses in the input string are valid\n",
    "    The parentheses are valid if they are always in pairs and in correct order \n",
    "    You may assume the string only includes '(' and ')'\n",
    "    \n",
    "    Parameters\n",
    "    ----------\n",
    "    s : a string\n",
    "    \n",
    "    Returns\n",
    "    ----------\n",
    "    True or False : boolean\n",
    "    \"\"\"\n",
    "\n",
    "    # Implement me\n",
    "    "
   ]
  },
  {
   "cell_type": "code",
   "execution_count": 32,
   "metadata": {
    "scrolled": true
   },
   "outputs": [
    {
     "name": "stdout",
     "output_type": "stream",
     "text": [
      "True\n",
      "False\n",
      "True\n",
      "True\n"
     ]
    }
   ],
   "source": [
    "# Test\n",
    "s_1 = \"()\"\n",
    "s_2 = \")(\"\n",
    "s_3 = \"()()\"\n",
    "s_4 = \"(())\"\n",
    "\n",
    "print(fun_44(s_1))\n",
    "print(fun_44(s_2))\n",
    "print(fun_44(s_3))\n",
    "print(fun_44(s_4))"
   ]
  },
  {
   "cell_type": "markdown",
   "metadata": {
    "collapsed": true
   },
   "source": [
    "<a id='4.5'></a>"
   ]
  },
  {
   "cell_type": "markdown",
   "metadata": {},
   "source": [
    "## Exercise ($\\star\\star$)\n",
    "- Problem:\n",
    "    - follow up on [example 4.3](#4.3)\n",
    "    - you may assume the string includes not only '(' and ')', but also '[' and ']' and '{' and '}'   \n",
    "    - find a solution with the complexity below\n",
    "    - this exercise will be followed by\n",
    "        - [exercise 4.6](#4.6)\n",
    "- Complexity: \n",
    "    - $O(n)$ time\n",
    "    - $O(n)$ space\n",
    "- Skills:\n",
    "    - tweaking an existing solution to fulfill the new requirements\n",
    "- Logic: we strongly recommend you to try to find the solution yourself before looking at the [hints](#hints_4.5)"
   ]
  },
  {
   "cell_type": "code",
   "execution_count": 33,
   "metadata": {
    "collapsed": true
   },
   "outputs": [],
   "source": [
    "def fun_45(s):\n",
    "    \"\"\"\n",
    "    Check whether the parentheses in the input string are valid\n",
    "    The parentheses are valid if they are always in pairs and in correct order \n",
    "    You may assume the string includes not only '(' and ')', but also '[' and ']' and '{' and '}'   \n",
    "    \n",
    "    Parameters\n",
    "    ----------\n",
    "    s : a string\n",
    "    \n",
    "    Returns\n",
    "    ----------\n",
    "    True or False : boolean\n",
    "    \"\"\"\n",
    "\n",
    "    # Implement me\n",
    "    "
   ]
  },
  {
   "cell_type": "code",
   "execution_count": 34,
   "metadata": {
    "scrolled": false
   },
   "outputs": [
    {
     "name": "stdout",
     "output_type": "stream",
     "text": [
      "True\n",
      "False\n",
      "True\n",
      "True\n"
     ]
    }
   ],
   "source": [
    "# Test\n",
    "s_1 = \"()\"\n",
    "s_2 = \")(\"\n",
    "s_3 = \"()()\"\n",
    "s_4 = \"(())\"\n",
    "\n",
    "print(fun_45(s_1))\n",
    "print(fun_45(s_2))\n",
    "print(fun_45(s_3))\n",
    "print(fun_45(s_4))"
   ]
  },
  {
   "cell_type": "markdown",
   "metadata": {
    "collapsed": true
   },
   "source": [
    "<a id='4.6'></a>"
   ]
  },
  {
   "cell_type": "markdown",
   "metadata": {},
   "source": [
    "## Exercise ($\\star\\star$)\n",
    "- Problem:\n",
    "    - follow up on [exercise 4.5](#4.5)\n",
    "    - find an improved solution (in terms of the exact number of operations) by replacing the lists in [exercise 4.5](#4.5) with a dictioanry\n",
    "    - the solution has the complexity below\n",
    "- Complexity: \n",
    "    - $O(n)$ time\n",
    "    - $O(n)$ space\n",
    "- Skills:\n",
    "    - using dictionary\n",
    "- Logic: we strongly recommend you to try to find the solution yourself before looking at the [hints](#hints_4.6)"
   ]
  },
  {
   "cell_type": "code",
   "execution_count": 35,
   "metadata": {
    "collapsed": true
   },
   "outputs": [],
   "source": [
    "def fun_46(s):\n",
    "    \"\"\"\n",
    "    Check whether the parentheses in the input string are valid\n",
    "    The parentheses are valid if they are always in pairs and in correct order \n",
    "    You may assume the string includes not only '(' and ')', but also '[' and ']' and '{' and '}'   \n",
    "    \n",
    "    Parameters\n",
    "    ----------\n",
    "    s : a string\n",
    "    \n",
    "    Returns\n",
    "    ----------\n",
    "    True or False : boolean\n",
    "    \"\"\"\n",
    "\n",
    "    # Implement me\n",
    "    "
   ]
  },
  {
   "cell_type": "code",
   "execution_count": 36,
   "metadata": {
    "scrolled": true
   },
   "outputs": [
    {
     "name": "stdout",
     "output_type": "stream",
     "text": [
      "True\n",
      "False\n",
      "True\n",
      "True\n"
     ]
    }
   ],
   "source": [
    "# Test\n",
    "s_1 = \"()\"\n",
    "s_2 = \")(\"\n",
    "s_3 = \"()()\"\n",
    "s_4 = \"(())\"\n",
    "\n",
    "print(fun_46(s_1))\n",
    "print(fun_46(s_2))\n",
    "print(fun_46(s_3))\n",
    "print(fun_46(s_4))"
   ]
  },
  {
   "cell_type": "markdown",
   "metadata": {},
   "source": [
    "## Discussion\n",
    "The difference in run time between the solution for the above two exercises can be seen in fig. 6. In general, when we want to find whether a number is in a collection, dictionary is a much better choice than list. This is because the time complexity are $O(1)$ and $O(n)$ (where $n$ is the size of the collection), when using dictionary and list, respectively."
   ]
  },
  {
   "cell_type": "code",
   "execution_count": 37,
   "metadata": {
    "collapsed": true
   },
   "outputs": [],
   "source": [
    "def plot(n, funs):\n",
    "    \"\"\"\n",
    "    Plot the run time of the functions (with respect to the input size).\n",
    "    \n",
    "    Parameters\n",
    "    ----------\n",
    "    n : a number\n",
    "    funs : a list of functions\n",
    "    \"\"\"\n",
    "    \n",
    "    x = list(range(n + 1))\n",
    "    ys = [[] for _ in range(len(funs))]\n",
    "\n",
    "    for i in x:\n",
    "        for j in range(len(funs)):\n",
    "            start = time.time()\n",
    "            funs[j]('}' * i)\n",
    "            end = time.time()\n",
    "            ys[j].append(end - start)\n",
    "    \n",
    "    for j in range(len(funs)):\n",
    "        plt.plot(x, ys[j], label=funs[j].__name__)\n",
    "    plt.xlabel('$n$', fontsize=20)\n",
    "    plt.ylabel('Run time', fontsize=20)\n",
    "    plt.xticks([min(x), max(x)], fontsize=20)\n",
    "    plt.yticks([min([ys[j][k] for j in range(len(funs)) for k in range(len(ys[j]))]), max([ys[j][k] for j in range(len(funs)) for k in range(len(ys[j]))])], fontsize=20)\n",
    "    plt.legend(fontsize=20)\n",
    "    plt.tight_layout()\n",
    "    plt.show()  "
   ]
  },
  {
   "cell_type": "code",
   "execution_count": 38,
   "metadata": {},
   "outputs": [
    {
     "data": {
      "image/png": "[encoded data removed]",
      "text/plain": [
       "<matplotlib.figure.Figure at 0x10c312e80>"
      ]
     },
     "metadata": {},
     "output_type": "display_data"
    },
    {
     "name": "stdout",
     "output_type": "stream",
     "text": [
      "Figure 6. The run time of fun_45 and fun_46.\n"
     ]
    }
   ],
   "source": [
    "plot(10 ** 6, [fun_45, fun_46])\n",
    "print(\"Figure 6. The run time of fun_45 and fun_46.\")"
   ]
  },
  {
   "cell_type": "markdown",
   "metadata": {
    "collapsed": true
   },
   "source": [
    "<a id='4.8'></a>"
   ]
  },
  {
   "cell_type": "markdown",
   "metadata": {},
   "source": [
    "## Exercise ($\\star\\star$)\n",
    "- Problem:\n",
    "    - evaluate an arithmetic expression in [Reverse Polish notation](https://en.wikipedia.org/wiki/Reverse_Polish_notation)\n",
    "    - you may assume all the numbers in the expression are integers\n",
    "    - find the solution with the complexity below\n",
    "    - this exercise will be followed by\n",
    "        - [example 4.9](#4.9)\n",
    "- Complexity: \n",
    "    - $O(n)$ time\n",
    "    - $O(n)$ space\n",
    "- Skills:\n",
    "    - using stack\n",
    "- Logic: we strongly recommend you to try to find the solution yourself before looking at the [hints](#hints_4.8)"
   ]
  },
  {
   "cell_type": "code",
   "execution_count": 39,
   "metadata": {
    "collapsed": true
   },
   "outputs": [],
   "source": [
    "def fun_48(tokens):\n",
    "    \"\"\"\n",
    "    Evaluate an arithmetic expression in Reverse Polish notation\n",
    "    You may assume all the nubmers in the expression are intergers\n",
    "    \n",
    "    Parameters\n",
    "    ----------\n",
    "    tokens : a list of strings\n",
    "    \n",
    "    Returns\n",
    "    ----------\n",
    "    the value of the arithmetic expression : a number\n",
    "    0 if \"divide by zero\"\n",
    "    \"\"\"\n",
    "\n",
    "    # Implement me\n",
    "    "
   ]
  },
  {
   "cell_type": "code",
   "execution_count": 40,
   "metadata": {},
   "outputs": [
    {
     "name": "stdout",
     "output_type": "stream",
     "text": [
      "2\n",
      "6\n",
      "0\n",
      "-0.6666666666666666\n"
     ]
    }
   ],
   "source": [
    "# Test\n",
    "arr_1 = ['2']\n",
    "arr_2 = ['2', '3', '*']\n",
    "arr_3 = ['2', '3', '*', '-4', '4', '+', '/']\n",
    "arr_4 = ['2', '3', '*', '-4', '5', '6', '-7', '+', '-', '/']\n",
    "\n",
    "print(fun_48(arr_1))\n",
    "print(fun_48(arr_2))\n",
    "print(fun_48(arr_3))\n",
    "print(fun_48(arr_4))"
   ]
  },
  {
   "cell_type": "markdown",
   "metadata": {
    "collapsed": true
   },
   "source": [
    "<a id='4.9'></a>"
   ]
  },
  {
   "cell_type": "markdown",
   "metadata": {},
   "source": [
    "## Example ($\\star\\star$)\n",
    "- Problem:\n",
    "    - follow up on [exercise 4.8](#4.8)\n",
    "    - find an improved solution (in terms of speed and readability) by using the [lambda expression](https://docs.python.org/3/tutorial/controlflow.html)\n",
    "    - the solution has the complexity below\n",
    "- Complexity: \n",
    "    - $O(n)$ time\n",
    "    - $O(n)$ space\n",
    "- Skills:\n",
    "    - using stack\n",
    "    - using the [lambda expression](https://docs.python.org/3/tutorial/controlflow.html)\n",
    "- Logic: see the comments below"
   ]
  },
  {
   "cell_type": "code",
   "execution_count": 41,
   "metadata": {
    "collapsed": true
   },
   "outputs": [],
   "source": [
    "def fun_49(tokens):\n",
    "    \"\"\"\n",
    "    Evaluate an arithmetic expression in Reverse Polish notation\n",
    "    You may assume all the nubmers in the expression are intergers\n",
    "    \n",
    "    Parameters\n",
    "    ----------\n",
    "    tokens : a list of strings\n",
    "    \n",
    "    Returns\n",
    "    ----------\n",
    "    the value of the arithmetic expression : a number\n",
    "    0 if \"divide by zero\"\n",
    "    \"\"\"\n",
    "    \n",
    "    operations = {'+': lambda x, y: x + y,\n",
    "                  '-': lambda x, y: x - y,\n",
    "                  '*': lambda x, y: x * y,\n",
    "                  '/': lambda x, y: x / y if y != 0 else 0}\n",
    "\n",
    "    stack = []     \n",
    "\n",
    "    for token in tokens:\n",
    "        # If the token is an operator\n",
    "        if token in operations.keys():\n",
    "            # Pop the second operand\n",
    "            b = stack.pop()\n",
    "            # Pop the first operand\n",
    "            a = stack.pop()\n",
    "            # Push a operator b\n",
    "            stack.append(operations[token](a, b))\n",
    "        # If the token is an operand\n",
    "        else:\n",
    "            # Push the integer\n",
    "            stack.append(int(token))\n",
    "\n",
    "    return stack.pop()"
   ]
  },
  {
   "cell_type": "code",
   "execution_count": 42,
   "metadata": {},
   "outputs": [
    {
     "name": "stdout",
     "output_type": "stream",
     "text": [
      "2\n",
      "6\n",
      "0\n",
      "-0.6666666666666666\n"
     ]
    }
   ],
   "source": [
    "# Test\n",
    "arr_1 = ['2']\n",
    "arr_2 = ['2', '3', '*']\n",
    "arr_3 = ['2', '3', '*', '-4', '4', '+', '/']\n",
    "arr_4 = ['2', '3', '*', '-4', '5', '6', '-7', '+', '-', '/']\n",
    "\n",
    "print(fun_49(arr_1))\n",
    "print(fun_49(arr_2))\n",
    "print(fun_49(arr_3))\n",
    "print(fun_49(arr_4))"
   ]
  },
  {
   "cell_type": "markdown",
   "metadata": {},
   "source": [
    "## Discussion\n",
    "Compared to fun_48, fun_49 is more readable, since the operation with respect to each operator is defined in the dictionary (operations in fun_49) rather than in the for loop (which is a little bit dazzling). Besides readability, fun_49 is theoretically faster then fun_48, for the same reason mentioned in discussion 4.7 (the difference between list and dictionary)."
   ]
  },
  {
   "cell_type": "markdown",
   "metadata": {},
   "source": [
    "# Queue\n",
    "In the previous section we introduced stack, which stores data in a LIFO (last in first out) fashion. We also discussed some applications of stack, for example, recursion ([example 4.2](#4.2)), parenthesis checking ([example 4.3](#4.3), [exercise 4.4](#4.4), [exercise 4.5](#4.5), [exercise 4.6](#4.6)), and expression evaluation ([exercise 4.8](#4.8) and [example 4.9](#4.9)). In this section we will introduce another data structure, named queue, which works in a somehow opposite way compared to stack. Since the queue data structure is much less popular than stack, we will only introduce its definition and basic operations."
   ]
  },
  {
   "cell_type": "markdown",
   "metadata": {},
   "source": [
    "## Definition\n",
    "In simple words, *queue* is a structure where data are stored in a FIFO (first in first out) fashion. This is the key difference from stack (which works in a LIFO way). You can think of the queue data structure as the queue in real life. Most of the time, we wait in a queue (or a line) so that the customer who comes the first will be served the first (a.k.a., first come first serve). It would be chaotic if we waited in a stack instead.\n",
    "\n",
    "There is another difference between stack and queue, on the programming level. As mentioned in section 4, we use list to implement stack. However, we do not do so for queue. This is because all the operations for stack (pushing and popping) are conducted from the end of the list. This is efficient since each operation takes $O(1)$ time. Conversely, if we used list to implement queue, the pushing operation is conducted from the end whereas the popping operation is conducted from the beginning. While the pushing operation takes $O(1)$ time, the popping takes $O(n)$ time.\n",
    "\n",
    "For this reason, there is a data structure particularly designed for queue named deque. Here are some simple examples showing how deque works."
   ]
  },
  {
   "cell_type": "code",
   "execution_count": 43,
   "metadata": {
    "scrolled": true
   },
   "outputs": [
    {
     "name": "stdout",
     "output_type": "stream",
     "text": [
      "Initialization: deque([1, 2, 3, 4])\n",
      "Pushing: deque([1, 2, 3, 4, 5])\n",
      "Popping: deque([2, 3, 4, 5])\n"
     ]
    }
   ],
   "source": [
    "from collections import deque\n",
    "\n",
    "# Initialization\n",
    "queue = deque([1, 2, 3, 4])\n",
    "print('Initialization:', queue)\n",
    "\n",
    "# Pushing\n",
    "queue.append(5)\n",
    "print('Pushing:', queue)\n",
    "\n",
    "# Popping\n",
    "queue.popleft()\n",
    "print('Popping:', queue)"
   ]
  },
  {
   "cell_type": "markdown",
   "metadata": {
    "collapsed": true
   },
   "source": [
    "# Appendix"
   ]
  },
  {
   "cell_type": "markdown",
   "metadata": {
    "collapsed": true
   },
   "source": [
    "<a id='hints_3.4'></a>"
   ]
  },
  {
   "cell_type": "markdown",
   "metadata": {},
   "source": [
    "## Hints for [exercise 3.4](#3.4):\n",
    "- the logic is almost the same as that in [example 3.3](#3.3)\n",
    "- the only difference is, since we cannot assume the array is not empty (as suggested in the docstring), we need to tweak the code in [example 3.3](#3.3) to handle the corner case (i.e., the array is empty)"
   ]
  },
  {
   "cell_type": "markdown",
   "metadata": {
    "collapsed": true
   },
   "source": [
    "<a id='hints_3.6'></a>"
   ]
  },
  {
   "cell_type": "markdown",
   "metadata": {},
   "source": [
    "## Hints for [exercise 3.6](#3.6):\n",
    "- the logic is almost the same as that in [example 3.5](#3.5)\n",
    "- the difference is\n",
    "    - after calculating the sum of subarray say, from $i$ to $k$, we do not have to do this again when calculating the sum of subarray from $i$ to $k + 1$\n",
    "    - instead, we can simply add arr[k + 1] to the previous sum"
   ]
  },
  {
   "cell_type": "markdown",
   "metadata": {
    "collapsed": true
   },
   "source": [
    "<a id='hints_3.10'></a>"
   ]
  },
  {
   "cell_type": "markdown",
   "metadata": {},
   "source": [
    "## Hints for [exercise 3.10](#3.10):\n",
    "- the logic is almost the same as that in [example 3.8](#3.8)\n",
    "- the only difference is, instead of using an array (sum_arr in [example 3.8](#3.8)) to record the sum of the subarrays and get the largest sum in the end, we\n",
    "    - use a variable (named local_max) to record the sum of the current subarray (ending at $i$)\n",
    "    - use a variable (named global_max) to keep track of the largest sum along the way\n",
    "- particularly, the logic for calculating local_max is exactly the same as that for calculating sum_arr[i] in [example 3.8](#3.8)"
   ]
  },
  {
   "cell_type": "markdown",
   "metadata": {
    "collapsed": true
   },
   "source": [
    "<a id='hints_3.12'></a>"
   ]
  },
  {
   "cell_type": "markdown",
   "metadata": {},
   "source": [
    "## Hints for [exercise 3.12](#3.12):\n",
    "- the logic is almost the same as that in [example 3.5](#3.5)\n",
    "- the only difference is we \n",
    "    - use two variables (named first_idx and last_idx) to record the index of the first and last element of the subarray that has the largest sum\n",
    "    - update first_idx and last_idx when the largest sum (max_sum in [example 3.5](#3.5)) is updated"
   ]
  },
  {
   "cell_type": "markdown",
   "metadata": {
    "collapsed": true
   },
   "source": [
    "<a id='hints_3.13'></a>"
   ]
  },
  {
   "cell_type": "markdown",
   "metadata": {},
   "source": [
    "## Hints for [exercise 3.13](#3.13):\n",
    "- the logic is the same as that in [Hints for exercise 3.12](#hints_3.12)"
   ]
  },
  {
   "cell_type": "markdown",
   "metadata": {
    "collapsed": true
   },
   "source": [
    "<a id='hints_3.14'></a>"
   ]
  },
  {
   "cell_type": "markdown",
   "metadata": {},
   "source": [
    "## Hints for [exercise 3.14](#3.14):\n",
    "- the logic is almost the same as that in [example 3.8](#3.8)\n",
    "- the only difference is \n",
    "    - we use two variables (named first_idx and last_idx) to record the index of the first and last element of the subarray that has the largest sum\n",
    "    - we update last_idx when the largest sum (max_sum in [example 3.8](#3.8)) is updated\n",
    "    - after max_sum and last_idx have been found, first_idx can be identified easily\n",
    "    - we can subtract max_sum by the element at last_idx and the ones on the left-hand side of it, until max_sum becomes zero\n",
    "    - the index where we stop is first_idx"
   ]
  },
  {
   "cell_type": "markdown",
   "metadata": {
    "collapsed": true
   },
   "source": [
    "<a id='hints_3.15'></a>"
   ]
  },
  {
   "cell_type": "markdown",
   "metadata": {},
   "source": [
    "## Hints for [exercise 3.15](#3.15):\n",
    "- the logic is almost the same as that in [exercise 3.10](#3.10)\n",
    "- the only difference is we\n",
    "    - use two variables (named first_idx and last_idx) to record the index of the first and last element of the subarray that has the largest sum\n",
    "    - update first_idx when the sum of the subarray ending at $i$ (local_max in [exercise 3.10](#3.10)) equals arr[i]\n",
    "    - update last_idx when the largest sum (global_max in [exercise 3.10](#3.10)) is updated"
   ]
  },
  {
   "cell_type": "markdown",
   "metadata": {
    "collapsed": true
   },
   "source": [
    "<a id='hints_4.4'></a>"
   ]
  },
  {
   "cell_type": "markdown",
   "metadata": {},
   "source": [
    "## Hints for [exercise 4.4](#4.4):\n",
    "- the logic is almost the same as that in [example 4.3](#4.3)\n",
    "- the only difference is we\n",
    "    - use a variable (named count) to record the difference between the number of '(' and ')'\n",
    "    - return False if at any time count < 0 (parentheses are not in correct order)\n",
    "    - return False if in the end count != 0 (parentheses are not in pairs) \n",
    "    - otherwise, return True"
   ]
  },
  {
   "cell_type": "markdown",
   "metadata": {
    "collapsed": true
   },
   "source": [
    "<a id='hints_4.5'></a>"
   ]
  },
  {
   "cell_type": "markdown",
   "metadata": {},
   "source": [
    "## Hints for [exercise 4.5](#4.5):\n",
    "- the logic is almost the same as that in [example 4.3](#4.3)\n",
    "- the only difference is we\n",
    "    - need to match parentheses of the same kind since there are three kinds in this case"
   ]
  },
  {
   "cell_type": "markdown",
   "metadata": {
    "collapsed": true
   },
   "source": [
    "<a id='hints_4.6'></a>"
   ]
  },
  {
   "cell_type": "markdown",
   "metadata": {},
   "source": [
    "## Hints for [exercise 4.6](#4.6):\n",
    "- the logic is almost the same as that in [exercise 4.5](#4.5)\n",
    "- the only difference is\n",
    "    - we replace the lists with a dictionary\n",
    "    - the idea is that, when using a list:\n",
    "        - the number of operations for checking whether the parenthesis (c in [exercise 4.5](#4.5)) being a right parenthesis (i.e., ')', ']', or '}') is 3\n",
    "        - the number of operations for finding the corresponding left parenthesis is 4 (3 for getting the index (idx in [exercise 4.5](#4.5) and 1 for getting the parenthesis)\n",
    "    - alternatively, when using a dictionary, the two number of operations are both 1\n",
    "    - as a result, replacing the list with a dictionary lowers the number of operations from 7 (i.e., 3 + 4) to 2 (i.e., 1 + 1)"
   ]
  },
  {
   "cell_type": "markdown",
   "metadata": {
    "collapsed": true
   },
   "source": [
    "<a id='hints_4.8'></a>"
   ]
  },
  {
   "cell_type": "markdown",
   "metadata": {},
   "source": [
    "## Hints for [exercise 4.8](#4.8):\n",
    "- we loop over each string in the input list\n",
    "- if the string is an operator, we pop the second and first operand off the stack and push the result (using the operator) into the stack\n",
    "- if, on the other hand, the string is an operand, we push it into the stack"
   ]
  },
  {
   "cell_type": "code",
   "execution_count": null,
   "metadata": {
    "collapsed": true
   },
   "outputs": [],
   "source": []
  }
 ],
 "metadata": {
  "kernelspec": {
   "display_name": "Python 3",
   "language": "python",
   "name": "python3"
  },
  "language_info": {
   "codemirror_mode": {
    "name": "ipython",
    "version": 3
   },
   "file_extension": ".py",
   "mimetype": "text/x-python",
   "name": "python",
   "nbconvert_exporter": "python",
   "pygments_lexer": "ipython3",
   "version": "3.7.2"
  },
  "toc": {
   "base_numbering": 1,
   "nav_menu": {},
   "number_sections": true,
   "sideBar": true,
   "skip_h1_title": false,
   "title_cell": "Table of Contents",
   "title_sidebar": "Contents",
   "toc_cell": true,
   "toc_position": {},
   "toc_section_display": true,
   "toc_window_display": false
  }
 },
 "nbformat": 4,
 "nbformat_minor": 2
}
