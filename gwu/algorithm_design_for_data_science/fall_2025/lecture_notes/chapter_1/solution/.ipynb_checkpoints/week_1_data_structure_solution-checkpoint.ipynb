{
 "cells": [
  {
   "cell_type": "markdown",
   "metadata": {
    "collapsed": true
   },
   "source": [
    "<h1 align=\"center\"> \n",
    "<font color='black'>Computer Science Foundation (DATS 6450 - 10)</font>\n",
    "</h1>\n",
    "\n",
    "<h3 align=\"center\"> \n",
    "Week 1: Array, Linked List, Stack, and Queue (Solution)\n",
    "</h3> \n",
    "\n",
    "<h4 align=\"center\"> \n",
    "Data Science, Columbian College of Arts & Sciences, George Washington University\n",
    "</h4> \n",
    "\n",
    "<h4 align=\"center\"> \n",
    "Author: Yuxiao Huang\n",
    "</h4>"
   ]
  },
  {
   "cell_type": "markdown",
   "metadata": {},
   "source": [
    "# Overview\n",
    "- We will discuss four kinds of basic data structures in this week, including:\n",
    "    - array\n",
    "    - linked list\n",
    "    - stack\n",
    "    - queue\n",
    "- The discussion of each kind of data structure can be divided into two parts:\n",
    "    - theory, where we will discuss the idea of the data structure\n",
    "    - coding, where we will:\n",
    "        - start with some examples\n",
    "        - then design and implement optimal solutions (ones with the lowest time complexity) ourselves"
   ]
  },
  {
   "cell_type": "markdown",
   "metadata": {},
   "source": [
    "# Objective\n",
    "Students should know:\n",
    "- how the four data structures work\n",
    "- when and how to apply these data structures to design optimal solutions "
   ]
  },
  {
   "cell_type": "markdown",
   "metadata": {},
   "source": [
    "# 1. Array"
   ]
  },
  {
   "cell_type": "markdown",
   "metadata": {},
   "source": [
    "<a id='Example_11'></a>\n",
    "\n",
    "## 1.1. Example 1 ($\\star$)\n",
    "- Major tested skills: \n",
    "    - looping through an array\n",
    "    - avoiding unnecessary computation\n",
    "- Idea: see the comments below"
   ]
  },
  {
   "cell_type": "code",
   "execution_count": 38,
   "metadata": {
    "collapsed": true
   },
   "outputs": [],
   "source": [
    "# Implementation\n",
    "def fun(arr):\n",
    "    \"\"\"\n",
    "    Find the largest element in the array\n",
    "    You may assume the array is not empty\n",
    "    The time complexity of the function cannot be worse than O(n), where n being the length of the array\n",
    "    \n",
    "    Parameters\n",
    "    ----------\n",
    "    arr : an array\n",
    "    \n",
    "    Returns\n",
    "    ----------\n",
    "    The largest element in arr\n",
    "    \n",
    "    \"\"\"\n",
    "    \n",
    "    # Since we can assume the array is not empty (as suggested in the docstring), \n",
    "    # assign the first element to max_\n",
    "    max_ = arr[0]\n",
    "    \n",
    "    # Loop over each remaining element in the array\n",
    "    for i in range(1, len(arr)):\n",
    "        # Assign the element to max_ if max_ is smaller than the element\n",
    "        if max_ < arr[i]:\n",
    "            max_ = arr[i]\n",
    "            \n",
    "    return max_"
   ]
  },
  {
   "cell_type": "code",
   "execution_count": 39,
   "metadata": {},
   "outputs": [
    {
     "name": "stdout",
     "output_type": "stream",
     "text": [
      "2\n",
      "3\n"
     ]
    }
   ],
   "source": [
    "# Test\n",
    "arr_1 = [2]\n",
    "arr_2 = [2, 3]\n",
    "\n",
    "print(fun(arr_1))\n",
    "print(fun(arr_2))"
   ]
  },
  {
   "cell_type": "markdown",
   "metadata": {},
   "source": [
    "## 1.2. Exercise 1 ($\\star$)\n",
    "- Follow up on [Example 1](#Example_1)\n",
    "- Major tested skills: \n",
    "    - handling corner cases of the input\n",
    "- Idea: see the comments below"
   ]
  },
  {
   "cell_type": "code",
   "execution_count": 9,
   "metadata": {
    "collapsed": true
   },
   "outputs": [],
   "source": [
    "# Implementation\n",
    "def fun(arr):\n",
    "    \"\"\"\n",
    "    Find the largest element in the array\n",
    "    You cannot assume the array is not empty\n",
    "    The time complexity of the function cannot be worse than O(n), where n being the length of the array\n",
    "    \n",
    "    Parameters\n",
    "    ----------\n",
    "    arr : an array\n",
    "    \n",
    "    Returns\n",
    "    ----------\n",
    "    The largest element in arr\n",
    "    Return None if empty array\n",
    "    \n",
    "    \"\"\"\n",
    "    \n",
    "    # Since we cannot assume the array is not empty (as suggested in the docstring), \n",
    "    # we need to tweak the code for 1.1.1 to handle the corner case where the array is empty, \n",
    "    # otherwise the code will crash.\n",
    "    # Here is one of the solutions\n",
    "    # Initialize max_ with None (which should be returned if the array is empty)\n",
    "    max_ = None\n",
    "    \n",
    "    # Loop over each element in the array\n",
    "    for x in arr:\n",
    "        # assign the element to max_ if max_ is None or smaller than the element\n",
    "        if max_ is None or max_ < x:\n",
    "            max_ = x\n",
    "            \n",
    "    return max_"
   ]
  },
  {
   "cell_type": "code",
   "execution_count": 10,
   "metadata": {},
   "outputs": [
    {
     "name": "stdout",
     "output_type": "stream",
     "text": [
      "None\n",
      "2\n",
      "3\n"
     ]
    }
   ],
   "source": [
    "# Test\n",
    "arr_1 = []\n",
    "arr_2 = [2]\n",
    "arr_3 = [2, 3]\n",
    "\n",
    "print(fun(arr_1))\n",
    "print(fun(arr_2))\n",
    "print(fun(arr_3))"
   ]
  },
  {
   "cell_type": "markdown",
   "metadata": {},
   "source": [
    "<a id='Example_12'></a>\n",
    "\n",
    "## 1.3. Example 2 ($\\star\\star\\star$)\n",
    "- Find the contiguous non-empty subarray (of the input array) that has the largest sum\n",
    "- You may assume there is exactly one such non-empty subarray   \n",
    "- The time complexity of the function cannot be worse than O($n^2$), where $n$ being the length of the array\n",
    "- Tested skills:\n",
    "    - solving a non-trivial problem by starting with a brute-force solution\n",
    "    - improving the brute-force solution with an optimal solution"
   ]
  },
  {
   "cell_type": "markdown",
   "metadata": {},
   "source": [
    "<a id='1.3.1'></a>\n",
    "\n",
    "### 1.3.1. The brute-force solution (with quadratic time complexity)"
   ]
  },
  {
   "cell_type": "code",
   "execution_count": 22,
   "metadata": {
    "collapsed": true
   },
   "outputs": [],
   "source": [
    "# Implementation\n",
    "def fun_brute_force(arr):\n",
    "    \"\"\"\n",
    "    Find the contiguous non-empty subarray (of the input array) that has the largest sum\n",
    "    You may assume the input array is not empty\n",
    "    The time complexity of the function cannot be worse than O(n^2), where n being the length of the array\n",
    "    \n",
    "    Parameters\n",
    "    ----------\n",
    "    arr : an array\n",
    "    \n",
    "    Returns\n",
    "    ----------\n",
    "    The contiguous non-empty subarray that has the largest sum\n",
    "    \n",
    "    \"\"\"\n",
    "    \n",
    "    # Initialize global_max with None\n",
    "    global_max = None\n",
    "    \n",
    "    # For each possible start of the subarray\n",
    "    for i in range(len(arr)):\n",
    "        # Initialize the sum of the subarray\n",
    "        local_max = 0\n",
    "        # For each possible end of the subarray\n",
    "        for j in range(i, len(arr)):\n",
    "            # Add the current element to local_max\n",
    "            local_max += arr[j]\n",
    "            # Assign local_max to global_max if global_max is None or smaller than local_max\n",
    "            if global_max is None or global_max < local_max:\n",
    "                global_max = local_max\n",
    "            \n",
    "    return global_max"
   ]
  },
  {
   "cell_type": "code",
   "execution_count": 23,
   "metadata": {
    "scrolled": true
   },
   "outputs": [
    {
     "name": "stdout",
     "output_type": "stream",
     "text": [
      "2\n",
      "3\n",
      "5\n"
     ]
    }
   ],
   "source": [
    "# Test\n",
    "arr_1 = [2]\n",
    "arr_2 = [-2, 3]\n",
    "arr_3 = [-2, 3, -2, 4, -1, -2]\n",
    "\n",
    "print(fun_brute_force(arr_1))\n",
    "print(fun_brute_force(arr_2))\n",
    "print(fun_brute_force(arr_3))"
   ]
  },
  {
   "cell_type": "markdown",
   "metadata": {},
   "source": [
    "<a id='1.3.2'></a>\n",
    "\n",
    "### 1.3.2. The first kind of optimal solution\n",
    "- The time complexity of the function cannot be worse than O($n$), where $n$ being the length of the array"
   ]
  },
  {
   "cell_type": "code",
   "execution_count": 24,
   "metadata": {
    "collapsed": true
   },
   "outputs": [],
   "source": [
    "# Implementation\n",
    "def fun_linear_1(arr):\n",
    "    \"\"\"\n",
    "    Find the contiguous non-empty subarray (of the input array) that has the largest sum\n",
    "    You may assume the input array is not empty\n",
    "    The time complexity of the function cannot be worse than O(n), where n being the length of the array\n",
    "    \n",
    "    Parameters\n",
    "    ----------\n",
    "    arr : an array\n",
    "    \n",
    "    Returns\n",
    "    ----------\n",
    "    The contiguous non-empty subarray that has the largest sum\n",
    "    \n",
    "    \"\"\"\n",
    "    \n",
    "    # Since we can assume the input array is not empty (as suggested in the docstring), \n",
    "    # assign the first element to global_max and local_max\n",
    "    global_max, local_max = arr[0], arr[0]\n",
    "        \n",
    "    # Loop over each remaining element in the array\n",
    "    for i in range(1, len(arr)):\n",
    "        # If the local maximum is not positive\n",
    "        if local_max <= 0:\n",
    "            # Assign the current element to local_max\n",
    "            local_max = arr[i]\n",
    "        else:\n",
    "            # Add the current element to local_max\n",
    "            local_max += arr[i]\n",
    "        # Assign local_max to global_max if global_max is smaller than local_max\n",
    "        if global_max < local_max:\n",
    "            global_max = max(global_max, local_max)\n",
    "\n",
    "    return global_max"
   ]
  },
  {
   "cell_type": "code",
   "execution_count": 25,
   "metadata": {},
   "outputs": [
    {
     "name": "stdout",
     "output_type": "stream",
     "text": [
      "2\n",
      "3\n",
      "5\n"
     ]
    }
   ],
   "source": [
    "# Test\n",
    "arr_1 = [2]\n",
    "arr_2 = [-2, 3]\n",
    "arr_3 = [-2, 3, -2, 4, -1, -2]\n",
    "\n",
    "print(fun_linear_1(arr_1))\n",
    "print(fun_linear_1(arr_2))\n",
    "print(fun_linear_1(arr_3))"
   ]
  },
  {
   "cell_type": "markdown",
   "metadata": {},
   "source": [
    "<a id='1.3.3'></a>\n",
    "\n",
    "### 1.3.3. The second kind of optimal solution (with linear time complexity)"
   ]
  },
  {
   "cell_type": "code",
   "execution_count": 26,
   "metadata": {
    "collapsed": true
   },
   "outputs": [],
   "source": [
    "# Implementation\n",
    "def fun_linear_2(arr):\n",
    "    \"\"\"\n",
    "    Find the contiguous non-empty subarray (of the input array) that has the largest sum\n",
    "    You may assume the input array is not empty\n",
    "    The time complexity of the function cannot be worse than O(n), where n being the length of the array\n",
    "    \n",
    "    Parameters\n",
    "    ----------\n",
    "    arr : an array\n",
    "    \n",
    "    Returns\n",
    "    ----------\n",
    "    The contiguous non-empty subarray that has the largest sum\n",
    "    \n",
    "    \"\"\"\n",
    "    \n",
    "    max_arr = [0] * len(arr)\n",
    "    max_arr[0] = arr[0]\n",
    "    \n",
    "    for i in range(1, len(arr)):\n",
    "        max_arr[i] = max(max_arr[i - 1] + arr[i], arr[i])\n",
    "      \n",
    "    return max(max_arr)"
   ]
  },
  {
   "cell_type": "code",
   "execution_count": 27,
   "metadata": {
    "scrolled": false
   },
   "outputs": [
    {
     "name": "stdout",
     "output_type": "stream",
     "text": [
      "2\n",
      "3\n",
      "5\n"
     ]
    }
   ],
   "source": [
    "# Test\n",
    "arr_1 = [2]\n",
    "arr_2 = [-2, 3]\n",
    "arr_3 = [-2, 3, -2, 4, -1, -2]\n",
    "\n",
    "print(fun_linear_2(arr_1))\n",
    "print(fun_linear_2(arr_2))\n",
    "print(fun_linear_2(arr_3))"
   ]
  },
  {
   "cell_type": "markdown",
   "metadata": {},
   "source": [
    "### 1.3.4. Discussion\n",
    "**Q**: Comparing the above two kinds of optimal solutions, which one is better?\n",
    "\n",
    "**A**: While both of them have the linear time complexity, the first solution (fun_linear_1) is better than the second (fun_linear_2). There are two reasons for this. \n",
    "\n",
    "First, the first solution only has to pass the array once (cell 5, line 23), which takes n steps. The second needs to pass the array three times (cell 7, lines 18, 21, and 24), which takes 3 * n steps. Thus although they have the same kind of time complexity, the first solution uses fewer number of steps.\n",
    "\n",
    "Second, the first solution only takes O(1) extra space (cell 5, line 20), while the second takes O(n) extra space (cell 7, line 18). Thus, the first solution uses fewer extra space."
   ]
  },
  {
   "cell_type": "markdown",
   "metadata": {},
   "source": [
    "## 1.4. Exercise 2 ($\\star\\star\\star$)\n",
    "- Follow up on [Example 2](#Example_2)\n",
    "- Unlike in Example 2:\n",
    "    - where the function only returns the largest sum, here the function also returns the index of the first and last element in the subarray (that has the largest sum)\n",
    "    - where we only assume that the input array is not empty, here we also assume that there is exactly one subarray (that has the largest sum)\n",
    "- Implement the function in 1.4.1 to 1.4.3"
   ]
  },
  {
   "cell_type": "markdown",
   "metadata": {},
   "source": [
    "### 1.4.1. The brute-force solution\n",
    "- The time complexity of the function cannot be worse than O($n^2$), where $n$ being the length of the array\n",
    "- Hint:\n",
    "    - you may consider to tweak the solution in [1.3.1](#1.3.1)"
   ]
  },
  {
   "cell_type": "code",
   "execution_count": 30,
   "metadata": {
    "collapsed": true
   },
   "outputs": [],
   "source": [
    "# Implementation\n",
    "def fun_brute_force(arr):\n",
    "    \"\"\"\n",
    "    Parameters\n",
    "    ----------\n",
    "    arr : an array\n",
    "    \n",
    "    Returns\n",
    "    ----------\n",
    "    [the largest sum, \n",
    "    the index of the first element in the subarray, \n",
    "    the index of the last element in the subarray]\n",
    "    : a list\n",
    "    \n",
    "    \"\"\"\n",
    "    \n",
    "    # Initialize global_max with None\n",
    "    global_max = None\n",
    "    # Initialize the indices with zero\n",
    "    first_idx, last_idx = 0, 0\n",
    "    \n",
    "    # For each possible start of the subarray\n",
    "    for i in range(len(arr)):\n",
    "        # Initialize the sum of the subarray\n",
    "        local_max = 0\n",
    "        # For each possible end of the subarray\n",
    "        for j in range(i, len(arr)):\n",
    "            # Add the current element to local_max\n",
    "            local_max += arr[j]\n",
    "            # Assign local_max to global_max if global_max is None or smaller than local_max\n",
    "            if global_max is None or global_max < local_max:\n",
    "                global_max = local_max\n",
    "                first_idx, last_idx = i, j\n",
    "            \n",
    "    return [global_max, first_idx, last_idx]"
   ]
  },
  {
   "cell_type": "code",
   "execution_count": 31,
   "metadata": {
    "scrolled": true
   },
   "outputs": [
    {
     "name": "stdout",
     "output_type": "stream",
     "text": [
      "[2, 0, 0]\n",
      "[3, 1, 1]\n",
      "[5, 1, 3]\n"
     ]
    }
   ],
   "source": [
    "# Test\n",
    "arr_1 = [2]\n",
    "arr_2 = [-2, 3]\n",
    "arr_3 = [-2, 3, -2, 4, -1, -2]\n",
    "\n",
    "print(fun_brute_force(arr_1))\n",
    "print(fun_brute_force(arr_2))\n",
    "print(fun_brute_force(arr_3))"
   ]
  },
  {
   "cell_type": "markdown",
   "metadata": {},
   "source": [
    "### 1.4.2. The first kind of optimal solution\n",
    "- The time complexity of the function cannot be worse than O($n$), where $n$ being the length of the array\n",
    "- Hint:\n",
    "    - you may consider to tweak the solution in [1.3.2](#1.3.2)"
   ]
  },
  {
   "cell_type": "code",
   "execution_count": 34,
   "metadata": {
    "collapsed": true
   },
   "outputs": [],
   "source": [
    "# Implementation\n",
    "def fun_linear_1(arr):\n",
    "    \"\"\"\n",
    "    Parameters\n",
    "    ----------\n",
    "    arr : an array\n",
    "    \n",
    "    Returns\n",
    "    ----------\n",
    "    [the largest sum, \n",
    "    the index of the first element in the subarray, \n",
    "    the index of the last element in the subarray]\n",
    "    : a list\n",
    "    \n",
    "    \"\"\"\n",
    "    \n",
    "    # Initialization\n",
    "    global_max, local_max = arr[0], arr[0]\n",
    "    first_idx, last_idx = 0, 0\n",
    "        \n",
    "    for i in range(1, len(arr)):\n",
    "        if local_max <= 0:\n",
    "            # The subarray could start at index i\n",
    "            local_max = arr[i]\n",
    "            first_idx = i\n",
    "        else:\n",
    "            # The subarray could include element at index i\n",
    "            local_max += arr[i]\n",
    "        if global_max < local_max:\n",
    "            # The subarray could end at index i\n",
    "            global_max = local_max\n",
    "            last_idx = i\n",
    "            \n",
    "    return [global_max, first_idx, last_idx]"
   ]
  },
  {
   "cell_type": "code",
   "execution_count": 35,
   "metadata": {},
   "outputs": [
    {
     "name": "stdout",
     "output_type": "stream",
     "text": [
      "[2, 0, 0]\n",
      "[3, 1, 1]\n",
      "[5, 1, 3]\n"
     ]
    }
   ],
   "source": [
    "# Test\n",
    "arr_1 = [2]\n",
    "arr_2 = [-2, 3]\n",
    "arr_3 = [-2, 3, -2, 4, -1, -2]\n",
    "\n",
    "print(fun_linear_1(arr_1))\n",
    "print(fun_linear_1(arr_2))\n",
    "print(fun_linear_1(arr_3))"
   ]
  },
  {
   "cell_type": "markdown",
   "metadata": {},
   "source": [
    "### 1.4.3. The second kind of optimal solution (with linear time complexity)\n",
    "- The time complexity of the function cannot be worse than O($n$), where $n$ being the length of the array\n",
    "- Hint:\n",
    "    - you may consider to tweak the solution in [1.3.3](#1.3.3)"
   ]
  },
  {
   "cell_type": "code",
   "execution_count": 24,
   "metadata": {
    "collapsed": true
   },
   "outputs": [],
   "source": [
    "# Implementation\n",
    "def fun_linear_2(arr):\n",
    "    \"\"\"\n",
    "    Parameters\n",
    "    ----------\n",
    "    arr : an array\n",
    "    \n",
    "    Returns\n",
    "    ----------\n",
    "    [the largest sum, \n",
    "    the index of the first element in the subarray, \n",
    "    the index of the last element in the subarray]\n",
    "    : a list\n",
    "    \n",
    "    \"\"\"\n",
    "    \n",
    "    # Initialization\n",
    "    max_arr = [0] * len(arr)\n",
    "    max_arr[0] = arr[0]\n",
    "    \n",
    "    # Get the array that contains the largest sum\n",
    "    for i in range(1, len(arr)):\n",
    "        if max_arr[i - 1] > 0:\n",
    "            max_arr[i] = max_arr[i - 1] + arr[i]\n",
    "        else:\n",
    "            max_arr[i] = arr[i]\n",
    "\n",
    "    # Initialization\n",
    "    max_sum = None\n",
    "    last_idx = 0\n",
    "    \n",
    "    # Get the largest sum and the last index of the subarray (that brings about the largest sum)\n",
    "    for i in range(len(arr)):\n",
    "        if max_sum is None or max_sum < max_arr[i]:\n",
    "            max_sum = max_arr[i]\n",
    "            last_idx = i\n",
    "    \n",
    "    # Initialization\n",
    "    temp = max_sum\n",
    "    first_idx = last_idx + 1\n",
    "    \n",
    "    # Get the first index of the subarray (that brings about the largest sum)\n",
    "    while (temp != 0):\n",
    "        first_idx -= 1\n",
    "        temp -= arr[first_idx]\n",
    "        \n",
    "    return [max_sum, first_idx, last_idx]"
   ]
  },
  {
   "cell_type": "code",
   "execution_count": 25,
   "metadata": {
    "scrolled": false
   },
   "outputs": [
    {
     "name": "stdout",
     "output_type": "stream",
     "text": [
      "[2, 0, 0]\n",
      "[3, 1, 1]\n",
      "[5, 1, 3]\n"
     ]
    }
   ],
   "source": [
    "# Test\n",
    "arr_1 = [2]\n",
    "arr_2 = [-2, 3]\n",
    "arr_3 = [-2, 3, -2, 4, -1, -2]\n",
    "\n",
    "print(fun_linear_2(arr_1))\n",
    "print(fun_linear_2(arr_2))\n",
    "print(fun_linear_2(arr_3))"
   ]
  },
  {
   "cell_type": "markdown",
   "metadata": {
    "collapsed": true
   },
   "source": [
    "# 2. Linked List"
   ]
  },
  {
   "cell_type": "markdown",
   "metadata": {},
   "source": [
    "<a id='Example_21'></a>\n",
    "\n",
    "## 2.1. Example 1 ($\\star$)\n",
    "- Major tested skills: \n",
    "    - looping through an array\n",
    "    - avoiding unnecessary computation\n",
    "- Idea: see the comments below"
   ]
  },
  {
   "cell_type": "markdown",
   "metadata": {},
   "source": [
    "## 2.2. Coding exercise"
   ]
  },
  {
   "cell_type": "markdown",
   "metadata": {},
   "source": [
    "# 3. Stack"
   ]
  },
  {
   "cell_type": "markdown",
   "metadata": {},
   "source": [
    "## 3.2. Coding example"
   ]
  },
  {
   "cell_type": "markdown",
   "metadata": {},
   "source": [
    "## 3.2. Coding exercise"
   ]
  },
  {
   "cell_type": "markdown",
   "metadata": {},
   "source": [
    "# 4. Queue"
   ]
  },
  {
   "cell_type": "markdown",
   "metadata": {},
   "source": [
    "## 4.1. Coding example"
   ]
  },
  {
   "cell_type": "markdown",
   "metadata": {},
   "source": [
    "## 4.2. Coding exercise"
   ]
  },
  {
   "cell_type": "code",
   "execution_count": null,
   "metadata": {
    "collapsed": true
   },
   "outputs": [],
   "source": []
  }
 ],
 "metadata": {
  "kernelspec": {
   "display_name": "Python 3",
   "language": "python",
   "name": "python3"
  },
  "language_info": {
   "codemirror_mode": {
    "name": "ipython",
    "version": 3
   },
   "file_extension": ".py",
   "mimetype": "text/x-python",
   "name": "python",
   "nbconvert_exporter": "python",
   "pygments_lexer": "ipython3",
   "version": "3.6.3"
  }
 },
 "nbformat": 4,
 "nbformat_minor": 2
}
